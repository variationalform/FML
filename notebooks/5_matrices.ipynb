{
 "cells": [
  {
   "cell_type": "markdown",
   "metadata": {},
   "source": [
    "# Matrices\n",
    "\n",
    "#### *variationalform* <https://variationalform.github.io/>\n",
    "\n",
    "#### *Just Enough: progress at pace*\n",
    "\n",
    "<https://variationalform.github.io/>\n",
    "\n",
    "<https://github.com/variationalform>\n",
    "\n",
    "Simon Shaw\n",
    "<https://www.brunel.ac.uk/people/simon-shaw>.\n"
   ]
  },
  {
   "cell_type": "markdown",
   "metadata": {},
   "source": [
    "<table>\n",
    "<tr>\n",
    "<td>\n",
    "<img src=\"https://mirrors.creativecommons.org/presskit/icons/cc.svg?ref=chooser-v1\" style=\"height:18px\"/>\n",
    "<img src=\"https://mirrors.creativecommons.org/presskit/icons/by.svg?ref=chooser-v1\" style=\"height:18px\"/>\n",
    "<img src=\"https://mirrors.creativecommons.org/presskit/icons/sa.svg?ref=chooser-v1\" style=\"height:18px\"/>\n",
    "</td>\n",
    "<td>\n",
    "\n",
    "<p>\n",
    "This work is licensed under CC BY-SA 4.0 (Attribution-ShareAlike 4.0 International)\n",
    "\n",
    "<p>\n",
    "Visit <a href=\"http://creativecommons.org/licenses/by-sa/4.0/\">http://creativecommons.org/licenses/by-sa/4.0/</a> to see the terms.\n",
    "</td>\n",
    "</tr>\n",
    "</table>"
   ]
  },
  {
   "cell_type": "markdown",
   "metadata": {},
   "source": [
    "<table>\n",
    "<tr>\n",
    "<td>This document uses</td>\n",
    "<td>\n",
    "<img src=\"https://www.python.org/static/community_logos/python-logo-master-v3-TM.png\" style=\"height:30px\"/>\n",
    "</td>\n",
    "<td>and also makes use of LaTeX </td>\n",
    "<td>\n",
    "<img src=\"https://upload.wikimedia.org/wikipedia/commons/thumb/9/92/LaTeX_logo.svg/320px-LaTeX_logo.svg.png\" style=\"height:30px\"/>\n",
    "</td>\n",
    "<td>in Markdown</td> \n",
    "<td>\n",
    "<img src=\"https://github.com/adam-p/markdown-here/raw/master/src/common/images/icon48.png\" style=\"height:30px\"/>\n",
    "</td>\n",
    "</tr>\n",
    "</table>"
   ]
  },
  {
   "cell_type": "markdown",
   "metadata": {},
   "source": [
    "## What this is about:\n",
    "\n",
    "You will be introduced to ...\n",
    "\n",
    "- Matrices as a way to represent tables of numbers.\n",
    "- Matrices as a way to *operate* on vectors (and other matrices)\n",
    "- The arithmetic (adding and subtracting) of matrices.\n",
    "- The `numpy` library (or package) for working with matrices in `python`\n",
    "\n",
    "We'll then look at special types of matrices, and derived quantities.\n",
    "\n",
    "As usual our emphasis will be on *doing* rather than *proving*:\n",
    "*just enough: progress at pace*\n"
   ]
  },
  {
   "cell_type": "markdown",
   "metadata": {},
   "source": [
    "## Assigned Reading\n",
    "\n",
    "For this worksheet you should read Chapters 6 and 7 of [VMLS] for more\n",
    "introductory material on matrices, and also Appendix D of [DSML]\n",
    "if you want to read more about `python` and `numpy`. \n",
    "\n",
    "- VMLS: Introduction to Applied Linear Algebra - Vectors, Matrices, and Least Squares,\n",
    "  by Stephen Boyd and Lieven Vandenberghe,\n",
    "  <https://web.stanford.edu/~boyd/vmls/>\n",
    "- DSML: Data Science and Machine Learning, Mathematical and Statistical Methods\n",
    "  by Dirk P. Kroese, Zdravko I. Botev, Thomas Taimre, Radislav Vaisman,\n",
    "  <https://people.smp.uq.edu.au/DirkKroese/DSML> and\n",
    "  <https://people.smp.uq.edu.au/DirkKroese/DSML/DSML.pdf>\n",
    "\n",
    "Further accessible material can be found in [FCLA], and\n",
    "advanced material is available in Chapters 2, 3 and 4 of [MML].\n",
    "\n",
    "- MML: Mathematics for Machine Learning, by Marc Peter Deisenroth, A. Aldo Faisal, and Cheng Soon Ong.\n",
    "  Cambridge University Press. <https://mml-book.github.io>.\n",
    "- FCLA: A First Course in Linear Algebra, by Ken Kuttler, \n",
    "  <https://math.libretexts.org/Bookshelves/Linear_Algebra/A_First_Course_in_Linear_Algebra_(Kuttler)>\n",
    " \n",
    "All of the above can be accessed legally and without cost.\n",
    "\n",
    "There are also these useful references for coding:\n",
    "\n",
    "- PT: `python`: <https://docs.python.org/3/tutorial>\n",
    "- NP: `numpy`: <https://numpy.org/doc/stable/user/quickstart.html>\n",
    "- MPL: `matplotlib`: <https://matplotlib.org>\n"
   ]
  },
  {
   "cell_type": "markdown",
   "metadata": {},
   "source": [
    "## Matrices\n",
    "\n",
    "A *matrix* is an $n$-row by $m$-column table of numbers enclosed in\n",
    "brackets. For example,\n",
    "\n",
    "$$\n",
    "\\boldsymbol{B} = \\left(\\begin{array}{rrr}\n",
    "3 & 1 & -6.2 \\\\\n",
    "2 & -5 & \\pi\n",
    "\\end{array}\\right),\n",
    "\\qquad\n",
    "\\boldsymbol{N} = \\left(\\begin{array}{rr}\n",
    "-4 & 9 \\\\\n",
    "7/8 & 6 \\\\\n",
    "0 & 0\n",
    "\\end{array}\\right),\n",
    "\\qquad\n",
    "\\boldsymbol{Z} = \\left(\\begin{array}{rrr}\n",
    "1 &  2 & 0 \\\\\n",
    "1 & -2 & 1 \\\\\n",
    "0 &  1 & -4\n",
    "\\end{array}\\right),\n",
    "$$\n",
    "\n",
    "are, in turn, a $2$ by $3$, a $3$ by $2$ and a $3$ by $3$ matrix. these\n",
    "are called the matrix *shape*, or *dimension*.\n",
    "\n",
    "Matrices are usually denoted by **bold** CAPITAL letters, and when $n=m$\n",
    "we call the matrix *square*. For a square $n\\times n$ matrix we will\n",
    "just use $n$ as its dimension. So $\\boldsymbol{Z}$ is square of\n",
    "dimension $3$.\n",
    "\n",
    "If we exchange the rows and columns of a matrix we get its *transpose*,\n",
    "denoted with a superscript $T$ like so,\n",
    "\n",
    "$$\n",
    "\\boldsymbol{B}^T = \\left(\\begin{array}{rr}\n",
    "3    &  2 \\\\\n",
    "1    & -5 \\\\\n",
    "-6.2 & \\pi\n",
    "\\end{array}\\right),\n",
    "\\qquad\n",
    "\\boldsymbol{N}^T = \\left(\\begin{array}{rrr}\n",
    "-4 & \\frac{7}{8} & 0 \\\\\n",
    " 9  & 6 & 0\n",
    "\\end{array}\\right),\n",
    "\\qquad\n",
    "\\boldsymbol{Z}^T = \\left(\\begin{array}{rrr}\n",
    "1 &  1 & 0 \\\\\n",
    "2 & -2 & 1 \\\\\n",
    "0 &  1 & -4\n",
    "\\end{array}\\right).\n",
    "$$\n"
   ]
  },
  {
   "cell_type": "markdown",
   "metadata": {},
   "source": [
    "## Using `numpy` to represent matrices\n",
    "\n",
    "As we have seen, `numpy` is a key tool for scientific computing\n",
    "in `python`. See <https://numpy.org>\n",
    "\n",
    "As before, we load in the numpy package and abbreviate it with `np`."
   ]
  },
  {
   "cell_type": "code",
   "execution_count": 1,
   "metadata": {},
   "outputs": [],
   "source": [
    "import numpy as np"
   ]
  },
  {
   "cell_type": "markdown",
   "metadata": {},
   "source": [
    "Now we can set up the matrices above as `numpy` *arrays*, and print them out, as follows,"
   ]
  },
  {
   "cell_type": "code",
   "execution_count": 2,
   "metadata": {},
   "outputs": [
    {
     "name": "stdout",
     "output_type": "stream",
     "text": [
      "B = \n",
      " [[ 3.          1.         -6.2       ]\n",
      " [ 2.         -5.          3.14159265]]\n",
      "N = \n",
      " [[-4.     9.   ]\n",
      " [ 0.875  6.   ]\n",
      " [ 0.     0.   ]]\n",
      "Z = \n",
      " [[ 1  2  0]\n",
      " [ 1 -2  1]\n",
      " [ 0  1 -4]]\n"
     ]
    }
   ],
   "source": [
    "B = np.array([ [3,1, -6.2], [2,-5,np.pi] ])\n",
    "N = np.array([ [-4, 9],[7/8, 6],[0, 0 ] ])\n",
    "Z = np.array([ [1,2, 0],[1, -2, 1],[0, 1, -4] ])\n",
    "print('B = \\n', B)\n",
    "print('N = \\n', N)\n",
    "print('Z = \\n', Z)"
   ]
  },
  {
   "cell_type": "markdown",
   "metadata": {},
   "source": [
    "The matrix transpose just requires `.T` - like this"
   ]
  },
  {
   "cell_type": "code",
   "execution_count": 3,
   "metadata": {},
   "outputs": [
    {
     "name": "stdout",
     "output_type": "stream",
     "text": [
      "B.T = \n",
      " [[ 3.          2.        ]\n",
      " [ 1.         -5.        ]\n",
      " [-6.2         3.14159265]]\n",
      "N.T = \n",
      " [[-4.     0.875  0.   ]\n",
      " [ 9.     6.     0.   ]]\n",
      "Z.T = \n",
      " [[ 1  1  0]\n",
      " [ 2 -2  1]\n",
      " [ 0  1 -4]]\n"
     ]
    }
   ],
   "source": [
    "print('B.T = \\n', B.T)\n",
    "print('N.T = \\n', N.T)\n",
    "print('Z.T = \\n', Z.T)"
   ]
  },
  {
   "cell_type": "markdown",
   "metadata": {},
   "source": [
    "These agree with what we had earlier,\n",
    "\n",
    "$$\n",
    "\\boldsymbol{B}^T = \\left(\\begin{array}{rr}\n",
    "3    &  2 \\\\\n",
    "1    & -5 \\\\\n",
    "-6.2 & \\pi\n",
    "\\end{array}\\right),\n",
    "\\qquad\n",
    "\\boldsymbol{N}^T = \\left(\\begin{array}{rrr}\n",
    "-4 & \\frac{7}{8} & 0 \\\\\n",
    " 9  & 6 & 0\n",
    "\\end{array}\\right),\n",
    "\\qquad\n",
    "\\boldsymbol{Z}^T = \\left(\\begin{array}{rrr}\n",
    "1 &  1 & 0 \\\\\n",
    "2 & -2 & 1 \\\\\n",
    "0 &  1 & -4\n",
    "\\end{array}\\right).\n",
    "$$\n",
    "\n"
   ]
  },
  {
   "cell_type": "markdown",
   "metadata": {},
   "source": [
    "## Addition and Subtraction\n",
    "\n",
    "Matrices of the same dimension, or *shape,* can be added or subtracted\n",
    "as in,\n",
    "\n",
    "$$\n",
    "\\boldsymbol{B}-\\boldsymbol{N}^T =  \n",
    "\\left(\\begin{array}{rrr}\n",
    "3 & 1 & -6.2 \\\\\n",
    "2 & -5 & \\pi\n",
    "\\end{array}\\right)\n",
    "-\n",
    "\\left(\\begin{array}{rrr}\n",
    "-4 & \\frac{7}{8} & 0 \\\\\n",
    " 9  & 6 & 0\n",
    "\\end{array}\\right)\n",
    "=\n",
    "\\left(\\begin{array}{rrr}\n",
    " 7 & \\frac{1}{8} & -6.2 \\\\\n",
    "-7& -11 & \\pi\n",
    "\\end{array}\\right)\n",
    "$$\n",
    "\n",
    "and\n",
    "\n",
    "$$\n",
    "\\boldsymbol{Y}=\\boldsymbol{Z}+\\boldsymbol{Z}^T =\n",
    "\\left(\\begin{array}{rrr}\n",
    "1 &  2 & 0 \\\\\n",
    "1 & -2 & 1 \\\\\n",
    "0 &  1 & -4\n",
    "\\end{array}\\right)\n",
    "+\n",
    "\\left(\\begin{array}{rrr}\n",
    "1 &  1 & 0 \\\\\n",
    "2 & -2 & 1 \\\\\n",
    "0 &  1 & -4\n",
    "\\end{array}\\right)\n",
    "=\n",
    "\\left(\\begin{array}{rrr}\n",
    "2 &  3 & 0 \\\\\n",
    "3 & -4 & 2 \\\\\n",
    "0 &  2 & -8\n",
    "\\end{array}\\right)\n",
    "$$\n",
    "\n",
    "This can be done in `numpy` exactly as expected..."
   ]
  },
  {
   "cell_type": "code",
   "execution_count": 4,
   "metadata": {},
   "outputs": [
    {
     "name": "stdout",
     "output_type": "stream",
     "text": [
      "B-N.T = \n",
      " [[  7.           0.125       -6.2       ]\n",
      " [ -7.         -11.           3.14159265]]\n",
      "Y = \n",
      " [[ 2  3  0]\n",
      " [ 3 -4  2]\n",
      " [ 0  2 -8]]\n"
     ]
    }
   ],
   "source": [
    "print('B-N.T = \\n', B-N.T)\n",
    "Y = Z+Z.T\n",
    "print('Y = \\n', Y)"
   ]
  },
  {
   "cell_type": "markdown",
   "metadata": {},
   "source": [
    "## Symmetry\n",
    "\n",
    "Notice that $\\boldsymbol{Y}=\\boldsymbol{Y}^T$. \n",
    "This means for example that\n",
    "$\\boldsymbol{Y}-\\boldsymbol{Y}^T=\\boldsymbol{0}$ - the zero matrix."
   ]
  },
  {
   "cell_type": "code",
   "execution_count": 5,
   "metadata": {},
   "outputs": [
    {
     "name": "stdout",
     "output_type": "stream",
     "text": [
      "Y = \n",
      " [[ 2  3  0]\n",
      " [ 3 -4  2]\n",
      " [ 0  2 -8]]\n",
      "Y.T = \n",
      " [[ 2  3  0]\n",
      " [ 3 -4  2]\n",
      " [ 0  2 -8]]\n",
      "Y-Y.T = \n",
      " [[0 0 0]\n",
      " [0 0 0]\n",
      " [0 0 0]]\n"
     ]
    }
   ],
   "source": [
    "print('Y = \\n', Y)\n",
    "print('Y.T = \\n', Y.T)\n",
    "print('Y-Y.T = \\n', Y-Y.T)"
   ]
  },
  {
   "cell_type": "markdown",
   "metadata": {},
   "source": [
    "Matrices which have this\n",
    "property are called *symmetric* - and this alludes to a reflection in\n",
    "the *leading diagonal*, that runs from top left to bottom right. We can\n",
    "also see that\n",
    "\n",
    "$$\n",
    "\\boldsymbol{Y}^T=(\\boldsymbol{Z}+\\boldsymbol{Z}^T)^T\n",
    "=\\boldsymbol{Z}^T+(\\boldsymbol{Z}^T)^T\n",
    "=\\boldsymbol{Z}^T+\\boldsymbol{Z}=\\boldsymbol{Y}\n",
    "$$\n",
    "\n",
    "and so adding a square matrix to its own transpose always produces a\n",
    "symmetric matrix. Some writers reserve vertically symmetric letters,\n",
    "such as $\\boldsymbol{A},\\boldsymbol{H},…$ for symmetric matrices, and\n",
    "non-symmetric letters, such as $\\boldsymbol{B},\\boldsymbol{K},…$, for\n",
    "non-symmetric matrices. We'll do this when it's practical.\n",
    "\n",
    "> **THINK ABOUT:** Must a symmetric matrix be square? Can you add a\n",
    "> non-square matrix to its own transpose? If\n",
    "> $\\boldsymbol{L}=\\boldsymbol{K}+\\boldsymbol{P}$ then what is\n",
    "> $\\boldsymbol{L}-\\boldsymbol{P}$ equal to?"
   ]
  },
  {
   "cell_type": "markdown",
   "metadata": {},
   "source": [
    "## Matrix Multiplication by a Scalar\n",
    "\n",
    "Matrices can be multiplied by a scalar: we just have to multiply every\n",
    "entry by that scalar. For example, for the matrix $\\boldsymbol{B}$ given\n",
    "above, we could say $\\boldsymbol{C}=2\\boldsymbol{B}$ so that,\n",
    "\n",
    "$$\n",
    "\\boldsymbol{C}\n",
    "=\n",
    "2\\boldsymbol{B}\n",
    "=\n",
    "2\\left(\\begin{array}{rrr}\n",
    "3 & 1 & -6.2 \\\\\n",
    "2 & -5 & \\pi\n",
    "\\end{array}\\right)\n",
    "= \\left(\\begin{array}{rrr}\n",
    "6 & 2 & -12.4 \\\\\n",
    "4 & -10 & 2\\pi\n",
    "\\end{array}\\right).\n",
    "$$\n",
    "\n",
    "And, with `numpy` ..."
   ]
  },
  {
   "cell_type": "code",
   "execution_count": 6,
   "metadata": {},
   "outputs": [
    {
     "name": "stdout",
     "output_type": "stream",
     "text": [
      "C = \n",
      " [[  6.           2.         -12.4       ]\n",
      " [  4.         -10.           6.28318531]]\n"
     ]
    }
   ],
   "source": [
    "C = 2*B\n",
    "print('C = \\n', C)"
   ]
  },
  {
   "cell_type": "markdown",
   "metadata": {},
   "source": [
    "\n",
    "## Matrix Multiplication\n",
    "\n",
    "Matrices can also be multiplied together provided that they are of compatible\n",
    "shape. The process uses the same pattern as the inner (or scalar, or\n",
    "dot) product of vectors. We go along the rows on the left and down the\n",
    "columns on the right. For example:\n",
    "\n",
    "$$\n",
    "\\text{if }\n",
    "\\boldsymbol{J} = \\left(\\begin{array}{rr}\n",
    "3 & 4\\\\ 2 & 1\n",
    "\\end{array}\\right)\n",
    "\\text{ and } \n",
    "\\boldsymbol{L} = \\left(\\begin{array}{rrr}\n",
    "1 & 5 & -7\\\\ -3 & -4 & 0\n",
    "\\end{array}\\right)\n",
    "\\text{ then }\n",
    "\\boldsymbol{J}\\boldsymbol{L} = \\left(\\begin{array}{rrr}\n",
    "-9 & -1 & -21 \\\\ -1 & 6 & -14\n",
    "\\end{array}\\right)\n",
    "$$\n",
    "\n",
    "To see how this happens, lay the entire calculation out in detail like\n",
    "this,\n",
    "\n",
    "$$\n",
    "\\left(\\begin{array}{rr}\n",
    "3 & 4\\\\ 2 & 1\n",
    "\\end{array}\\right)\n",
    "\\left(\\begin{array}{rrr}\n",
    "1 & 5 & -7\\\\ -3 & -4 & 0\n",
    "\\end{array}\\right)\n",
    " = \\left(\\begin{array}{rrr}\n",
    "-9 & -1 & -21 \\\\ -1 & 6 & -14\n",
    "\\end{array}\\right)\n",
    "$$\n",
    "\n",
    "and think about using the inner product for each row on the left of the\n",
    "product, $\\boldsymbol{J}$, and each column on the right of the product,\n",
    "$\\boldsymbol{L}$.\n",
    "\n",
    "Your choice of row in $\\boldsymbol{J}$ will give the results in that row\n",
    "on the right of the $=$ sign, and your choice of column in\n",
    "$\\boldsymbol{L}$ will give the results in that column on the right of\n",
    "the $=$ sign.\n",
    "\n",
    "For example, to get the $-1$ in row 1 and column 2 we see that it comes\n",
    "from the dot product pattern applied to the row 1 of $\\boldsymbol{J}$\n",
    "and column 2 of $\\boldsymbol{L}$, like so\n",
    "\n",
    "$$\n",
    "\\left(\\begin{array}{rr}\n",
    "3 & 4\\\\ \\cdot & \\cdot\n",
    "\\end{array}\\right)\n",
    "\\left(\\begin{array}{rrr}\n",
    "\\cdot & 5 & \\cdot\\\\ \\cdot & -4 & \\cdot\n",
    "\\end{array}\\right)\n",
    "= \\left(\\begin{array}{rrr}\n",
    "\\cdot & (3\\times 5+4\\times -4) & \\cdot \\\\ \\cdot & \\cdot & \\cdot\n",
    "\\end{array}\\right)\n",
    "= \\left(\\begin{array}{ccc}\n",
    "\\cdot & -1 & \\cdot \\\\ \\cdot & \\cdot & \\cdot\n",
    "\\end{array}\\right)\n",
    "$$\n",
    "\n",
    "Here is another way to see it,\n",
    "\n",
    "$$\n",
    "\\left(\\begin{array}{rr}\n",
    "\\rightarrow & \\rightarrow\\\\ \\cdot & \\cdot\n",
    "\\end{array}\\right)\n",
    "\\left(\\begin{array}{rrr}\n",
    "\\cdot & \\downarrow & \\cdot\\\\ \\cdot & \\downarrow & \\cdot\n",
    "\\end{array}\\right)\n",
    "= \\left(\\begin{array}{ccc}\n",
    "\\cdot & \\times & \\cdot \\\\ \\cdot & \\cdot & \\cdot\n",
    "\\end{array}\\right)\n",
    "$$\n",
    "\n",
    "Notice that we can only form the product $\\boldsymbol{J}\\boldsymbol{L}$\n",
    "if the number of columns in $\\boldsymbol{J}$ equals the number of rows\n",
    "in $\\boldsymbol{L}$. If this isn't the case then we say that\n",
    "$\\boldsymbol{J}\\boldsymbol{L}$ **doesn't exist**.\n",
    "\n",
    "> **THINK ABOUT:** Given a matrix $\\boldsymbol{C}$, can we always form\n",
    "> $\\boldsymbol{C}^2 = \\boldsymbol{C}\\boldsymbol{C}$? What about\n",
    "> $\\boldsymbol{C}^3$, or $\\boldsymbol{C}^4$ and so on? What about if\n",
    "> $\\boldsymbol{C}$ is square?\n",
    "\n",
    "> **THINK ABOUT:** Suppose that $\\boldsymbol{J}\\boldsymbol{L}$ exists.\n",
    "> If $\\boldsymbol{J}$ has $p$ rows and $\\boldsymbol{L}$ has $q$ columns,\n",
    "> then what is the *dimension*, or *shape*, of\n",
    "> $\\boldsymbol{J}\\boldsymbol{L}$?\n",
    "\n",
    "> **THINK ABOUT:** Given matrices non-square matrices $\\boldsymbol{P}$\n",
    "> and $\\boldsymbol{Q}$ for which $\\boldsymbol{P}\\boldsymbol{Q}$ exists.\n",
    "> Does $\\boldsymbol{Q}\\boldsymbol{P}$ exist? Create two such matrices\n",
    "> and form $(\\boldsymbol{P}\\boldsymbol{Q})^T$ and\n",
    "> $\\boldsymbol{Q}^T\\boldsymbol{P}^T$. What do you find? Do you think\n",
    "> this is always true?\n"
   ]
  },
  {
   "cell_type": "markdown",
   "metadata": {},
   "source": [
    "## Code for matrix multiplication \n",
    "\n",
    "Recall that\n",
    "\n",
    "$$\n",
    "\\text{if }\n",
    "\\boldsymbol{J} = \\left(\\begin{array}{rr}\n",
    "3 & 4\\\\ 2 & 1\n",
    "\\end{array}\\right)\n",
    "\\text{ and } \n",
    "\\boldsymbol{L} = \\left(\\begin{array}{rrr}\n",
    "1 & 5 & -7\\\\ -3 & -4 & 0\n",
    "\\end{array}\\right)\n",
    "\\text{ then }\n",
    "\\boldsymbol{J}\\boldsymbol{L} = \\left(\\begin{array}{rrr}\n",
    "-9 & -1 & -21 \\\\ -1 & 6 & -14\n",
    "\\end{array}\\right)\n",
    "$$\n",
    "\n",
    "To do this with `numpy` we use the `dot` method as follows: "
   ]
  },
  {
   "cell_type": "code",
   "execution_count": 7,
   "metadata": {},
   "outputs": [
    {
     "name": "stdout",
     "output_type": "stream",
     "text": [
      "JL = \n",
      " [[ -9  -1 -21]\n",
      " [ -1   6 -14]]\n"
     ]
    }
   ],
   "source": [
    "J = np.array([[3, 4],[2, 1]])\n",
    "L = np.array([[1, 5, -7],[-3, -4, 0]])\n",
    "print('JL = \\n', J.dot(L))"
   ]
  },
  {
   "cell_type": "markdown",
   "metadata": {},
   "source": [
    "An alternative is to use `np.dot(J,L)` like this,"
   ]
  },
  {
   "cell_type": "code",
   "execution_count": 8,
   "metadata": {},
   "outputs": [
    {
     "name": "stdout",
     "output_type": "stream",
     "text": [
      "JL = \n",
      " [[ -9  -1 -21]\n",
      " [ -1   6 -14]]\n"
     ]
    }
   ],
   "source": [
    "print('JL = \\n', np.dot(J,L))"
   ]
  },
  {
   "cell_type": "markdown",
   "metadata": {},
   "source": [
    "**BUT:** *what we must not do is this:* `J*L`. This will give an error\n",
    "Try it: use this `print('JL = \\n', J*L)` for example.\n",
    "\n",
    "To see what an expression like this does consider these matrices,\n",
    "\n",
    "$$\n",
    "\\text{if }\n",
    "\\boldsymbol{J} = \\left(\\begin{array}{rr}\n",
    "3 & 4\\\\ 2 & 1\n",
    "\\end{array}\\right)\n",
    "\\text{ and } \n",
    "\\boldsymbol{K} = \\left(\\begin{array}{rrr}\n",
    "1 & 5 \\\\ -3 & -4\n",
    "\\end{array}\\right)\n",
    "\\text{ then }\n",
    "\\boldsymbol{J}\\boldsymbol{K} = \\left(\\begin{array}{rrr}\n",
    "-9 & -1 \\\\ -1 & 6\n",
    "\\end{array}\\right)\n",
    "$$\n",
    "\n",
    "With `numpy` this is,"
   ]
  },
  {
   "cell_type": "code",
   "execution_count": 9,
   "metadata": {},
   "outputs": [
    {
     "name": "stdout",
     "output_type": "stream",
     "text": [
      "JK = \n",
      " [[-9 -1]\n",
      " [-1  6]]\n"
     ]
    }
   ],
   "source": [
    "K = np.array([[1, 5],[-3, -4]])\n",
    "print('JK = \\n', J.dot(K))"
   ]
  },
  {
   "cell_type": "markdown",
   "metadata": {},
   "source": [
    "which should not be a surprise. Now let's see what `J*K` is... "
   ]
  },
  {
   "cell_type": "code",
   "execution_count": 10,
   "metadata": {},
   "outputs": [
    {
     "name": "stdout",
     "output_type": "stream",
     "text": [
      "JK = \n",
      " [[ 3 20]\n",
      " [-6 -4]]\n"
     ]
    }
   ],
   "source": [
    "print('JK = \\n', J*K)"
   ]
  },
  {
   "cell_type": "markdown",
   "metadata": {},
   "source": [
    "What just happened? Can you figure it out?\n",
    "\n",
    "**BE CAREFUL** of this - it can cause errors (bugs) that are hard to spot.\n",
    "\n",
    "> **THINK ABOUT:** is there a mathematical notation for this type of product?\n",
    "> This is called *elementwise* multiplication - why? \n",
    "> Look up *Hadamard Product* - is it related?"
   ]
  },
  {
   "cell_type": "markdown",
   "metadata": {},
   "source": [
    "## Notation\n",
    "\n",
    "It is useful to be able to refer to the *elements* in a vector or a\n",
    "matrix in a generic way. We do this with subscripts.\n",
    "\n",
    "Given an $n$-dimensional vector $\\boldsymbol{v}\\in\\mathbb{R}^n$, we\n",
    "refer to the value in position $j$ as $v_j$.\n",
    "\n",
    "Similarly, given an $m\\times n$-dimensional matrix\n",
    "$\\boldsymbol{R}\\in\\mathbb{R}^{m,n}$, we refer to the value in row $i$,\n",
    "column $j$ as $r_{ij}$ (or when confusion might arise, as $r_{i,j}$).\n",
    "\n",
    "For example,\n",
    "\n",
    "$$\n",
    "\\text{if }\n",
    "\\boldsymbol{b} = \\left(\\begin{array}{r}\n",
    "6 \\\\ -3 \\\\ 2.5 \\\\ -1 \\\\ 0\n",
    "\\end{array}\\right)\n",
    "\\text{ and }\n",
    "\\boldsymbol{N}^T = \\left(\\begin{array}{rrr}\n",
    "-4 & 7/8 & 0 \\\\\n",
    " 9  & 6 & 0\n",
    "\\end{array}\\right),\n",
    "$$\n",
    "\n",
    "Then $b_4 = -1$ and $n_{1,2} = 7/8$.\n"
   ]
  },
  {
   "cell_type": "markdown",
   "metadata": {},
   "source": [
    "## The Matrix-Vector Product\n",
    "\n",
    "This is a partcularly important form of matrix-matrix multiplication.\n",
    "\n",
    "A column vector is no more than a matrix with one column. This means\n",
    "that we can multiply matrices and vectors providing they are of\n",
    "compatible dimension. A particularly important case is the\n",
    "*matrix-vector product* of the form\n",
    "$\\boldsymbol{B}\\boldsymbol{u}=\\boldsymbol{f}$. For example,\n",
    "\n",
    "$$\n",
    "\\text{If }\n",
    "\\boldsymbol{B}\n",
    "= \\left(\\begin{array}{rrr}\n",
    " 3 & -2 & 4 \\\\\n",
    "-6 & 6 & -11 \\\\\n",
    " 6 & 2 & 5 \\\\\n",
    "\\end{array}\\right)\n",
    "\\text{ and }\n",
    "\\boldsymbol{u}\n",
    "= \\left(\\begin{array}{rrr}\n",
    "2 \\\\ 0 \\\\ -1\n",
    "\\end{array}\\right)\n",
    "\\text{ then }\n",
    "\\boldsymbol{f}\n",
    "= \\left(\\begin{array}{rrr}\n",
    "2 \\\\ -1 \\\\ 7\n",
    "\\end{array}\\right)\n",
    "$$\n",
    "\n",
    "because\n",
    "\n",
    "$$\n",
    "\\boldsymbol{B}\\boldsymbol{u}\n",
    "= \\left(\\begin{array}{rrr}\n",
    " 3 & -2 & 4 \\\\\n",
    "-6 & 6 & -11 \\\\\n",
    " 6 & 2 & 5 \\\\\n",
    "\\end{array}\\right)\n",
    "\\left(\\begin{array}{rrr}\n",
    "2 \\\\ 0 \\\\ -1\n",
    "\\end{array}\\right)\n",
    "=\n",
    "\\left(\\begin{array}{rrr}\n",
    "2 \\\\ -1 \\\\ 7\n",
    "\\end{array}\\right)\n",
    "$$\n",
    "\n",
    "Let's verify this with `numpy`..."
   ]
  },
  {
   "cell_type": "code",
   "execution_count": 11,
   "metadata": {},
   "outputs": [
    {
     "name": "stdout",
     "output_type": "stream",
     "text": [
      "f = \n",
      " [[ 2]\n",
      " [-1]\n",
      " [ 7]]\n"
     ]
    }
   ],
   "source": [
    "B = np.array( [[3, -2, 4],[-6, 6, -11],[ 6, 2, 5 ]])\n",
    "u = np.array([[2], [0], [-1]])\n",
    "f = B.dot(u)\n",
    "print('f = \\n', f) "
   ]
  },
  {
   "cell_type": "markdown",
   "metadata": {},
   "source": [
    "## The Matrix Inverse\n",
    "\n",
    "A way to build on the previous calculation is to remember that for\n",
    "'ordinary' (scalar) variables $b$, $u$ and $f$, if we have $bu=f$ then\n",
    "if $b\\ne 0$ we can multiply both sides by $b^{-1}$ and get\n",
    "$b^{-1}b u = b^{-1}f$. Of course, this is just $u=f/b$, and it works\n",
    "because $b^{-1}b=1$.\n",
    "\n",
    "For matrices we can imagine doing the same thing. If\n",
    "$\\boldsymbol{B}\\boldsymbol{u}=\\boldsymbol{f}$ we might hope to be able\n",
    "to write $\\boldsymbol{u}=\\boldsymbol{B}^{-1}\\boldsymbol{f}$. If we knew\n",
    "$\\boldsymbol{B}$ and $\\boldsymbol{f}$ this would then allow us to find\n",
    "$\\boldsymbol{u}=\\boldsymbol{B}^{-1}\\boldsymbol{f}$.\n",
    "\n",
    "The situation is quite complicated. First note that\n",
    "\n",
    "$$\n",
    "\\frac{1}{36}\\left(\\begin{array}{rrr}\n",
    " 52 &  18 & -2 \\\\\n",
    "-36 & -9 &   9 \\\\\n",
    "-48 & -18 &  6\n",
    "\\end{array}\\right)\n",
    "\\left(\\begin{array}{rrr}\n",
    " 3 & -2 & 4 \\\\\n",
    "-6 & 6 & -11 \\\\\n",
    " 6 & 2 & 5 \\\\\n",
    "\\end{array}\\right)\n",
    "=\n",
    "\\frac{1}{36}\n",
    "\\left(\\begin{array}{rrr}\n",
    "36 &  0 &  0 \\\\\n",
    " 0 & 36 &  0 \\\\\n",
    " 0 &  0 & 36\\\\\n",
    "\\end{array}\\right)\n",
    "=\n",
    "\\left(\\begin{array}{rrr}\n",
    "1 & 0 & 0 \\\\\n",
    "0 & 1 & 0 \\\\\n",
    "0 & 0 & 1 \\\\\n",
    "\\end{array}\\right).\n",
    "$$\n",
    "\n",
    "This calculation also illustrates the general rule given above that if\n",
    "we multiply a matrix by a scalar then we should multiply every value in\n",
    "that matrix by that scalar.\n",
    "\n",
    "The matrix on the right is called the identity matrix. Here it is\n",
    "three-by-three but such a square matrix exists for every dimension. It\n",
    "is always zero everywhere except on the leading diagonal where the\n",
    "entries are always unity.\n",
    "\n",
    "The identity matrix is, for us, always denoted by $\\boldsymbol{I}$ and\n",
    "plays the role of $1$ in matrix theory. So, by analogy with $b^{-1}b=1$\n",
    "above, the above calculation suggests\n",
    "$\\boldsymbol{B}^{-1}\\boldsymbol{B}=\\boldsymbol{I}$ where\n",
    "\n",
    "$$\n",
    "\\boldsymbol{B}^{-1} =\n",
    "\\frac{1}{36}\\left(\\begin{array}{rrr}\n",
    " 52 &  18 & -2 \\\\\n",
    "-36 & -9 &   9 \\\\\n",
    "-48 & -18 &  6\n",
    "\\end{array}\\right).\n",
    "$$\n",
    "\n",
    "In this expression $36$ is the value of the *determinant* of\n",
    "$\\boldsymbol{B}$. If this value were zero then this *inverse matrix*\n",
    "would not be defined."
   ]
  },
  {
   "cell_type": "markdown",
   "metadata": {},
   "source": [
    "## Determinant of a Square Matrix\n",
    "\n",
    "The determinant is a difficult quantity to define and work with. It can\n",
    "only be defined for square matrices where, for a square matrix\n",
    "$\\boldsymbol{K}$, its determinant is denoted by $\\det(\\boldsymbol{K})$.\n",
    "\n",
    "Consider first the case of a $2 \\times 2$ matrix:\n",
    "\n",
    "$$\n",
    "\\text{if }\\boldsymbol{K} = \\left(\\begin{array}{rr}\n",
    "a & b \\\\ c & d\n",
    "\\end{array}\\right)\n",
    "\\text{ then } \n",
    "\\det(\\boldsymbol{K}) = ad-bc\n",
    "\\text{ and }\n",
    "\\boldsymbol{K}^{-1} = \\frac{1}{\\det(\\boldsymbol{K})}\n",
    "\\left(\\begin{array}{rr}\n",
    "d & -b \\\\ -c & a\n",
    "\\end{array}\\right)\n",
    "$$\n",
    "\n",
    "if, and only if, $\\det(\\boldsymbol{K})\\ne 0$. You can check that for\n",
    "yourself. The more general case is far more difficult to discuss so here\n",
    "we will merely accept this general result:\n",
    "\n",
    "> **INVERSE MATRIX:** a square matrix $\\boldsymbol{K}$ is invertible if\n",
    "> and only if its determinant is non-zero. Its inverse satisfies\n",
    "> $\\boldsymbol{K}^{-1}\\boldsymbol{K}=\\boldsymbol{I}$.\n",
    "\n",
    "In practice it is usually very very difficult to check whether or not\n",
    "$\\det(\\boldsymbol{K})\\ne 0$. However, fortunately, the application area\n",
    "we are working on will often give us either a good clue, or a definite\n",
    "answer. We'll see a few examples of this as we go along. With the first\n",
    "application forming the next subsection.\n",
    "\n",
    "> **THINK ABOUT:** Create a matrix $\\boldsymbol{P}$ for which\n",
    "> $\\boldsymbol{P}^{-1}$ exists (or use the one above) and investigate\n",
    "> how $\\boldsymbol{P}\\boldsymbol{P}^{-1}$ and\n",
    "> $\\boldsymbol{P}^{-1}\\boldsymbol{P}$ are related. Do you think this is\n",
    "> always true?\n",
    "\n",
    "> **THINK ABOUT:** Create another matrix $\\boldsymbol{Q}$ for which both\n",
    "> $\\boldsymbol{Q}\\boldsymbol{P}$ and\n",
    "> $(\\boldsymbol{Q}\\boldsymbol{P})^{-1}$ exist. How does this last\n",
    "> quantity relate to $\\boldsymbol{P}^{-1}\\boldsymbol{Q}^{-1}$? Do you\n",
    "> think this is always true?"
   ]
  },
  {
   "cell_type": "markdown",
   "metadata": {},
   "source": [
    "## Never do this - unless you know you need to\n",
    "\n",
    "In practice we rarely if ever need to actually obtain the inverse\n",
    "or the determinant of a matrix. \n",
    "\n",
    "We can obtain these using `numpy` as follows... "
   ]
  },
  {
   "cell_type": "code",
   "execution_count": 12,
   "metadata": {},
   "outputs": [
    {
     "name": "stdout",
     "output_type": "stream",
     "text": [
      "det(B) =  36.0\n",
      "inverse of B = \n",
      " [[ 52.  18.  -2.]\n",
      " [-36.  -9.   9.]\n",
      " [-48. -18.   6.]]\n"
     ]
    }
   ],
   "source": [
    "print('det(B) = ', np.linalg.det(B)) \n",
    "# multiply the inverse by 36 to tidy up the output...\n",
    "print('inverse of B = \\n', 36*np.linalg.inv(B)) "
   ]
  },
  {
   "cell_type": "markdown",
   "metadata": {},
   "source": [
    "We can verify the inverse by checking that\n",
    "$\\boldsymbol{B}\\boldsymbol{B}^{-1} = \\boldsymbol{I}$ as follows,"
   ]
  },
  {
   "cell_type": "code",
   "execution_count": 13,
   "metadata": {},
   "outputs": [
    {
     "name": "stdout",
     "output_type": "stream",
     "text": [
      "B*B^(-1) = \n",
      " [[ 1.00000000e+00  0.00000000e+00  0.00000000e+00]\n",
      " [-2.22044605e-16  1.00000000e+00  2.77555756e-17]\n",
      " [-2.22044605e-16  0.00000000e+00  1.00000000e+00]]\n"
     ]
    }
   ],
   "source": [
    "print('B*B^(-1) = \\n', B.dot(np.linalg.inv(B))) "
   ]
  },
  {
   "cell_type": "markdown",
   "metadata": {},
   "source": [
    "Notice the *small* numbers - this isn't unusual in computing.\n",
    "The numerical precision in the processor is limited, and so\n",
    "the arithmetic is not exact. This is sometimes a problem, but usually\n",
    "not. If we enounter it as a problem, we'll discuss it.\n",
    "\n",
    "We ought to check that\n",
    "$\\boldsymbol{B}^{-1}\\boldsymbol{B} = \\boldsymbol{I}$ also..."
   ]
  },
  {
   "cell_type": "code",
   "execution_count": 14,
   "metadata": {},
   "outputs": [
    {
     "name": "stdout",
     "output_type": "stream",
     "text": [
      "B^(-1)*B = \n",
      " [[ 1.00000000e+00  6.93889390e-17 -4.85722573e-17]\n",
      " [ 0.00000000e+00  1.00000000e+00  0.00000000e+00]\n",
      " [-5.55111512e-17 -1.66533454e-16  1.00000000e+00]]\n"
     ]
    }
   ],
   "source": [
    "print('B^(-1)*B = \\n', np.linalg.inv(B).dot(B)) "
   ]
  },
  {
   "cell_type": "markdown",
   "metadata": {},
   "source": [
    "\n",
    "## Review\n",
    "\n",
    "IN the above:\n",
    "\n",
    "- we reviewed the mathematical notion of a *matrix*.\n",
    "- we saw how using `numpy` in `python` we could\n",
    "  - create matrices;\n",
    "  - add and subtract them, and multiply by a scalar;\n",
    "  - form matrix-vector products;\n",
    "  - form element-wise products\n",
    "\n",
    "We will be building extensively on these skills in the coming weeks.\n",
    "\n",
    "Note again that we very rarely explicitly need the inverse of a matrix \n",
    "or a matrix determinant. These can be easy to determine for small matrices,\n",
    "as we saw above, but as the matrices become larger they take a very long time\n",
    "to compute. Avoid them at all costs.\n"
   ]
  },
  {
   "cell_type": "markdown",
   "metadata": {},
   "source": [
    "## Exercises\n",
    "\n",
    "1. What does `L.shape` give? (Look at the dimensions of $\\boldsymbol{L}$.)\n",
    "\n",
    "1. What does `L.ndim` give? ($\\boldsymbol{L}$ is two-dimensional.)\n",
    "\n",
    "1. Examine these statements. What do they do?\n",
    " - `np.ones(3)`\n",
    " - `np.ones([3,1])`\n",
    " - `np.ones([2,4])`\n",
    " - `np.zeros([2,4])`\n",
    " - `np.eye(4)`\n",
    "\n",
    "2. What about these?\n",
    " - `np.arange(4)`\n",
    " - `np.arange(2,8)`\n",
    " - `np.arange(2,9,2)`\n",
    " - `np.linspace(4,9,num=6)`\n",
    " - `np.linspace(4,9,num=11)`\n",
    " \n",
    "3. Try these - explain the results: \n",
    " - `D = L.reshape([3,2])`\n",
    " - `E = L.reshape([6,])`\n",
    "\n",
    "3. `numpy` is very powerful: see this introduction for more details  <https://numpy.org/doc/stable/user/absolute_beginners.html>\n"
   ]
  },
  {
   "cell_type": "code",
   "execution_count": 15,
   "metadata": {},
   "outputs": [
    {
     "data": {
      "text/plain": [
       "2"
      ]
     },
     "execution_count": 15,
     "metadata": {},
     "output_type": "execute_result"
    }
   ],
   "source": [
    "L.ndim"
   ]
  },
  {
   "cell_type": "code",
   "execution_count": 16,
   "metadata": {},
   "outputs": [
    {
     "data": {
      "text/plain": [
       "(2, 3)"
      ]
     },
     "execution_count": 16,
     "metadata": {},
     "output_type": "execute_result"
    }
   ],
   "source": [
    "L.shape"
   ]
  },
  {
   "cell_type": "code",
   "execution_count": 17,
   "metadata": {},
   "outputs": [
    {
     "name": "stdout",
     "output_type": "stream",
     "text": [
      "[1. 1. 1.]\n",
      "[[1.]\n",
      " [1.]\n",
      " [1.]]\n",
      "[[1. 1. 1. 1.]\n",
      " [1. 1. 1. 1.]]\n",
      "[[0. 0. 0. 0.]\n",
      " [0. 0. 0. 0.]]\n",
      "[[1. 0. 0. 0.]\n",
      " [0. 1. 0. 0.]\n",
      " [0. 0. 1. 0.]\n",
      " [0. 0. 0. 1.]]\n"
     ]
    }
   ],
   "source": [
    "print(np.ones(3))\n",
    "print(np.ones([3,1]))\n",
    "print(np.ones([2,4]))\n",
    "print(np.zeros([2,4]))\n",
    "print(np.eye(4))"
   ]
  },
  {
   "cell_type": "code",
   "execution_count": 18,
   "metadata": {},
   "outputs": [
    {
     "name": "stdout",
     "output_type": "stream",
     "text": [
      "[0 1 2 3]\n",
      "[2 3 4 5 6 7]\n",
      "[2 4 6 8]\n",
      "[4. 5. 6. 7. 8. 9.]\n",
      "[4.  4.5 5.  5.5 6.  6.5 7.  7.5 8.  8.5 9. ]\n"
     ]
    }
   ],
   "source": [
    "print(np.arange(4))\n",
    "print(np.arange(2,8))\n",
    "print(np.arange(2,9,2))\n",
    "print(np.linspace(4,9,num=6))\n",
    "print(np.linspace(4,9,num=11))\n",
    "\n",
    "\n"
   ]
  },
  {
   "cell_type": "code",
   "execution_count": 19,
   "metadata": {},
   "outputs": [
    {
     "name": "stdout",
     "output_type": "stream",
     "text": [
      "L = \n",
      " [[ 1  5 -7]\n",
      " [-3 -4  0]]\n",
      "D = \n",
      " [[ 1  5]\n",
      " [-7 -3]\n",
      " [-4  0]]\n",
      "E = \n",
      " [ 1  5 -7 -3 -4  0]\n"
     ]
    }
   ],
   "source": [
    "print('L = \\n', L)\n",
    "D = L.reshape([3,2])\n",
    "print('D = \\n', D)\n",
    "E = L.reshape([6,])\n",
    "print('E = \\n', E)"
   ]
  },
  {
   "cell_type": "markdown",
   "metadata": {},
   "source": [
    "### Technical Notes\n",
    "\n",
    "This originated from\n",
    "<https://stackoverflow.com/questions/38540326/save-html-of-a-jupyter-notebook-from-within-the-notebook>\n",
    "\n",
    "These lines create a back up of the notebook. They can be ignored.\n",
    "\n",
    "At some point this is better as a bash script outside of the notebook\n"
   ]
  },
  {
   "cell_type": "code",
   "execution_count": 20,
   "metadata": {},
   "outputs": [
    {
     "name": "stderr",
     "output_type": "stream",
     "text": [
      "[NbConvertApp] Converting notebook 5_matrices.ipynb to html\n",
      "[NbConvertApp] Writing 631776 bytes to 5_matrices.html\n",
      "[NbConvertApp] Converting notebook 5_matrices.ipynb to pdf\n",
      "[NbConvertApp] Writing 61267 bytes to notebook.tex\n",
      "[NbConvertApp] Building PDF\n",
      "[NbConvertApp] Running xelatex 3 times: ['xelatex', 'notebook.tex', '-quiet']\n",
      "[NbConvertApp] Running bibtex 1 time: ['bibtex', 'notebook']\n",
      "[NbConvertApp] WARNING | bibtex had problems, most likely because there were no citations\n",
      "[NbConvertApp] PDF successfully created\n",
      "[NbConvertApp] Writing 99182 bytes to 5_matrices.pdf\n",
      "[NbConvertApp] Converting notebook 5_matrices.ipynb to script\n",
      "[NbConvertApp] Writing 23293 bytes to 5_matrices.py\n"
     ]
    }
   ],
   "source": [
    "%%bash\n",
    "NBROOTNAME='5_matrices'\n",
    "OUTPUTTING=1\n",
    "\n",
    "if [ $OUTPUTTING -eq 1 ]; then\n",
    "  jupyter nbconvert --to html $NBROOTNAME.ipynb\n",
    "  cp $NBROOTNAME.html ../backups/$(date +\"%m_%d_%Y-%H%M%S\")_$NBROOTNAME.html\n",
    "  mv -f $NBROOTNAME.html ./formats/html/\n",
    "\n",
    "  jupyter nbconvert --to pdf $NBROOTNAME.ipynb\n",
    "  cp $NBROOTNAME.pdf ../backups/$(date +\"%m_%d_%Y-%H%M%S\")_$NBROOTNAME.pdf\n",
    "  mv -f $NBROOTNAME.pdf ./formats/pdf/\n",
    "\n",
    "  jupyter nbconvert --to script $NBROOTNAME.ipynb\n",
    "  cp $NBROOTNAME.py ../backups/$(date +\"%m_%d_%Y-%H%M%S\")_$NBROOTNAME.py\n",
    "  mv -f $NBROOTNAME.py ./formats/py/\n",
    "else\n",
    "  echo 'Not Generating html, pdf and py output versions'\n",
    "fi"
   ]
  },
  {
   "cell_type": "code",
   "execution_count": null,
   "metadata": {},
   "outputs": [],
   "source": []
  }
 ],
 "metadata": {
  "kernelspec": {
   "display_name": "Python 3",
   "language": "python",
   "name": "python3"
  },
  "language_info": {
   "codemirror_mode": {
    "name": "ipython",
    "version": 3
   },
   "file_extension": ".py",
   "mimetype": "text/x-python",
   "name": "python",
   "nbconvert_exporter": "python",
   "pygments_lexer": "ipython3",
   "version": "3.7.1"
  }
 },
 "nbformat": 4,
 "nbformat_minor": 4
}
