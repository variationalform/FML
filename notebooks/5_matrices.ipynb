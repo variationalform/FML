{
 "cells": [
  {
   "cell_type": "markdown",
   "metadata": {
    "slideshow": {
     "slide_type": "slide"
    }
   },
   "source": [
    "# Matrices\n",
    "\n",
    "#### *variationalform* <https://variationalform.github.io/>\n",
    "\n",
    "#### *Just Enough: progress at pace*\n",
    "\n",
    "<https://variationalform.github.io/>\n",
    "\n",
    "<https://github.com/variationalform>\n",
    "\n",
    "Simon Shaw\n",
    "<https://www.brunel.ac.uk/people/simon-shaw>.\n"
   ]
  },
  {
   "cell_type": "markdown",
   "metadata": {
    "slideshow": {
     "slide_type": "fragment"
    }
   },
   "source": [
    "<table>\n",
    "<tr>\n",
    "<td>\n",
    "<img src=\"https://mirrors.creativecommons.org/presskit/icons/cc.svg?ref=chooser-v1\" style=\"height:18px\"/>\n",
    "<img src=\"https://mirrors.creativecommons.org/presskit/icons/by.svg?ref=chooser-v1\" style=\"height:18px\"/>\n",
    "<img src=\"https://mirrors.creativecommons.org/presskit/icons/sa.svg?ref=chooser-v1\" style=\"height:18px\"/>\n",
    "</td>\n",
    "<td>\n",
    "\n",
    "<p>\n",
    "This work is licensed under CC BY-SA 4.0 (Attribution-ShareAlike 4.0 International)\n",
    "\n",
    "<p>\n",
    "Visit <a href=\"http://creativecommons.org/licenses/by-sa/4.0/\">http://creativecommons.org/licenses/by-sa/4.0/</a> to see the terms.\n",
    "</td>\n",
    "</tr>\n",
    "</table>"
   ]
  },
  {
   "cell_type": "markdown",
   "metadata": {
    "slideshow": {
     "slide_type": "fragment"
    }
   },
   "source": [
    "<table>\n",
    "<tr>\n",
    "<td>This document uses python</td>\n",
    "<td>\n",
    "<img src=\"https://www.python.org/static/community_logos/python-logo-master-v3-TM.png\" style=\"height:30px\"/>\n",
    "</td>\n",
    "<td>and also makes use of LaTeX </td>\n",
    "<td>\n",
    "<img src=\"https://upload.wikimedia.org/wikipedia/commons/thumb/9/92/LaTeX_logo.svg/320px-LaTeX_logo.svg.png\" style=\"height:30px\"/>\n",
    "</td>\n",
    "<td>in Markdown</td> \n",
    "<td>\n",
    "<img src=\"https://github.com/adam-p/markdown-here/raw/master/src/common/images/icon48.png\" style=\"height:30px\"/>\n",
    "</td>\n",
    "</tr>\n",
    "</table>"
   ]
  },
  {
   "cell_type": "markdown",
   "metadata": {
    "slideshow": {
     "slide_type": "slide"
    }
   },
   "source": [
    "## What this is about:\n",
    "\n",
    "You will be introduced to ...\n",
    "\n",
    "- The **inner product** (or **dot product**, or **scalar product**) of vectors \n",
    "- Matrices as a way to represent tables of numbers.\n",
    "- Matrices as a way to *operate* on vectors (and other matrices)\n",
    "- The arithmetic (adding and subtracting) of matrices.\n",
    "- The `numpy` library (or package) for working with matrices in `python`\n",
    "\n",
    "We'll then look at special types of matrices, and derived quantities.\n",
    "\n",
    "As usual our emphasis will be on *doing* rather than *proving*:\n",
    "*just enough: progress at pace*\n"
   ]
  },
  {
   "cell_type": "markdown",
   "metadata": {
    "slideshow": {
     "slide_type": "subslide"
    }
   },
   "source": [
    "## Assigned Reading\n",
    "\n",
    "For this worksheet you should read Chapters 6 and 7 of [VMLS] for more\n",
    "introductory material on matrices, and also Appendix D of [DSML]\n",
    "if you want to read more about `python` and `numpy`. \n",
    "\n",
    "- VMLS: Introduction to Applied Linear Algebra - Vectors, Matrices, and Least Squares,\n",
    "  by Stephen Boyd and Lieven Vandenberghe,\n",
    "  <https://web.stanford.edu/~boyd/vmls/>\n",
    "- DSML: Data Science and Machine Learning, Mathematical and Statistical Methods\n",
    "  by Dirk P. Kroese, Zdravko I. Botev, Thomas Taimre, Radislav Vaisman,\n",
    "  <https://people.smp.uq.edu.au/DirkKroese/DSML> and\n",
    "  <https://people.smp.uq.edu.au/DirkKroese/DSML/DSML.pdf>\n",
    "\n",
    "Further accessible material can be found in [FCLA], and\n",
    "advanced material is available in Chapters 2, 3 and 4 of [MML].\n",
    "\n",
    "- MML: Mathematics for Machine Learning, by Marc Peter Deisenroth, A. Aldo Faisal, and Cheng Soon Ong.\n",
    "  Cambridge University Press. <https://mml-book.github.io>.\n",
    "- FCLA: A First Course in Linear Algebra, by Ken Kuttler, \n",
    "  <https://math.libretexts.org/Bookshelves/Linear_Algebra/A_First_Course_in_Linear_Algebra_(Kuttler)>\n",
    " \n",
    "All of the above can be accessed legally and without cost."
   ]
  },
  {
   "cell_type": "markdown",
   "metadata": {
    "slideshow": {
     "slide_type": "subslide"
    }
   },
   "source": [
    "There are also these useful references for coding:\n",
    "\n",
    "- PT: `python`: <https://docs.python.org/3/tutorial>\n",
    "- NP: `numpy`: <https://numpy.org/doc/stable/user/quickstart.html>\n",
    "- MPL: `matplotlib`: <https://matplotlib.org>"
   ]
  },
  {
   "cell_type": "markdown",
   "metadata": {
    "slideshow": {
     "slide_type": "slide"
    }
   },
   "source": [
    "## Matrices\n",
    "\n",
    "A *matrix* is an $n$-row by $m$-column table of numbers enclosed in\n",
    "brackets. For example,\n",
    "\n",
    "$$\n",
    "\\boldsymbol{B} = \\left(\\begin{array}{rrr}\n",
    "3 & 1 & -6.2 \\\\\n",
    "2 & -5 & \\pi\n",
    "\\end{array}\\right),\n",
    "\\qquad\n",
    "\\boldsymbol{N} = \\left(\\begin{array}{rr}\n",
    "-4 & 9 \\\\\n",
    "7/8 & 6 \\\\\n",
    "0 & 0\n",
    "\\end{array}\\right),\n",
    "\\qquad\n",
    "\\boldsymbol{Z} = \\left(\\begin{array}{rrr}\n",
    "1 &  2 & 0 \\\\\n",
    "1 & -2 & 1 \\\\\n",
    "0 &  1 & -4\n",
    "\\end{array}\\right),\n",
    "$$\n",
    "\n",
    "are, in turn, a $2$ by $3$, a $3$ by $2$ and a $3$ by $3$ matrix. These\n",
    "are called the matrix *shape*, or *dimension*."
   ]
  },
  {
   "cell_type": "markdown",
   "metadata": {
    "slideshow": {
     "slide_type": "fragment"
    }
   },
   "source": [
    "We will deal exclusively with matrices of **real numbers** from $\\mathbb{R}$.\n",
    "\n",
    "Complex matrices with entries from $\\mathbb{C}$ can be introduced but we wont need them."
   ]
  },
  {
   "cell_type": "markdown",
   "metadata": {
    "slideshow": {
     "slide_type": "slide"
    }
   },
   "source": [
    "$$\n",
    "\\boldsymbol{B} = \\left(\\begin{array}{rrr}\n",
    "3 & 1 & -6.2 \\\\\n",
    "2 & -5 & \\pi\n",
    "\\end{array}\\right),\n",
    "\\qquad\n",
    "\\boldsymbol{N} = \\left(\\begin{array}{rr}\n",
    "-4 & 9 \\\\\n",
    "7/8 & 6 \\\\\n",
    "0 & 0\n",
    "\\end{array}\\right),\n",
    "\\qquad\n",
    "\\boldsymbol{Z} = \\left(\\begin{array}{rrr}\n",
    "1 &  2 & 0 \\\\\n",
    "1 & -2 & 1 \\\\\n",
    "0 &  1 & -4\n",
    "\\end{array}\\right),\n",
    "$$\n",
    "\n",
    "Matrices are usually denoted by **bold** CAPITAL letters, and when $n=m$\n",
    "we call the matrix *square*. For a square $n\\times n$ matrix we will\n",
    "just use $n$ as its dimension. So $\\boldsymbol{Z}$ is square of\n",
    "dimension $3$.\n",
    "\n",
    "If we exchange the rows and columns of a matrix we get its *transpose*,\n",
    "denoted with a superscript $T$ like so,\n",
    "\n",
    "$$\n",
    "\\boldsymbol{B}^T = \\left(\\begin{array}{rr}\n",
    "3    &  2 \\\\\n",
    "1    & -5 \\\\\n",
    "-6.2 & \\pi\n",
    "\\end{array}\\right),\n",
    "\\qquad\n",
    "\\boldsymbol{N}^T = \\left(\\begin{array}{rrr}\n",
    "-4 & \\frac{7}{8} & 0 \\\\\n",
    " 9  & 6 & 0\n",
    "\\end{array}\\right),\n",
    "\\qquad\n",
    "\\boldsymbol{Z}^T = \\left(\\begin{array}{rrr}\n",
    "1 &  1 & 0 \\\\\n",
    "2 & -2 & 1 \\\\\n",
    "0 &  1 & -4\n",
    "\\end{array}\\right).\n",
    "$$"
   ]
  },
  {
   "cell_type": "markdown",
   "metadata": {
    "slideshow": {
     "slide_type": "slide"
    }
   },
   "source": [
    "## Using `numpy` to represent matrices\n",
    "\n",
    "As we have seen, `numpy` is a key tool for scientific computing\n",
    "in `python`. See <https://numpy.org>\n",
    "\n",
    "As before, we load in the numpy package and abbreviate it with `np`."
   ]
  },
  {
   "cell_type": "code",
   "execution_count": null,
   "metadata": {
    "slideshow": {
     "slide_type": "fragment"
    }
   },
   "outputs": [],
   "source": [
    "import numpy as np"
   ]
  },
  {
   "cell_type": "markdown",
   "metadata": {
    "slideshow": {
     "slide_type": "fragment"
    }
   },
   "source": [
    "Now we can set up the matrices above as `numpy` *arrays*, and print them out, as follows,"
   ]
  },
  {
   "cell_type": "code",
   "execution_count": null,
   "metadata": {
    "slideshow": {
     "slide_type": "fragment"
    }
   },
   "outputs": [],
   "source": [
    "B = np.array([ [3,1, -6.2], [2,-5,np.pi] ])\n",
    "N = np.array([ [-4, 9],[7/8, 6],[0, 0 ] ])\n",
    "Z = np.array([ [1,2, 0],[1, -2, 1],[0, 1, -4] ])\n",
    "print('B = \\n', B)\n",
    "print('N = \\n', N)\n",
    "print('Z = \\n', Z)"
   ]
  },
  {
   "cell_type": "markdown",
   "metadata": {
    "slideshow": {
     "slide_type": "slide"
    }
   },
   "source": [
    "The matrix transpose just requires `.T` - like this"
   ]
  },
  {
   "cell_type": "code",
   "execution_count": null,
   "metadata": {
    "slideshow": {
     "slide_type": "fragment"
    }
   },
   "outputs": [],
   "source": [
    "print('B.T = \\n', B.T)\n",
    "print('N.T = \\n', N.T)\n",
    "print('Z.T = \\n', Z.T)"
   ]
  },
  {
   "cell_type": "markdown",
   "metadata": {
    "slideshow": {
     "slide_type": "fragment"
    }
   },
   "source": [
    "These agree with what we had earlier,\n",
    "\n",
    "$$\n",
    "\\boldsymbol{B}^T = \\left(\\begin{array}{rr}\n",
    "3    &  2 \\\\\n",
    "1    & -5 \\\\\n",
    "-6.2 & \\pi\n",
    "\\end{array}\\right),\n",
    "\\qquad\n",
    "\\boldsymbol{N}^T = \\left(\\begin{array}{rrr}\n",
    "-4 & \\frac{7}{8} & 0 \\\\\n",
    " 9  & 6 & 0\n",
    "\\end{array}\\right),\n",
    "\\qquad\n",
    "\\boldsymbol{Z}^T = \\left(\\begin{array}{rrr}\n",
    "1 &  1 & 0 \\\\\n",
    "2 & -2 & 1 \\\\\n",
    "0 &  1 & -4\n",
    "\\end{array}\\right).\n",
    "$$\n",
    "\n"
   ]
  },
  {
   "cell_type": "markdown",
   "metadata": {
    "slideshow": {
     "slide_type": "slide"
    }
   },
   "source": [
    "## Addition and Subtraction\n",
    "\n",
    "Matrices of the same dimension, or *shape,* can be added or subtracted\n",
    "as in,\n",
    "\n",
    "$$\n",
    "\\boldsymbol{B}-\\boldsymbol{N}^T =  \n",
    "\\left(\\begin{array}{rrr}\n",
    "3 & 1 & -6.2 \\\\\n",
    "2 & -5 & \\pi\n",
    "\\end{array}\\right)\n",
    "-\n",
    "\\left(\\begin{array}{rrr}\n",
    "-4 & \\frac{7}{8} & 0 \\\\\n",
    " 9  & 6 & 0\n",
    "\\end{array}\\right)\n",
    "=\n",
    "\\left(\\begin{array}{rrr}\n",
    " 7 & \\frac{1}{8} & -6.2 \\\\\n",
    "-7& -11 & \\pi\n",
    "\\end{array}\\right)\n",
    "$$\n",
    "\n",
    "and\n",
    "\n",
    "$$\n",
    "\\boldsymbol{Y}=\\boldsymbol{Z}+\\boldsymbol{Z}^T =\n",
    "\\left(\\begin{array}{rrr}\n",
    "1 &  2 & 0 \\\\\n",
    "1 & -2 & 1 \\\\\n",
    "0 &  1 & -4\n",
    "\\end{array}\\right)\n",
    "+\n",
    "\\left(\\begin{array}{rrr}\n",
    "1 &  1 & 0 \\\\\n",
    "2 & -2 & 1 \\\\\n",
    "0 &  1 & -4\n",
    "\\end{array}\\right)\n",
    "=\n",
    "\\left(\\begin{array}{rrr}\n",
    "2 &  3 & 0 \\\\\n",
    "3 & -4 & 2 \\\\\n",
    "0 &  2 & -8\n",
    "\\end{array}\\right)\n",
    "$$\n",
    "\n",
    "This can be done in `numpy` exactly as expected..."
   ]
  },
  {
   "cell_type": "code",
   "execution_count": null,
   "metadata": {
    "slideshow": {
     "slide_type": "fragment"
    }
   },
   "outputs": [],
   "source": [
    "print('B-N.T = \\n', B-N.T)\n",
    "Y = Z+Z.T\n",
    "print('Y = \\n', Y)"
   ]
  },
  {
   "cell_type": "markdown",
   "metadata": {
    "slideshow": {
     "slide_type": "slide"
    }
   },
   "source": [
    "## Symmetry\n",
    "\n",
    "Notice that $\\boldsymbol{Y}=\\boldsymbol{Y}^T$. \n",
    "This means for example that\n",
    "$\\boldsymbol{Y}-\\boldsymbol{Y}^T=\\boldsymbol{0}$ - the zero matrix."
   ]
  },
  {
   "cell_type": "code",
   "execution_count": null,
   "metadata": {
    "slideshow": {
     "slide_type": "fragment"
    }
   },
   "outputs": [],
   "source": [
    "print('Y = \\n', Y)\n",
    "print('Y.T = \\n', Y.T)\n",
    "print('Y-Y.T = \\n', Y-Y.T)"
   ]
  },
  {
   "cell_type": "markdown",
   "metadata": {
    "slideshow": {
     "slide_type": "slide"
    }
   },
   "source": [
    "Matrices which have this\n",
    "property are called *symmetric* - and this alludes to a reflection in\n",
    "the *leading diagonal*, that runs from top left to bottom right. We can\n",
    "also see that\n",
    "\n",
    "$$\n",
    "\\boldsymbol{Y}^T=(\\boldsymbol{Z}+\\boldsymbol{Z}^T)^T\n",
    "=\\boldsymbol{Z}^T+(\\boldsymbol{Z}^T)^T\n",
    "=\\boldsymbol{Z}^T+\\boldsymbol{Z}=\\boldsymbol{Y}\n",
    "$$\n",
    "\n",
    "and so adding a square matrix to its own transpose always produces a\n",
    "symmetric matrix. Some writers reserve vertically symmetric letters,\n",
    "such as $\\boldsymbol{A},\\boldsymbol{H},…$ for symmetric matrices, and\n",
    "non-symmetric letters, such as $\\boldsymbol{B},\\boldsymbol{K},…$, for\n",
    "non-symmetric matrices. We'll do this when it's practical.\n",
    "\n",
    "> **THINK ABOUT:** Must a symmetric matrix be square? Can you add a\n",
    "> non-square matrix to its own transpose? If\n",
    "> $\\boldsymbol{L}=\\boldsymbol{K}+\\boldsymbol{P}$ then what is\n",
    "> $\\boldsymbol{L}-\\boldsymbol{P}$ equal to?"
   ]
  },
  {
   "cell_type": "markdown",
   "metadata": {
    "slideshow": {
     "slide_type": "slide"
    }
   },
   "source": [
    "## Matrix Multiplication by a Scalar\n",
    "\n",
    "Matrices can be multiplied by a scalar: we just have to multiply every\n",
    "entry by that scalar. For example, for the matrix $\\boldsymbol{B}$ given\n",
    "above, we could say $\\boldsymbol{C}=2\\boldsymbol{B}$ so that,\n",
    "\n",
    "$$\n",
    "\\boldsymbol{C}\n",
    "=\n",
    "2\\boldsymbol{B}\n",
    "=\n",
    "2\\left(\\begin{array}{rrr}\n",
    "3 & 1 & -6.2 \\\\\n",
    "2 & -5 & \\pi\n",
    "\\end{array}\\right)\n",
    "= \\left(\\begin{array}{rrr}\n",
    "6 & 2 & -12.4 \\\\\n",
    "4 & -10 & 2\\pi\n",
    "\\end{array}\\right).\n",
    "$$\n",
    "\n",
    "And, with `numpy` ..."
   ]
  },
  {
   "cell_type": "code",
   "execution_count": null,
   "metadata": {
    "slideshow": {
     "slide_type": "fragment"
    }
   },
   "outputs": [],
   "source": [
    "C = 2*B\n",
    "print('C = \\n', C)"
   ]
  },
  {
   "cell_type": "markdown",
   "metadata": {
    "slideshow": {
     "slide_type": "slide"
    }
   },
   "source": [
    "## The vector dot, scalar or inner product\n",
    "\n",
    "Before we discuss how to maultiply a matrix by a nmatrix we need to go back to \n",
    "vectors and introduce the *vector dot, scalar or inner product*.\n",
    "\n",
    "Here it is:\n",
    "\n",
    "$$\n",
    "\\text{if }\n",
    "\\boldsymbol{a} = \\left(\\begin{array}{r}\n",
    "3\\\\ -2\\\\ 1\n",
    "\\end{array}\\right)\n",
    "\\text{ and }\n",
    "\\boldsymbol{p} = \\left(\\begin{array}{r}\n",
    "5\\\\ 2\\\\ -10\n",
    "\\end{array}\\right)\n",
    "$$\n",
    "\n",
    "then the inner product is formed like this,\n",
    "\n",
    "$$\n",
    "(\\boldsymbol{a},\\boldsymbol{p}) =\n",
    "\\boldsymbol{a}\\cdot\\boldsymbol{p} =\n",
    "(3\\times 5) + (-2 \\times 2) + (1\\times -10)\n",
    "= 15 -4 -10 = 1.\n",
    "$$\n",
    "\n",
    "The pattern is: multiply each pair of components together and add all of\n",
    "the results up. The result only *exists* if the two vectors are of the\n",
    "same dimension.\n",
    "\n",
    "Note that both of the notations $(\\boldsymbol{a},\\boldsymbol{p})$ and \n",
    "$\\boldsymbol{a}\\cdot\\boldsymbol{p}$ are in popular use.\n",
    "\n",
    "We will use both of them. This is called the **inner product**, the\n",
    "**scalar product** or the ***dot product***. We'll use all of terms\n",
    "interchangably."
   ]
  },
  {
   "cell_type": "markdown",
   "metadata": {
    "slideshow": {
     "slide_type": "slide"
    }
   },
   "source": [
    "The inner, or scalar, or dot, product is going to be **very important**\n",
    "so let's look a bit more closely. If two vectors are the same size,\n",
    "$\\boldsymbol{u}, \\boldsymbol{v}\\in\\mathbb{R}^n$ for some positive\n",
    "integer $n$, then their scalar, or dot, product is the real number given\n",
    "by the following pattern,\n",
    "\n",
    "$$\n",
    "(\\boldsymbol{u},\\boldsymbol{v})\n",
    "=\n",
    "\\boldsymbol{u}\\cdot\\boldsymbol{v}\n",
    "=\n",
    "\\boldsymbol{u}^T\\boldsymbol{v}\n",
    "=\n",
    "\\left(\\begin{array}{r}\n",
    "u_1\\\\ u_2\\\\ \\vdots \\\\ u_n\n",
    "\\end{array}\\right)^T\n",
    "\\left(\\begin{array}{r}\n",
    "v_1\\\\ v_2\\\\ \\vdots \\\\ v_n\n",
    "\\end{array}\\right)\n",
    "=\n",
    "\\left(u_1\\ u_2\\ \\cdots \\ u_n\\right)\n",
    "\\left(\\begin{array}{r}\n",
    "v_1\\\\ v_2\\\\ \\vdots \\\\ v_n\n",
    "\\end{array}\\right)\n",
    "=\n",
    "u_1 v_2 + u_2 v_2 + \\cdots + u_n v_n.\n",
    "$$\n",
    "\n",
    "By using the tranpose, we see that we move horizontally along the left\n",
    "hand vector, and vertically down the right hand one, multiplying as we\n",
    "go, and adding up the results.\n",
    "\n",
    "> **THINK ABOUT:** Is\n",
    "> $\\boldsymbol{u}\\cdot\\boldsymbol{v}=\\boldsymbol{v}\\cdot\\boldsymbol{u}$?\n",
    "> What is $\\boldsymbol{u}\\cdot\\boldsymbol{u}$? How is\n",
    "> $\\boldsymbol{u}\\cdot\\boldsymbol{u}$ connected to\n",
    "> $\\Vert\\boldsymbol{u}\\Vert_2^2$? Write $\\Vert\\boldsymbol{u}\\Vert_2$ in\n",
    "> terms of $\\boldsymbol{u}^T\\boldsymbol{u}$."
   ]
  },
  {
   "cell_type": "markdown",
   "metadata": {
    "slideshow": {
     "slide_type": "slide"
    }
   },
   "source": [
    "If we think of each of two vectors\n",
    "$\\boldsymbol{u},\\boldsymbol{v}\\in\\mathbb{R}^n$ as arrows pointing out\n",
    "from the origin, then we can think of the angle\n",
    "between those arrows.\n",
    "\n",
    "Let this angle be denoted by $\\theta$, then it can be shown that\n",
    "\n",
    "$$\n",
    "\\boldsymbol{u}\\cdot\\boldsymbol{v}\n",
    "=\n",
    "\\Vert\\boldsymbol{u}\\Vert_2\\, \\Vert\\boldsymbol{v}\\Vert_2\\,\\cos(\\theta)\n",
    "$$\n",
    "\n",
    "Remeber that $\\boldsymbol{u}\\cdot\\boldsymbol{v}$,\n",
    "$\\boldsymbol{u}^T\\boldsymbol{v}$ and $(\\boldsymbol{u},\\boldsymbol{v})$\n",
    "all mean the same thing. **The last IS NOT a coordinate pair!**\n",
    "\n",
    "**EXERCISE:** draw the vectors $\\boldsymbol{u}=(5, 0)^T$ and $\\boldsymbol{v}=(2, 2)^T$\n",
    "emanating from the origin of $\\mathbb{R}^2$. What is the angle between them? Verify the\n",
    "formula above."
   ]
  },
  {
   "cell_type": "code",
   "execution_count": null,
   "metadata": {
    "slideshow": {
     "slide_type": "fragment"
    }
   },
   "outputs": [],
   "source": [
    "u = np.array([5,0])\n",
    "v = np.array([2,2])\n",
    "costheta = u.dot(v) / ( np.linalg.norm(u)* np.linalg.norm(v) )\n",
    "theta = np.arccos(costheta)\n",
    "print('The angle theta = ', theta, ' radians')\n",
    "print('The angle theta = ', 180*theta/np.pi, ' degrees')"
   ]
  },
  {
   "cell_type": "markdown",
   "metadata": {
    "slideshow": {
     "slide_type": "slide"
    }
   },
   "source": [
    "$$\n",
    "\\boldsymbol{u}\\cdot\\boldsymbol{v}\n",
    "=\n",
    "\\Vert\\boldsymbol{u}\\Vert_2\\, \\Vert\\boldsymbol{v}\\Vert_2\\,\\cos(\\theta)\n",
    "$$\n",
    "\n",
    "> **THINK ABOUT:** Recalling that $-1 \\le \\cos\\theta \\le 1$, can you see\n",
    "> that\n",
    "> $-\\Vert\\boldsymbol{u}\\Vert_2\\, \\Vert\\boldsymbol{v}\\Vert_2 \\le \\boldsymbol{u}\\cdot\\boldsymbol{v} \\le \\Vert\\boldsymbol{u}\\Vert_2\\, \\Vert\\boldsymbol{v}\\Vert_2$?\n",
    "> Can you conclude that\n",
    "> $\\vert \\boldsymbol{u}\\cdot\\boldsymbol{v} \\vert \\le \\Vert\\boldsymbol{u}\\Vert_2\\, \\Vert\\boldsymbol{v}\\Vert_2$?\n",
    "> This result is called the **Cauchy-Schwarz inequality**.\n",
    "\n",
    "If two vectors are at right angles to each other then $\\cos\\theta = 0$\n",
    "and $\\boldsymbol{u}\\cdot\\boldsymbol{v}=0$. The vectors are then said to\n",
    "be **orthogonal**. If, in addition to being orthogonal the vectors have\n",
    "unit Pythagorean length, so that\n",
    "$\\Vert\\boldsymbol{u}\\Vert_2 = \\Vert\\boldsymbol{v}\\Vert_2 =1$, then the\n",
    "vectors are said to be *orthonormal*.\n",
    "\n",
    "For further and deeper information on vectors you can consult Chapter 4\n",
    "of the introductory level text {FCLA},\n",
    "<https://math.libretexts.org/Bookshelves/Linear_Algebra/A_First_Course_in_Linear_Algebra_(Kuttler)/04%3A_R>.\n",
    "A more sophisticated mathematical treatment of the subject can be found\n",
    "in Chapters 2 and 3 of {MML}, <https://mml-book.github.io>.\n",
    "\n",
    "We can imagine stacking vectors next to each other side-by-side. Doing this produces\n",
    "tables of numbers - and they are what we are seeing as matrices.\n",
    "\n",
    "The dot product is the key to matrix multiplication."
   ]
  },
  {
   "cell_type": "markdown",
   "metadata": {
    "slideshow": {
     "slide_type": "slide"
    }
   },
   "source": [
    "## Matrix Multiplication\n",
    "\n",
    "Matrices can be multiplied together provided that they are of compatible\n",
    "shape. The process uses the same pattern as the inner (or scalar, or\n",
    "dot) product of vectors. We go along the rows on the left and down the\n",
    "columns on the right. For example:\n",
    "\n",
    "$$\n",
    "\\text{if }\n",
    "\\boldsymbol{J} = \\left(\\begin{array}{rr}\n",
    "3 & 4\\\\ 2 & 1\n",
    "\\end{array}\\right)\n",
    "\\text{ and } \n",
    "\\boldsymbol{L} = \\left(\\begin{array}{rrr}\n",
    "1 & 5 & -7\\\\ -3 & -4 & 0\n",
    "\\end{array}\\right)\n",
    "\\text{ then }\n",
    "\\boldsymbol{J}\\boldsymbol{L} = \\left(\\begin{array}{rrr}\n",
    "-9 & -1 & -21 \\\\ -1 & 6 & -14\n",
    "\\end{array}\\right)\n",
    "$$\n",
    "\n",
    "To see how this happens, lay the entire calculation out in detail like\n",
    "this,\n",
    "\n",
    "$$\n",
    "\\left(\\begin{array}{rr}\n",
    "3 & 4\\\\ 2 & 1\n",
    "\\end{array}\\right)\n",
    "\\left(\\begin{array}{rrr}\n",
    "1 & 5 & -7\\\\ -3 & -4 & 0\n",
    "\\end{array}\\right)\n",
    " = \\left(\\begin{array}{rrr}\n",
    "-9 & -1 & -21 \\\\ -1 & 6 & -14\n",
    "\\end{array}\\right)\n",
    "$$\n",
    "\n",
    "and think about using the inner product for each row on the left of the\n",
    "product, $\\boldsymbol{J}$, and each column on the right of the product,\n",
    "$\\boldsymbol{L}$.\n",
    "\n",
    "Your choice of row in $\\boldsymbol{J}$ will give the results in that row\n",
    "on the right of the $=$ sign, and your choice of column in\n",
    "$\\boldsymbol{L}$ will give the results in that column on the right of\n",
    "the $=$ sign."
   ]
  },
  {
   "cell_type": "markdown",
   "metadata": {
    "slideshow": {
     "slide_type": "slide"
    }
   },
   "source": [
    "$$\n",
    "\\boldsymbol{J}\\boldsymbol{L} = \n",
    "\\left(\\begin{array}{rr}\n",
    "3 & 4\\\\ 2 & 1\n",
    "\\end{array}\\right)\n",
    "\\left(\\begin{array}{rrr}\n",
    "1 & 5 & -7\\\\ -3 & -4 & 0\n",
    "\\end{array}\\right)\n",
    " = \\left(\\begin{array}{rrr}\n",
    "-9 & -1 & -21 \\\\ -1 & 6 & -14\n",
    "\\end{array}\\right)\n",
    "$$\n",
    "\n",
    "For example, to get the $-1$ in row 1 and column 2 we see that it comes\n",
    "from the dot product pattern applied to the row 1 of $\\boldsymbol{J}$\n",
    "and column 2 of $\\boldsymbol{L}$, like so\n",
    "\n",
    "$$\n",
    "\\left(\\begin{array}{rr}\n",
    "3 & 4\\\\ \\cdot & \\cdot\n",
    "\\end{array}\\right)\n",
    "\\left(\\begin{array}{rrr}\n",
    "\\cdot & 5 & \\cdot\\\\ \\cdot & -4 & \\cdot\n",
    "\\end{array}\\right)\n",
    "= \\left(\\begin{array}{rrr}\n",
    "\\cdot & (3\\times 5+4\\times -4) & \\cdot \\\\ \\cdot & \\cdot & \\cdot\n",
    "\\end{array}\\right)\n",
    "= \\left(\\begin{array}{ccc}\n",
    "\\cdot & -1 & \\cdot \\\\ \\cdot & \\cdot & \\cdot\n",
    "\\end{array}\\right)\n",
    "$$\n",
    "\n",
    "Here is another way to see it,\n",
    "\n",
    "$$\n",
    "\\left(\\begin{array}{rr}\n",
    "\\rightarrow & \\rightarrow\\\\ \\cdot & \\cdot\n",
    "\\end{array}\\right)\n",
    "\\left(\\begin{array}{rrr}\n",
    "\\cdot & \\downarrow & \\cdot\\\\ \\cdot & \\downarrow & \\cdot\n",
    "\\end{array}\\right)\n",
    "= \\left(\\begin{array}{ccc}\n",
    "\\cdot & \\times & \\cdot \\\\ \\cdot & \\cdot & \\cdot\n",
    "\\end{array}\\right)\n",
    "$$\n",
    "\n",
    "Notice that we can only form the product $\\boldsymbol{J}\\boldsymbol{L}$\n",
    "if the number of columns in $\\boldsymbol{J}$ equals the number of rows\n",
    "in $\\boldsymbol{L}$. If this isn't the case then we say that\n",
    "$\\boldsymbol{J}\\boldsymbol{L}$ **doesn't exist**."
   ]
  },
  {
   "cell_type": "markdown",
   "metadata": {
    "slideshow": {
     "slide_type": "slide"
    }
   },
   "source": [
    "> **THINK ABOUT:** Note that $\\boldsymbol{J}\\boldsymbol{L}$ might\n",
    "exist when $\\boldsymbol{L}\\boldsymbol{J}$ doesn't. For this reason\n",
    "we always need to say whether we are **pre-multiplying** or\n",
    "**post-multiplying**. Then pre-multiplying $\\boldsymbol{L}$\n",
    "by $\\boldsymbol{J}$ gives $\\boldsymbol{J}\\boldsymbol{L}$ while\n",
    "post-multipying gives $\\boldsymbol{L}\\boldsymbol{J}$ (if these products exist).\n",
    "\n",
    "> **THINK ABOUT:** Given a matrix $\\boldsymbol{C}$, can we always form\n",
    "> $\\boldsymbol{C}^2 = \\boldsymbol{C}\\boldsymbol{C}$? What about\n",
    "> $\\boldsymbol{C}^3$, or $\\boldsymbol{C}^4$ and so on? What about if\n",
    "> $\\boldsymbol{C}$ is square?\n",
    "\n",
    "> **THINK ABOUT:** Suppose that $\\boldsymbol{J}\\boldsymbol{L}$ exists.\n",
    "> If $\\boldsymbol{J}$ has $p$ rows and $\\boldsymbol{L}$ has $q$ columns,\n",
    "> then what is the *dimension*, or *shape*, of\n",
    "> $\\boldsymbol{J}\\boldsymbol{L}$?\n",
    "\n",
    "> **THINK ABOUT:** Given non-square matrices $\\boldsymbol{P}$\n",
    "> and $\\boldsymbol{Q}$ for which $\\boldsymbol{P}\\boldsymbol{Q}$ exists.\n",
    "> Does $\\boldsymbol{Q}\\boldsymbol{P}$ exist? Create two such matrices\n",
    "> and form $(\\boldsymbol{P}\\boldsymbol{Q})^T$ and\n",
    "> $\\boldsymbol{Q}^T\\boldsymbol{P}^T$. What do you find? Do you think\n",
    "> this is always true?"
   ]
  },
  {
   "cell_type": "markdown",
   "metadata": {
    "slideshow": {
     "slide_type": "slide"
    }
   },
   "source": [
    "## Code for matrix multiplication \n",
    "\n",
    "Recall that\n",
    "\n",
    "$$\n",
    "\\text{if }\n",
    "\\boldsymbol{J} = \\left(\\begin{array}{rr}\n",
    "3 & 4\\\\ 2 & 1\n",
    "\\end{array}\\right)\n",
    "\\text{ and } \n",
    "\\boldsymbol{L} = \\left(\\begin{array}{rrr}\n",
    "1 & 5 & -7\\\\ -3 & -4 & 0\n",
    "\\end{array}\\right)\n",
    "\\text{ then }\n",
    "\\boldsymbol{J}\\boldsymbol{L} = \\left(\\begin{array}{rrr}\n",
    "-9 & -1 & -21 \\\\ -1 & 6 & -14\n",
    "\\end{array}\\right)\n",
    "$$\n",
    "\n",
    "To do this with `numpy` we use the `dot` method as follows: "
   ]
  },
  {
   "cell_type": "code",
   "execution_count": null,
   "metadata": {
    "slideshow": {
     "slide_type": "fragment"
    }
   },
   "outputs": [],
   "source": [
    "J = np.array([[3, 4],[2, 1]])\n",
    "L = np.array([[1, 5, -7],[-3, -4, 0]])\n",
    "print('JL = \\n', J.dot(L))"
   ]
  },
  {
   "cell_type": "markdown",
   "metadata": {
    "slideshow": {
     "slide_type": "fragment"
    }
   },
   "source": [
    "An alternative is to use `np.dot(J,L)` like this,"
   ]
  },
  {
   "cell_type": "code",
   "execution_count": null,
   "metadata": {
    "slideshow": {
     "slide_type": "fragment"
    }
   },
   "outputs": [],
   "source": [
    "print('JL = \\n', np.dot(J,L))"
   ]
  },
  {
   "cell_type": "markdown",
   "metadata": {
    "slideshow": {
     "slide_type": "slide"
    }
   },
   "source": [
    "**BUT:** *what we must not do is this:* `J*L`. This will give an error\n",
    "Try it: use this `print('JL = \\n', J*L)` for example.\n",
    "\n",
    "To see what an expression like this does consider these matrices,\n",
    "\n",
    "$$\n",
    "\\text{if }\n",
    "\\boldsymbol{J} = \\left(\\begin{array}{rr}\n",
    "3 & 4\\\\ 2 & 1\n",
    "\\end{array}\\right)\n",
    "\\text{ and } \n",
    "\\boldsymbol{K} = \\left(\\begin{array}{rrr}\n",
    "1 & 5 \\\\ -3 & -4\n",
    "\\end{array}\\right)\n",
    "\\text{ then }\n",
    "\\boldsymbol{J}\\boldsymbol{K} = \\left(\\begin{array}{rrr}\n",
    "-9 & -1 \\\\ -1 & 6\n",
    "\\end{array}\\right)\n",
    "$$\n",
    "\n",
    "With `numpy` this is,"
   ]
  },
  {
   "cell_type": "code",
   "execution_count": null,
   "metadata": {
    "slideshow": {
     "slide_type": "fragment"
    }
   },
   "outputs": [],
   "source": [
    "K = np.array([[1, 5],[-3, -4]])\n",
    "print('JK = \\n', J.dot(K))"
   ]
  },
  {
   "cell_type": "markdown",
   "metadata": {
    "slideshow": {
     "slide_type": "fragment"
    }
   },
   "source": [
    "which should not be a surprise. Now let's see what `J*K` is... "
   ]
  },
  {
   "cell_type": "code",
   "execution_count": null,
   "metadata": {
    "slideshow": {
     "slide_type": "fragment"
    }
   },
   "outputs": [],
   "source": [
    "print('JK = \\n', J*K)"
   ]
  },
  {
   "cell_type": "markdown",
   "metadata": {
    "slideshow": {
     "slide_type": "fragment"
    }
   },
   "source": [
    "What just happened? Can you figure it out?\n",
    "\n",
    "**BE CAREFUL** of this - it can cause errors (bugs) that are hard to spot."
   ]
  },
  {
   "cell_type": "markdown",
   "metadata": {
    "slideshow": {
     "slide_type": "slide"
    }
   },
   "source": [
    "> **THINK ABOUT:** is there a mathematical notation for this type of product?\n",
    "> This is called *elementwise* multiplication - why? \n",
    "> Look up *Hadamard Product* - is it related?"
   ]
  },
  {
   "cell_type": "markdown",
   "metadata": {
    "slideshow": {
     "slide_type": "slide"
    }
   },
   "source": [
    "## Notation\n",
    "\n",
    "It is useful to be able to refer to the *elements* in a vector or a\n",
    "matrix in a generic way. We do this with subscripts.\n",
    "\n",
    "Given an $n$-dimensional vector $\\boldsymbol{v}\\in\\mathbb{R}^n$, we\n",
    "refer to the value in position $j$ as $v_j$.\n",
    "\n",
    "Similarly, given an $m\\times n$-dimensional matrix\n",
    "$\\boldsymbol{R}\\in\\mathbb{R}^{m,n}$, we refer to the value in row $i$,\n",
    "column $j$ as $r_{ij}$ (or when confusion might arise, as $r_{i,j}$).\n",
    "\n",
    "For example,\n",
    "\n",
    "$$\n",
    "\\text{if }\n",
    "\\boldsymbol{b} = \\left(\\begin{array}{r}\n",
    "6 \\\\ -3 \\\\ 2.5 \\\\ -1 \\\\ 0\n",
    "\\end{array}\\right)\n",
    "\\text{ and }\n",
    "\\boldsymbol{N}^T = \\left(\\begin{array}{rrr}\n",
    "-4 & 7/8 & 0 \\\\\n",
    " 9  & 6 & 0\n",
    "\\end{array}\\right),\n",
    "$$\n",
    "\n",
    "Then $b_4 = -1$ and $N_{1,2} = 7/8$.\n",
    "\n",
    "> **THINK ABOUT** indices start at zero in `numpy` so $N_{15}$ in maths\n",
    "becomes `N[0,4]` in code. **Be Careful!** this can be confusing."
   ]
  },
  {
   "cell_type": "markdown",
   "metadata": {
    "slideshow": {
     "slide_type": "slide"
    }
   },
   "source": [
    "## The Matrix-Vector Product\n",
    "\n",
    "This is a partcularly important form of matrix-matrix multiplication.\n",
    "\n",
    "A column vector is no more than a matrix with one column. This means\n",
    "that we can multiply matrices and vectors providing they are of\n",
    "compatible dimension. A particularly important case is the\n",
    "*matrix-vector product* of the form\n",
    "$\\boldsymbol{B}\\boldsymbol{u}=\\boldsymbol{f}$. For example,\n",
    "\n",
    "$$\n",
    "\\text{if }\n",
    "\\boldsymbol{B}\n",
    "= \\left(\\begin{array}{rrr}\n",
    " 3 & -2 & 4 \\\\\n",
    "-6 & 6 & -11 \\\\\n",
    " 6 & 2 & 5 \\\\\n",
    "\\end{array}\\right)\n",
    "\\text{ and }\n",
    "\\boldsymbol{u}\n",
    "= \\left(\\begin{array}{rrr}\n",
    "2 \\\\ 0 \\\\ -1\n",
    "\\end{array}\\right)\n",
    "\\text{ then }\n",
    "\\boldsymbol{f}\n",
    "= \\left(\\begin{array}{rrr}\n",
    "2 \\\\ -1 \\\\ 7\n",
    "\\end{array}\\right)\n",
    "$$\n",
    "\n",
    "because\n",
    "\n",
    "$$\n",
    "\\boldsymbol{B}\\boldsymbol{u}\n",
    "= \\left(\\begin{array}{rrr}\n",
    " 3 & -2 & 4 \\\\\n",
    "-6 & 6 & -11 \\\\\n",
    " 6 & 2 & 5 \\\\\n",
    "\\end{array}\\right)\n",
    "\\left(\\begin{array}{rrr}\n",
    "2 \\\\ 0 \\\\ -1\n",
    "\\end{array}\\right)\n",
    "=\n",
    "\\left(\\begin{array}{rrr}\n",
    "2 \\\\ -1 \\\\ 7\n",
    "\\end{array}\\right).\n",
    "$$\n",
    "\n",
    "Let's verify this with `numpy`..."
   ]
  },
  {
   "cell_type": "markdown",
   "metadata": {
    "slideshow": {
     "slide_type": "slide"
    }
   },
   "source": [
    "$$\n",
    "\\boldsymbol{B}\\boldsymbol{u}\n",
    "= \\left(\\begin{array}{rrr}\n",
    " 3 & -2 & 4 \\\\\n",
    "-6 & 6 & -11 \\\\\n",
    " 6 & 2 & 5 \\\\\n",
    "\\end{array}\\right)\n",
    "\\left(\\begin{array}{rrr}\n",
    "2 \\\\ 0 \\\\ -1\n",
    "\\end{array}\\right)\n",
    "=\n",
    "\\left(\\begin{array}{rrr}\n",
    "2 \\\\ -1 \\\\ 7\n",
    "\\end{array}\\right).\n",
    "$$"
   ]
  },
  {
   "cell_type": "code",
   "execution_count": null,
   "metadata": {
    "slideshow": {
     "slide_type": "fragment"
    }
   },
   "outputs": [],
   "source": [
    "B = np.array( [[3, -2, 4],[-6, 6, -11],[ 6, 2, 5 ]])\n",
    "u = np.array([[2], [0], [-1]])\n",
    "f = B.dot(u)\n",
    "print('f = \\n', f) "
   ]
  },
  {
   "cell_type": "markdown",
   "metadata": {
    "slideshow": {
     "slide_type": "slide"
    }
   },
   "source": [
    "## The Matrix Inverse\n",
    "\n",
    "A way to build on the previous calculation is to remember that for\n",
    "'ordinary' (scalar) variables $b$, $u$ and $f$, if we have $bu=f$ then\n",
    "if $b\\ne 0$ we can multiply both sides by $b^{-1}$ and get\n",
    "$b^{-1}b u = b^{-1}f$. Of course, this is just $u=f/b$, and it works\n",
    "because $b^{-1}b=1$.\n",
    "\n",
    "For matrices we can imagine doing the same thing. If\n",
    "$\\boldsymbol{B}\\boldsymbol{u}=\\boldsymbol{f}$ we might hope to be able\n",
    "to write $\\boldsymbol{u}=\\boldsymbol{B}^{-1}\\boldsymbol{f}$. If we knew\n",
    "$\\boldsymbol{B}$ and $\\boldsymbol{f}$ this would then allow us to find\n",
    "$\\boldsymbol{u}=\\boldsymbol{B}^{-1}\\boldsymbol{f}$.\n",
    "\n",
    "The situation is quite complicated. First note that\n",
    "\n",
    "$$\n",
    "\\frac{1}{36}\\left(\\begin{array}{rrr}\n",
    " 52 &  18 & -2 \\\\\n",
    "-36 & -9 &   9 \\\\\n",
    "-48 & -18 &  6\n",
    "\\end{array}\\right)\n",
    "\\left(\\begin{array}{rrr}\n",
    " 3 & -2 & 4 \\\\\n",
    "-6 & 6 & -11 \\\\\n",
    " 6 & 2 & 5 \\\\\n",
    "\\end{array}\\right)\n",
    "=\n",
    "\\frac{1}{36}\n",
    "\\left(\\begin{array}{rrr}\n",
    "36 &  0 &  0 \\\\\n",
    " 0 & 36 &  0 \\\\\n",
    " 0 &  0 & 36\\\\\n",
    "\\end{array}\\right)\n",
    "=\n",
    "\\left(\\begin{array}{rrr}\n",
    "1 & 0 & 0 \\\\\n",
    "0 & 1 & 0 \\\\\n",
    "0 & 0 & 1 \\\\\n",
    "\\end{array}\\right).\n",
    "$$\n",
    "\n",
    "This calculation also illustrates the general rule given above that if\n",
    "we multiply a matrix by a scalar then we should multiply every value in\n",
    "that matrix by that scalar."
   ]
  },
  {
   "cell_type": "markdown",
   "metadata": {
    "slideshow": {
     "slide_type": "slide"
    }
   },
   "source": [
    "$$\n",
    "\\frac{1}{36}\\left(\\begin{array}{rrr}\n",
    " 52 &  18 & -2 \\\\\n",
    "-36 & -9 &   9 \\\\\n",
    "-48 & -18 &  6\n",
    "\\end{array}\\right)\n",
    "\\left(\\begin{array}{rrr}\n",
    " 3 & -2 & 4 \\\\\n",
    "-6 & 6 & -11 \\\\\n",
    " 6 & 2 & 5 \\\\\n",
    "\\end{array}\\right)\n",
    "=\n",
    "\\frac{1}{36}\n",
    "\\left(\\begin{array}{rrr}\n",
    "36 &  0 &  0 \\\\\n",
    " 0 & 36 &  0 \\\\\n",
    " 0 &  0 & 36\\\\\n",
    "\\end{array}\\right)\n",
    "=\n",
    "\\left(\\begin{array}{rrr}\n",
    "1 & 0 & 0 \\\\\n",
    "0 & 1 & 0 \\\\\n",
    "0 & 0 & 1 \\\\\n",
    "\\end{array}\\right).\n",
    "$$\n",
    "\n",
    "The matrix on the right is called the identity matrix. Here it is\n",
    "three-by-three but such a square matrix exists for every dimension. It\n",
    "is always zero everywhere except for unit entries on the leading diagonal."
   ]
  },
  {
   "cell_type": "markdown",
   "metadata": {
    "slideshow": {
     "slide_type": "fragment"
    }
   },
   "source": [
    "The identity matrix is, for us, always denoted by $\\boldsymbol{I}$ and\n",
    "in matrix theory plays the role of $1$. So, by analogy with $b^{-1}b=1$\n",
    "above, the above calculation suggests\n",
    "$\\boldsymbol{B}^{-1}\\boldsymbol{B}=\\boldsymbol{I}$ where\n",
    "\n",
    "$$\n",
    "\\boldsymbol{B}^{-1} =\n",
    "\\frac{1}{36}\\left(\\begin{array}{rrr}\n",
    " 52 &  18 & -2 \\\\\n",
    "-36 & -9 &   9 \\\\\n",
    "-48 & -18 &  6\n",
    "\\end{array}\\right).\n",
    "$$\n",
    "\n",
    "In this expression $36$ is the value of the *determinant* of\n",
    "$\\boldsymbol{B}$. If this value were zero then this *inverse matrix*\n",
    "would not be defined."
   ]
  },
  {
   "cell_type": "markdown",
   "metadata": {
    "slideshow": {
     "slide_type": "slide"
    }
   },
   "source": [
    "## Determinant of a Square Matrix\n",
    "\n",
    "The determinant is a difficult quantity to define and work with. It can\n",
    "only be defined for square matrices. If $\\boldsymbol{K}$ is square\n",
    "its determinant is denoted by $\\det(\\boldsymbol{K})$.\n",
    "\n",
    "Consider first the case of a $2 \\times 2$ matrix:\n",
    "\n",
    "$$\n",
    "\\text{if }\\boldsymbol{K} = \\left(\\begin{array}{rr}\n",
    "a & b \\\\ c & d\n",
    "\\end{array}\\right)\n",
    "\\text{ then } \n",
    "\\det(\\boldsymbol{K}) = ad-bc\n",
    "\\text{ and }\n",
    "\\boldsymbol{K}^{-1} = \\frac{1}{\\det(\\boldsymbol{K})}\n",
    "\\left(\\begin{array}{rr}\n",
    "d & -b \\\\ -c & a\n",
    "\\end{array}\\right)\n",
    "$$\n",
    "\n",
    "if, and only if, $\\det(\\boldsymbol{K})\\ne 0$. You can check that for\n",
    "yourself. The more general case is far more difficult to discuss so here\n",
    "we will merely accept this general result:\n",
    "\n",
    "> **INVERSE MATRIX:** a square matrix $\\boldsymbol{K}$ is invertible if\n",
    "> and only if its determinant is non-zero. Its inverse satisfies\n",
    "> $\\boldsymbol{K}^{-1}\\boldsymbol{K}=\\boldsymbol{I}$.\n",
    "\n",
    "In practice it is usually very very difficult to check whether or not\n",
    "$\\det(\\boldsymbol{K})\\ne 0$. However, fortunately, the application area\n",
    "we are working on will often give us either a good clue, or a definite\n",
    "answer. We'll see a few examples of this as we go along."
   ]
  },
  {
   "cell_type": "markdown",
   "metadata": {
    "slideshow": {
     "slide_type": "slide"
    }
   },
   "source": [
    "> **THINK ABOUT:** Create a matrix $\\boldsymbol{P}$ for which\n",
    "> $\\boldsymbol{P}^{-1}$ exists (or use the one above) and investigate\n",
    "> how $\\boldsymbol{P}\\boldsymbol{P}^{-1}$ and\n",
    "> $\\boldsymbol{P}^{-1}\\boldsymbol{P}$ are related. Do you think this is\n",
    "> always true?\n",
    "\n",
    "> **THINK ABOUT:** Create another matrix $\\boldsymbol{Q}$ for which both\n",
    "> $\\boldsymbol{Q}\\boldsymbol{P}$ and\n",
    "> $(\\boldsymbol{Q}\\boldsymbol{P})^{-1}$ exist. How does this last\n",
    "> quantity relate to $\\boldsymbol{P}^{-1}\\boldsymbol{Q}^{-1}$? Do you\n",
    "> think this is always true?"
   ]
  },
  {
   "cell_type": "markdown",
   "metadata": {
    "slideshow": {
     "slide_type": "slide"
    }
   },
   "source": [
    "## Never do this - unless you know you need to\n",
    "\n",
    "In practice we rarely if ever need to actually obtain the inverse\n",
    "or the determinant of a matrix. \n",
    "\n",
    "If we really need them we can use `numpy` as follows... "
   ]
  },
  {
   "cell_type": "code",
   "execution_count": null,
   "metadata": {
    "slideshow": {
     "slide_type": "fragment"
    }
   },
   "outputs": [],
   "source": [
    "print('det(B) = ', np.linalg.det(B)) \n",
    "# multiply the inverse by 36 to tidy up the output...\n",
    "print('inverse of 36B = \\n', 36*np.linalg.inv(B)) \n",
    "# compare this with what we observed above."
   ]
  },
  {
   "cell_type": "markdown",
   "metadata": {
    "slideshow": {
     "slide_type": "fragment"
    }
   },
   "source": [
    "We can verify the inverse by checking that\n",
    "$\\boldsymbol{B}\\boldsymbol{B}^{-1} = \\boldsymbol{I}$ as follows,"
   ]
  },
  {
   "cell_type": "code",
   "execution_count": null,
   "metadata": {
    "slideshow": {
     "slide_type": "fragment"
    }
   },
   "outputs": [],
   "source": [
    "print('B*B^(-1) = \\n', B.dot(np.linalg.inv(B))) "
   ]
  },
  {
   "cell_type": "markdown",
   "metadata": {
    "slideshow": {
     "slide_type": "fragment"
    }
   },
   "source": [
    "Notice the *small* numbers - this isn't unusual in computing.\n",
    "The numerical precision in the processor is limited, and so\n",
    "the arithmetic is not exact. This is sometimes a problem, but usually\n",
    "not. If we enounter it as a problem, we'll discuss it."
   ]
  },
  {
   "cell_type": "markdown",
   "metadata": {
    "slideshow": {
     "slide_type": "slide"
    }
   },
   "source": [
    "We ought to check that\n",
    "$\\boldsymbol{B}^{-1}\\boldsymbol{B} = \\boldsymbol{I}$ also..."
   ]
  },
  {
   "cell_type": "code",
   "execution_count": null,
   "metadata": {
    "slideshow": {
     "slide_type": "fragment"
    }
   },
   "outputs": [],
   "source": [
    "print('B^(-1)*B = \\n', np.linalg.inv(B).dot(B)) "
   ]
  },
  {
   "cell_type": "markdown",
   "metadata": {
    "slideshow": {
     "slide_type": "slide"
    }
   },
   "source": [
    "\n",
    "## Review\n",
    "\n",
    "In the above:\n",
    "\n",
    "- we reviewed the mathematical notion of a *matrix*, and related concepts.\n",
    "- we reviewed the dot, scalar or inner product of vectors.\n",
    "- we saw how using `numpy` in `python` we could\n",
    "  - create matrices;\n",
    "  - add and subtract them, and multiply by a scalar;\n",
    "  - form matrix-vector products;\n",
    "  - form element-wise products\n",
    "\n",
    "We will be building extensively on these skills in the coming weeks.\n",
    "\n",
    "Note again that we very rarely explicitly need the inverse of a matrix \n",
    "or a matrix determinant. These can be easy to determine for small matrices,\n",
    "as we saw above, but as the matrices become larger they take a very long time\n",
    "to compute. Avoid them at all costs.\n"
   ]
  },
  {
   "cell_type": "markdown",
   "metadata": {
    "slideshow": {
     "slide_type": "skip"
    }
   },
   "source": [
    "## Technical Notes, Production and Archiving\n",
    "\n",
    "Ignore the material below. What follows is not relevant to the material being taught."
   ]
  },
  {
   "cell_type": "markdown",
   "metadata": {
    "slideshow": {
     "slide_type": "skip"
    }
   },
   "source": [
    "#### Production Workflow\n",
    "\n",
    "- Finalise the notebook material above\n",
    "- Clear and fresh run of entire notebook\n",
    "- Create html slide show:\n",
    "  - `jupyter nbconvert --to slides 5_matrices.ipynb `\n",
    "- Set `OUTPUTTING=1` below\n",
    "- Comment out the display of web-sourced diagrams\n",
    "- Clear and fresh run of entire notebook\n",
    "- Comment back in the display of web-sourced diagrams\n",
    "- Clear all cell output\n",
    "- Set `OUTPUTTING=0` below\n",
    "- Save\n",
    "- git add, commit and push to FML\n",
    "- copy PDF, HTML etc to web site\n",
    "  - git add, commit and push\n",
    "- rebuild binder"
   ]
  },
  {
   "cell_type": "markdown",
   "metadata": {
    "slideshow": {
     "slide_type": "skip"
    }
   },
   "source": [
    "Some of this originated from\n",
    "\n",
    "<https://stackoverflow.com/questions/38540326/save-html-of-a-jupyter-notebook-from-within-the-notebook>\n",
    "\n",
    "These lines create a back up of the notebook. They can be ignored.\n",
    "\n",
    "At some point this is better as a bash script outside of the notebook"
   ]
  },
  {
   "cell_type": "code",
   "execution_count": null,
   "metadata": {
    "slideshow": {
     "slide_type": "skip"
    }
   },
   "outputs": [],
   "source": [
    "%%bash\n",
    "NBROOTNAME='5_matrices'\n",
    "OUTPUTTING=0\n",
    "\n",
    "if [ $OUTPUTTING -eq 1 ]; then\n",
    "  jupyter nbconvert --to html $NBROOTNAME.ipynb\n",
    "  cp $NBROOTNAME.html ../backups/$(date +\"%m_%d_%Y-%H%M%S\")_$NBROOTNAME.html\n",
    "  mv -f $NBROOTNAME.html ./formats/html/\n",
    "\n",
    "  jupyter nbconvert --to pdf $NBROOTNAME.ipynb\n",
    "  cp $NBROOTNAME.pdf ../backups/$(date +\"%m_%d_%Y-%H%M%S\")_$NBROOTNAME.pdf\n",
    "  mv -f $NBROOTNAME.pdf ./formats/pdf/\n",
    "\n",
    "  jupyter nbconvert --to script $NBROOTNAME.ipynb\n",
    "  cp $NBROOTNAME.py ../backups/$(date +\"%m_%d_%Y-%H%M%S\")_$NBROOTNAME.py\n",
    "  mv -f $NBROOTNAME.py ./formats/py/\n",
    "else\n",
    "  echo 'Not Generating html, pdf and py output versions'\n",
    "fi"
   ]
  },
  {
   "cell_type": "code",
   "execution_count": null,
   "metadata": {},
   "outputs": [],
   "source": []
  }
 ],
 "metadata": {
  "celltoolbar": "Slideshow",
  "kernelspec": {
   "display_name": "Python 3",
   "language": "python",
   "name": "python3"
  },
  "language_info": {
   "codemirror_mode": {
    "name": "ipython",
    "version": 3
   },
   "file_extension": ".py",
   "mimetype": "text/x-python",
   "name": "python",
   "nbconvert_exporter": "python",
   "pygments_lexer": "ipython3",
   "version": "3.7.1"
  }
 },
 "nbformat": 4,
 "nbformat_minor": 4
}
