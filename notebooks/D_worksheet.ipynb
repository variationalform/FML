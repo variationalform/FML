{
 "cells": [
  {
   "cell_type": "markdown",
   "metadata": {
    "slideshow": {
     "slide_type": "slide"
    }
   },
   "source": [
    "# Worksheet D\n",
    "\n",
    "#### *variationalform* <https://variationalform.github.io/>\n",
    "\n",
    "#### *Just Enough: progress at pace*\n",
    "\n",
    "<https://variationalform.github.io/>\n",
    "\n",
    "<https://github.com/variationalform>\n",
    "\n",
    "Simon Shaw\n",
    "<https://www.brunel.ac.uk/people/simon-shaw>."
   ]
  },
  {
   "cell_type": "markdown",
   "metadata": {
    "slideshow": {
     "slide_type": "fragment"
    }
   },
   "source": [
    "<table>\n",
    "<tr>\n",
    "<td>\n",
    "<img src=\"https://mirrors.creativecommons.org/presskit/icons/cc.svg?ref=chooser-v1\" style=\"height:18px\"/>\n",
    "<img src=\"https://mirrors.creativecommons.org/presskit/icons/by.svg?ref=chooser-v1\" style=\"height:18px\"/>\n",
    "<img src=\"https://mirrors.creativecommons.org/presskit/icons/sa.svg?ref=chooser-v1\" style=\"height:18px\"/>\n",
    "</td>\n",
    "<td>\n",
    "\n",
    "<p>\n",
    "This work is licensed under CC BY-SA 4.0 (Attribution-ShareAlike 4.0 International)\n",
    "\n",
    "<p>\n",
    "Visit <a href=\"http://creativecommons.org/licenses/by-sa/4.0/\">http://creativecommons.org/licenses/by-sa/4.0/</a> to see the terms.\n",
    "</td>\n",
    "</tr>\n",
    "</table>"
   ]
  },
  {
   "cell_type": "markdown",
   "metadata": {
    "slideshow": {
     "slide_type": "fragment"
    }
   },
   "source": [
    "<table>\n",
    "<tr>\n",
    "<td>This document uses python</td>\n",
    "<td>\n",
    "<img src=\"https://www.python.org/static/community_logos/python-logo-master-v3-TM.png\" style=\"height:30px\"/>\n",
    "</td>\n",
    "<td>and also makes use of LaTeX </td>\n",
    "<td>\n",
    "<img src=\"https://upload.wikimedia.org/wikipedia/commons/thumb/9/92/LaTeX_logo.svg/320px-LaTeX_logo.svg.png\" style=\"height:30px\"/>\n",
    "</td>\n",
    "<td>in Markdown</td> \n",
    "<td>\n",
    "<img src=\"https://github.com/adam-p/markdown-here/raw/master/src/common/images/icon48.png\" style=\"height:30px\"/>\n",
    "</td>\n",
    "</tr>\n",
    "</table>"
   ]
  },
  {
   "cell_type": "markdown",
   "metadata": {
    "slideshow": {
     "slide_type": "slide"
    }
   },
   "source": [
    "## What this is about:\n",
    "\n",
    "This worksheet is based on the material in the notebook\n",
    "\n",
    "- regress: polynomial and logistic regression.\n",
    "\n",
    "Note that while the 'lecture' notebooks are prefixed with `1_`, `2_` and so on,\n",
    "to indicate the order in which they should be studied, the worksheets are prefixed\n",
    "with `A_`, `B_`, ..."
   ]
  },
  {
   "cell_type": "code",
   "execution_count": null,
   "metadata": {
    "slideshow": {
     "slide_type": "fragment"
    }
   },
   "outputs": [],
   "source": [
    "# useful imports\n",
    "import numpy as np\n",
    "import seaborn as sns\n",
    "import matplotlib.pyplot as plt\n",
    "from sklearn import linear_model"
   ]
  },
  {
   "cell_type": "markdown",
   "metadata": {
    "slideshow": {
     "slide_type": "slide"
    }
   },
   "source": [
    "### Exercise 1\n",
    "A straight line has gradient $m=2$ and $y$-intercept\n",
    "$c=4$. Sketch it, and determine the value of $x$ for which $y=8$."
   ]
  },
  {
   "cell_type": "code",
   "execution_count": null,
   "metadata": {
    "slideshow": {
     "slide_type": "fragment"
    }
   },
   "outputs": [],
   "source": [
    "# Answer here - create more cells as necessary"
   ]
  },
  {
   "cell_type": "markdown",
   "metadata": {
    "slideshow": {
     "slide_type": "slide"
    }
   },
   "source": [
    "### Exercise 2\n",
    "A straight line with gradient $m$ passes though the point $(x_0,y_0)$\n",
    "then show that $y-y_0 = m(x-x_0)$. This is\n",
    "called the *point slope* form."
   ]
  },
  {
   "cell_type": "code",
   "execution_count": null,
   "metadata": {
    "slideshow": {
     "slide_type": "fragment"
    }
   },
   "outputs": [],
   "source": [
    "# Answer here - create more cells as necessary"
   ]
  },
  {
   "cell_type": "markdown",
   "metadata": {
    "slideshow": {
     "slide_type": "slide"
    }
   },
   "source": [
    "### Exercise 3\n",
    "A line with gradient $m=5$ passes through $(x,y)=(-1,2)$. Find the\n",
    "equation of the line in the form $y=mx+c$."
   ]
  },
  {
   "cell_type": "code",
   "execution_count": null,
   "metadata": {
    "slideshow": {
     "slide_type": "fragment"
    }
   },
   "outputs": [],
   "source": [
    "# Answer here - create more cells as necessary"
   ]
  },
  {
   "cell_type": "markdown",
   "metadata": {
    "slideshow": {
     "slide_type": "slide"
    }
   },
   "source": [
    "### Exercise 4\n",
    "\n",
    "Recall Anscombe's data set. We used the following codse to split it into its four\n",
    "sub-sets, and we also produced scateterplots, as shown below for the first data \n",
    "subset.\n",
    "\n",
    "```\n",
    "dfa = sns.load_dataset('anscombe')\n",
    "print(\"The size of Anscombe's data set is:\", dfa.shape)\n",
    "dfa.dataset.unique()\n",
    "dfa1 = dfa.loc[dfa['dataset'] == 'I']\n",
    "dfa2 = dfa.loc[dfa['dataset'] == 'II']\n",
    "dfa3 = dfa.loc[dfa['dataset'] == 'III']\n",
    "dfa4 = dfa.loc[dfa['dataset'] == 'IV']\n",
    "sns.scatterplot(data=dfa1, x=\"x\", y=\"y\")\n",
    "dfa1.describe()\n",
    "```\n",
    "\n",
    "Implement linear regression for this fist dataset `dfa1`. Then\n",
    "implement ridge and LASSO regression. Plot your regreesion\n",
    "lines on the same plot and include the underlying data.\n",
    "\n",
    "You might find the following useful:\n",
    "\n",
    "```\n",
    "dfreg = dfa1.sort_values('x', ascending = True).reset_index(drop=True)\n",
    "```\n",
    "\n",
    "After this you can either reassign `dfa1 = dfreg` or work directly\n",
    "with `dfreg`.\n"
   ]
  },
  {
   "cell_type": "code",
   "execution_count": null,
   "metadata": {
    "slideshow": {
     "slide_type": "skip"
    }
   },
   "outputs": [],
   "source": [
    "# Answer here - create more cells as necessary"
   ]
  },
  {
   "cell_type": "markdown",
   "metadata": {
    "slideshow": {
     "slide_type": "slide"
    }
   },
   "source": [
    "### Exercise 5\n",
    "\n",
    "Repeat Exercise 4 but with `dfa2`."
   ]
  },
  {
   "cell_type": "code",
   "execution_count": null,
   "metadata": {
    "slideshow": {
     "slide_type": "skip"
    }
   },
   "outputs": [],
   "source": [
    "# Answer here - create more cells as necessary"
   ]
  },
  {
   "cell_type": "markdown",
   "metadata": {
    "slideshow": {
     "slide_type": "fragment"
    }
   },
   "source": [
    "### Exercise 6\n",
    "\n",
    "Repeat Exercise 5 but with `dfa3`."
   ]
  },
  {
   "cell_type": "code",
   "execution_count": null,
   "metadata": {
    "slideshow": {
     "slide_type": "skip"
    }
   },
   "outputs": [],
   "source": [
    "# Answer here - create more cells as necessary"
   ]
  },
  {
   "cell_type": "markdown",
   "metadata": {
    "slideshow": {
     "slide_type": "fragment"
    }
   },
   "source": [
    "### Exercise 7\n",
    "\n",
    "Repeat Exercise 6 but with `dfa4`."
   ]
  },
  {
   "cell_type": "code",
   "execution_count": null,
   "metadata": {
    "slideshow": {
     "slide_type": "skip"
    }
   },
   "outputs": [],
   "source": [
    "# Answer here - create more cells as necessary"
   ]
  },
  {
   "cell_type": "markdown",
   "metadata": {
    "slideshow": {
     "slide_type": "slide"
    }
   },
   "source": [
    "# Outline Suggested Solutions\n",
    "\n",
    "The following are suggestions for solutions of the above problems. \n",
    "Please have a go first though before looking at these.\n"
   ]
  },
  {
   "cell_type": "markdown",
   "metadata": {
    "slideshow": {
     "slide_type": "fragment"
    }
   },
   "source": [
    "### Solution 1\n",
    "The line passes through the vertical axis at $y=4$ and climbs a\n",
    "vertical distance of $2$ for every unit of horizontal distance.\n",
    "When $y=8$, we have from $y=mx+c$ that $x=(y-c)/m = 2$. "
   ]
  },
  {
   "cell_type": "markdown",
   "metadata": {
    "slideshow": {
     "slide_type": "fragment"
    }
   },
   "source": [
    "### Solution 2\n",
    "At another (arbitrary but distinct) point $(x,y)$ the gradient is \n",
    "$m = (y-y_0)/(x-x_0)$. The *point slope* form follows. "
   ]
  },
  {
   "cell_type": "markdown",
   "metadata": {
    "slideshow": {
     "slide_type": "fragment"
    }
   },
   "source": [
    "### Solution 3\n",
    "$y-y_0 = m(x-x_0)$ with $(x_0,y_0)=(-1,2)$ and $m=5$. Therefore\n",
    "\n",
    "$$\n",
    "y = mx - mx_0 + y_0 = 5x -(5\\times-1-2) = 5x+7.\n",
    "$$"
   ]
  },
  {
   "cell_type": "markdown",
   "metadata": {
    "slideshow": {
     "slide_type": "slide"
    }
   },
   "source": [
    "### Solution 4\n",
    "\n",
    "An outline solution to Exercise 4 follows."
   ]
  },
  {
   "cell_type": "code",
   "execution_count": null,
   "metadata": {
    "slideshow": {
     "slide_type": "fragment"
    }
   },
   "outputs": [],
   "source": [
    "dfa = sns.load_dataset('anscombe')\n",
    "print(\"The size of Anscombe's data set is:\", dfa.shape)"
   ]
  },
  {
   "cell_type": "code",
   "execution_count": null,
   "metadata": {
    "slideshow": {
     "slide_type": "fragment"
    }
   },
   "outputs": [],
   "source": [
    "dfa.dataset.unique()"
   ]
  },
  {
   "cell_type": "code",
   "execution_count": null,
   "metadata": {
    "slideshow": {
     "slide_type": "slide"
    }
   },
   "outputs": [],
   "source": [
    "dfa1 = dfa.loc[dfa['dataset'] == 'I']\n",
    "dfa2 = dfa.loc[dfa['dataset'] == 'II']\n",
    "dfa3 = dfa.loc[dfa['dataset'] == 'III']\n",
    "dfa4 = dfa.loc[dfa['dataset'] == 'IV']"
   ]
  },
  {
   "cell_type": "code",
   "execution_count": null,
   "metadata": {
    "slideshow": {
     "slide_type": "slide"
    }
   },
   "outputs": [],
   "source": [
    "sns.scatterplot(data=dfa1, x=\"x\", y=\"y\")\n",
    "dfa1.describe()"
   ]
  },
  {
   "cell_type": "code",
   "execution_count": null,
   "metadata": {
    "slideshow": {
     "slide_type": "slide"
    }
   },
   "outputs": [],
   "source": [
    "dfa1.head()"
   ]
  },
  {
   "cell_type": "code",
   "execution_count": null,
   "metadata": {
    "slideshow": {
     "slide_type": "slide"
    }
   },
   "outputs": [],
   "source": [
    "dfreg = dfa1.sort_values('x', ascending = True).reset_index(drop=True)"
   ]
  },
  {
   "cell_type": "code",
   "execution_count": null,
   "metadata": {
    "slideshow": {
     "slide_type": "slide"
    }
   },
   "outputs": [],
   "source": [
    "dfreg.head()"
   ]
  },
  {
   "cell_type": "code",
   "execution_count": null,
   "metadata": {
    "slideshow": {
     "slide_type": "slide"
    }
   },
   "outputs": [],
   "source": [
    "X_vals = dfreg.iloc[:,1].values.reshape(-1,1)\n",
    "y_vals = dfreg.iloc[:,2].values.reshape(-1,1)\n",
    "#print(X_vals,'\\n', y_vals)"
   ]
  },
  {
   "cell_type": "code",
   "execution_count": null,
   "metadata": {
    "slideshow": {
     "slide_type": "slide"
    }
   },
   "outputs": [],
   "source": [
    "# standard (usual) regression\n",
    "reg_usual = linear_model.LinearRegression()\n",
    "reg_usual.fit(X_vals, y_vals)\n",
    "# Make predictions \n",
    "y_pred_usual = reg_usual.predict(X_vals)\n",
    "print('reg_usual_coef_ = ', reg_usual.coef_)\n",
    "print('reg_usual_intercept_ = ', reg_usual.intercept_)"
   ]
  },
  {
   "cell_type": "code",
   "execution_count": null,
   "metadata": {
    "slideshow": {
     "slide_type": "slide"
    }
   },
   "outputs": [],
   "source": [
    "# ridge regression\n",
    "reg_ridge = linear_model.Ridge(alpha=0.5)\n",
    "reg_ridge.fit(X_vals, y_vals)\n",
    "# Make predictions\n",
    "y_pred_ridge = reg_ridge.predict(X_vals)\n",
    "print('reg_ridge_coef_ = ', reg_ridge.coef_)\n",
    "print('reg_ridge_intercept_ = ', reg_ridge.intercept_)"
   ]
  },
  {
   "cell_type": "code",
   "execution_count": null,
   "metadata": {
    "slideshow": {
     "slide_type": "slide"
    }
   },
   "outputs": [],
   "source": [
    "# LASSO regression\n",
    "reg_lasso = linear_model.Lasso(alpha=0.5)\n",
    "reg_lasso.fit(X_vals, y_vals)\n",
    "# Make predictions\n",
    "y_pred_lasso = reg_lasso.predict(X_vals)\n",
    "print('reg_lasso_coef_ = ', reg_lasso.coef_)\n",
    "print('reg_lasso_intercept_ = ', reg_lasso.intercept_)"
   ]
  },
  {
   "cell_type": "code",
   "execution_count": null,
   "metadata": {
    "slideshow": {
     "slide_type": "slide"
    }
   },
   "outputs": [],
   "source": [
    "plt.plot(X_vals,y_vals,'.r',marker='o')\n",
    "plt.plot(X_vals,y_pred_usual,'b',marker='d')\n",
    "plt.plot(X_vals,y_pred_ridge,'g',marker='x')\n",
    "plt.plot(X_vals,y_pred_lasso,'c',marker='+')"
   ]
  },
  {
   "cell_type": "markdown",
   "metadata": {
    "slideshow": {
     "slide_type": "slide"
    }
   },
   "source": [
    "### Solution 5\n",
    "\n",
    "An outline solution to Exercise 5 follows."
   ]
  },
  {
   "cell_type": "code",
   "execution_count": null,
   "metadata": {
    "slideshow": {
     "slide_type": "slide"
    }
   },
   "outputs": [],
   "source": [
    "dfreg = dfa2.sort_values('x', ascending = True).reset_index(drop=True)\n",
    "X_vals = dfreg.iloc[:,1].values.reshape(-1,1)\n",
    "y_vals = dfreg.iloc[:,2].values.reshape(-1,1)\n",
    "\n",
    "# standard (usual) regression\n",
    "reg_usual = linear_model.LinearRegression()\n",
    "reg_usual.fit(X_vals, y_vals)\n",
    "# Make predictions \n",
    "y_pred_usual = reg_usual.predict(X_vals)\n",
    "print('reg_usual_coef_ = ', reg_usual.coef_)\n",
    "print('reg_usual_intercept_ = ', reg_usual.intercept_)\n",
    "\n",
    "# ridge regression\n",
    "reg_ridge = linear_model.Ridge(alpha=0.5)\n",
    "reg_ridge.fit(X_vals, y_vals)\n",
    "# Make predictions\n",
    "y_pred_ridge = reg_ridge.predict(X_vals)\n",
    "print('reg_ridge_coef_ = ', reg_ridge.coef_)\n",
    "print('reg_ridge_intercept_ = ', reg_ridge.intercept_)\n",
    "\n",
    "# LASSO regression\n",
    "reg_lasso = linear_model.Lasso(alpha=0.5)\n",
    "reg_lasso.fit(X_vals, y_vals)\n",
    "# Make predictions\n",
    "y_pred_lasso = reg_lasso.predict(X_vals)\n",
    "print('reg_lasso_coef_ = ', reg_lasso.coef_)\n",
    "print('reg_lasso_intercept_ = ', reg_lasso.intercept_)\n",
    "\n",
    "plt.plot(X_vals,y_vals,'.r',marker='o')\n",
    "plt.plot(X_vals,y_pred_usual,'b',marker='d')\n",
    "plt.plot(X_vals,y_pred_ridge,'g',marker='x')\n",
    "plt.plot(X_vals,y_pred_lasso,'c',marker='+')\n"
   ]
  },
  {
   "cell_type": "markdown",
   "metadata": {
    "slideshow": {
     "slide_type": "slide"
    }
   },
   "source": [
    "### Solution 6\n",
    "\n",
    "An outline solution to Exercise 6 follows."
   ]
  },
  {
   "cell_type": "code",
   "execution_count": null,
   "metadata": {
    "slideshow": {
     "slide_type": "slide"
    }
   },
   "outputs": [],
   "source": [
    "dfreg = dfa3.sort_values('x', ascending = True).reset_index(drop=True)\n",
    "X_vals = dfreg.iloc[:,1].values.reshape(-1,1)\n",
    "y_vals = dfreg.iloc[:,2].values.reshape(-1,1)\n",
    "\n",
    "# standard (usual) regression\n",
    "reg_usual = linear_model.LinearRegression()\n",
    "reg_usual.fit(X_vals, y_vals)\n",
    "# Make predictions \n",
    "y_pred_usual = reg_usual.predict(X_vals)\n",
    "print('reg_usual_coef_ = ', reg_usual.coef_)\n",
    "print('reg_usual_intercept_ = ', reg_usual.intercept_)\n",
    "\n",
    "# ridge regression\n",
    "reg_ridge = linear_model.Ridge(alpha=0.5)\n",
    "reg_ridge.fit(X_vals, y_vals)\n",
    "# Make predictions\n",
    "y_pred_ridge = reg_ridge.predict(X_vals)\n",
    "print('reg_ridge_coef_ = ', reg_ridge.coef_)\n",
    "print('reg_ridge_intercept_ = ', reg_ridge.intercept_)\n",
    "\n",
    "# LASSO regression\n",
    "reg_lasso = linear_model.Lasso(alpha=0.5)\n",
    "reg_lasso.fit(X_vals, y_vals)\n",
    "# Make predictions\n",
    "y_pred_lasso = reg_lasso.predict(X_vals)\n",
    "print('reg_lasso_coef_ = ', reg_lasso.coef_)\n",
    "print('reg_lasso_intercept_ = ', reg_lasso.intercept_)\n",
    "\n",
    "plt.plot(X_vals,y_vals,'.r',marker='o')\n",
    "plt.plot(X_vals,y_pred_usual,'b',marker='d')\n",
    "plt.plot(X_vals,y_pred_ridge,'g',marker='x')\n",
    "plt.plot(X_vals,y_pred_lasso,'c',marker='+')\n"
   ]
  },
  {
   "cell_type": "markdown",
   "metadata": {
    "slideshow": {
     "slide_type": "slide"
    }
   },
   "source": [
    "### Solution 7\n",
    "\n",
    "An outline solution to Exercise 7 follows."
   ]
  },
  {
   "cell_type": "code",
   "execution_count": null,
   "metadata": {
    "slideshow": {
     "slide_type": "slide"
    }
   },
   "outputs": [],
   "source": [
    "dfreg = dfa4.sort_values('x', ascending = True).reset_index(drop=True)\n",
    "X_vals = dfreg.iloc[:,1].values.reshape(-1,1)\n",
    "y_vals = dfreg.iloc[:,2].values.reshape(-1,1)\n",
    "\n",
    "# standard (usual) regression\n",
    "reg_usual = linear_model.LinearRegression()\n",
    "reg_usual.fit(X_vals, y_vals)\n",
    "# Make predictions \n",
    "y_pred_usual = reg_usual.predict(X_vals)\n",
    "print('reg_usual_coef_ = ', reg_usual.coef_)\n",
    "print('reg_usual_intercept_ = ', reg_usual.intercept_)\n",
    "\n",
    "# ridge regression\n",
    "reg_ridge = linear_model.Ridge(alpha=0.5)\n",
    "reg_ridge.fit(X_vals, y_vals)\n",
    "# Make predictions\n",
    "y_pred_ridge = reg_ridge.predict(X_vals)\n",
    "print('reg_ridge_coef_ = ', reg_ridge.coef_)\n",
    "print('reg_ridge_intercept_ = ', reg_ridge.intercept_)\n",
    "\n",
    "# LASSO regression\n",
    "reg_lasso = linear_model.Lasso(alpha=0.5)\n",
    "reg_lasso.fit(X_vals, y_vals)\n",
    "# Make predictions\n",
    "y_pred_lasso = reg_lasso.predict(X_vals)\n",
    "print('reg_lasso_coef_ = ', reg_lasso.coef_)\n",
    "print('reg_lasso_intercept_ = ', reg_lasso.intercept_)\n",
    "\n",
    "plt.plot(X_vals,y_vals,'.r',marker='o')\n",
    "plt.plot(X_vals,y_pred_usual,'b',marker='d')\n",
    "plt.plot(X_vals,y_pred_ridge,'g',marker='x')\n",
    "plt.plot(X_vals,y_pred_lasso,'c',marker='+')\n"
   ]
  },
  {
   "cell_type": "markdown",
   "metadata": {
    "slideshow": {
     "slide_type": "skip"
    }
   },
   "source": [
    "## Technical Notes, Production and Archiving\n",
    "\n",
    "Ignore the material below. What follows is not relevant to the material being taught."
   ]
  },
  {
   "cell_type": "markdown",
   "metadata": {
    "slideshow": {
     "slide_type": "skip"
    }
   },
   "source": [
    "#### Production Workflow\n",
    "\n",
    "- Finalise the notebook material above\n",
    "- Clear and fresh run of entire notebook\n",
    "- Create html slide show:\n",
    "  - `jupyter nbconvert --to slides D_worksheet.ipynb `\n",
    "- Set `OUTPUTTING=1` below\n",
    "- Comment out the display of web-sourced diagrams\n",
    "- Clear and fresh run of entire notebook\n",
    "- Comment back in the display of web-sourced diagrams\n",
    "- Clear all cell output\n",
    "- Set `OUTPUTTING=0` below\n",
    "- Save\n",
    "- git add, commit and push to FML\n",
    "- copy PDF, HTML etc to web site\n",
    "  - git add, commit and push\n",
    "- rebuild binder"
   ]
  },
  {
   "cell_type": "markdown",
   "metadata": {
    "slideshow": {
     "slide_type": "skip"
    }
   },
   "source": [
    "Some of this originated from\n",
    "https://stackoverflow.com/questions/38540326/save-html-of-a-jupyter-notebook-from-within-the-notebook\n",
    "These lines create a back up of the notebook. They can be ignored.\n",
    "At some point this is better as a bash script outside of the notebook"
   ]
  },
  {
   "cell_type": "code",
   "execution_count": null,
   "metadata": {
    "slideshow": {
     "slide_type": "skip"
    }
   },
   "outputs": [],
   "source": [
    "%%bash\n",
    "NBROOTNAME='D_worksheet'\n",
    "OUTPUTTING=0\n",
    "\n",
    "if [ $OUTPUTTING -eq 1 ]; then\n",
    "  jupyter nbconvert --to html $NBROOTNAME.ipynb\n",
    "  cp $NBROOTNAME.html ../backups/$(date +\"%m_%d_%Y-%H%M%S\")_$NBROOTNAME.html\n",
    "  mv -f $NBROOTNAME.html ./formats/html/\n",
    "\n",
    "  jupyter nbconvert --to pdf $NBROOTNAME.ipynb\n",
    "  cp $NBROOTNAME.pdf ../backups/$(date +\"%m_%d_%Y-%H%M%S\")_$NBROOTNAME.pdf\n",
    "  mv -f $NBROOTNAME.pdf ./formats/pdf/\n",
    "\n",
    "  jupyter nbconvert --to script $NBROOTNAME.ipynb\n",
    "  cp $NBROOTNAME.py ../backups/$(date +\"%m_%d_%Y-%H%M%S\")_$NBROOTNAME.py\n",
    "  mv -f $NBROOTNAME.py ./formats/py/\n",
    "else\n",
    "  echo 'Not Generating html, pdf and py output versions'\n",
    "fi"
   ]
  }
 ],
 "metadata": {
  "celltoolbar": "Slideshow",
  "kernelspec": {
   "display_name": "Python 3",
   "language": "python",
   "name": "python3"
  },
  "language_info": {
   "codemirror_mode": {
    "name": "ipython",
    "version": 3
   },
   "file_extension": ".py",
   "mimetype": "text/x-python",
   "name": "python",
   "nbconvert_exporter": "python",
   "pygments_lexer": "ipython3",
   "version": "3.7.1"
  }
 },
 "nbformat": 4,
 "nbformat_minor": 4
}
