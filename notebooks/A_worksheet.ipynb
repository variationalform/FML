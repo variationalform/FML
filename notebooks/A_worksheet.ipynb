{
 "cells": [
  {
   "cell_type": "markdown",
   "metadata": {
    "slideshow": {
     "slide_type": "slide"
    }
   },
   "source": [
    "# Worksheet A\n",
    "\n",
    "#### *variationalform* <https://variationalform.github.io/>\n",
    "\n",
    "#### *Just Enough: progress at pace*\n",
    "\n",
    "<https://variationalform.github.io/>\n",
    "\n",
    "<https://github.com/variationalform>\n",
    "\n",
    "Simon Shaw\n",
    "<https://www.brunel.ac.uk/people/simon-shaw>.\n"
   ]
  },
  {
   "cell_type": "markdown",
   "metadata": {
    "slideshow": {
     "slide_type": "fragment"
    }
   },
   "source": [
    "<table>\n",
    "<tr>\n",
    "<td>\n",
    "<img src=\"https://mirrors.creativecommons.org/presskit/icons/cc.svg?ref=chooser-v1\" style=\"height:18px\"/>\n",
    "<img src=\"https://mirrors.creativecommons.org/presskit/icons/by.svg?ref=chooser-v1\" style=\"height:18px\"/>\n",
    "<img src=\"https://mirrors.creativecommons.org/presskit/icons/sa.svg?ref=chooser-v1\" style=\"height:18px\"/>\n",
    "</td>\n",
    "<td>\n",
    "\n",
    "<p>\n",
    "This work is licensed under CC BY-SA 4.0 (Attribution-ShareAlike 4.0 International)\n",
    "\n",
    "<p>\n",
    "Visit <a href=\"http://creativecommons.org/licenses/by-sa/4.0/\">http://creativecommons.org/licenses/by-sa/4.0/</a> to see the terms.\n",
    "</td>\n",
    "</tr>\n",
    "</table>"
   ]
  },
  {
   "cell_type": "markdown",
   "metadata": {
    "slideshow": {
     "slide_type": "fragment"
    }
   },
   "source": [
    "<table>\n",
    "<tr>\n",
    "<td>This document uses python</td>\n",
    "<td>\n",
    "<img src=\"https://www.python.org/static/community_logos/python-logo-master-v3-TM.png\" style=\"height:30px\"/>\n",
    "</td>\n",
    "<td>and also makes use of LaTeX </td>\n",
    "<td>\n",
    "<img src=\"https://upload.wikimedia.org/wikipedia/commons/thumb/9/92/LaTeX_logo.svg/320px-LaTeX_logo.svg.png\" style=\"height:30px\"/>\n",
    "</td>\n",
    "<td>in Markdown</td> \n",
    "<td>\n",
    "<img src=\"https://github.com/adam-p/markdown-here/raw/master/src/common/images/icon48.png\" style=\"height:30px\"/>\n",
    "</td>\n",
    "</tr>\n",
    "</table>"
   ]
  },
  {
   "cell_type": "markdown",
   "metadata": {
    "slideshow": {
     "slide_type": "slide"
    }
   },
   "source": [
    "## What this is about:\n",
    "\n",
    "This worksheet is based on the material in the notebooks\n",
    "\n",
    "- intro\n",
    "- vectors\n",
    "\n",
    "Note that while the 'lecture' notebooks are prefixed with `1_`, `2_` and so on,\n",
    "to indicate the order in which they should be studied, the worksheets are prefixed\n",
    "with `A_`, `B_`, ..."
   ]
  },
  {
   "cell_type": "markdown",
   "metadata": {
    "slideshow": {
     "slide_type": "slide"
    }
   },
   "source": [
    "Refer back to the section where we introduced the use of `numpy` for vector calculations.\n",
    "\n",
    "There we had set up the vectors $\\boldsymbol{a}$ and $\\boldsymbol{p}$\n",
    "and illustrated arithmetic like this:"
   ]
  },
  {
   "cell_type": "code",
   "execution_count": null,
   "metadata": {
    "slideshow": {
     "slide_type": "fragment"
    }
   },
   "outputs": [],
   "source": [
    "import numpy as np\n",
    "a = np.array([3, -2, 1])\n",
    "p = np.array([5, 2, -10])\n",
    "g = a-p\n",
    "print(g)\n",
    "a = g+p\n",
    "print(a)"
   ]
  },
  {
   "cell_type": "markdown",
   "metadata": {
    "slideshow": {
     "slide_type": "slide"
    }
   },
   "source": [
    "#### Exercises\n",
    "\n",
    "1. Repeat the above calculation but with $a$ and $p$ as `numpy` column arrays.\n",
    "2. Use `np.sqrt(16)` to print out $\\sqrt{16}$ (e.g. <https://numpy.org/doc/stable/reference/generated/numpy.sqrt.html>)\n",
    "3. Use `np.power(2,3)` to print out $2^3$ (e.g. <https://numpy.org/doc/stable/reference/generated/numpy.power.html>).\n",
    "4. Use `np.pi` to print out the area of a circle with radius $5$. (e.g. <https://numpy.org/doc/stable/reference/constants.html>)\n",
    "5. Define these as `numpy` row arrays. \n",
    "\n",
    "$$ \n",
    "\\boldsymbol{x} = \\left(\\begin{array}{r}\n",
    "3 \\\\ -5 \\\\ \\pi \\\\ 7.2 \\\\ \\sqrt{9} \n",
    "\\end{array}\\right)\n",
    "\\qquad\\text{ and }\\qquad\n",
    "\\boldsymbol{y} = \\left(\\begin{array}{r}\n",
    "-3 \\\\ 16 \\\\ 1 \\\\ 1089 \\\\ 15 \n",
    "\\end{array}\\right)\n",
    "$$\n",
    "\n",
    "6. Print out $\\boldsymbol{x}+2\\boldsymbol{y}$.\n",
    "\n",
    "7. Repeat 5 and 6 but with $x$ and $y$ as `numpy` column arrays."
   ]
  },
  {
   "cell_type": "code",
   "execution_count": null,
   "metadata": {
    "slideshow": {
     "slide_type": "fragment"
    }
   },
   "outputs": [],
   "source": [
    "# put your working in here - make new cells if you like\n",
    "\n"
   ]
  },
  {
   "cell_type": "markdown",
   "metadata": {
    "slideshow": {
     "slide_type": "slide"
    }
   },
   "source": [
    "#### Hints\n",
    "\n",
    "```bash\n",
    "a = np.array([[3], [-2], [1]])\n",
    "p = np.array([[5], [2], [-10]])\n",
    "g = a-p\n",
    "print(g)\n",
    "a = g+p\n",
    "print(a)\n",
    "\n",
    "print('sqrt(16) = ', np.sqrt(16))\n",
    "print('2 cubed = ', np.power(2,3))\n",
    "print('pi*r-squared =', np.pi*5**2)\n",
    "x = np.array([3, -5, np.pi, 7.2, np.sqrt(9)])\n",
    "y = np.array([-3, 16, 1, 1089, 15]) \n",
    "print ('x + 2y = ', x + 2*y)\n",
    "\n",
    "x.shape = (5,1)\n",
    "y.shape = (5,1)\n",
    "print ('x + 2y = \\n', x + 2*y)\n",
    "```"
   ]
  },
  {
   "cell_type": "markdown",
   "metadata": {
    "slideshow": {
     "slide_type": "slide"
    }
   },
   "source": [
    "## 1089\n",
    "\n",
    "What is special about 1089?\n",
    "\n",
    "Take three integers from $\\{1,2,3,4,5,6,7,8,9\\}$ and use them to make\n",
    "a three digit number. Reverse the digits and subtract the smaller from\n",
    "the larger to get a new three digit number (put a zero in front if it is\n",
    "only two digits). Add this number to its own reversal.\n",
    "\n",
    "Example, $2$, $6$, $8$ gives $268$. Reversing and subtracting gives\n",
    "$862-268=594$. Reversing and adding then gives $594+495 = ?$\n",
    "\n",
    "Try this for other numbers - is it always the same?\n",
    "\n",
    "See e.g. <https://en.wikipedia.org/wiki/1089_(number)>"
   ]
  },
  {
   "cell_type": "code",
   "execution_count": null,
   "metadata": {
    "slideshow": {
     "slide_type": "fragment"
    }
   },
   "outputs": [],
   "source": [
    "print(862-268)\n",
    "print(594+495)"
   ]
  },
  {
   "cell_type": "markdown",
   "metadata": {
    "slideshow": {
     "slide_type": "slide"
    }
   },
   "source": [
    "### Vector norms\n",
    "\n",
    "We saw the vector $p$-norm for any $p\\ge 1$ given by\n",
    "\n",
    "$$\n",
    "\\Vert\\boldsymbol{v}\\Vert_p\n",
    "=\n",
    "\\left\\{\\begin{array}{ll}\\displaystyle\n",
    "\\sqrt[p]{\\vert v_1\\vert^p + \\vert v_2\\vert^p +\\cdots+\\vert v_n\\vert^p},\n",
    "&\\text{if } 1\\le p < \\infty;\n",
    "\\\\\n",
    "\\max\\{\\vert v_k\\vert\\colon k=1,2,\\ldots,n\\},\n",
    "&\\text{if } p = \\infty.\n",
    "\\end{array}\\right.\n",
    "$$\n",
    "\n",
    "Although $p<1$ is not allowed here, we do sometimes use *phoney norms*\n",
    "for cases when $p<1$"
   ]
  },
  {
   "cell_type": "markdown",
   "metadata": {
    "slideshow": {
     "slide_type": "slide"
    }
   },
   "source": [
    "#### Exercises - see e.g. <https://numpy.org/doc/stable/reference/generated/numpy.linalg.norm.html>\n",
    "\n",
    "Using `numpy.linalg.norm()` with,\n",
    "\n",
    "$$\n",
    "\\boldsymbol{w} = \\big(\n",
    "3, 0, -5, 4, \\pi^2, 0, -23, 7, -99\n",
    "\\big)^T\n",
    "$$\n",
    "\n",
    "calculate these quantities and check your answers:\n",
    "\n",
    "1. $\\Vert\\boldsymbol{w}\\Vert_2$\n",
    "2. $\\Vert\\boldsymbol{w}\\Vert_1$\n",
    "3. $\\Vert\\boldsymbol{w}\\Vert_\\infty$\n",
    "4. $\\Vert\\boldsymbol{w}\\Vert_3$\n",
    "5. $\\Vert\\boldsymbol{w}\\Vert_{\\ln 7}$\n",
    "6. $\\Vert\\boldsymbol{w}\\Vert_{23}$\n",
    "\n",
    "**Hint:** <https://numpy.org/doc/stable/reference/generated/numpy.log.html>\n",
    "\n",
    "Furthermore, use `numpy` to calculate these *phoney norms*:\n",
    "\n",
    "1. $\\Vert\\boldsymbol{w}\\Vert_{\\sqrt{2}-1}$\n",
    "2. $\\Vert\\boldsymbol{w}\\Vert_0$\n",
    "\n",
    "**Hint:** <https://numpy.org/doc/stable/reference/generated/numpy.sqrt.html>"
   ]
  },
  {
   "cell_type": "code",
   "execution_count": null,
   "metadata": {
    "slideshow": {
     "slide_type": "fragment"
    }
   },
   "outputs": [],
   "source": [
    "# put your working in here - make new cells if you like\n",
    "\n"
   ]
  },
  {
   "cell_type": "markdown",
   "metadata": {
    "slideshow": {
     "slide_type": "slide"
    }
   },
   "source": [
    "#### Hints\n",
    "```bash\n",
    "import numpy as np\n",
    "w = np.array([3, 0, -5, 4, np.pi**2, 0, -23, 7, -99])\n",
    "print(w)\n",
    "print('||w||_2   = ', np.linalg.norm(w,2))\n",
    "print('||w||_1   = ', np.linalg.norm(w,1))\n",
    "print('||w||_inf = ', np.linalg.norm(w,np.inf))  # note how we denote infinity\n",
    "print('||w||_3   = ', np.linalg.norm(w,3))\n",
    "print('||w||_ln7 = ', np.linalg.norm(w,np.log(7)))\n",
    "print('||w||_23  = ', np.linalg.norm(w,23))\n",
    "print('||w||_0.414...   = ', np.linalg.norm(w,np.sqrt(2)-1))\n",
    "print('||w||_0   = ', np.linalg.norm(w,0))\n",
    "```"
   ]
  },
  {
   "cell_type": "markdown",
   "metadata": {
    "slideshow": {
     "slide_type": "slide"
    }
   },
   "source": [
    "## Data as vectors\n",
    "\n",
    "We look back at some of the data and learn a bit more about python\n",
    "and how to manipulate raw data.\n",
    "\n",
    "We start with the `taxis` data sets and see how we can convert some\n",
    "num-numerica data into numeric."
   ]
  },
  {
   "cell_type": "code",
   "execution_count": null,
   "metadata": {
    "slideshow": {
     "slide_type": "fragment"
    }
   },
   "outputs": [],
   "source": [
    "import seaborn as sns\n",
    "dft = sns.load_dataset('taxis')\n",
    "dft.head(9)"
   ]
  },
  {
   "cell_type": "markdown",
   "metadata": {
    "slideshow": {
     "slide_type": "slide"
    }
   },
   "source": [
    "#### Exercises\n",
    "\n",
    "In the following the question mark denotes values that you have to determine.\n",
    "\n",
    "1. use `dft.shape` to determine and print the number of rows and columns in the data set.\n",
    "1. use `dft.shape[?]` to determine and print the number of rows in the data set.\n",
    "1. use `dft.shape[?]` to determine and print the number of columns in the data set.\n",
    "1. Use `dft.iat[?,?]` to print out the contents of the fourth column of the third row.\n",
    "1. Use `dft.loc[?].iat[?]` to print out the contents of the twelfth column of the sixth row.\n",
    "1. Use `dft.loc[?]` to print out the contents of ninth row."
   ]
  },
  {
   "cell_type": "code",
   "execution_count": null,
   "metadata": {
    "slideshow": {
     "slide_type": "fragment"
    }
   },
   "outputs": [],
   "source": [
    "# put your working in here - make new cells if you like\n",
    "\n"
   ]
  },
  {
   "cell_type": "markdown",
   "metadata": {
    "slideshow": {
     "slide_type": "slide"
    }
   },
   "source": [
    "#### Hints\n",
    "\n",
    "```bash\n",
    "print('The number of rows and columns are: ', dft.shape)\n",
    "print('The number of rows is: ', dft.shape[0])\n",
    "print('The number of columns is: ', dft.shape[1])\n",
    "print('dft.iat[2,3]      = ', dft.iat[2,3])\n",
    "print('dft.loc[5].iat[11] = ', dft.loc[5].iat[11],'\\n')\n",
    "print('dft.loc[8] = ')\n",
    "```"
   ]
  },
  {
   "cell_type": "markdown",
   "metadata": {
    "slideshow": {
     "slide_type": "slide"
    }
   },
   "source": [
    "##  Working with `datetime`\n",
    "\n",
    "We have already seen that the first column in the `dft.head()` output can be ignored - \n",
    "that is just a label for each observation and has nothing to do with the taxi ride data.\n",
    "\n",
    "The pickup and dropoff columns are dates and times, and we ignored them earlier when \n",
    "we first worked with this data set because they aren't simple numerical values that\n",
    "can be put into a vector.\n",
    "\n",
    "However, if we think of those as the number of seconds since 1 January 1970 then they\n",
    "are also just numbers (integers if we ignore fractions of a second).\n",
    "These two numbers can then go in a vector,\n",
    "just as those values in columns three to eight did.\n",
    "\n",
    "Let's see how to convert the dates and times to simpler integers.\n",
    "\n",
    "The following material on date-time conversion was adapted from that at\n",
    "<https://docs.python.org/3/library/datetime.html> and\n",
    "<https://stackoverflow.com/questions/11743019/convert-python-datetime-to-epoch-with-strftime> -\n",
    "it uses the `datetime` module.\n",
    "\n",
    "We'll remind ourself of the first few data points, and then import `datetime`."
   ]
  },
  {
   "cell_type": "code",
   "execution_count": null,
   "metadata": {
    "slideshow": {
     "slide_type": "slide"
    }
   },
   "outputs": [],
   "source": [
    "dft.head(3)"
   ]
  },
  {
   "cell_type": "code",
   "execution_count": null,
   "metadata": {
    "slideshow": {
     "slide_type": "fragment"
    }
   },
   "outputs": [],
   "source": [
    "# here is a useful alternative\n",
    "dft[0:3]"
   ]
  },
  {
   "cell_type": "markdown",
   "metadata": {
    "slideshow": {
     "slide_type": "slide"
    }
   },
   "source": [
    "#### Exercise\n",
    "\n",
    "Show only rows 5 to 9 (inclusive) of the data set.\n",
    "\n",
    "Hint: do you think that `[4:9]` refers to rows four to nine?\n",
    "If not, then what?"
   ]
  },
  {
   "cell_type": "code",
   "execution_count": null,
   "metadata": {
    "slideshow": {
     "slide_type": "fragment"
    }
   },
   "outputs": [],
   "source": [
    "# put your working in here - make new cells if you like\n",
    "\n"
   ]
  },
  {
   "cell_type": "code",
   "execution_count": null,
   "metadata": {
    "slideshow": {
     "slide_type": "slide"
    }
   },
   "outputs": [],
   "source": [
    "# import the module\n",
    "from datetime import datetime\n",
    "# and show the first few of rows again\n",
    "dft[0:3]"
   ]
  },
  {
   "cell_type": "code",
   "execution_count": null,
   "metadata": {
    "slideshow": {
     "slide_type": "slide"
    }
   },
   "outputs": [],
   "source": [
    "# use the pickup time from the first data point\n",
    "put = datetime(2019,3,23,20,21,9)\n",
    "print('the data and time are ', put)\n",
    "# the elapsed time since 1 January 1970 is\n",
    "print('elapsed time since 1 January 1970 = ', (put - datetime(1970,1,1)).total_seconds() )\n",
    "# a quicker way to get this is\n",
    "print('timestamp = ', put.timestamp())"
   ]
  },
  {
   "cell_type": "markdown",
   "metadata": {
    "slideshow": {
     "slide_type": "slide"
    }
   },
   "source": [
    "Now, we don't want to be typing all of this ourselves so let's start to automate\n",
    "the process. \n",
    "\n",
    "First, we use `dft.iat[0,0]` to get the first element in the first row of the \n",
    "data-frame. We print it out and see that it is just a character string giving\n",
    "the date and time we saw above."
   ]
  },
  {
   "cell_type": "code",
   "execution_count": null,
   "metadata": {
    "slideshow": {
     "slide_type": "fragment"
    }
   },
   "outputs": [],
   "source": [
    "print(dft.iat[0,0])"
   ]
  },
  {
   "cell_type": "markdown",
   "metadata": {
    "slideshow": {
     "slide_type": "fragment"
    }
   },
   "source": [
    "This string is `dft.iat[0,0])` which we interpret as `%Y-%m-%d %H:%M:%S` and\n",
    "then we can use `strptime()` to get the `datetime` variable. This\n",
    "<https://www.digitalocean.com/community/tutorials/python-string-to-datetime-strptime>\n",
    "was a useful source for writing these notes.\n",
    "\n",
    "Once done, it's then easy to get the timestamp - just as above."
   ]
  },
  {
   "cell_type": "code",
   "execution_count": null,
   "metadata": {
    "slideshow": {
     "slide_type": "fragment"
    }
   },
   "outputs": [],
   "source": [
    "dt = datetime.strptime(str(dft.iat[0,0]), '%Y-%m-%d %H:%M:%S' )\n",
    "print('The date and time are ', dt, ' with timestamp ', dt.timestamp())"
   ]
  },
  {
   "cell_type": "markdown",
   "metadata": {},
   "source": [
    "Note that we had to write `str(dft.iat[0,0])` rather that just `dft.iat[0,0]`. \n",
    "This is because (at least at the time of writing) if we try to run this \n",
    "notebook in binder we will get an error.\n",
    "\n",
    "The `str()` function converts its argument into a string. The next two commands show the \n",
    "`type` of `dft.iat[0,0]`. If you see `str` (i.e. string) for both then you don't need\n",
    "to replace `dft.iat[0,0]` with `str(dft.iat[0,0])`. \n",
    "\n",
    "In binder these don't both give `str`, and so we have to force it to be a string."
   ]
  },
  {
   "cell_type": "code",
   "execution_count": null,
   "metadata": {},
   "outputs": [],
   "source": [
    "type( str(dft.iat[0,0]) )"
   ]
  },
  {
   "cell_type": "code",
   "execution_count": null,
   "metadata": {},
   "outputs": [],
   "source": [
    "type(dft.iat[0,0])"
   ]
  },
  {
   "cell_type": "markdown",
   "metadata": {
    "slideshow": {
     "slide_type": "slide"
    }
   },
   "source": [
    "Let's remind ourselves of the first line of the data, and then get the timestamps\n",
    "for the first two entries:"
   ]
  },
  {
   "cell_type": "code",
   "execution_count": null,
   "metadata": {
    "slideshow": {
     "slide_type": "fragment"
    }
   },
   "outputs": [],
   "source": [
    "dft[0:1]"
   ]
  },
  {
   "cell_type": "code",
   "execution_count": null,
   "metadata": {
    "slideshow": {
     "slide_type": "fragment"
    }
   },
   "outputs": [],
   "source": [
    "print(datetime.strptime( str(dft.iat[0,0]), '%Y-%m-%d %H:%M:%S' ).timestamp())\n",
    "print(datetime.strptime( str(dft.iat[0,1]), '%Y-%m-%d %H:%M:%S' ).timestamp())"
   ]
  },
  {
   "cell_type": "markdown",
   "metadata": {
    "slideshow": {
     "slide_type": "fragment"
    }
   },
   "source": [
    "The time taken between pickup and dropoff, `2019-03-23 20:21:09` and\n",
    "`2019-03-23 20:27:24` is $6$ minutes and $15$ seconds. This is"
   ]
  },
  {
   "cell_type": "code",
   "execution_count": null,
   "metadata": {},
   "outputs": [],
   "source": [
    "print(6*60+15,' seconds')"
   ]
  },
  {
   "cell_type": "markdown",
   "metadata": {
    "slideshow": {
     "slide_type": "slide"
    }
   },
   "source": [
    "Now let's look at the difference between the two time stamps"
   ]
  },
  {
   "cell_type": "code",
   "execution_count": null,
   "metadata": {
    "slideshow": {
     "slide_type": "fragment"
    }
   },
   "outputs": [],
   "source": [
    "ts1 = datetime.strptime( str(dft.iat[0,0]), '%Y-%m-%d %H:%M:%S' ).timestamp()\n",
    "ts2 = datetime.strptime( str(dft.iat[0,1]), '%Y-%m-%d %H:%M:%S' ).timestamp()\n",
    "print('ts 1 = ', ts1)\n",
    "print('ts 2 = ', ts2)\n",
    "print('ts2-ts1 = ', ts2-ts1)"
   ]
  },
  {
   "cell_type": "markdown",
   "metadata": {
    "slideshow": {
     "slide_type": "fragment"
    }
   },
   "source": [
    "and so the timestamp is just the conversion of a date to seconds."
   ]
  },
  {
   "cell_type": "markdown",
   "metadata": {
    "slideshow": {
     "slide_type": "slide"
    }
   },
   "source": [
    "You may wonder, then, *when was zero seconds*? Well, it was 1 January 1970\n",
    "UTC (Coordinated Universal Time). To see this, we need to make sure we specify\n",
    "the correct timezone and then:  "
   ]
  },
  {
   "cell_type": "code",
   "execution_count": null,
   "metadata": {
    "slideshow": {
     "slide_type": "fragment"
    }
   },
   "outputs": [],
   "source": [
    "from datetime import timezone\n",
    "print(datetime(1970,1,1,0,0,0,tzinfo=timezone.utc).timestamp())"
   ]
  },
  {
   "cell_type": "markdown",
   "metadata": {
    "slideshow": {
     "slide_type": "fragment"
    }
   },
   "source": [
    "So, here then is our vector for the zero-th taxi data. Note that it now includes\n",
    "the first two values as well as the six we had in the lecture.\n",
    "\n",
    "Note that we use `concatenate` to join two `numpy` arrays."
   ]
  },
  {
   "cell_type": "code",
   "execution_count": null,
   "metadata": {
    "slideshow": {
     "slide_type": "fragment"
    }
   },
   "outputs": [],
   "source": [
    "r0 = np.array(dft.iloc[0,2:8])\n",
    "print(r0)\n",
    "r0 = np.concatenate(([ts1, ts2], np.array(dft.iloc[0,2:8])), axis=None)\n",
    "print(r0)"
   ]
  },
  {
   "cell_type": "markdown",
   "metadata": {
    "slideshow": {
     "slide_type": "slide"
    }
   },
   "source": [
    "#### Exercises\n",
    "\n",
    "In the following the question mark denotes values that you have to determine.\n",
    "\n",
    "1. Use dft[?:?] to access rows 253 - 256 of the `taxis` datasets.\n",
    "2. What do `%` and `//` do in `python`? (Hint: `print(10//7,10%7)`).\n",
    "3. Use `datetime` to find the elapsed time in seconds for row 256. \n",
    "4. Convert that time in seconds to minutes and seconds. \n",
    "5. Print out row 14.\n",
    "6. Create a vector of numbers that holds the first eight values from row 14.\n",
    "\n",
    "For the last, use `timestamp()` to represent the date-time values. Also, \n",
    "look at what these commands do. They might help you join two arrays\n",
    "without explicitly using `concatenate`.\n",
    "\n",
    "```\n",
    "A = np.array([1,2])\n",
    "B = np.array([3,4,5,6,7,8])\n",
    "print(A,B)\n",
    "C = np.r_[A,B]\n",
    "print(C)\n",
    "```"
   ]
  },
  {
   "cell_type": "code",
   "execution_count": null,
   "metadata": {
    "slideshow": {
     "slide_type": "fragment"
    }
   },
   "outputs": [],
   "source": [
    "# put your working in here - make new cells if you like\n",
    "\n"
   ]
  },
  {
   "cell_type": "code",
   "execution_count": null,
   "metadata": {
    "slideshow": {
     "slide_type": "skip"
    }
   },
   "outputs": [],
   "source": [
    "# put your working in here - make new cells if you like\n",
    "\n"
   ]
  },
  {
   "cell_type": "code",
   "execution_count": null,
   "metadata": {
    "slideshow": {
     "slide_type": "skip"
    }
   },
   "outputs": [],
   "source": [
    "# put your working in here - make new cells if you like\n",
    "\n"
   ]
  },
  {
   "cell_type": "code",
   "execution_count": null,
   "metadata": {
    "slideshow": {
     "slide_type": "skip"
    }
   },
   "outputs": [],
   "source": [
    "# put your working in here - make new cells if you like\n",
    "\n"
   ]
  },
  {
   "cell_type": "markdown",
   "metadata": {
    "slideshow": {
     "slide_type": "slide"
    }
   },
   "source": [
    "#### Hints\n",
    "\n",
    "```bash\n",
    "print(10//7,10%7)\n",
    "\n",
    "print('dft[252:256] = ')\n",
    "dft[252:256]\n",
    "\n",
    "\n",
    "ts1 = datetime.strptime(dft.iat[255,0], '%Y-%m-%d %H:%M:%S' ).timestamp()\n",
    "ts2 = datetime.strptime(dft.iat[255,1], '%Y-%m-%d %H:%M:%S' ).timestamp()\n",
    "print('elaspsed time in seconds: ', ts2-ts1)\n",
    "mins = (ts2-ts1) % 60\n",
    "print('elaspsed time in min:secs: ', (ts2-ts1) // 60, ':', (ts2-ts1) % 60) \n",
    "\n",
    "\n",
    "dft[13:14]\n",
    "\n",
    "ts1 = datetime.strptime(dft.iat[13,0], '%Y-%m-%d %H:%M:%S' ).timestamp()\n",
    "ts2 = datetime.strptime(dft.iat[13,1], '%Y-%m-%d %H:%M:%S' ).timestamp()\n",
    "ts12 = np.array([ts1,ts2])\n",
    "print(ts12)\n",
    "row = np.array(dft.iloc[13,2:8])\n",
    "print(row)\n",
    "row = np.r_[ts12,r3]\n",
    "print(row)\n",
    "```"
   ]
  },
  {
   "cell_type": "markdown",
   "metadata": {
    "slideshow": {
     "slide_type": "slide"
    }
   },
   "source": [
    "> **THINK ABOUT**\n",
    "> What information could be lost as a result of converting the \n",
    "> date-time to a number?"
   ]
  },
  {
   "cell_type": "markdown",
   "metadata": {
    "slideshow": {
     "slide_type": "slide"
    }
   },
   "source": [
    "#### Exercises\n",
    "\n",
    "For the `taxis` data set:\n",
    "\n",
    "1. Produce a scatterplot of \"dropoff_borough\" vs. \"tip\"\n",
    "2. Plot the dependence of fare on distance. \n",
    "\n",
    "```\n",
    "dft = sns.load_dataset('taxis')\n",
    "dft.head()\n",
    "\n",
    "sns.scatterplot(data=dft, x=\"dropoff_borough\", y=\"tip\")\n",
    "sns.scatterplot(data=dft, x=\"distance\", y=\"fare\")\n",
    "```"
   ]
  },
  {
   "cell_type": "code",
   "execution_count": null,
   "metadata": {
    "slideshow": {
     "slide_type": "fragment"
    }
   },
   "outputs": [],
   "source": [
    "# put your working in here - make new cells if you like\n",
    "\n"
   ]
  },
  {
   "cell_type": "code",
   "execution_count": null,
   "metadata": {
    "slideshow": {
     "slide_type": "skip"
    }
   },
   "outputs": [],
   "source": [
    "# put your working in here - make new cells if you like\n",
    "\n"
   ]
  },
  {
   "cell_type": "code",
   "execution_count": null,
   "metadata": {
    "slideshow": {
     "slide_type": "skip"
    }
   },
   "outputs": [],
   "source": [
    "# put your working in here - make new cells if you like\n",
    "\n"
   ]
  },
  {
   "cell_type": "markdown",
   "metadata": {
    "slideshow": {
     "slide_type": "slide"
    }
   },
   "source": [
    "#### Exercises\n",
    "\n",
    "For the `tips` data set:\n",
    "\n",
    "1. What is the standard deviation of the tips?\n",
    "2. Plot the scatter of tip against the total bill\n",
    "3. Plot the scatter of total bill against day\n",
    "4. Plot the scatter of tip against gender\n",
    "\n",
    "```\n",
    "dftp = sns.load_dataset('tips')\n",
    "dftp.describe()\n",
    "sns.scatterplot(data=dftp, x=\"total_bill\", y=\"tip\")\n",
    "sns.scatterplot(data=dftp, x=\"day\", y=\"total_bill\")\n",
    "sns.scatterplot(data=dftp, x=\"sex\", y=\"tip\")\n",
    "```"
   ]
  },
  {
   "cell_type": "code",
   "execution_count": null,
   "metadata": {
    "slideshow": {
     "slide_type": "fragment"
    }
   },
   "outputs": [],
   "source": [
    "# put your working in here - make new cells if you like\n",
    "\n"
   ]
  },
  {
   "cell_type": "code",
   "execution_count": null,
   "metadata": {
    "slideshow": {
     "slide_type": "skip"
    }
   },
   "outputs": [],
   "source": [
    "# put your working in here - make new cells if you like\n",
    "\n"
   ]
  },
  {
   "cell_type": "code",
   "execution_count": null,
   "metadata": {
    "slideshow": {
     "slide_type": "skip"
    }
   },
   "outputs": [],
   "source": [
    "# put your working in here - make new cells if you like\n",
    "\n"
   ]
  },
  {
   "cell_type": "code",
   "execution_count": null,
   "metadata": {
    "slideshow": {
     "slide_type": "skip"
    }
   },
   "outputs": [],
   "source": [
    "# put your working in here - make new cells if you like\n",
    "\n"
   ]
  },
  {
   "cell_type": "markdown",
   "metadata": {
    "slideshow": {
     "slide_type": "slide"
    }
   },
   "source": [
    "## Self-Study and Homework\n",
    "\n",
    "Work through the following material and have a go at the questions at the end. \n",
    "Make a note of anything you don't understand, and ask in the next session."
   ]
  },
  {
   "cell_type": "markdown",
   "metadata": {
    "slideshow": {
     "slide_type": "slide"
    }
   },
   "source": [
    "### The `anscombe` data set\n",
    "\n",
    "As discussed in the lectures, this is pretty famous. There was a lot to take\n",
    "in during the walk-through of the lecture notebook so this is another opportunity\n",
    "to slow things down and read at your own pace.\n",
    "See <https://en.wikipedia.org/wiki/Anscombe%27s_quartet>\n",
    "\n",
    "<img src=\"https://upload.wikimedia.org/wikipedia/commons/7/7e/Julia-anscombe-plot-1.png\" style=\"height:300px\"/>\n",
    "\n",
    "Image Credit: `https://upload.wikimedia.org/wikipedia/commons/7/7e/Julia-anscombe-plot-1.png`"
   ]
  },
  {
   "cell_type": "code",
   "execution_count": null,
   "metadata": {
    "slideshow": {
     "slide_type": "slide"
    }
   },
   "outputs": [],
   "source": [
    "dfa = sns.load_dataset('anscombe')\n",
    "# look at how we get an apostrophe...\n",
    "print(\"The size of Anscombe's data set is:\", dfa.shape)"
   ]
  },
  {
   "cell_type": "markdown",
   "metadata": {
    "slideshow": {
     "slide_type": "fragment"
    }
   },
   "source": [
    "Let's take a look at the data set - we can look at the head and tail of the table just as we did above."
   ]
  },
  {
   "cell_type": "code",
   "execution_count": null,
   "metadata": {
    "slideshow": {
     "slide_type": "slide"
    }
   },
   "outputs": [],
   "source": [
    "dfa.head()"
   ]
  },
  {
   "cell_type": "code",
   "execution_count": null,
   "metadata": {
    "slideshow": {
     "slide_type": "fragment"
    }
   },
   "outputs": [],
   "source": [
    "dfa.tail()"
   ]
  },
  {
   "cell_type": "markdown",
   "metadata": {
    "slideshow": {
     "slide_type": "fragment"
    }
   },
   "source": [
    "It looks like the four data sets are in the `dataset` column. How can we extract them as separate items? \n",
    "\n",
    "Well, one way is to print the whole dataset and see which rows correspond to each dataset. Like this..."
   ]
  },
  {
   "cell_type": "code",
   "execution_count": null,
   "metadata": {
    "slideshow": {
     "slide_type": "slide"
    }
   },
   "outputs": [],
   "source": [
    "print(dfa)"
   ]
  },
  {
   "cell_type": "markdown",
   "metadata": {
    "slideshow": {
     "slide_type": "slide"
    }
   },
   "source": [
    "From this we can see that there are four data sets:\n",
    "I, II, III and IV. They each contain $11$ pairs $(x,y)$.\n",
    "\n",
    "- The first set occupies rows $0,1,2,\\ldots,10$\n",
    "- The second set occupies rows $11,12,\\ldots,21$\n",
    "- The third set occupies rows $22,23,\\ldots,32$\n",
    "- The fourth set occupies rows $33,34,\\ldots,43$\n",
    "\n",
    "However, this kind of technique is not going to be useful if we have a data set \n",
    "with millions of data points (rows). We certainly wont want to print them all \n",
    "like we did above.\n",
    "\n",
    "Is there another way to determine the number of distinct feature values in a\n",
    "given column of the data frame?\n",
    "\n",
    "Fortunately, yes. We want to know how many different values the `dataset` column \n",
    "has. We can do it like this."
   ]
  },
  {
   "cell_type": "code",
   "execution_count": null,
   "metadata": {
    "slideshow": {
     "slide_type": "fragment"
    }
   },
   "outputs": [],
   "source": [
    "dfa.dataset.unique()"
   ]
  },
  {
   "cell_type": "markdown",
   "metadata": {
    "slideshow": {
     "slide_type": "fragment"
    }
   },
   "source": [
    "We can count the number of different ones automatically too, by asking\n",
    "for the `shape` of the returned value. Here we go:"
   ]
  },
  {
   "cell_type": "code",
   "execution_count": null,
   "metadata": {
    "slideshow": {
     "slide_type": "fragment"
    }
   },
   "outputs": [],
   "source": [
    "dfa.dataset.unique().shape"
   ]
  },
  {
   "cell_type": "markdown",
   "metadata": {
    "slideshow": {
     "slide_type": "fragment"
    }
   },
   "source": [
    "This tell us that there are 4 items - as expected.\n",
    "Don't worry too much about it saying `(4,)` rather that just `4`. \n",
    "We've seen what `shape` refers to earlier."
   ]
  },
  {
   "cell_type": "markdown",
   "metadata": {
    "slideshow": {
     "slide_type": "slide"
    }
   },
   "source": [
    "Now, we want to extract each of the four datasets as separate data sets so we can work\n",
    "with them. We can do that by using `loc` to get the row-wise locations where each \n",
    "value of the `dataset` feature is the same.\n",
    "(Ref: <# https://stackoverflow.com/questions/17071871/how-do-i-select-rows-from-a-dataframe-based-on-column-values>)\n",
    "\n",
    "For example, to get the data for the sub-data-set `I` we can do this:"
   ]
  },
  {
   "cell_type": "code",
   "execution_count": null,
   "metadata": {
    "slideshow": {
     "slide_type": "slide"
    }
   },
   "outputs": [],
   "source": [
    "dfa.loc[dfa['dataset'] == 'I']"
   ]
  },
  {
   "cell_type": "markdown",
   "metadata": {
    "slideshow": {
     "slide_type": "slide"
    }
   },
   "source": [
    "Now we have this subset of data we can examine it - with a scatter plot \n",
    "for example."
   ]
  },
  {
   "cell_type": "code",
   "execution_count": null,
   "metadata": {
    "slideshow": {
     "slide_type": "fragment"
    }
   },
   "outputs": [],
   "source": [
    "sns.scatterplot(data=dfa.loc[dfa['dataset'] == 'I'], x=\"x\", y=\"y\")"
   ]
  },
  {
   "cell_type": "markdown",
   "metadata": {
    "slideshow": {
     "slide_type": "slide"
    }
   },
   "source": [
    "To really work properly with each subset we should extract them and give each\n",
    "of them a name that is meaningful."
   ]
  },
  {
   "cell_type": "code",
   "execution_count": null,
   "metadata": {
    "slideshow": {
     "slide_type": "fragment"
    }
   },
   "outputs": [],
   "source": [
    "# On the other hand:\n",
    "dfa1 = dfa.loc[dfa['dataset'] == 'I']\n",
    "dfa2 = dfa.loc[dfa['dataset'] == 'II']\n",
    "dfa3 = dfa.loc[dfa['dataset'] == 'III']\n",
    "dfa4 = dfa.loc[dfa['dataset'] == 'IV']\n"
   ]
  },
  {
   "cell_type": "code",
   "execution_count": null,
   "metadata": {
    "slideshow": {
     "slide_type": "slide"
    }
   },
   "outputs": [],
   "source": [
    "sns.scatterplot(data=dfa1, x=\"x\", y=\"y\")\n",
    "dfa1.describe()"
   ]
  },
  {
   "cell_type": "code",
   "execution_count": null,
   "metadata": {
    "slideshow": {
     "slide_type": "slide"
    }
   },
   "outputs": [],
   "source": [
    "sns.scatterplot(data=dfa2, x=\"x\", y=\"y\")\n",
    "dfa2.describe()"
   ]
  },
  {
   "cell_type": "code",
   "execution_count": null,
   "metadata": {
    "slideshow": {
     "slide_type": "slide"
    }
   },
   "outputs": [],
   "source": [
    "sns.scatterplot(data=dfa3, x=\"x\", y=\"y\")\n",
    "dfa3.describe()"
   ]
  },
  {
   "cell_type": "code",
   "execution_count": null,
   "metadata": {
    "slideshow": {
     "slide_type": "slide"
    }
   },
   "outputs": [],
   "source": [
    "sns.scatterplot(data=dfa4, x=\"x\", y=\"y\")\n",
    "dfa4.describe()"
   ]
  },
  {
   "cell_type": "markdown",
   "metadata": {
    "slideshow": {
     "slide_type": "slide"
    }
   },
   "source": [
    "## Exercises\n",
    "\n",
    "For the Anscombe data set:\n",
    "\n",
    "1. Which of the summary statistics for $x$ are the same or similar for each subset?\n",
    "1. Which of the summary statistics for $y$ are the same or similar for each subset?\n",
    "\n",
    "Look at the `diamonds` data set\n",
    "\n",
    "1. How many diamonds are listed there?\n",
    "2. How many attributes, or features, does each have?\n",
    "2. Create a scatter plot of price against carat.\n",
    "\n",
    "```\n",
    "1: dfd = sns.load_dataset('diamonds')\n",
    "dfd.shape\n",
    "53940 and 10\n",
    "2: sns.scatterplot(data=dfd, x=\"carat\", y=\"price\")\n",
    "```"
   ]
  },
  {
   "cell_type": "markdown",
   "metadata": {
    "slideshow": {
     "slide_type": "skip"
    }
   },
   "source": [
    "## Technical Notes, Production and Archiving\n",
    "\n",
    "Ignore the material below. What follows is not relevant to the material being taught."
   ]
  },
  {
   "cell_type": "markdown",
   "metadata": {
    "slideshow": {
     "slide_type": "skip"
    }
   },
   "source": [
    "#### Production Workflow\n",
    "\n",
    "- Finalise the notebook material above\n",
    "- Clear and fresh run of entire notebook\n",
    "- Create html slide show:\n",
    "  - `jupyter nbconvert --to slides A_worksheet.ipynb `\n",
    "- Set `OUTPUTTING=1` below\n",
    "- Comment out the display of web-sourced diagrams\n",
    "- Clear and fresh run of entire notebook\n",
    "- Comment back in the display of web-sourced diagrams\n",
    "- Clear all cell output\n",
    "- Set `OUTPUTTING=0` below\n",
    "- Save\n",
    "- git add, commit and push to FML\n",
    "- copy PDF, HTML etc to web site\n",
    "  - git add, commit and push\n",
    "- rebuild binder"
   ]
  },
  {
   "cell_type": "markdown",
   "metadata": {
    "slideshow": {
     "slide_type": "skip"
    }
   },
   "source": [
    "Some of this originated from\n",
    "\n",
    "<https://stackoverflow.com/questions/38540326/save-html-of-a-jupyter-notebook-from-within-the-notebook>\n",
    "\n",
    "These lines create a back up of the notebook. They can be ignored.\n",
    "\n",
    "At some point this is better as a bash script outside of the notebook"
   ]
  },
  {
   "cell_type": "code",
   "execution_count": null,
   "metadata": {
    "slideshow": {
     "slide_type": "skip"
    }
   },
   "outputs": [],
   "source": [
    "%%bash\n",
    "NBROOTNAME='A_worksheet'\n",
    "OUTPUTTING=0\n",
    "\n",
    "if [ $OUTPUTTING -eq 1 ]; then\n",
    "  jupyter nbconvert --to html $NBROOTNAME.ipynb\n",
    "  cp $NBROOTNAME.html ../backups/$(date +\"%m_%d_%Y-%H%M%S\")_$NBROOTNAME.html\n",
    "  mv -f $NBROOTNAME.html ./formats/html/\n",
    "\n",
    "  jupyter nbconvert --to pdf $NBROOTNAME.ipynb\n",
    "  cp $NBROOTNAME.pdf ../backups/$(date +\"%m_%d_%Y-%H%M%S\")_$NBROOTNAME.pdf\n",
    "  mv -f $NBROOTNAME.pdf ./formats/pdf/\n",
    "\n",
    "  jupyter nbconvert --to script $NBROOTNAME.ipynb\n",
    "  cp $NBROOTNAME.py ../backups/$(date +\"%m_%d_%Y-%H%M%S\")_$NBROOTNAME.py\n",
    "  mv -f $NBROOTNAME.py ./formats/py/\n",
    "else\n",
    "  echo 'Not Generating html, pdf and py output versions'\n",
    "fi"
   ]
  },
  {
   "cell_type": "code",
   "execution_count": null,
   "metadata": {},
   "outputs": [],
   "source": []
  }
 ],
 "metadata": {
  "celltoolbar": "Slideshow",
  "kernelspec": {
   "display_name": "Python 3",
   "language": "python",
   "name": "python3"
  },
  "language_info": {
   "codemirror_mode": {
    "name": "ipython",
    "version": 3
   },
   "file_extension": ".py",
   "mimetype": "text/x-python",
   "name": "python",
   "nbconvert_exporter": "python",
   "pygments_lexer": "ipython3",
   "version": "3.7.1"
  }
 },
 "nbformat": 4,
 "nbformat_minor": 4
}
