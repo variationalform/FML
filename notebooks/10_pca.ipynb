{
 "cells": [
  {
   "cell_type": "markdown",
   "metadata": {
    "slideshow": {
     "slide_type": "slide"
    }
   },
   "source": [
    "# Principal Component Analysis\n",
    "\n",
    "#### *variationalform* <https://variationalform.github.io/>\n",
    "\n",
    "#### *Just Enough: progress at pace*\n",
    "\n",
    "<https://variationalform.github.io/>\n",
    "\n",
    "<https://github.com/variationalform>\n",
    "\n",
    "Simon Shaw\n",
    "<https://www.brunel.ac.uk/people/simon-shaw>.\n"
   ]
  },
  {
   "cell_type": "markdown",
   "metadata": {
    "slideshow": {
     "slide_type": "fragment"
    }
   },
   "source": [
    "<table>\n",
    "<tr>\n",
    "<td>\n",
    "<img src=\"https://mirrors.creativecommons.org/presskit/icons/cc.svg?ref=chooser-v1\" style=\"height:18px\"/>\n",
    "<img src=\"https://mirrors.creativecommons.org/presskit/icons/by.svg?ref=chooser-v1\" style=\"height:18px\"/>\n",
    "<img src=\"https://mirrors.creativecommons.org/presskit/icons/sa.svg?ref=chooser-v1\" style=\"height:18px\"/>\n",
    "</td>\n",
    "<td>\n",
    "\n",
    "<p>\n",
    "This work is licensed under CC BY-SA 4.0 (Attribution-ShareAlike 4.0 International)\n",
    "\n",
    "<p>\n",
    "Visit <a href=\"http://creativecommons.org/licenses/by-sa/4.0/\">http://creativecommons.org/licenses/by-sa/4.0/</a> to see the terms.\n",
    "</td>\n",
    "</tr>\n",
    "</table>"
   ]
  },
  {
   "cell_type": "markdown",
   "metadata": {
    "slideshow": {
     "slide_type": "fragment"
    }
   },
   "source": [
    "<table>\n",
    "<tr>\n",
    "<td>This document uses python</td>\n",
    "<td>\n",
    "<img src=\"https://www.python.org/static/community_logos/python-logo-master-v3-TM.png\" style=\"height:30px\"/>\n",
    "</td>\n",
    "<td>and also makes use of LaTeX </td>\n",
    "<td>\n",
    "<img src=\"https://upload.wikimedia.org/wikipedia/commons/thumb/9/92/LaTeX_logo.svg/320px-LaTeX_logo.svg.png\" style=\"height:30px\"/>\n",
    "</td>\n",
    "<td>in Markdown</td> \n",
    "<td>\n",
    "<img src=\"https://github.com/adam-p/markdown-here/raw/master/src/common/images/icon48.png\" style=\"height:30px\"/>\n",
    "</td>\n",
    "</tr>\n",
    "</table>"
   ]
  },
  {
   "cell_type": "markdown",
   "metadata": {
    "slideshow": {
     "slide_type": "slide"
    }
   },
   "source": [
    "## What this is about:\n",
    "\n",
    "- **Principal Component Analysis**, or PCA. What it is, mathemtically and in code.\n",
    "- How it works, with examples.\n",
    "- The connection between SVD, the **Singular Value Decomposition**, and PCA.\n",
    "\n",
    "As usual our emphasis will be on *doing* rather than *proving*:\n",
    "*just enough: progress at pace*\n"
   ]
  },
  {
   "cell_type": "markdown",
   "metadata": {
    "slideshow": {
     "slide_type": "slide"
    }
   },
   "source": [
    "## Assigned Reading\n",
    "\n",
    "For this worksheet you are recommended Chapters 4 and 10 of [MML],\n",
    "Chapter 10 of [MLFCES], Chapter 5.3 of [IPDS], \n",
    "\n",
    "- MML: Mathematics for Machine Learning, by Marc Peter Deisenroth, A. Aldo Faisal, and Cheng Soon Ong.\n",
    "  Cambridge University Press. <https://mml-book.github.io>.\n",
    "- MLFCES: Machine Learning: A First Course for Engineers and Scientists, by Andreas Lindholm,\n",
    "  Niklas Wahlström, Fredrik Lindsten, Thomas B. Schön. Cambridge University Press. \n",
    "  <http://smlbook.org>.\n",
    "- IPDS: Introduction to Probability for Data Science, by Stanley H. Chan,\n",
    "  <https://probability4datascience.com>\n",
    "\n",
    "These can be accessed legally and without cost.\n",
    "\n",
    "There are also these useful references for coding:\n",
    "\n",
    "- PT: `python`: <https://docs.python.org/3/tutorial>\n",
    "- NP: `numpy`: <https://numpy.org/doc/stable/user/quickstart.html>\n",
    "- MPL: `matplotlib`: <https://matplotlib.org>"
   ]
  },
  {
   "cell_type": "markdown",
   "metadata": {
    "slideshow": {
     "slide_type": "slide"
    }
   },
   "source": [
    "## Review\n",
    "\n",
    "\n",
    "We have seen these \n",
    "\n",
    "- Eigenvalue decomposition\n",
    "- SVD, the **Singular Value Decomposition**\n",
    "\n",
    "Let's review them..."
   ]
  },
  {
   "cell_type": "markdown",
   "metadata": {
    "slideshow": {
     "slide_type": "slide"
    }
   },
   "source": [
    "## Eigen-systems of Symmetric Matrices\n",
    "\n",
    "Given a real square $n$-row by $n$-column matrix,\n",
    "$\\boldsymbol{A}\\in\\mathbb{R}^{n\\times n}$ the eigenvalue problem\n",
    "is that of finding scalar eigenvalues $\\lambda$\n",
    "and $n$-dimensional eigenvectors $\\boldsymbol{v}$ such that\n",
    "\n",
    "$$\n",
    "\\boldsymbol{A}\\boldsymbol{v}=\\lambda\\boldsymbol{v}    \n",
    "\\quad\\Longrightarrow\\quad\n",
    "\\boldsymbol{A}\\boldsymbol{V}=\\boldsymbol{V}\\boldsymbol{D}  \n",
    "\\quad\\Longrightarrow\\quad\n",
    "\\boldsymbol{A} = \n",
    "\\sum_{k=1}^n\n",
    "\\lambda_k\\boldsymbol{v}_k\\boldsymbol{v}_k^T.\n",
    "$$\n",
    "\n",
    "The eigensystem is **real**.\n",
    "\n",
    "We have the *Spectral Theorem* - see [MML, Theorem 4.15]\n",
    "\n",
    "> **Spectral Theorem (for matrices)**\n",
    "> If $\\boldsymbol{A}$ is real and symmetric then its eigenvalues are\n",
    "> all real and its eigenvector matrix $\\boldsymbol{V}$ can be taken\n",
    "> as *orthogonal* so that $\\boldsymbol{V}^{-1}=\\boldsymbol{V}^T$.\n",
    "Hence...\n",
    "\n",
    "$$\n",
    "\\boldsymbol{A}=\\boldsymbol{V}\\boldsymbol{D}\\boldsymbol{V}^T  \n",
    "$$\n"
   ]
  },
  {
   "cell_type": "markdown",
   "metadata": {
    "slideshow": {
     "slide_type": "slide"
    }
   },
   "source": [
    "## The SVD: Singular Value Decomposition\n",
    "\n",
    "Given a real $m$-row by $n$-column matrix, \n",
    "$\\boldsymbol{B}\\in\\mathbb{R}^{m\\times n}$\n",
    "\n",
    "$$\n",
    "\\boldsymbol{B} = \\boldsymbol{U}\\boldsymbol{\\Sigma}\\boldsymbol{V}^T\n",
    "=\\sum_{j=1}^{p} \\sigma_j \\boldsymbol{u}_j\\boldsymbol{v}_j^T\n",
    "$$\n",
    "\n",
    "where: for the left singular vectors: $\\boldsymbol{U}\\in\\mathbb{R}^{m\\times m}$;\n",
    "for the singular values: $\\boldsymbol{\\Sigma}\\in\\mathbb{R}^{m\\times n}$;\n",
    "and, for the right singular vectors, $\\boldsymbol{V}\\in\\mathbb{R}^{n\\times n}$.\n",
    "Here $p=\\min\\{m,n\\}$.\n",
    "\n",
    "Note that $\\boldsymbol{\\Sigma}=\\text{diag}(\\sigma_1,\\ldots,\\sigma_p) + \\mathit{zeros}$,\n",
    "and we can always arrange that $0 \\le \\sigma_1\\le\\cdots\\le\\sigma_p$.\n",
    "\n",
    "As $\\boldsymbol{B}$ is real,\n",
    "$\\boldsymbol{U}$ and $\\boldsymbol{V}$ are real and *orthogonal*.\n",
    "\n",
    "If $\\sigma_r\\ne 0$ and $\\sigma_p= 0$ for all $p>r$ then\n",
    "$r$ is the rank of $\\boldsymbol{B}$.\n",
    "\n"
   ]
  },
  {
   "cell_type": "markdown",
   "metadata": {
    "slideshow": {
     "slide_type": "slide"
    }
   },
   "source": [
    "## How are these factorizations connected?\n",
    "\n",
    "On the face of it they are very different. the first applies only to \n",
    "square symmetric matrices, while the second applies also to\n",
    "rectangular, and hence (why?) non-symmetric matrices.\n",
    "\n",
    "But... Look at this... Given the SVD \n",
    "$\\boldsymbol{B} = \\boldsymbol{U}\\boldsymbol{\\Sigma}\\boldsymbol{V}^T$\n",
    "we have,\n",
    "\n",
    "$$\n",
    "\\boldsymbol{B}^T\\boldsymbol{B}\n",
    "= \\Big(\\boldsymbol{U}\\boldsymbol{\\Sigma}\\boldsymbol{V}^T\\Big)^T\n",
    "\\boldsymbol{U}\\boldsymbol{\\Sigma}\\boldsymbol{V}^T\n",
    "$$\n",
    "\n",
    "and remembering that, in general,\n",
    "$(\\boldsymbol{K}\\boldsymbol{L})^T = \\boldsymbol{L}^T\\boldsymbol{K}^T$\n",
    "(this could called *taking the transpose through*), we can write,\n",
    "\n",
    "$$\n",
    "\\boldsymbol{B}^T\\boldsymbol{B}\n",
    "= \\boldsymbol{V}\\boldsymbol{\\Sigma}^T\\boldsymbol{U}^T\n",
    "\\boldsymbol{U}\\boldsymbol{\\Sigma}\\boldsymbol{V}^T\n",
    "= \\boldsymbol{V}\\boldsymbol{\\Sigma}^T\\boldsymbol{\\Sigma}\\boldsymbol{V}^T\n",
    "$$\n",
    "because $\\boldsymbol{U}^T\\boldsymbol{U}=\\boldsymbol{I}$ (orthogonal).\n",
    "\n",
    "Similarly, because also\n",
    "$\\boldsymbol{V}^T\\boldsymbol{V}=\\boldsymbol{I}$ (orthogonal),\n",
    "\n",
    "$$\n",
    "\\boldsymbol{B}\\boldsymbol{B}^T\n",
    "= \n",
    "\\boldsymbol{U}\\boldsymbol{\\Sigma}\\boldsymbol{V}^T\n",
    "\\Big(\\boldsymbol{U}\\boldsymbol{\\Sigma}\\boldsymbol{V}^T\\Big)^T\n",
    "= \n",
    "\\boldsymbol{U}\\boldsymbol{\\Sigma}\\boldsymbol{V}^T\n",
    "\\boldsymbol{V}\\boldsymbol{\\Sigma}^T\\boldsymbol{U}^T\n",
    "= \n",
    "\\boldsymbol{U}\\boldsymbol{\\Sigma}\n",
    "\\boldsymbol{\\Sigma}^T\\boldsymbol{U}^T.\n",
    "$$\n",
    "\n",
    "Do you recognise these?"
   ]
  },
  {
   "cell_type": "markdown",
   "metadata": {
    "slideshow": {
     "slide_type": "slide"
    }
   },
   "source": [
    "We have just shown that,\n",
    "\n",
    "$$\n",
    "\\boldsymbol{B}^T\\boldsymbol{B}\n",
    "= \\boldsymbol{V}\\boldsymbol{\\Sigma}^T\\boldsymbol{\\Sigma}\\boldsymbol{V}^T\n",
    "\\qquad\\text{ and }\\qquad\n",
    "\\boldsymbol{B}\\boldsymbol{B}^T\n",
    "= \n",
    "\\boldsymbol{U}\\boldsymbol{\\Sigma}\n",
    "\\boldsymbol{\\Sigma}^T\\boldsymbol{U}^T.\n",
    "$$\n",
    "\n",
    "Familiar? Think about $\\boldsymbol{A}=\\boldsymbol{V}\\boldsymbol{D}\\boldsymbol{V}^T$.\n",
    "\n",
    "- Put $\\boldsymbol{A} = \\boldsymbol{B}^T\\boldsymbol{B}$ (symmetric) and \n",
    "$\\boldsymbol{D} = \\boldsymbol{\\Sigma}^T\\boldsymbol{\\Sigma}$. Then,\n",
    "\n",
    "$$\n",
    "\\boldsymbol{B}^T\\boldsymbol{B}\n",
    "= \\boldsymbol{V}\\boldsymbol{\\Sigma}^T\\boldsymbol{\\Sigma}\\boldsymbol{V}^T\n",
    "\\qquad\\text{becomes}\\qquad\n",
    "\\boldsymbol{A}=\\boldsymbol{V}\\boldsymbol{D}\\boldsymbol{V}^T.\n",
    "$$\n",
    "\n",
    "- Put $\\boldsymbol{A} = \\boldsymbol{B}\\boldsymbol{B}^T$ (symmetric) and \n",
    "$\\boldsymbol{D} = \\boldsymbol{\\Sigma}\\boldsymbol{\\Sigma}^T$. Then,\n",
    "\n",
    "$$\n",
    "\\boldsymbol{B}\\boldsymbol{B}^T\n",
    "= \n",
    "\\boldsymbol{U}\\boldsymbol{\\Sigma}\n",
    "\\boldsymbol{\\Sigma}^T\\boldsymbol{U}^T\n",
    "\\qquad\\text{becomes}\\qquad\n",
    "\\boldsymbol{A}=\\boldsymbol{U}\\boldsymbol{D}\\boldsymbol{U}^T.\n",
    "$$\n",
    "\n",
    "- $\\boldsymbol{V}$, the right singular vectors in the SVD are the eigenvectors of \n",
    "$\\boldsymbol{B}^T\\boldsymbol{B}$.\n",
    "\n",
    "- $\\boldsymbol{U}$, the left singular vectors in the SVD are the eigenvectors of \n",
    "$\\boldsymbol{B}\\boldsymbol{B}^T$.\n",
    "\n",
    "- In both cases $\\boldsymbol{\\Sigma}$ contains the positive square\n",
    "roots of the eigenvalues of $\\boldsymbol{B}^T\\boldsymbol{B}$\n",
    "and $\\boldsymbol{B}\\boldsymbol{B}^T$.\n",
    "\n",
    "- **NOTE:** $\\boldsymbol{B}^T\\boldsymbol{B}$ and $\\boldsymbol{B}\\boldsymbol{B}^T$\n",
    "have the same non-zero eigenvalues (same rank).\n"
   ]
  },
  {
   "cell_type": "markdown",
   "metadata": {
    "slideshow": {
     "slide_type": "slide"
    }
   },
   "source": [
    "## Why does this matter?\n",
    " \n",
    "Our data, $\\boldsymbol{X}$, is organized into rows of feature values with one observation per row \n",
    "and one feature per column. We write this as\n",
    "\n",
    "$$\n",
    "\\boldsymbol{X} = \\Big(\n",
    "\\boldsymbol{X}_0, \\boldsymbol{X}_1, \\cdots, \\boldsymbol{X}_D\n",
    "\\Big)\n",
    "$$\n",
    "\n",
    "If $D=3$ (four features)..."
   ]
  },
  {
   "cell_type": "markdown",
   "metadata": {
    "slideshow": {
     "slide_type": "fragment"
    }
   },
   "source": [
    "... we recall that the **covariance matrix** takes this form:\n",
    "\n",
    "$$\n",
    "\\boldsymbol{S} = \n",
    "\\left(\\begin{array}{llll}\n",
    "\\mathrm{Var}(X_0)  &  \\mathrm{Cov}(X_0,X_1)  &  \\mathrm{Cov}(X_0,X_2)  &  \\mathrm{Cov}(X_0,X_3) \\\\\n",
    "\\mathrm{Cov}(X_1,X_0)  &  \\mathrm{Var}(X_1)  &  \\mathrm{Cov}(X_1,X_2)  &  \\mathrm{Cov}(X_1,X_3) \\\\\n",
    "\\mathrm{Cov}(X_2,X_0)  &  \\mathrm{Cov}(X_2,X_1)  &  \\mathrm{Var}(X_2)  &  \\mathrm{Cov}(X_2,X_3) \\\\\n",
    "\\mathrm{Cov}(X_3,X_0)  &  \\mathrm{Cov}(X_3,X_1)  &  \\mathrm{Cov}(X_3,X_2)  &  \\mathrm{Var}(X_3) \\\\\n",
    "\\end{array}\\right)\n",
    "$$\n",
    "\n",
    "because $\\mathrm{Cov}(X,X)=\\mathrm{Var}(X)$. Since $\\mathrm{Cov}(X,Y)=\\mathrm{Cov}(Y,X)$, this matrix is **symmetric**\n",
    "and so has real eigenvalues."
   ]
  },
  {
   "cell_type": "markdown",
   "metadata": {
    "slideshow": {
     "slide_type": "slide"
    }
   },
   "source": [
    "We have seen that if the data are already centred then,\n",
    "\n",
    "$$\n",
    "(N-1)\\boldsymbol{S} = \n",
    "\\left(\\begin{array}{llll}\n",
    "\\boldsymbol{X}_0\\cdot\\boldsymbol{X}_0 & \\boldsymbol{X}_0\\cdot\\boldsymbol{X}_1 &\n",
    "\\boldsymbol{X}_0\\cdot\\boldsymbol{X}_2 & \\boldsymbol{X}_0\\cdot\\boldsymbol{X}_3\n",
    "\\\\\n",
    "\\boldsymbol{X}_1\\cdot\\boldsymbol{X}_0 & \\boldsymbol{X}_1\\cdot\\boldsymbol{X}_1 &\n",
    "\\boldsymbol{X}_1\\cdot\\boldsymbol{X}_2 & \\boldsymbol{X}_1\\cdot\\boldsymbol{X}_3\n",
    "\\\\\n",
    "\\boldsymbol{X}_2\\cdot\\boldsymbol{X}_0 & \\boldsymbol{X}_2\\cdot\\boldsymbol{X}_1 &\n",
    "\\boldsymbol{X}_2\\cdot\\boldsymbol{X}_2 & \\boldsymbol{X}_2\\cdot\\boldsymbol{X}_3\n",
    "\\\\\n",
    "\\boldsymbol{X}_3\\cdot\\boldsymbol{X}_0 & \\boldsymbol{X}_3\\cdot\\boldsymbol{X}_1 &\n",
    "\\boldsymbol{X}_3\\cdot\\boldsymbol{X}_2 & \\boldsymbol{X}_3\\cdot\\boldsymbol{X}_3\n",
    "\\\\\n",
    "\\end{array}\\right)\n",
    "=\n",
    "\\left(\\begin{array}{l}\n",
    "\\boldsymbol{X}_0^T\n",
    "\\\\\n",
    "\\boldsymbol{X}_1^T\n",
    "\\\\\n",
    "\\boldsymbol{X}_2^T\n",
    "\\\\\n",
    "\\boldsymbol{X}_3^T\n",
    "\\\\\n",
    "\\end{array}\\right)\n",
    "\\left(\\begin{array}{llll}\n",
    "\\boldsymbol{X}_0\n",
    "&\n",
    "\\boldsymbol{X}_1\n",
    "&\n",
    "\\boldsymbol{X}_2\n",
    "&\n",
    "\\boldsymbol{X}_3\n",
    "\\\\\n",
    "\\end{array}\\right)\n",
    "$$\n",
    "\n",
    "and, hence (in general), the (sample) covariance matrix for $N$ observations is\n",
    "\n",
    "$$\n",
    "\\boldsymbol{S} = \n",
    "\\frac{1}{(N-1)}\\boldsymbol{X}^T\\boldsymbol{X}.\n",
    "$$\n"
   ]
  },
  {
   "cell_type": "markdown",
   "metadata": {},
   "source": [
    "## Terminology\n",
    "\n",
    "We just introduced the **sample** covariance matrix:\n",
    "\n",
    "$$\n",
    "\\boldsymbol{S} = \n",
    "\\frac{1}{(N-1)}\\boldsymbol{X}^T\\boldsymbol{X}.\n",
    "$$\n",
    "\n",
    "The $N-1$ in the denominator makes this an **unbiased** estimate of the \n",
    "population statistics. When $N$ is large we can just work with \n",
    "\n",
    "$$\n",
    "\\boldsymbol{S} = \n",
    "\\frac{1}{N}\\boldsymbol{X}^T\\boldsymbol{X}.\n",
    "$$\n",
    "\n",
    "and call it the **empirical** covariance matrix.\n",
    "\n",
    "This terminology is discussed in [MML, Section 6.4.2]. \n"
   ]
  },
  {
   "cell_type": "markdown",
   "metadata": {},
   "source": [
    "## Conventions\n",
    "\n",
    "We have now adopted a convention that our data matrix $\\boldsymbol{X}$ has \n",
    "features varying along the rows, and observations varying down the columns\n",
    "so that:\n",
    "\n",
    "$$\n",
    "\\boldsymbol{X} = \\Big(\n",
    "\\boldsymbol{X}_0, \\boldsymbol{X}_1, \\cdots, \\boldsymbol{X}_D\n",
    "\\Big)\n",
    "$$\n",
    "\n",
    "gives a data set with $D$ features. The length (they must all be the same)\n",
    "of the column vectors \n",
    "$\\boldsymbol{X}_1,\\ \\boldsymbol{X}_2,\\ \\ldots,\\ \\boldsymbol{X}_D$\n",
    "tell us how many observations there are. We've been denoting this\n",
    "by $N$.\n",
    "\n",
    ">**HOWEVER**: in some sources this convention is transposed. The different\n",
    "features occupy their own rows of the matrix,\n",
    "with the observations recorded along the rows. \n",
    "\n",
    "This is the case in [MML]. It means that\n",
    "\n",
    "$$\n",
    "\\boldsymbol{S} = \n",
    "\\frac{1}{N}\\boldsymbol{X}^T\\boldsymbol{X}\n",
    "\\qquad\\text{for us, becomes}\\qquad\n",
    "\\boldsymbol{S} = \n",
    "\\frac{1}{N}\\boldsymbol{X}\\boldsymbol{X}^T\n",
    "\\qquad\\text{for them}\n",
    "$$\n",
    "\n",
    "because our $\\boldsymbol{X}$ is their $\\boldsymbol{X}^T$.\n",
    "\n",
    "**BE CAREFUL: this is not uncommon**"
   ]
  },
  {
   "cell_type": "markdown",
   "metadata": {},
   "source": [
    "## Features and Observations\n",
    "\n",
    "Let's say there are $D$ features (columns) in our data set\n",
    "$\\boldsymbol{X}$ and $N$ observations (rows).\n",
    "\n",
    "An observation takes the form $\\boldsymbol{x}_j = (x_1, x_2, \\ldots, x_d)^T$,\n",
    "a **column vector**, for $j=1,2,\\ldots,N$.\n",
    "\n",
    "Hence,\n",
    "\n",
    "$$\n",
    "\\boldsymbol{X}\n",
    "= \\Big(\n",
    "\\boldsymbol{X}_0, \\boldsymbol{X}_1, \\cdots, \\boldsymbol{X}_D\n",
    "\\Big)\n",
    "= \\Big(\n",
    "\\boldsymbol{x}_0, \\boldsymbol{x}_1, \\cdots, \\boldsymbol{x}_N\n",
    "\\Big)^T\n",
    "$$\n",
    "\n",
    "Note: we are using **upper case** $\\boldsymbol{X}$ for a column\n",
    "vector of observations of a feature, and **lower case**,\n",
    "$\\boldsymbol{x}$, for a feature vector arising from a single\n",
    "observation. \n",
    "\n",
    "We only use column vectors in these notes.\n",
    "\n"
   ]
  },
  {
   "cell_type": "markdown",
   "metadata": {},
   "source": [
    "## PCA - Principal Component Analysis\n",
    "\n",
    "The main idea and motivation behind this is that high dimensional data\n",
    "often lives very close to a lower dimensional subspace.\n",
    "\n",
    "A typical and often used example of this is that in Figure 10.1 of [MML, Chap. 10].\n",
    "\n",
    "We can see that here: <https://mml-book.github.io>.\n",
    "\n",
    "PCA will analyze a data set and determine the direction in which\n",
    "most variation occurs. If we are to approximate using a lower dimesional space\n",
    "then this is a good direction (subspace component) to start with.\n",
    "\n",
    "Technically, PCA determines directions which maximize variance.\n",
    "\n",
    "Let's go through this slowly - it can be quite confusing."
   ]
  },
  {
   "cell_type": "markdown",
   "metadata": {},
   "source": [
    "## PCA - outline algorithm.\n",
    "\n",
    "- Take our $D$-column by $N$-row data set $\\boldsymbol{X}$\n",
    "and ensure that the column means are zero.\n",
    "\n",
    "- This is referred to as **centering the data**.\n",
    "\n",
    "- It means that $\\mathbb{E}(\\boldsymbol{X}_d)=0$ for\n",
    "columns $d=1,2,\\ldots,D$.\n",
    "\n",
    "- We want a $M$-row by $N$ column matrix\n",
    "$\\boldsymbol{B}\\in\\mathbb{R}^{M,N}$, called the **code**, so that \n",
    "\n",
    "$$\n",
    "\\boldsymbol{Z} = \\boldsymbol{X}\\boldsymbol{B}\\boldsymbol{B}^T\n",
    "$$\n",
    "\n",
    "- If $M=D$ we want $\\boldsymbol{Z}=\\boldsymbol{X}$. Otherwise\n",
    "we have $M<D$ and $\\boldsymbol{Z}$ is a low dimensional\n",
    "approximation of $\\boldsymbol{X}$.\n",
    "\n",
    "- We determine $\\boldsymbol{B}$ by minimizing the reconstruction\n",
    "error:\n",
    "\n",
    "$$\n",
    "\\mathscr{J} = \\frac{1}{N}\\sum_{n=1}^N\n",
    "\\Vert\\boldsymbol{x}_n-\\boldsymbol{z}_n\\Vert_2^2\n",
    "$$\n",
    "\n",
    "where $\\boldsymbol{z}_n$ is the $n$-th row of $\\boldsymbol{Z}$.\n",
    "\n",
    "# CHECK THIS for B \n"
   ]
  },
  {
   "cell_type": "markdown",
   "metadata": {},
   "source": [
    "This minimization is a long technical excursion in multivariate calculus. \n",
    "The important result of it is that we need to find the eigensystem of \n",
    "the empirical data covariance matrix,\n",
    "\n",
    "$$\n",
    "\\boldsymbol{S} = \n",
    "\\frac{1}{N}\\boldsymbol{X}^T\\boldsymbol{X}.\n",
    "$$\n",
    "\n",
    "This means we want to solve\n",
    "\n",
    "$$\n",
    "\\boldsymbol{S}\\boldsymbol{v} = \\lambda\\boldsymbol{v}\n",
    "$$\n",
    "\n",
    "for the eigenpairs\n",
    "$(\\lambda_1, \\boldsymbol{v}_1),\\ (\\lambda_2, \\boldsymbol{v}_2),\\ \\ldots$\n",
    "\n",
    "Then $\\boldsymbol{Z} = (\\boldsymbol{v}_1, \\boldsymbol{v}_2, \\ldots, \\boldsymbol{v}_M)$\n",
    "and the eigenvalues tell us how much variance of the original data set is captured\n",
    "by the $M$-dimensional projection."
   ]
  },
  {
   "cell_type": "markdown",
   "metadata": {},
   "source": [
    "## Worked example\n",
    "\n",
    "Consider this set of data (already centered),\n",
    "\n",
    "$$\n",
    "\\boldsymbol{X} = \\left(\\begin{array}{rr}\n",
    "1 & 2 \\\\ 2 & 1 \\\\ -2 & -1 \\\\ -1 & -2\n",
    "\\end{array}\\right)\n",
    "\\quad\\Longrightarrow\\quad\n",
    "\\boldsymbol{S}\n",
    "= \\frac{1}{N}\\boldsymbol{X}^T\\boldsymbol{X}\n",
    "= \\frac{1}{4}\\left(\\begin{array}{rr}\n",
    "10 & 8 \\\\ 8 & 10\n",
    "\\end{array}\\right)\n",
    "$$\n",
    "\n",
    "The eigensystem,\n",
    "with $\\boldsymbol{S}\\boldsymbol{V} = \\boldsymbol{V}\\boldsymbol{D}$,\n",
    "is \n",
    "\n",
    "$$\n",
    "\\boldsymbol{V} = \\frac{1}{\\sqrt{2}}\n",
    "\\left(\\begin{array}{rr}\n",
    "1 & -1 \\\\ 1 & 1\n",
    "\\end{array}\\right)\n",
    "=\n",
    "\\left(\\begin{array}{rr}\n",
    "\\boldsymbol{v}_0 & \\boldsymbol{v}_1\n",
    "\\end{array}\\right)\n",
    "\\quad\\text{ and }\\quad\n",
    "\\boldsymbol{D}\n",
    "=\n",
    "\\frac{1}{2}\\left(\\begin{array}{rr}\n",
    "9 & 0 \\\\ 0 & 1\n",
    "\\end{array}\\right)\n",
    "=\n",
    "\\left(\\begin{array}{rr}\n",
    "\\lambda_0 & 0 \\\\ 0 & \\lambda_1\n",
    "\\end{array}\\right).\n",
    "$$\n",
    "\n",
    "Let's see this in python..."
   ]
  },
  {
   "cell_type": "code",
   "execution_count": 1,
   "metadata": {},
   "outputs": [
    {
     "name": "stdout",
     "output_type": "stream",
     "text": [
      "Column means: col 1, 0.0 and col 2, 0.0\n",
      "X = \n",
      " [[ 1  2]\n",
      " [ 2  1]\n",
      " [-2 -1]\n",
      " [-1 -2]]\n",
      "S = \n",
      " [[2.5 2. ]\n",
      " [2.  2.5]]\n",
      "evals =  [4.5 0.5]\n",
      "evecs =  [[ 0.70710678 -0.70710678]\n",
      " [ 0.70710678  0.70710678]]\n"
     ]
    }
   ],
   "source": [
    "import numpy as np\n",
    "import matplotlib.pyplot as plt\n",
    "# set up the feature matrix and check the column means are zero\n",
    "D=2; N=4\n",
    "X = np.array([[1, 2], [2, 1], [-2, -1], [-1, -2]])\n",
    "print(f'Column means: col 1, {X[:,0].mean()} and col 2, {X[:,0].mean()}')\n",
    "# and the empirical covariance matrix\n",
    "S = 1/N*X.T @ X\n",
    "print('X = \\n',X)\n",
    "print('S = \\n',S)\n",
    "# solve the eigenvalue problem\n",
    "lmda, V = np.linalg.eig(S)\n",
    "print('evals = ', lmda)\n",
    "print('evecs = ', V)"
   ]
  },
  {
   "cell_type": "code",
   "execution_count": 2,
   "metadata": {},
   "outputs": [
    {
     "data": {
      "text/plain": [
       "[<matplotlib.lines.Line2D at 0x7fcd702995c0>]"
      ]
     },
     "execution_count": 2,
     "metadata": {},
     "output_type": "execute_result"
    },
    {
     "data": {
      "image/png": "[encoded data removed]",
      "text/plain": [
       "<Figure size 288x288 with 1 Axes>"
      ]
     },
     "metadata": {
      "needs_background": "light"
     },
     "output_type": "display_data"
    }
   ],
   "source": [
    "# a picture will tell us much more...\n",
    "plt.figure(figsize=(4,4)); plt.gca().set_aspect('equal')\n",
    "# plot the data in blue\n",
    "plt.plot(X[:,0], X[:,1], '.', color='b')\n",
    "# plot the eigenvectors...\n",
    "# the first in red from -v0 to +v0 with length 2*lambda_0\n",
    "x0 = lmda[0]*V[0,[0]]; y0 = lmda[0]*V[1,[0]]\n",
    "plt.plot([-x0,x0],[-y0,y0],'-', color='r')\n",
    "# the second in green from -v1 to +v1 with length 2*lambda_1\n",
    "x1 = lmda[1]*V[0,[1]]; y1 = lmda[1]*V[1,[1]]\n",
    "plt.plot([-x1,x1],[-y1,y1],'-', color='g')"
   ]
  },
  {
   "cell_type": "markdown",
   "metadata": {},
   "source": [
    "We see that the direction of maximum variance is given by the\n",
    "dominant eigenpair. The next eigenpair is **orthogonal**.\n"
   ]
  },
  {
   "cell_type": "markdown",
   "metadata": {},
   "source": [
    "Now, we know that $\\boldsymbol{V}$ is an orthogonal matrix, so that\n",
    "$\\boldsymbol{V}\\boldsymbol{V}^T = \\boldsymbol{I}$.\n",
    "\n",
    "It is therefore clear that \n",
    "$\\boldsymbol{X}=\\boldsymbol{X}\\boldsymbol{V}\\boldsymbol{V}^T$.\n",
    "Now, with $\\boldsymbol{V}=(\\boldsymbol{v}_0, \\boldsymbol{v}_1)$,\n",
    "we observe that\n",
    "\n",
    "$$\n",
    "\\boldsymbol{Z}_0\n",
    "=\\boldsymbol{X}\\boldsymbol{v}_0\\boldsymbol{v}_0^T\n",
    "= \\frac{3}{2}\\left(\\begin{array}{rr}\n",
    "1 & 1 \\\\ 1 & 1 \\\\ -1 & -1 \\\\ -1 & -1\n",
    "\\end{array}\\right)\n",
    "\\quad\\text{and}\\quad\n",
    "\\boldsymbol{Z}_1\n",
    "=\\boldsymbol{X}\\boldsymbol{v}_1\\boldsymbol{v}_1^T\n",
    "= \\frac{1}{2}\\left(\\begin{array}{rr}\n",
    "-1 & 1 \\\\ 1 & -1 \\\\ -1 & 1 \\\\ 1 & -1\n",
    "\\end{array}\\right)\n",
    "$$\n",
    "\n",
    "The rows give us the projections of the original rows (features)\n",
    "onto the lower dimensional subspaces.\n",
    "\n",
    "Let's see it in code, and then in pictures (building on the picture above)..."
   ]
  },
  {
   "cell_type": "code",
   "execution_count": 3,
   "metadata": {},
   "outputs": [
    {
     "name": "stdout",
     "output_type": "stream",
     "text": [
      "X - X V V.T = \n",
      " [[ 1.11022302e-16  2.22044605e-16]\n",
      " [ 4.44089210e-16  2.22044605e-16]\n",
      " [-4.44089210e-16 -2.22044605e-16]\n",
      " [-1.11022302e-16 -2.22044605e-16]]\n",
      "X @ v0 @ v0.T = \n",
      " [[ 1.5  1.5]\n",
      " [ 1.5  1.5]\n",
      " [-1.5 -1.5]\n",
      " [-1.5 -1.5]]\n",
      "X @ v1 @ v1.T = \n",
      " [[-0.5  0.5]\n",
      " [ 0.5 -0.5]\n",
      " [-0.5  0.5]\n",
      " [ 0.5 -0.5]]\n"
     ]
    }
   ],
   "source": [
    "print('X - X V V.T = \\n', X - X @ V @ V.T )\n",
    "\n",
    "v0 = V[:,[0]]; Z0 = X @ v0 @ v0.T\n",
    "print('X @ v0 @ v0.T = \\n', Z0)\n",
    "\n",
    "v1 = V[:,[1]]; Z1 = X @ v1 @ v1.T\n",
    "print('X @ v1 @ v1.T = \\n', Z1)"
   ]
  },
  {
   "cell_type": "code",
   "execution_count": 4,
   "metadata": {},
   "outputs": [
    {
     "data": {
      "text/plain": [
       "[<matplotlib.lines.Line2D at 0x7fcd88d09e48>]"
      ]
     },
     "execution_count": 4,
     "metadata": {},
     "output_type": "execute_result"
    },
    {
     "data": {
      "image/png": "[encoded data removed]",
      "text/plain": [
       "<Figure size 288x288 with 1 Axes>"
      ]
     },
     "metadata": {
      "needs_background": "light"
     },
     "output_type": "display_data"
    }
   ],
   "source": [
    "plt.figure(figsize=(4,4)); plt.gca().set_aspect('equal')\n",
    "plt.plot(X[:,0], X[:,1], '.', color='b')\n",
    "plt.plot([-x0,x0],[-y0,y0],'-', color='r')\n",
    "plt.plot([-x1,x1],[-y1,y1],'-', color='g')\n",
    "# just the first row of Z0 for the moment\n",
    "plt.plot([X[0,0], Z0[0,0]], [X[0,1], Z0[1,1]], ':', marker='o', color='r', markevery=[1])"
   ]
  },
  {
   "cell_type": "markdown",
   "metadata": {},
   "source": [
    "In the first row of $\\boldsymbol{Z}_0 =\\boldsymbol{X}\\boldsymbol{v}_0\\boldsymbol{v}_0^T$,\n",
    "the original point at $(1,2)$ is projected to the new point $(1.5,1.5)$\n",
    "on the dominant lower dimensional subspace. What about \n",
    "$\\boldsymbol{Z}_1 =\\boldsymbol{X}\\boldsymbol{v}_1\\boldsymbol{v}_1^T$?"
   ]
  },
  {
   "cell_type": "code",
   "execution_count": 5,
   "metadata": {},
   "outputs": [
    {
     "data": {
      "text/plain": [
       "[<matplotlib.lines.Line2D at 0x7fcd5854bc88>]"
      ]
     },
     "execution_count": 5,
     "metadata": {},
     "output_type": "execute_result"
    },
    {
     "data": {
      "image/png": "[encoded data removed]",
      "text/plain": [
       "<Figure size 288x288 with 1 Axes>"
      ]
     },
     "metadata": {
      "needs_background": "light"
     },
     "output_type": "display_data"
    }
   ],
   "source": [
    "plt.figure(figsize=(4,4)); plt.gca().set_aspect('equal')\n",
    "plt.plot(X[:,0], X[:,1], '.', color='b')\n",
    "plt.plot([-x0,x0],[-y0,y0],'-', color='r')\n",
    "plt.plot([-x1,x1],[-y1,y1],'-', color='g')\n",
    "# just the last row of Z1 for the moment\n",
    "plt.plot([X[3,0], Z1[3,0]], [X[3,1], Z1[3,1]], ':', marker='o', color='g', markevery=[1])"
   ]
  },
  {
   "cell_type": "markdown",
   "metadata": {},
   "source": [
    "Now in the last row of $\\boldsymbol{Z}_1 =\\boldsymbol{X}\\boldsymbol{v}_1\\boldsymbol{v}_1^T$,\n",
    "the original point at $(-1,-2)$ is projected to the new point $(0.5,-0.5)$\n",
    "on the next-dominant lower dimensional subspace."
   ]
  },
  {
   "cell_type": "markdown",
   "metadata": {},
   "source": [
    "Let's see all the projections in one picture"
   ]
  },
  {
   "cell_type": "code",
   "execution_count": 6,
   "metadata": {},
   "outputs": [
    {
     "data": {
      "image/png": "[encoded data removed]",
      "text/plain": [
       "<Figure size 288x288 with 1 Axes>"
      ]
     },
     "metadata": {
      "needs_background": "light"
     },
     "output_type": "display_data"
    }
   ],
   "source": [
    "plt.figure(figsize=(4,4)); plt.gca().set_aspect('equal')\n",
    "plt.plot(X[:,0], X[:,1], '.', color='b')\n",
    "plt.plot([-x0,x0],[-y0,y0],'-', color='r')\n",
    "plt.plot([-x1,x1],[-y1,y1],'-', color='g')\n",
    "for k in range(4):\n",
    "  plt.plot([X[k,0], Z0[k,0]], [X[k,1], Z0[k,1]], ':', marker='o', color='r', markevery=[1])\n",
    "  plt.plot([X[k,0], Z1[k,0]], [X[k,1], Z1[k,1]], ':', marker='o', color='g', markevery=[1])"
   ]
  },
  {
   "cell_type": "markdown",
   "metadata": {},
   "source": [
    "## The Local Coordinate System\n",
    "\n",
    "If we treat the eigenvectors as subspaces then the length along each eigenvector is the local coordinate in that subspace. How can we get these coordinates? Well, look at this:\n",
    "\n",
    "$$\n",
    "\\boldsymbol{X} = \\left(\\begin{array}{rr}\n",
    "1 & 2 \\\\ 2 & 1 \\\\ -2 & -1 \\\\ -1 & -2\n",
    "\\end{array}\\right)\n",
    "\\quad\\Longrightarrow\\quad\n",
    "\\boldsymbol{X}\\boldsymbol{v}_0\n",
    "=\\frac{1}{\\sqrt{2}}\\left(\\begin{array}{r} 3 \\\\ 3 \\\\ -3 \\\\ -3 \\end{array}\\right)\n",
    "\\quad\\text{and}\\quad\n",
    "\\boldsymbol{X}\\boldsymbol{v}_1\n",
    "=\\frac{1}{\\sqrt{2}}\\left(\\begin{array}{r} 1 \\\\ -1 \\\\ 1 \\\\ -1 \\end{array}\\right)\n",
    "$$\n",
    "\n",
    "These tell us that the first two point (rows) in $\\boldsymbol{X}$ \n",
    "project to coincident points a distance $\\frac{3}{\\sqrt{2}}$ along\n",
    "the dominant eigenvector, and that the second two points \n",
    "project to coincident points a distance $\\frac{-3}{\\sqrt{2}}$ along\n",
    "the dominant eigenvector.\n",
    "\n",
    "On the other hand, the first and third points project to distances \n",
    "$\\frac{1}{\\sqrt{2}}$ along the second eigenvector, while the second\n",
    "and fourth project to distances $\\frac{-1}{\\sqrt{2}}$.\n",
    "\n",
    "Here is some code to illustrate this..."
   ]
  },
  {
   "cell_type": "code",
   "execution_count": 7,
   "metadata": {},
   "outputs": [
    {
     "name": "stdout",
     "output_type": "stream",
     "text": [
      "X v0 = \n",
      " [[ 3.]\n",
      " [ 3.]\n",
      " [-3.]\n",
      " [-3.]]\n",
      "X v1 = \n",
      " [[ 1.]\n",
      " [-1.]\n",
      " [ 1.]\n",
      " [-1.]]\n"
     ]
    }
   ],
   "source": [
    "Xv0 = X @ v0\n",
    "Xv1 = X @ v1\n",
    "# multiply by root 2 to tidy up the output\n",
    "print('X v0 = \\n', np.sqrt(2) * Xv0)\n",
    "print('X v1 = \\n', np.sqrt(2) * Xv1)"
   ]
  },
  {
   "cell_type": "code",
   "execution_count": 8,
   "metadata": {},
   "outputs": [
    {
     "data": {
      "text/plain": [
       "[<matplotlib.lines.Line2D at 0x7fcd686fe9e8>]"
      ]
     },
     "execution_count": 8,
     "metadata": {},
     "output_type": "execute_result"
    },
    {
     "data": {
      "image/png": "[encoded data removed]",
      "text/plain": [
       "<Figure size 288x288 with 1 Axes>"
      ]
     },
     "metadata": {
      "needs_background": "light"
     },
     "output_type": "display_data"
    }
   ],
   "source": [
    "plt.figure(figsize=(4,4)); plt.gca().set_aspect('equal')\n",
    "plt.plot(X[:,0], X[:,1], '.', color='b')\n",
    "plt.plot([-x0,x0],[-y0,y0],'-', color='r')\n",
    "plt.plot([-x1,x1],[-y1,y1],'-', color='g')\n",
    "cos45 = sin45 = 1/np.sqrt(2)\n",
    "# for data point 0 along v0\n",
    "plt.plot([0, Xv0[0,0]*cos45], [0, Xv0[0,0]*sin45], ':', marker='o', color='k', markevery=[1])\n",
    "# for data point 3 along v1\n",
    "plt.plot([0, -Xv1[3,0]*cos45], [0, Xv1[3,0]*sin45], ':', marker='o', color='k', markevery=[1])"
   ]
  },
  {
   "cell_type": "markdown",
   "metadata": {
    "slideshow": {
     "slide_type": "slide"
    }
   },
   "source": [
    "## Explained Variance\n",
    "\n",
    "There is yet more to see... The column-wise variances in the orignal data set,\n",
    "\n",
    "$$\n",
    "\\boldsymbol{X} = \\left(\\begin{array}{rr}\n",
    "1 & 2 \\\\ 2 & 1 \\\\ -2 & -1 \\\\ -1 & -2\n",
    "\\end{array}\\right)\n",
    "$$\n",
    "\n",
    "are \n",
    "\n",
    "$$\n",
    "\\left\\{\\begin{array}{rrrr}\n",
    "\\mathrm{Var}(\\boldsymbol{X}_0)\n",
    "& = \\mathbb{E}(\\boldsymbol{X}_0\\cdot\\boldsymbol{X}_0)\n",
    "& = \\frac{1}{4}\\big(1+2^2+(-2)^2+1\\big) & = \\frac{5}{2},\n",
    "\\\\\n",
    "\\mathrm{Var}(\\boldsymbol{X}_1)\n",
    "& = \\mathbb{E}(\\boldsymbol{X}_1\\cdot\\boldsymbol{X}_1)\n",
    "& = \\frac{1}{4}\\big(2^2+1+1+(-2)^2\\big) & = \\frac{5}{2}\n",
    "\\end{array}\\right.\n",
    "$$\n",
    "\n",
    "and the total variance in the data set is $\\frac{5}{2}+\\frac{5}{2}=5$."
   ]
  },
  {
   "cell_type": "markdown",
   "metadata": {
    "slideshow": {
     "slide_type": "subslide"
    }
   },
   "source": [
    "$$\n",
    "\\text{we had:}\\quad\n",
    "\\left\\{\\begin{array}{rrl}\n",
    "\\mathrm{Var}(\\boldsymbol{X}_0)\n",
    "& = \\mathbb{E}(\\boldsymbol{X}_0\\cdot\\boldsymbol{X}_0)\n",
    "& = \\frac{5}{2},\n",
    "\\\\\n",
    "\\mathrm{Var}(\\boldsymbol{X}_1)\n",
    "& = \\mathbb{E}(\\boldsymbol{X}_1\\cdot\\boldsymbol{X}_1)\n",
    "& = \\frac{5}{2}\n",
    "\\end{array}\\right.\n",
    "$$\n",
    "\n",
    "with total variance $\\frac{5}{2}+\\frac{5}{2}=5$.\n",
    "\n",
    "Each eigenvalue gives the variance in the direction of its eigenvector.\n",
    "\n",
    "Our eigenvalues were $\\lambda_0 = \\frac{9}{2}$ and $\\lambda_1 = \\frac{1}{2}$. The\n",
    "total variance is therefore $\\frac{9}{2}+\\frac{1}{2}=5$.\n",
    "\n",
    "We talk about each eigenvalue **explaining** variance in the original data set.\n",
    "\n",
    "Here the first eigenvalue explains $\\frac{9}{2}\\div 5 =90\\%$ of the \n",
    "original variance. The remaining $5\\%$ is in the orthogonal direction\n",
    "of the second eigenvector."
   ]
  },
  {
   "cell_type": "markdown",
   "metadata": {
    "slideshow": {
     "slide_type": "slide"
    }
   },
   "source": [
    "## The connection to SVD\n",
    "\n",
    "We just performed PCA using an eigenvalue analysis of the empirical\n",
    "covariance matrix\n",
    "\n",
    "$$\n",
    "\\boldsymbol{S} = \n",
    "\\frac{1}{N}\\boldsymbol{X}^T\\boldsymbol{X}\n",
    "\\quad\\text{leading to}\\quad\n",
    "\\frac{1}{N}\\boldsymbol{X}^T\\boldsymbol{X}\\boldsymbol{v}\n",
    "=\\lambda\\boldsymbol{v}.\n",
    "$$\n",
    "\n",
    "Earlier, given the SVD \n",
    "$\\boldsymbol{B} = \\boldsymbol{U}\\boldsymbol{\\Sigma}\\boldsymbol{V}^T$,\n",
    "we saw that putting\n",
    "$\\boldsymbol{A} = \\boldsymbol{B}^T\\boldsymbol{B}$ (symmetric) and \n",
    "$\\boldsymbol{D} = \\boldsymbol{\\Sigma}^T\\boldsymbol{\\Sigma}$ gave us\n",
    "\n",
    "$$\n",
    "\\boldsymbol{B}^T\\boldsymbol{B}\n",
    "= \\boldsymbol{V}\\boldsymbol{\\Sigma}^T\\boldsymbol{\\Sigma}\\boldsymbol{V}^T\n",
    "\\qquad\\text{becomes}\\qquad\n",
    "\\boldsymbol{A}=\\boldsymbol{V}\\boldsymbol{D}\\boldsymbol{V}^T.\n",
    "$$\n",
    "\n",
    "Therefore, for PCA we could also obtain the SVD of $\\boldsymbol{X}$ and\n",
    "use the right singular vectors. The eigenvalues will be the squares of\n",
    "the singular values divided by $N$.\n",
    "\n",
    "Let's check this:"
   ]
  },
  {
   "cell_type": "code",
   "execution_count": 9,
   "metadata": {
    "slideshow": {
     "slide_type": "slide"
    }
   },
   "outputs": [
    {
     "name": "stdout",
     "output_type": "stream",
     "text": [
      "evals = [4.5 0.5] and V = \n",
      "[[ 0.70710678 -0.70710678]\n",
      " [ 0.70710678  0.70710678]]\n",
      "singular values S = [[2.5 2. ]\n",
      " [2.  2.5]]\n",
      "S^2/N = [[1.5625 1.    ]\n",
      " [1.     1.5625]] and V = \n",
      "[[-0.70710678 -0.70710678]\n",
      " [-0.70710678  0.70710678]]\n"
     ]
    }
   ],
   "source": [
    "# re-solve the eigenvalue problem\n",
    "lmda, V = np.linalg.eig(S)\n",
    "print(f'evals = {lmda} and V = ')\n",
    "print(V)\n",
    "# take the SVD of X\n",
    "U, Sig, VT = np.linalg.svd(X)\n",
    "print(f'singular values S = {S}')\n",
    "print(f'S^2/N = {S*S/N} and V = ')\n",
    "print(VT.T)"
   ]
  },
  {
   "cell_type": "markdown",
   "metadata": {
    "slideshow": {
     "slide_type": "fragment"
    }
   },
   "source": [
    "Let's see how to do PCA with `sklearn`..."
   ]
  },
  {
   "cell_type": "code",
   "execution_count": 10,
   "metadata": {
    "slideshow": {
     "slide_type": "slide"
    }
   },
   "outputs": [
    {
     "name": "stdout",
     "output_type": "stream",
     "text": [
      "Here is the explained variance as ratios...\n",
      "XV ratio = [0.9 0.1]\n",
      "Here are the singular values = [4.24264069 1.41421356]\n",
      "the eigenvalues are squares of the singular values divided by N\n",
      "eigenvalues = [4.5 0.5]\n",
      "Principal Components (transposed) B = \n",
      " [[ 0.70710678  0.70710678]\n",
      " [ 0.70710678 -0.70710678]]\n",
      "Compare with our earlier V = \n",
      " [[ 0.70710678 -0.70710678]\n",
      " [ 0.70710678  0.70710678]]\n"
     ]
    }
   ],
   "source": [
    "from sklearn.decomposition import PCA\n",
    "pca = PCA(n_components=2)\n",
    "pca.fit(X)\n",
    "print('Here is the explained variance as ratios...')\n",
    "print(f'XV ratio = {pca.explained_variance_ratio_}')\n",
    "print(f'Here are the singular values = {pca.singular_values_}')\n",
    "print('the eigenvalues are squares of the singular values divided by N')\n",
    "print(f'eigenvalues = {pca.singular_values_**2/N}')\n",
    "# the principal components are stored as row vectors, so transpose\n",
    "B = pca.components_.T\n",
    "print('Principal Components (transposed) B = \\n', B)\n",
    "print('Compare with our earlier V = \\n', V)"
   ]
  },
  {
   "cell_type": "markdown",
   "metadata": {},
   "source": [
    "## Review\n",
    "\n",
    "That was a long journey - and we didn't even derive the results, we just quoted\n",
    "and illustrated them. This, again, is because we are doing *just enough*\n",
    "to make *progress at pace*.\n",
    "\n",
    "We're now going to embark on a much more realistic (well, in 2D at least)\n",
    "example of hoew this works. We'll go faster because all the work has been done.\n",
    "\n",
    "## Standard Example\n",
    "\n",
    "The idea is to generate and plot a lozenge of Gaussian distributed data.\n",
    "It will have unequal variances (otherwise it would be a circle). "
   ]
  },
  {
   "cell_type": "code",
   "execution_count": 11,
   "metadata": {},
   "outputs": [],
   "source": [
    "# generate this number of sample points\n",
    "Ns=50  \n",
    "# The Gaussian lozenge will be centered with non-unit covariance\n",
    "mean = [0, 0]\n",
    "cov = [[30, 15], [15, 15]]\n",
    "# generate Ns random points (x,y)\n",
    "x, y = np.random.multivariate_normal(mean, cov, Ns).T\n",
    "# reshape them to columns and stack them next to each other \n",
    "X = np.hstack((x.reshape(-1,1),y.reshape(-1,1)))\n",
    "# We can see it if the data matrix is small - otherwise little point\n",
    "if Ns < 8: print(X)"
   ]
  },
  {
   "cell_type": "code",
   "execution_count": 12,
   "metadata": {},
   "outputs": [
    {
     "name": "stdout",
     "output_type": "stream",
     "text": [
      "Column means 1, -0.22910372166834198 and 2, -0.449539042308063\n",
      "Centered column means 1, -3.9968028886505634e-17 and 2, 2.2204460492503132e-17\n"
     ]
    }
   ],
   "source": [
    "# let's look at the empirical column means - they wont be exactly zero \n",
    "print(f'Column means 1, {X[:,0].mean()} and 2, {X[:,1].mean()}')\n",
    "# so let's center this sample data\n",
    "X[:,0] -= X[:,0].mean()\n",
    "X[:,1] -= X[:,1].mean()\n",
    "print(f'Centered column means 1, {X[:,0].mean()} and 2, {X[:,1].mean()}')"
   ]
  },
  {
   "cell_type": "code",
   "execution_count": 13,
   "metadata": {},
   "outputs": [
    {
     "data": {
      "text/plain": [
       "[<matplotlib.lines.Line2D at 0x7fcd705888d0>]"
      ]
     },
     "execution_count": 13,
     "metadata": {},
     "output_type": "execute_result"
    },
    {
     "data": {
      "image/png": "[encoded data removed]",
      "text/plain": [
       "<Figure size 576x576 with 1 Axes>"
      ]
     },
     "metadata": {
      "needs_background": "light"
     },
     "output_type": "display_data"
    }
   ],
   "source": [
    "# let's plot our data set\n",
    "plt.figure(figsize=(8,8))\n",
    "plt.xlim(-20,20)\n",
    "plt.ylim(-20,20)\n",
    "plt.gca().set_aspect('equal')\n",
    "plt.plot(X[:,0], X[:,1], '.', color='b')"
   ]
  },
  {
   "cell_type": "code",
   "execution_count": 14,
   "metadata": {},
   "outputs": [
    {
     "name": "stdout",
     "output_type": "stream",
     "text": [
      "XV ratio = [0.90120051 0.09879949]\n",
      "sing vals = [40.6071307  13.44525171]\n",
      "V = \n",
      " [[ 0.73843008  0.67433005]\n",
      " [ 0.67433005 -0.73843008]]\n"
     ]
    }
   ],
   "source": [
    "# perform the PCA\n",
    "pca = PCA(n_components=2)\n",
    "pca.fit(X)\n",
    "print(f'XV ratio = {pca.explained_variance_ratio_}')\n",
    "print(f'sing vals = {pca.singular_values_}')\n",
    "# the component are stored as row vectors, so transpose\n",
    "V = pca.components_.T\n",
    "print('V = \\n', V)"
   ]
  },
  {
   "cell_type": "code",
   "execution_count": 15,
   "metadata": {},
   "outputs": [
    {
     "data": {
      "image/png": "[encoded data removed]",
      "text/plain": [
       "<Figure size 576x576 with 1 Axes>"
      ]
     },
     "metadata": {
      "needs_background": "light"
     },
     "output_type": "display_data"
    }
   ],
   "source": [
    "# re-plot, and include all the projected data\n",
    "plt.figure(figsize=(8,8))\n",
    "plt.gca().set_aspect('equal')\n",
    "plt.plot(X[:,0], X[:,1], '.', color='b')\n",
    "# project X to the singular components\n",
    "Z1 = X @ V[:,[0]] @ V[:,[0]].T\n",
    "Z2 = X @ V[:,[1]] @ V[:,[1]].T\n",
    "# plot the projections - these illustrate the directions\n",
    "plt.plot(Z1[:,0], Z1[:,1], '.', color='r')\n",
    "plt.plot(Z2[:,0], Z2[:,1], '.', color='g')\n",
    "# Now loop over each point and dot the projection onto v0 and v1\n",
    "for k in range(Ns):\n",
    "  plt.plot([X[k,0], Z1[k,0]], [X[k,1],Z1[k,1]], ':', color='r')\n",
    "  plt.plot([X[k,0], Z2[k,0]], [X[k,1],Z2[k,1]], ':', color='g')\n",
    "\n",
    "window=20; plt.xlim(-window,window); plt.ylim(-window,window)\n",
    "plt.show()"
   ]
  },
  {
   "cell_type": "code",
   "execution_count": null,
   "metadata": {},
   "outputs": [],
   "source": []
  },
  {
   "cell_type": "code",
   "execution_count": null,
   "metadata": {},
   "outputs": [],
   "source": []
  },
  {
   "cell_type": "code",
   "execution_count": null,
   "metadata": {},
   "outputs": [],
   "source": []
  },
  {
   "cell_type": "code",
   "execution_count": null,
   "metadata": {},
   "outputs": [],
   "source": []
  },
  {
   "cell_type": "markdown",
   "metadata": {
    "slideshow": {
     "slide_type": "fragment"
    }
   },
   "source": [
    "# I N C O M P L E T E\n",
    "\n",
    "There is more to come - this document will be replaced with an update in due course."
   ]
  },
  {
   "cell_type": "code",
   "execution_count": 16,
   "metadata": {},
   "outputs": [],
   "source": [
    "import matplotlib.pyplot as plt\n",
    "import numpy as np\n",
    "import seaborn as sns\n",
    "\n",
    "from sklearn.model_selection import train_test_split\n",
    "from sklearn.preprocessing import StandardScaler\n",
    "#from sklearn.neighbors import KNeighborsClassifier\n",
    "#from sklearn.metrics import classification_report, confusion_matrix, accuracy_score"
   ]
  },
  {
   "cell_type": "code",
   "execution_count": 17,
   "metadata": {},
   "outputs": [
    {
     "name": "stdout",
     "output_type": "stream",
     "text": [
      "(333, 7)\n"
     ]
    }
   ],
   "source": [
    "dfp = sns.load_dataset('penguins')\n",
    "dfp2 = dfp.dropna()\n",
    "dfp2.isna().sum()\n",
    "dfp2 = dfp2.reset_index(drop=True)\n",
    "print(dfp2.shape)\n",
    "\n",
    "# create our labelled training and test data sets with 60/40 train/test split\n",
    "X = dfp2.iloc[:, 2:6].values\n",
    "y = dfp2.iloc[:, 0].values\n",
    "X_train, X_test, y_train, y_test = train_test_split(X, y, test_size=0.40)\n",
    "# scale the data\n",
    "scaler = StandardScaler()\n",
    "# mean zero, unit variance \n",
    "scaler.fit(X_train)\n",
    "X_train = scaler.transform(X_train)\n",
    "X_test = scaler.transform(X_test)"
   ]
  },
  {
   "cell_type": "code",
   "execution_count": 18,
   "metadata": {},
   "outputs": [
    {
     "name": "stdout",
     "output_type": "stream",
     "text": [
      "[23.1186343  12.81107709  8.69088878  4.67691181]\n",
      "[534.47125192 164.12369622  75.53154774  21.87350411]\n",
      "[[ 0.45308531  0.59202619 -0.64088588  0.18298628]\n",
      " [-0.38400355  0.80366414  0.42437482 -0.16300686]\n",
      " [ 0.58418042  0.01352134  0.20100359 -0.78622387]\n",
      " [ 0.55316202  0.05870363  0.60726341  0.56727138]]\n"
     ]
    }
   ],
   "source": [
    "# take the SVD of X_train - we must treat X_test as 'unseen'\n",
    "U, S, VT = np.linalg.svd(X_train, full_matrices=False) # full_matrices=False - discussed later\n",
    "\n",
    "print(S)\n",
    "print(S*S)\n",
    "print(VT.T)"
   ]
  },
  {
   "cell_type": "markdown",
   "metadata": {},
   "source": [
    "Now look at the covariance matrix of X_train\n"
   ]
  },
  {
   "cell_type": "code",
   "execution_count": 19,
   "metadata": {},
   "outputs": [
    {
     "name": "stdout",
     "output_type": "stream",
     "text": [
      "[[ 1.00505051 -0.18231041  0.65607404  0.56834821]\n",
      " [-0.18231041  1.00505051 -0.54983254 -0.44618639]\n",
      " [ 0.65607404 -0.54983254  1.00505051  0.87023562]\n",
      " [ 0.56834821 -0.44618639  0.87023562  1.00505051]]\n",
      "[534.47125192 164.12369622  75.53154774  21.87350411]\n",
      "[2.69934976 0.82890756 0.38147246 0.11047224]\n",
      "[[ 0.45308531 -0.59202619 -0.64088588  0.18298628]\n",
      " [-0.38400355 -0.80366414  0.42437482 -0.16300686]\n",
      " [ 0.58418042 -0.01352134  0.20100359 -0.78622387]\n",
      " [ 0.55316202 -0.05870363  0.60726341  0.56727138]]\n"
     ]
    }
   ],
   "source": [
    "N = X_train.shape[0]\n",
    "C = X_train.T @ X_train / (N-1)\n",
    "print(C)\n",
    "w, v = np.linalg.eig(C)\n",
    "print(w*(N-1))\n",
    "print(w)\n",
    "print(v)"
   ]
  },
  {
   "cell_type": "code",
   "execution_count": 20,
   "metadata": {},
   "outputs": [
    {
     "name": "stdout",
     "output_type": "stream",
     "text": [
      "[0.6714463  0.20618555 0.09488888 0.02747928]\n",
      "[23.1186343  12.81107709  8.69088878  4.67691181]\n",
      "[[ 0.45308531 -0.38400355  0.58418042  0.55316202]\n",
      " [ 0.59202619  0.80366414  0.01352134  0.05870363]\n",
      " [ 0.64088588 -0.42437482 -0.20100359 -0.60726341]\n",
      " [ 0.18298628 -0.16300686 -0.78622387  0.56727138]]\n"
     ]
    }
   ],
   "source": [
    "from sklearn.decomposition import PCA\n",
    "pca = PCA(n_components=4)\n",
    "pca.fit(X_train)\n",
    "print(pca.explained_variance_ratio_)\n",
    "print(pca.singular_values_)\n",
    "print(pca.components_)"
   ]
  },
  {
   "cell_type": "markdown",
   "metadata": {},
   "source": [
    "## Standard Example\n",
    "\n",
    "Plot lozenge of Gaussian data"
   ]
  },
  {
   "cell_type": "code",
   "execution_count": 21,
   "metadata": {},
   "outputs": [
    {
     "name": "stdout",
     "output_type": "stream",
     "text": [
      "[39.27050983  5.72949017] \n",
      " [[ 0.85065081 -0.52573111]\n",
      " [ 0.52573111  0.85065081]]\n"
     ]
    }
   ],
   "source": [
    "# https://numpy.org/doc/stable/reference/random/generated/numpy.random.multivariate_normal.html\n",
    "# decide number of samples, they will have zero mean\n",
    "Ns = 50\n",
    "mean = [0, 0]\n",
    "cov = [[30, 15], [15, 15]] \n",
    "w,v = np.linalg.eig(cov)\n",
    "print(w,'\\n',v)\n",
    "x, y = np.random.multivariate_normal(mean, cov, Ns).T\n"
   ]
  },
  {
   "cell_type": "code",
   "execution_count": 22,
   "metadata": {},
   "outputs": [
    {
     "name": "stdout",
     "output_type": "stream",
     "text": [
      "(before) mean of x = 0.2848735454881663\n",
      "(before) mean of y = 0.2861347249476117\n",
      "(after)  mean of x = 4.263256414560601e-16\n",
      "(after)  mean of y = -3.552713678800501e-17\n"
     ]
    }
   ],
   "source": [
    "# remove the mean - can't assume this\n",
    "print(f'(before) mean of x = {x.mean()}')\n",
    "print(f'(before) mean of y = {y.mean()}')\n",
    "x -= x.mean()\n",
    "y -= y.mean()\n",
    "print(f'(after)  mean of x = {x.mean()}')\n",
    "print(f'(after)  mean of y = {y.mean()}')"
   ]
  },
  {
   "cell_type": "code",
   "execution_count": 23,
   "metadata": {},
   "outputs": [
    {
     "data": {
      "image/png": "[encoded data removed]",
      "text/plain": [
       "<Figure size 432x288 with 1 Axes>"
      ]
     },
     "metadata": {
      "needs_background": "light"
     },
     "output_type": "display_data"
    }
   ],
   "source": [
    "import matplotlib.pyplot as plt\n",
    "plt.plot(x, y, 'x', color='b')\n",
    "plt.xlim([-20,20])\n",
    "plt.ylim([-20,20])\n",
    "plt.gca().set_aspect('equal')\n",
    "plt.show()"
   ]
  },
  {
   "cell_type": "code",
   "execution_count": 24,
   "metadata": {},
   "outputs": [
    {
     "name": "stdout",
     "output_type": "stream",
     "text": [
      "[[40.21808147 16.3043276 ]\n",
      " [16.3043276  13.2953304 ]]\n",
      "w =  [47.90002001  5.61339187]\n",
      "V = \n",
      " [[ 0.90461951 -0.42622006]\n",
      " [ 0.42622006  0.90461951]]\n"
     ]
    }
   ],
   "source": [
    "x = x.reshape(-1,1)\n",
    "y = y.reshape(-1,1)\n",
    "X = np.hstack((x,y))\n",
    "Cv = X.T @ X / (Ns-1)\n",
    "print(Cv)\n",
    "w,V = np.linalg.eig(Cv)\n",
    "print('w = ', w)\n",
    "print('V = \\n', V)"
   ]
  },
  {
   "cell_type": "code",
   "execution_count": 25,
   "metadata": {},
   "outputs": [
    {
     "name": "stdout",
     "output_type": "stream",
     "text": [
      "S   = [48.44688824 16.58481841]\n",
      "S*S = [2347.10098039  275.05620153]\n",
      "S*S/(Ns-1) = [47.90002001  5.61339187]\n",
      "S*S/(Ns-0) = [46.94201961  5.50112403]\n",
      "V = \n",
      "[[ 0.90461951  0.42622006]\n",
      " [ 0.42622006 -0.90461951]]\n"
     ]
    }
   ],
   "source": [
    "U,S,VT = np.linalg.svd(X)\n",
    "print(f'S   = {S}')\n",
    "print(f'S*S = {S*S}')\n",
    "print(f'S*S/(Ns-1) = {S*S/(Ns-1)}')\n",
    "print(f'S*S/(Ns-0) = {S*S/(Ns-0)}')\n",
    "print(f'V = \\n{VT.T}')\n",
    "\n"
   ]
  },
  {
   "cell_type": "code",
   "execution_count": 26,
   "metadata": {},
   "outputs": [
    {
     "name": "stdout",
     "output_type": "stream",
     "text": [
      "XV ratio = [0.89510308]\n",
      "sing vals = [48.44688824]\n",
      "B = \n",
      " [[-0.90461951]\n",
      " [-0.42622006]]\n",
      "(1, 2)\n"
     ]
    }
   ],
   "source": [
    "from sklearn.decomposition import PCA\n",
    "pca = PCA(n_components=1)\n",
    "pca.fit(X)\n",
    "print(f'XV ratio = {pca.explained_variance_ratio_}')\n",
    "print(f'sing vals = {pca.singular_values_}')\n",
    "# the component are stored as row vectors\n",
    "B = pca.components_.T\n",
    "print('B = \\n', B)\n",
    "print(pca.components_.shape)"
   ]
  },
  {
   "cell_type": "code",
   "execution_count": 27,
   "metadata": {},
   "outputs": [
    {
     "name": "stdout",
     "output_type": "stream",
     "text": [
      "XV ratio = [0.89510308 0.10489692]\n",
      "sing vals = [48.44688824 16.58481841]\n",
      "B = \n",
      " [[-0.90461951 -0.42622006]\n",
      " [-0.42622006  0.90461951]]\n",
      "B.T*B = \n",
      " [[ 1.0000000e+00 -1.2830419e-17]\n",
      " [-1.2830419e-17  1.0000000e+00]]\n",
      "(50, 2)\n"
     ]
    }
   ],
   "source": [
    "from sklearn.decomposition import PCA\n",
    "pca = PCA(n_components=2)\n",
    "pca.fit(X)\n",
    "print(f'XV ratio = {pca.explained_variance_ratio_}')\n",
    "print(f'sing vals = {pca.singular_values_}')\n",
    "# the component are stored as row vectors\n",
    "B = pca.components_.T\n",
    "print('B = \\n', B)\n",
    "print('B.T*B = \\n', B.T@B)\n",
    "Y1 = X @ B[:,[0]] @ B[:,[0]].T\n",
    "Y2 = X @ B[:,[1]] @ B[:,[1]].T\n",
    "print(Y1.shape)"
   ]
  },
  {
   "cell_type": "code",
   "execution_count": 28,
   "metadata": {},
   "outputs": [
    {
     "data": {
      "image/png": "[encoded data removed]",
      "text/plain": [
       "<Figure size 432x288 with 1 Axes>"
      ]
     },
     "metadata": {
      "needs_background": "light"
     },
     "output_type": "display_data"
    }
   ],
   "source": [
    "plt.plot(x, y, 'x', color='b')\n",
    "plt.gca().set_aspect('equal')\n",
    "plt.plot(Y1[:,0], Y1[:,1], '.', color='r')\n",
    "plt.plot(Y2[:,0], Y2[:,1], '.', color='g')\n",
    "plt.xlim([-20,20])\n",
    "plt.ylim([-20,20])\n",
    "plt.show()\n"
   ]
  },
  {
   "cell_type": "code",
   "execution_count": 29,
   "metadata": {},
   "outputs": [
    {
     "data": {
      "image/png": "[encoded data removed]",
      "text/plain": [
       "<Figure size 432x288 with 1 Axes>"
      ]
     },
     "metadata": {
      "needs_background": "light"
     },
     "output_type": "display_data"
    }
   ],
   "source": [
    "Z1 = X @ B[:,[0]]\n",
    "Z2 = X @ B[:,[1]]\n",
    "plt.plot(x, y, 'x', color='b')\n",
    "plt.plot(Z1[:,0], 0*Z1[:,0], '.', color='r')\n",
    "plt.plot(0*Z2[:,0], Z2[:,0], '.', color='g')\n",
    "plt.xlim([-20,20])\n",
    "plt.ylim([-20,20])\n",
    "plt.gca().set_aspect('equal')\n",
    "plt.show()\n",
    "\n"
   ]
  },
  {
   "cell_type": "code",
   "execution_count": 30,
   "metadata": {},
   "outputs": [
    {
     "data": {
      "image/png": "[encoded data removed]",
      "text/plain": [
       "<Figure size 432x288 with 1 Axes>"
      ]
     },
     "metadata": {
      "needs_background": "light"
     },
     "output_type": "display_data"
    }
   ],
   "source": [
    "Z1 = X @ B[:,[0]]\n",
    "Z2 = X @ B[:,[1]]\n",
    "plt.plot(x, y, 'x', color='b')\n",
    "plt.plot(Z1[:,0], Z1[:,0], '.', color='r')\n",
    "plt.plot(Z2[:,0], -Z2[:,0], '.', color='g')\n",
    "plt.xlim([-20,20])\n",
    "plt.ylim([-20,20])\n",
    "plt.gca().set_aspect('equal')\n",
    "plt.show()"
   ]
  },
  {
   "cell_type": "code",
   "execution_count": 31,
   "metadata": {},
   "outputs": [
    {
     "data": {
      "image/png": "[encoded data removed]",
      "text/plain": [
       "<Figure size 432x288 with 1 Axes>"
      ]
     },
     "metadata": {
      "needs_background": "light"
     },
     "output_type": "display_data"
    }
   ],
   "source": [
    "#Z1 = X @ B[:,[0]]\n",
    "#Z2 = X @ B[:,[1]]\n",
    "Z1 = X @ B[:,[0]] @ B[:,[0]].T\n",
    "Z2 = X @ B[:,[1]] @ B[:,[1]].T\n",
    "plt.plot(x, y, 'x', color='b')\n",
    "plt.plot(Z1[:,0], Z1[:,0], '.', color='r')\n",
    "plt.plot(Z2[:,0], -Z2[:,0], '.', color='g')\n",
    "plt.xlim([-20,20])\n",
    "plt.ylim([-20,20])\n",
    "plt.gca().set_aspect('equal')\n",
    "\n",
    "for k in range(X.shape[0]):\n",
    "  plt.plot([X[k,0], Z1[k,0]], [X[k,1], Z1[k,0]], '-', color='r')\n",
    "\n",
    "plt.show()\n"
   ]
  },
  {
   "cell_type": "markdown",
   "metadata": {},
   "source": [
    "# FRESH START - Simple Example\n"
   ]
  },
  {
   "cell_type": "code",
   "execution_count": 32,
   "metadata": {},
   "outputs": [
    {
     "name": "stdout",
     "output_type": "stream",
     "text": [
      "[[ 2  1]\n",
      " [ 1  2]\n",
      " [-2 -1]\n",
      " [-1 -2]]\n",
      "Column means 1, 0.0 and 2, 0.0\n",
      "XV ratio = [0.9 0.1]\n",
      "sing vals = [4.24264069 1.41421356]\n",
      "B = \n",
      " [[ 0.70710678 -0.70710678]\n",
      " [ 0.70710678  0.70710678]]\n",
      "(2, 2)\n",
      "Shape of Z1 is (4, 2)\n",
      "Shape of Z2 is (4, 2)\n"
     ]
    },
    {
     "data": {
      "text/plain": [
       "[<matplotlib.lines.Line2D at 0x7fcd98bc27b8>]"
      ]
     },
     "execution_count": 32,
     "metadata": {},
     "output_type": "execute_result"
    },
    {
     "data": {
      "image/png": "[encoded data removed]",
      "text/plain": [
       "<Figure size 576x576 with 1 Axes>"
      ]
     },
     "metadata": {
      "needs_background": "light"
     },
     "output_type": "display_data"
    }
   ],
   "source": [
    "X = np.array([[2,1],[1,2],[-2,-1],[-1,-2]])\n",
    "print(X)\n",
    "print(f'Column means 1, {X[:,0].mean()} and 2, {X[:,0].mean()}')\n",
    "plt.figure(figsize=(8,8))\n",
    "plt.gca().set_aspect('equal')\n",
    "plt.plot(X[:,0], X[:,1], '.', color='b')\n",
    "pca = PCA(n_components=2)\n",
    "pca.fit(X)\n",
    "print(f'XV ratio = {pca.explained_variance_ratio_}')\n",
    "print(f'sing vals = {pca.singular_values_}')\n",
    "# the component are stored as row vectors, so transpose\n",
    "B = pca.components_.T\n",
    "print('B = \\n', B)\n",
    "print(pca.components_.shape)\n",
    "\n",
    "#Z1 = X @ B[:,[0]]\n",
    "#Z2 = X @ B[:,[1]]\n",
    "Z1 = X @ B[:,[0]] @ B[:,[0]].T\n",
    "Z2 = X @ B[:,[1]] @ B[:,[1]].T\n",
    "print(f'Shape of Z1 is {Z1.shape}')\n",
    "print(f'Shape of Z2 is {Z2.shape}')\n",
    "plt.plot(Z1[:,0], Z1[:,1], '.', color='r')\n",
    "plt.plot(Z2[:,0], Z2[:,1], '.', color='g')"
   ]
  },
  {
   "cell_type": "code",
   "execution_count": 33,
   "metadata": {},
   "outputs": [
    {
     "name": "stdout",
     "output_type": "stream",
     "text": [
      "Column means 1, -1.241913448008865 and 2, -1.241913448008865\n",
      "XV ratio = [0.88714663 0.11285337]\n",
      "sing vals = [44.93644238 16.02722162]\n",
      "B = \n",
      " [[-0.87387539  0.48614998]\n",
      " [-0.48614998 -0.87387539]]\n",
      "(2, 2)\n",
      "Shape of Z1 is (50, 2)\n",
      "Shape of Z2 is (50, 2)\n"
     ]
    },
    {
     "data": {
      "image/png": "[encoded data removed]",
      "text/plain": [
       "<Figure size 576x576 with 1 Axes>"
      ]
     },
     "metadata": {
      "needs_background": "light"
     },
     "output_type": "display_data"
    }
   ],
   "source": [
    "Ns=50\n",
    "window = 30\n",
    "#X = np.random.randn(Ns,2)\n",
    "mean = [0, 0]\n",
    "cov = [[30, 15], [15, 15]]\n",
    "x, y = np.random.multivariate_normal(mean, cov, Ns).T\n",
    "#x = x.reshape(-1,1)\n",
    "#y = y.reshape(-1,1)\n",
    "X = np.hstack((x.reshape(-1,1),y.reshape(-1,1)))\n",
    "\n",
    "if Ns < 5: print(X)\n",
    "print(f'Column means 1, {X[:,0].mean()} and 2, {X[:,0].mean()}')\n",
    "plt.figure(figsize=(8,8))\n",
    "plt.gca().set_aspect('equal')\n",
    "plt.plot(X[:,0], X[:,1], '.', color='b')\n",
    "pca = PCA(n_components=2)\n",
    "pca.fit(X)\n",
    "print(f'XV ratio = {pca.explained_variance_ratio_}')\n",
    "print(f'sing vals = {pca.singular_values_}')\n",
    "# the component are stored as row vectors, so transpose\n",
    "B = pca.components_.T\n",
    "print('B = \\n', B)\n",
    "print(pca.components_.shape)\n",
    "\n",
    "#Z1 = X @ B[:,[0]]\n",
    "#Z2 = X @ B[:,[1]]\n",
    "Z1 = X @ B[:,[0]] @ B[:,[0]].T\n",
    "Z2 = X @ B[:,[1]] @ B[:,[1]].T\n",
    "print(f'Shape of Z1 is {Z1.shape}')\n",
    "print(f'Shape of Z2 is {Z2.shape}')\n",
    "plt.plot(Z1[:,0], Z1[:,1], '.', color='r')\n",
    "plt.plot(Z2[:,0], Z2[:,1], '.', color='g')\n",
    "\n",
    "for k in range(Ns):\n",
    "  plt.plot([X[k,0], Z1[k,0]], [X[k,1],Z1[k,1]], ':', color='r')\n",
    "  plt.plot([X[k,0], Z2[k,0]], [X[k,1],Z2[k,1]], ':', color='g')\n",
    "\n",
    "\n",
    "window=20; plt.xlim(-window,window); plt.ylim(-window,window)\n",
    "plt.show()"
   ]
  },
  {
   "cell_type": "markdown",
   "metadata": {},
   "source": [
    "ax1 = plt.subplot(131)\n",
    "ax1.margins(0.05)           # Default margin is 0.05, value 0 means fit\n",
    "ax1.plot(t1, f(t1))\n",
    "\n",
    "ax2 = plt.subplot(221)\n",
    "ax2.margins(2, 2)           # Values >0.0 zoom out\n",
    "ax2.plot(t1, f(t1))\n",
    "ax2.set_title('Zoomed out')\n",
    "\n",
    "ax3 = plt.subplot(222)\n",
    "ax3.margins(x=0, y=-0.25)   # Values in (-0.5, 0.0) zooms in to center\n",
    "ax3.plot(t1, f(t1))\n",
    "ax3.set_title('Zoomed in')\n",
    "\n",
    "plt.show()"
   ]
  },
  {
   "cell_type": "code",
   "execution_count": null,
   "metadata": {},
   "outputs": [],
   "source": []
  },
  {
   "cell_type": "markdown",
   "metadata": {},
   "source": [
    "# Here are those matlab notes...\n",
    "\n",
    "```\n",
    "K = [1 3; 2 5; 9 1]\n",
    "\n",
    "K =\n",
    "\n",
    "     1     3\n",
    "     2     5\n",
    "     9     1\n",
    "\n",
    "[U, S, V] = svd(K)\n",
    "\n",
    "U =\n",
    "\n",
    "   -0.2043   -0.4757   -0.8556\n",
    "   -0.3727   -0.7704    0.5173\n",
    "   -0.9052    0.4246   -0.0199\n",
    "\n",
    "\n",
    "S =\n",
    "\n",
    "    9.7046         0\n",
    "         0    5.1789\n",
    "         0         0\n",
    "\n",
    "\n",
    "V =\n",
    "\n",
    "   -0.9373    0.3485\n",
    "   -0.3485   -0.9373\n",
    "\n",
    "S*V'\n",
    "\n",
    "ans =\n",
    "\n",
    "   -9.0963   -3.3816\n",
    "    1.8046   -4.8543\n",
    "         0         0\n",
    "\n",
    "U*S*V'\n",
    "\n",
    "ans =\n",
    "\n",
    "    1.0000    3.0000\n",
    "    2.0000    5.0000\n",
    "    9.0000    1.0000\n",
    "\n",
    "w = [ S(1,1)*U(1,1); S(2,2)*U(1,2)]\n",
    "\n",
    "w =\n",
    "\n",
    "   -1.9827\n",
    "   -2.4635\n",
    "\n",
    "V*w\n",
    "\n",
    "ans =\n",
    "\n",
    "    1.0000\n",
    "    3.0000\n",
    "\n",
    "W = U*S\n",
    "\n",
    "W =\n",
    "\n",
    "   -1.9827   -2.4635\n",
    "   -3.6169   -3.9897\n",
    "   -8.7844    2.1988\n",
    "\n",
    "V*W\n",
    "\n",
    "{Error using <a href=\"matlab:matlab.internal.language.introspective.errorDocCallback('mtimes')\" style=\"font-weight:bold\"> * </a>\n",
    "Incorrect dimensions for matrix multiplication. Check that the number of columns in the first matrix matches the number of\n",
    "rows in the second matrix. To perform elementwise multiplication, use '.*'.\n",
    "}\n",
    "\n",
    "W = S'*U'\n",
    "\n",
    "W =\n",
    "\n",
    "   -1.9827   -3.6169   -8.7844\n",
    "   -2.4635   -3.9897    2.1988\n",
    "\n",
    "W'*V'\n",
    "\n",
    "ans =\n",
    "\n",
    "    1.0000    3.0000\n",
    "    2.0000    5.0000\n",
    "    9.0000    1.0000\n",
    "\n",
    "diary off\n",
    "\n",
    "```\n",
    "\n",
    "and \n",
    "\n",
    "```\n",
    "K = [1 3; 2 5; 9 1]\n",
    "\n",
    "K =\n",
    "\n",
    "     1     3\n",
    "     2     5\n",
    "     9     1\n",
    "\n",
    "[U, S, V] = svd(K)\n",
    "\n",
    "U =\n",
    "\n",
    "   -0.2043   -0.4757   -0.8556\n",
    "   -0.3727   -0.7704    0.5173\n",
    "   -0.9052    0.4246   -0.0199\n",
    "\n",
    "\n",
    "S =\n",
    "\n",
    "    9.7046         0\n",
    "         0    5.1789\n",
    "         0         0\n",
    "\n",
    "\n",
    "V =\n",
    "\n",
    "   -0.9373    0.3485\n",
    "   -0.3485   -0.9373\n",
    "\n",
    "S*V'\n",
    "\n",
    "ans =\n",
    "\n",
    "   -9.0963   -3.3816\n",
    "    1.8046   -4.8543\n",
    "         0         0\n",
    "\n",
    "U*S*V'\n",
    "\n",
    "ans =\n",
    "\n",
    "    1.0000    3.0000\n",
    "    2.0000    5.0000\n",
    "    9.0000    1.0000\n",
    "\n",
    "w = [ S(1,1)*U(1,1); S(2,2)*U(1,2)]\n",
    "\n",
    "w =\n",
    "\n",
    "   -1.9827\n",
    "   -2.4635\n",
    "\n",
    "V*w\n",
    "\n",
    "ans =\n",
    "\n",
    "    1.0000\n",
    "    3.0000\n",
    "\n",
    "W = U*S\n",
    "\n",
    "W =\n",
    "\n",
    "   -1.9827   -2.4635\n",
    "   -3.6169   -3.9897\n",
    "   -8.7844    2.1988\n",
    "\n",
    "V*W\n",
    "\n",
    "{Error using <a href=\"matlab:matlab.internal.language.introspective.errorDocCallback('mtimes')\" style=\"font-weight:bold\"> * </a>\n",
    "Incorrect dimensions for matrix multiplication. Check that the number of columns in the first matrix matches the number of\n",
    "rows in the second matrix. To perform elementwise multiplication, use '.*'.\n",
    "}\n",
    "\n",
    "W = S'*U'\n",
    "\n",
    "W =\n",
    "\n",
    "   -1.9827   -3.6169   -8.7844\n",
    "   -2.4635   -3.9897    2.1988\n",
    "\n",
    "W'*V'\n",
    "\n",
    "ans =\n",
    "\n",
    "    1.0000    3.0000\n",
    "    2.0000    5.0000\n",
    "    9.0000    1.0000\n",
    "\n",
    "Kn = zeros(K)\n",
    "\n",
    "{Error using <a href=\"matlab:matlab.internal.language.introspective.errorDocCallback('zeros')\" style=\"font-weight:bold\">zeros</a>\n",
    "Size vector should be a row vector with real elements.\n",
    "}\n",
    "\n",
    "Kn = zeros(size(K))\n",
    "\n",
    "Kn =\n",
    "\n",
    "     0     0\n",
    "     0     0\n",
    "     0     0\n",
    "\n",
    "Kn = zeros(size(K)); for n=1:2; Kn = Kn + S(n,n)*U(:,n)*V(:n)'; disp(Kn); end\n",
    " Kn = zeros(size(K)); for n=1:2; Kn = Kn + S(n,n)*U(:,n)*V(:n)'; disp(Kn); end\n",
    "                                                            \n",
    "{Error: Invalid expression. Check for missing multiplication operator, missing or unbalanced delimiters, or other syntax\n",
    "error. To construct matrices, use brackets instead of parentheses.\n",
    "}\n",
    "\n",
    "Kn = zeros(size(K)); for n=1:2; Kn = Kn + S(n,n)*U(:,n)*V(:,n)'; disp(Kn); end\n",
    "    1.8584    0.6909\n",
    "    3.3902    1.2603\n",
    "    8.2338    3.0610\n",
    "\n",
    "    1.0000    3.0000\n",
    "    2.0000    5.0000\n",
    "    9.0000    1.0000\n",
    "\n",
    "K\n",
    "\n",
    "K =\n",
    "\n",
    "     1     3\n",
    "     2     5\n",
    "     9     1\n",
    "\n",
    "W = [S(1,1)*U(1,1); 0];\n",
    "V*W\n",
    "\n",
    "ans =\n",
    "\n",
    "    1.8584\n",
    "    0.6909\n",
    "\n",
    "diary off\n",
    "\n",
    "```"
   ]
  },
  {
   "cell_type": "markdown",
   "metadata": {},
   "source": [
    "# THIS PART BELOW BELONGS SOMEWHERE ELSE"
   ]
  },
  {
   "cell_type": "code",
   "execution_count": 35,
   "metadata": {},
   "outputs": [],
   "source": [
    "import matplotlib.pyplot as plt\n",
    "import numpy as np\n",
    "import seaborn as sns\n",
    "\n",
    "from sklearn.model_selection import train_test_split\n",
    "from sklearn.preprocessing import StandardScaler\n",
    "from sklearn.neighbors import KNeighborsClassifier\n",
    "from sklearn.metrics import classification_report, confusion_matrix, accuracy_score"
   ]
  },
  {
   "cell_type": "code",
   "execution_count": 36,
   "metadata": {},
   "outputs": [
    {
     "name": "stdout",
     "output_type": "stream",
     "text": [
      "(333, 7)\n"
     ]
    }
   ],
   "source": [
    "dfp = sns.load_dataset('penguins')\n",
    "dfp2 = dfp.dropna()\n",
    "dfp2.isna().sum()\n",
    "dfp2 = dfp2.reset_index(drop=True)\n",
    "print(dfp2.shape)\n",
    "\n",
    "# create our labelled training and test data sets with 60/40 train/test split\n",
    "X = dfp2.iloc[:, 2:6].values\n",
    "y = dfp2.iloc[:, 0].values\n",
    "X_train, X_test, y_train, y_test = train_test_split(X, y, test_size=0.40)\n",
    "# scale the data\n",
    "scaler = StandardScaler()\n",
    "# mean zero, unit variance \n",
    "scaler.fit(X_train)\n",
    "X_train = scaler.transform(X_train)\n",
    "X_test = scaler.transform(X_test)\n",
    "# obtain the classifier and fit it using 2 nearest neighbours\n",
    "# and the Manhattan norm\n",
    "classifier = KNeighborsClassifier(n_neighbors=2, p=1)\n",
    "classifier.fit(X_train, y_train)\n",
    "# Now use the fitted model from the training data to predict\n",
    "# from the test data.\n",
    "y_pred = classifier.predict(X_test)"
   ]
  },
  {
   "cell_type": "code",
   "execution_count": 37,
   "metadata": {},
   "outputs": [
    {
     "name": "stdout",
     "output_type": "stream",
     "text": [
      "Confusion Matrix:\n",
      "[[56  0  0]\n",
      " [ 2 28  0]\n",
      " [ 0  0 48]]\n",
      "Accuracy: 0.9850746268656716\n"
     ]
    }
   ],
   "source": [
    "# create a confusion matrix to assess the performance\n",
    "cm = confusion_matrix(y_test, y_pred)\n",
    "print(\"Confusion Matrix:\"); print(cm)\n",
    "accsc = accuracy_score(y_test,y_pred);\n",
    "print(\"Accuracy:\", accsc)"
   ]
  },
  {
   "cell_type": "code",
   "execution_count": 38,
   "metadata": {},
   "outputs": [
    {
     "data": {
      "image/png": "[encoded data removed]",
      "text/plain": [
       "<Figure size 432x288 with 2 Axes>"
      ]
     },
     "metadata": {
      "needs_background": "light"
     },
     "output_type": "display_data"
    }
   ],
   "source": [
    "from sklearn.metrics import ConfusionMatrixDisplay\n",
    "cmplot = ConfusionMatrixDisplay(cm, display_labels=classifier.classes_)\n",
    "cmplot.plot()\n",
    "plt.show()"
   ]
  },
  {
   "cell_type": "markdown",
   "metadata": {},
   "source": [
    "### Problem!\n",
    "\n",
    "In the SVD demo we took the SVD of `X`. But the test data should be *unseen*. \n",
    "Hence we cannot include it in our training phase.\n",
    "\n",
    "Let's look at the SVD of the scaled training data. "
   ]
  },
  {
   "cell_type": "code",
   "execution_count": 39,
   "metadata": {},
   "outputs": [
    {
     "name": "stdout",
     "output_type": "stream",
     "text": [
      "allclose? (T/F):  True\n"
     ]
    }
   ],
   "source": [
    "# Let's again do this with SVD - but this time for X_train\n",
    "U, S, VT = np.linalg.svd(X_train, full_matrices=False)\n",
    "print(\"allclose? (T/F): \", np.allclose(X_train, U @ np.diag(S) @ VT))"
   ]
  },
  {
   "cell_type": "code",
   "execution_count": 40,
   "metadata": {},
   "outputs": [
    {
     "name": "stdout",
     "output_type": "stream",
     "text": [
      "S =  [23.50189583 12.0236996   8.83429593  4.58767431]\n"
     ]
    },
    {
     "data": {
      "text/plain": [
       "<BarContainer object of 4 artists>"
      ]
     },
     "execution_count": 40,
     "metadata": {},
     "output_type": "execute_result"
    },
    {
     "data": {
      "image/png": "[encoded data removed]",
      "text/plain": [
       "<Figure size 432x288 with 1 Axes>"
      ]
     },
     "metadata": {
      "needs_background": "light"
     },
     "output_type": "display_data"
    }
   ],
   "source": [
    "print(\"S = \", S)\n",
    "plt.bar([1,2,3,4],S)"
   ]
  },
  {
   "cell_type": "markdown",
   "metadata": {},
   "source": [
    "**Now things don't look so clear...**\n",
    "\n",
    "Let's repeat our SVD experiment. We could try this..."
   ]
  },
  {
   "cell_type": "code",
   "execution_count": 41,
   "metadata": {},
   "outputs": [],
   "source": [
    "accarray = np.zeros([4])\n",
    "X = dfp2.iloc[:, 2:6].values\n",
    "y = dfp2.iloc[:, 0].values\n",
    "X_train, X_test, y_train, y_test = train_test_split(X, y, test_size=0.40)\n",
    "# scale the data\n",
    "scaler = StandardScaler();\n",
    "scaler.fit(X_train)\n",
    "X_train = scaler.transform(X_train)\n",
    "X_test = scaler.transform(X_test)\n",
    "# get the SVD of the training data. NOT the test data - WHY?\n",
    "U, S, VT = np.linalg.svd(X_train, full_matrices=False)"
   ]
  },
  {
   "cell_type": "code",
   "execution_count": 42,
   "metadata": {},
   "outputs": [
    {
     "name": "stdout",
     "output_type": "stream",
     "text": [
      "nc =  1 , ||X_train-Xc_train|| =  15.392869351055493\n",
      "Confusion Matrix:\n",
      "[[55  4  0]\n",
      " [18  8  2]\n",
      " [ 0  6 41]]\n",
      "Accuracy: 0.7761194029850746\n",
      "nc =  1 , ||X-Xc|| =  15.392869351055493\n",
      "<class 'numpy.ndarray'> (3, 3)\n"
     ]
    }
   ],
   "source": [
    "Xc_train = np.zeros(X_train.shape)\n",
    "nc = 1\n",
    "for k in range(0, nc):\n",
    "  Xc_train +=  S[k] * U[:,[k]] @ VT[[k],:]\n",
    "print('nc = ', nc, ', ||X_train-Xc_train|| = ', np.linalg.norm(X_train - Xc_train))\n",
    "\n",
    "# obtain classifier, fit using 2 NN's and the Manhattan norm\n",
    "classifier = KNeighborsClassifier(n_neighbors=2, p=1)\n",
    "classifier.fit(Xc_train, y_train)\n",
    "# predict from the test data.\n",
    "y_pred = classifier.predict(X_test)\n",
    "# create a confusion matrix to assess the performance\n",
    "cm = confusion_matrix(y_test, y_pred)\n",
    "print(\"Confusion Matrix:\"); print(cm)\n",
    "accsc = accuracy_score(y_test,y_pred); print(\"Accuracy:\", accsc)\n",
    "print('nc = ', nc, ', ||X-Xc|| = ', np.linalg.norm(X_train - Xc_train))\n",
    "# store the accuracy scores in a python list for nc=1,2,3,4\n",
    "accarray[nc-1] = accsc\n",
    "print(type(cm), cm.shape)"
   ]
  },
  {
   "cell_type": "code",
   "execution_count": 43,
   "metadata": {},
   "outputs": [
    {
     "name": "stdout",
     "output_type": "stream",
     "text": [
      "Confusion Matrix:\n",
      "[[55  4  0]\n",
      " [18  8  2]\n",
      " [ 0  6 41]]\n",
      "Accuracy: 0.7761194029850746\n"
     ]
    }
   ],
   "source": [
    "# create a confusion matrix to assess the performance\n",
    "cm = confusion_matrix(y_test, y_pred)\n",
    "print(\"Confusion Matrix:\"); print(cm)\n",
    "accsc = accuracy_score(y_test,y_pred);\n",
    "print(\"Accuracy:\", accsc)"
   ]
  },
  {
   "cell_type": "code",
   "execution_count": 44,
   "metadata": {},
   "outputs": [
    {
     "data": {
      "image/png": "[encoded data removed]",
      "text/plain": [
       "<Figure size 432x288 with 2 Axes>"
      ]
     },
     "metadata": {
      "needs_background": "light"
     },
     "output_type": "display_data"
    }
   ],
   "source": [
    "from sklearn.metrics import ConfusionMatrixDisplay\n",
    "cmplot = ConfusionMatrixDisplay(cm, display_labels=classifier.classes_)\n",
    "cmplot.plot()\n",
    "plt.show()"
   ]
  },
  {
   "cell_type": "markdown",
   "metadata": {},
   "source": [
    "Let's wrap this up in a loop"
   ]
  },
  {
   "cell_type": "code",
   "execution_count": 45,
   "metadata": {},
   "outputs": [
    {
     "name": "stdout",
     "output_type": "stream",
     "text": [
      "nc =  1 , ||X_train-Xc_train|| =  15.92925092730454\n",
      "nc =  2 , ||X_train-Xc_train|| =  9.667024966315429\n",
      "nc =  3 , ||X_train-Xc_train|| =  4.689399084848383\n",
      "nc =  4 , ||X_train-Xc_train|| =  1.2660817406478619e-14\n",
      "Confusion Matrix:\n",
      "[[55.  5.  0.]\n",
      " [21.  6.  3.]\n",
      " [ 0.  0. 44.]]\n",
      "nc =  4 , ||X-Xc|| =  1.2660817406478619e-14\n",
      "Accuracy: 0.7835820895522388\n",
      "Confusion Matrix:\n",
      "[[54.  6.  0.]\n",
      " [19. 11.  0.]\n",
      " [ 0.  0. 44.]]\n",
      "nc =  4 , ||X-Xc|| =  1.2660817406478619e-14\n",
      "Accuracy: 0.8134328358208955\n",
      "Confusion Matrix:\n",
      "[[60.  0.  0.]\n",
      " [ 4. 26.  0.]\n",
      " [ 0.  0. 44.]]\n",
      "nc =  4 , ||X-Xc|| =  1.2660817406478619e-14\n",
      "Accuracy: 0.9701492537313433\n",
      "Confusion Matrix:\n",
      "[[60.  0.  0.]\n",
      " [ 3. 27.  0.]\n",
      " [ 0.  0. 44.]]\n",
      "nc =  4 , ||X-Xc|| =  1.2660817406478619e-14\n",
      "Accuracy: 0.9776119402985075\n",
      "[0.78358209 0.81343284 0.97014925 0.97761194]\n"
     ]
    },
    {
     "data": {
      "text/plain": [
       "(0.0, 1.0)"
      ]
     },
     "execution_count": 45,
     "metadata": {},
     "output_type": "execute_result"
    },
    {
     "data": {
      "image/png": "[encoded data removed]",
      "text/plain": [
       "<Figure size 432x288 with 1 Axes>"
      ]
     },
     "metadata": {
      "needs_background": "light"
     },
     "output_type": "display_data"
    }
   ],
   "source": [
    "accarray = np.zeros([4])\n",
    "cm_all = np.zeros([4,3,3])\n",
    "X = dfp2.iloc[:, 2:6].values\n",
    "y = dfp2.iloc[:, 0].values\n",
    "X_train, X_test, y_train, y_test = train_test_split(X, y, test_size=0.40)\n",
    "# scale the data\n",
    "scaler = StandardScaler();\n",
    "scaler.fit(X_train)\n",
    "X_train = scaler.transform(X_train)\n",
    "X_test = scaler.transform(X_test)\n",
    "# get the SVD of the training data. NOT the test data - WHY?\n",
    "U, S, VT = np.linalg.svd(X_train, full_matrices=False)\n",
    "\n",
    "for k in range(4):\n",
    "  Xc_train = np.zeros(X_train.shape)\n",
    "  nc = 1+k\n",
    "  for k in range(0, nc):\n",
    "    Xc_train +=  S[k] * U[:,[k]] @ VT[[k],:]\n",
    "  print('nc = ', nc, ', ||X_train-Xc_train|| = ', np.linalg.norm(X_train - Xc_train))\n",
    "\n",
    "  # obtain classifier, fit using 2 NN's and the Manhattan norm\n",
    "  classifier = KNeighborsClassifier(n_neighbors=2, p=1)\n",
    "  classifier.fit(Xc_train, y_train)\n",
    "  # predict from the test data.\n",
    "  y_pred = classifier.predict(X_test)\n",
    "  # create a confusion matrix to assess the performance\n",
    "  cm_all[k,:,:] = confusion_matrix(y_test, y_pred)\n",
    "  accarray[k] = accuracy_score(y_test,y_pred)\n",
    "\n",
    "\n",
    "for k in range(4):\n",
    "  print(\"Confusion Matrix:\"); print(cm_all[k,:,:])\n",
    "  print('nc = ', nc, ', ||X-Xc|| = ', np.linalg.norm(X_train - Xc_train))\n",
    "  print(\"Accuracy:\", accarray[k])\n",
    "\n",
    "print(accarray)\n",
    "plt.plot([1,2,3,4], accarray)\n",
    "plt.xlabel('Number of Singular Values')\n",
    "plt.ylabel('Accuracy estimate')\n",
    "plt.ylim([0,1])"
   ]
  },
  {
   "cell_type": "code",
   "execution_count": 46,
   "metadata": {},
   "outputs": [
    {
     "data": {
      "text/plain": [
       "<sklearn.metrics._plot.confusion_matrix.ConfusionMatrixDisplay at 0x7fcd69969da0>"
      ]
     },
     "execution_count": 46,
     "metadata": {},
     "output_type": "execute_result"
    },
    {
     "data": {
      "image/png": "[encoded data removed]",
      "text/plain": [
       "<Figure size 432x288 with 2 Axes>"
      ]
     },
     "metadata": {
      "needs_background": "light"
     },
     "output_type": "display_data"
    }
   ],
   "source": [
    "k=0\n",
    "cmplot = ConfusionMatrixDisplay(cm_all[k,:,:], display_labels=classifier.classes_)\n",
    "cmplot.plot()\n"
   ]
  },
  {
   "cell_type": "code",
   "execution_count": 47,
   "metadata": {},
   "outputs": [
    {
     "data": {
      "image/png": "[encoded data removed]",
      "text/plain": [
       "<Figure size 1440x360 with 8 Axes>"
      ]
     },
     "metadata": {
      "needs_background": "light"
     },
     "output_type": "display_data"
    }
   ],
   "source": [
    "# subplot hints came from here:\n",
    "# https://stackoverflow.com/questions/61825227/plotting-multiple-confusion-matrix-side-by-side\n",
    "\n",
    "f, axes = plt.subplots(1, 4, figsize=(20, 5), sharey='row')\n",
    "for k in range(4):\n",
    "  cmplot = ConfusionMatrixDisplay(cm_all[k,:,:], display_labels=classifier.classes_)\n",
    "  cmplot.plot(ax=axes[k], xticks_rotation=45)\n",
    "plt.show()"
   ]
  },
  {
   "cell_type": "markdown",
   "metadata": {
    "slideshow": {
     "slide_type": "slide"
    }
   },
   "source": [
    "### Review\n",
    "\n",
    "We covered *just enough*, to make *progress at pace*. We looked at\n",
    "\n",
    "- How the SVD and eigenvalue decomposition are related.\n",
    "- How this becomes relevant to the data covariance matrix.\n",
    "- How this can be used.\n",
    "\n",
    "Now we can start putting all of this material to work."
   ]
  },
  {
   "cell_type": "markdown",
   "metadata": {
    "slideshow": {
     "slide_type": "skip"
    }
   },
   "source": [
    "## Technical Notes, Production and Archiving\n",
    "\n",
    "Ignore the material below. What follows is not relevant to the material being taught."
   ]
  },
  {
   "cell_type": "markdown",
   "metadata": {
    "slideshow": {
     "slide_type": "skip"
    }
   },
   "source": [
    "#### Production Workflow\n",
    "\n",
    "- Finalise the notebook material above\n",
    "- Clear and fresh run of entire notebook\n",
    "- Create html slide show:\n",
    "  - `jupyter nbconvert --to slides 10_pca.ipynb `\n",
    "- Set `OUTPUTTING=1` below\n",
    "- Comment out the display of web-sourced diagrams\n",
    "- Clear and fresh run of entire notebook\n",
    "- Comment back in the display of web-sourced diagrams\n",
    "- Clear all cell output\n",
    "- Set `OUTPUTTING=0` below\n",
    "- Save\n",
    "- git add, commit and push to FML\n",
    "- copy PDF, HTML etc to web site\n",
    "  - git add, commit and push\n",
    "- rebuild binder"
   ]
  },
  {
   "cell_type": "markdown",
   "metadata": {
    "slideshow": {
     "slide_type": "skip"
    }
   },
   "source": [
    "Some of this originated from\n",
    "\n",
    "<https://stackoverflow.com/questions/38540326/save-html-of-a-jupyter-notebook-from-within-the-notebook>\n",
    "\n",
    "These lines create a back up of the notebook. They can be ignored.\n",
    "\n",
    "At some point this is better as a bash script outside of the notebook"
   ]
  },
  {
   "cell_type": "code",
   "execution_count": 48,
   "metadata": {
    "slideshow": {
     "slide_type": "skip"
    }
   },
   "outputs": [
    {
     "name": "stderr",
     "output_type": "stream",
     "text": [
      "[NbConvertApp] Converting notebook 10_pca.ipynb to html\n",
      "[NbConvertApp] Writing 848644 bytes to 10_pca.html\n",
      "[NbConvertApp] Converting notebook 10_pca.ipynb to pdf\n",
      "[NbConvertApp] Support files will be in 10_pca_files/\n",
      "[NbConvertApp] Making directory ./10_pca_files\n",
      "[NbConvertApp] Making directory ./10_pca_files\n",
      "[NbConvertApp] Making directory ./10_pca_files\n",
      "[NbConvertApp] Making directory ./10_pca_files\n",
      "[NbConvertApp] Making directory ./10_pca_files\n",
      "[NbConvertApp] Making directory ./10_pca_files\n",
      "[NbConvertApp] Making directory ./10_pca_files\n",
      "[NbConvertApp] Writing 140385 bytes to notebook.tex\n",
      "[NbConvertApp] Building PDF\n",
      "[NbConvertApp] Running xelatex 3 times: ['xelatex', 'notebook.tex', '-quiet']\n",
      "[NbConvertApp] Running bibtex 1 time: ['bibtex', 'notebook']\n",
      "[NbConvertApp] WARNING | bibtex had problems, most likely because there were no citations\n",
      "[NbConvertApp] PDF successfully created\n",
      "[NbConvertApp] Writing 223100 bytes to 10_pca.pdf\n",
      "[NbConvertApp] Converting notebook 10_pca.ipynb to script\n",
      "[NbConvertApp] Writing 45316 bytes to 10_pca.py\n"
     ]
    }
   ],
   "source": [
    "%%bash\n",
    "NBROOTNAME=10_pca\n",
    "OUTPUTTING=1\n",
    "\n",
    "if [ $OUTPUTTING -eq 1 ]; then\n",
    "  jupyter nbconvert --to html $NBROOTNAME.ipynb\n",
    "  cp $NBROOTNAME.html ../backups/$(date +\"%m_%d_%Y-%H%M%S\")_$NBROOTNAME.html\n",
    "  mv -f $NBROOTNAME.html ./formats/html/\n",
    "\n",
    "  jupyter nbconvert --to pdf $NBROOTNAME.ipynb\n",
    "  cp $NBROOTNAME.pdf ../backups/$(date +\"%m_%d_%Y-%H%M%S\")_$NBROOTNAME.pdf\n",
    "  mv -f $NBROOTNAME.pdf ./formats/pdf/\n",
    "\n",
    "  jupyter nbconvert --to script $NBROOTNAME.ipynb\n",
    "  cp $NBROOTNAME.py ../backups/$(date +\"%m_%d_%Y-%H%M%S\")_$NBROOTNAME.py\n",
    "  mv -f $NBROOTNAME.py ./formats/py/\n",
    "else\n",
    "  echo 'Not Generating html, pdf and py output versions'\n",
    "fi"
   ]
  },
  {
   "cell_type": "code",
   "execution_count": null,
   "metadata": {},
   "outputs": [],
   "source": []
  }
 ],
 "metadata": {
  "celltoolbar": "Slideshow",
  "kernelspec": {
   "display_name": "Python 3",
   "language": "python",
   "name": "python3"
  },
  "language_info": {
   "codemirror_mode": {
    "name": "ipython",
    "version": 3
   },
   "file_extension": ".py",
   "mimetype": "text/x-python",
   "name": "python",
   "nbconvert_exporter": "python",
   "pygments_lexer": "ipython3",
   "version": "3.7.1"
  }
 },
 "nbformat": 4,
 "nbformat_minor": 4
}
