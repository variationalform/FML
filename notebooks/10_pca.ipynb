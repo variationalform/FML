{
 "cells": [
  {
   "cell_type": "markdown",
   "metadata": {
    "slideshow": {
     "slide_type": "slide"
    }
   },
   "source": [
    "# Principal Component Analysis\n",
    "\n",
    "#### *variationalform* <https://variationalform.github.io/>\n",
    "\n",
    "#### *Just Enough: progress at pace*\n",
    "\n",
    "<https://variationalform.github.io/>\n",
    "\n",
    "<https://github.com/variationalform>\n",
    "\n",
    "Simon Shaw\n",
    "<https://www.brunel.ac.uk/people/simon-shaw>.\n"
   ]
  },
  {
   "cell_type": "markdown",
   "metadata": {
    "slideshow": {
     "slide_type": "fragment"
    }
   },
   "source": [
    "<table>\n",
    "<tr>\n",
    "<td>\n",
    "<img src=\"https://mirrors.creativecommons.org/presskit/icons/cc.svg?ref=chooser-v1\" style=\"height:18px\"/>\n",
    "<img src=\"https://mirrors.creativecommons.org/presskit/icons/by.svg?ref=chooser-v1\" style=\"height:18px\"/>\n",
    "<img src=\"https://mirrors.creativecommons.org/presskit/icons/sa.svg?ref=chooser-v1\" style=\"height:18px\"/>\n",
    "</td>\n",
    "<td>\n",
    "\n",
    "<p>\n",
    "This work is licensed under CC BY-SA 4.0 (Attribution-ShareAlike 4.0 International)\n",
    "\n",
    "<p>\n",
    "Visit <a href=\"http://creativecommons.org/licenses/by-sa/4.0/\">http://creativecommons.org/licenses/by-sa/4.0/</a> to see the terms.\n",
    "</td>\n",
    "</tr>\n",
    "</table>"
   ]
  },
  {
   "cell_type": "markdown",
   "metadata": {
    "slideshow": {
     "slide_type": "fragment"
    }
   },
   "source": [
    "<table>\n",
    "<tr>\n",
    "<td>This document uses python</td>\n",
    "<td>\n",
    "<img src=\"https://www.python.org/static/community_logos/python-logo-master-v3-TM.png\" style=\"height:30px\"/>\n",
    "</td>\n",
    "<td>and also makes use of LaTeX </td>\n",
    "<td>\n",
    "<img src=\"https://upload.wikimedia.org/wikipedia/commons/thumb/9/92/LaTeX_logo.svg/320px-LaTeX_logo.svg.png\" style=\"height:30px\"/>\n",
    "</td>\n",
    "<td>in Markdown</td> \n",
    "<td>\n",
    "<img src=\"https://github.com/adam-p/markdown-here/raw/master/src/common/images/icon48.png\" style=\"height:30px\"/>\n",
    "</td>\n",
    "</tr>\n",
    "</table>"
   ]
  },
  {
   "cell_type": "markdown",
   "metadata": {
    "slideshow": {
     "slide_type": "slide"
    }
   },
   "source": [
    "## What this is about:\n",
    "\n",
    "The connection between SVD, the **Singular Value Decomposition**, and PCA,\n",
    "**Principal Component Analysis**.\n",
    "\n",
    "As usual our emphasis will be on *doing* rather than *proving*:\n",
    "*just enough: progress at pace*\n"
   ]
  },
  {
   "cell_type": "markdown",
   "metadata": {
    "slideshow": {
     "slide_type": "slide"
    }
   },
   "source": [
    "## Assigned Reading\n",
    "\n",
    "For this worksheet you are recommended Chapters 4 and 10 of [MML],\n",
    "Chapter 10 of [MLFCES], Chapter 5.3 of [IPDS], \n",
    "\n",
    "- MML: Mathematics for Machine Learning, by Marc Peter Deisenroth, A. Aldo Faisal, and Cheng Soon Ong.\n",
    "  Cambridge University Press. <https://mml-book.github.io>.\n",
    "- MLFCES: Machine Learning: A First Course for Engineers and Scientists, by Andreas Lindholm,\n",
    "  Niklas Wahlström, Fredrik Lindsten, Thomas B. Schön. Cambridge University Press. \n",
    "  <http://smlbook.org>.\n",
    "- IPDS: Introduction to Probability for Data Science, by Stanley H. Chan,\n",
    "  <https://probability4datascience.com>\n",
    "\n",
    "These can be accessed legally and without cost.\n",
    "\n",
    "There are also these useful references for coding:\n",
    "\n",
    "- PT: `python`: <https://docs.python.org/3/tutorial>\n",
    "- NP: `numpy`: <https://numpy.org/doc/stable/user/quickstart.html>\n",
    "- MPL: `matplotlib`: <https://matplotlib.org>"
   ]
  },
  {
   "cell_type": "markdown",
   "metadata": {
    "slideshow": {
     "slide_type": "slide"
    }
   },
   "source": [
    "## Review\n",
    "\n",
    "\n",
    "We have seen these \n",
    "\n",
    "- Eigenvalue decomposition\n",
    "- SVD, the **Singular Value Decomposition**\n",
    "\n",
    "Let's review them..."
   ]
  },
  {
   "cell_type": "markdown",
   "metadata": {
    "slideshow": {
     "slide_type": "slide"
    }
   },
   "source": [
    "## Eigen-systems of Symmetric Matrices\n",
    "\n",
    "Given a real square $n$-row by $n$-column matrix,\n",
    "$\\boldsymbol{A}\\in\\mathbb{R}^{n\\times n}$ the eigenvalue problem\n",
    "is that of finding scalar eigenvalues $\\lambda$\n",
    "and $n$-dimensional eigenvectors $\\boldsymbol{v}$ such that\n",
    "\n",
    "$$\n",
    "\\boldsymbol{A}\\boldsymbol{v}=\\lambda\\boldsymbol{v}    \n",
    "\\quad\\Longrightarrow\\quad\n",
    "\\boldsymbol{A}\\boldsymbol{V}=\\boldsymbol{V}\\boldsymbol{D}  \n",
    "\\quad\\Longrightarrow\\quad\n",
    "\\boldsymbol{A} = \n",
    "\\sum_{k=1}^n\n",
    "\\lambda_k\\boldsymbol{v}_k\\boldsymbol{v}_k^T.\n",
    "$$\n",
    "\n",
    "The eigensystem is **real**.\n",
    "\n",
    "We have the *Spectral Theorem* - see [MML, Theorem 4.15]\n",
    "\n",
    "> **Spectral Theorem (for matrices)**\n",
    "> If $\\boldsymbol{A}$ is real and symmetric then its eigenvalues are\n",
    "> all real and its eigenvector matrix $\\boldsymbol{V}$ can be taken\n",
    "> as *orthogonal* so that $\\boldsymbol{V}^{-1}=\\boldsymbol{V}^T$.\n",
    "Hence...\n",
    "\n",
    "$$\n",
    "\\boldsymbol{A}=\\boldsymbol{V}\\boldsymbol{D}\\boldsymbol{V}^T  \n",
    "$$\n"
   ]
  },
  {
   "cell_type": "markdown",
   "metadata": {
    "slideshow": {
     "slide_type": "slide"
    }
   },
   "source": [
    "## The SVD: Singular Value Decomposition\n",
    "\n",
    "Given a real $m$-row by $n$-column matrix, \n",
    "$\\boldsymbol{B}\\in\\mathbb{R}^{m\\times n}$\n",
    "\n",
    "$$\n",
    "\\boldsymbol{B} = \\boldsymbol{U}\\boldsymbol{\\Sigma}\\boldsymbol{V}^T\n",
    "=\\sum_{j=1}^{p} \\sigma_j \\boldsymbol{u}_j\\boldsymbol{v}_j^T\n",
    "$$\n",
    "\n",
    "where: for the left singular vectors: $\\boldsymbol{U}\\in\\mathbb{R}^{m\\times m}$;\n",
    "for the singular values: $\\boldsymbol{\\Sigma}\\in\\mathbb{R}^{m\\times n}$;\n",
    "and, for the right singular vectors, $\\boldsymbol{V}\\in\\mathbb{R}^{n\\times n}$.\n",
    "Here $p=\\min\\{m,n\\}$.\n",
    "\n",
    "Note that $\\boldsymbol{\\Sigma}=\\text{diag}(\\sigma_1,\\ldots,\\sigma_p) + \\mathit{zeros}$,\n",
    "and we can always arrange that $0 \\le \\sigma_1\\le\\cdots\\le\\sigma_p$.\n",
    "\n",
    "As $\\boldsymbol{B}$ is real,\n",
    "$\\boldsymbol{U}$ and $\\boldsymbol{V}$ are real and *orthogonal*.\n",
    "\n",
    "If $\\sigma_r\\ne 0$ and $\\sigma_p= 0$ for all $p>r$ then\n",
    "$r$ is the rank of $\\boldsymbol{B}$.\n",
    "\n"
   ]
  },
  {
   "cell_type": "markdown",
   "metadata": {
    "slideshow": {
     "slide_type": "slide"
    }
   },
   "source": [
    "## How are these factorizations connected?\n",
    "\n",
    "On the face of it they are very different. the first applies only to \n",
    "square symmetric matrices, while the second applies also to\n",
    "rectangular, and hence (why?) non-symmetric matrices.\n",
    "\n",
    "But... Look at this... Given the SVD \n",
    "$\\boldsymbol{B} = \\boldsymbol{U}\\boldsymbol{\\Sigma}\\boldsymbol{V}^T$\n",
    "we have,\n",
    "\n",
    "$$\n",
    "\\boldsymbol{B}^T\\boldsymbol{B}\n",
    "= \\Big(\\boldsymbol{U}\\boldsymbol{\\Sigma}\\boldsymbol{V}^T\\Big)^T\n",
    "\\boldsymbol{U}\\boldsymbol{\\Sigma}\\boldsymbol{V}^T\n",
    "$$\n",
    "\n",
    "and remembering that, in general,\n",
    "$(\\boldsymbol{K}\\boldsymbol{L})^T = \\boldsymbol{L}^T\\boldsymbol{K}^T$\n",
    "(this could called *taking the transpose through*), we can write,\n",
    "\n",
    "$$\n",
    "\\boldsymbol{B}^T\\boldsymbol{B}\n",
    "= \\boldsymbol{V}\\boldsymbol{\\Sigma}^T\\boldsymbol{U}^T\n",
    "\\boldsymbol{U}\\boldsymbol{\\Sigma}\\boldsymbol{V}^T\n",
    "= \\boldsymbol{V}\\boldsymbol{\\Sigma}^T\\boldsymbol{\\Sigma}\\boldsymbol{V}^T\n",
    "$$\n",
    "because $\\boldsymbol{U}^T\\boldsymbol{U}=\\boldsymbol{I}$ (orthogonal).\n",
    "\n",
    "Similarly, because also\n",
    "$\\boldsymbol{V}^T\\boldsymbol{V}=\\boldsymbol{I}$ (orthogonal),\n",
    "\n",
    "$$\n",
    "\\boldsymbol{B}\\boldsymbol{B}^T\n",
    "= \n",
    "\\boldsymbol{U}\\boldsymbol{\\Sigma}\\boldsymbol{V}^T\n",
    "\\Big(\\boldsymbol{U}\\boldsymbol{\\Sigma}\\boldsymbol{V}^T\\Big)^T\n",
    "= \n",
    "\\boldsymbol{U}\\boldsymbol{\\Sigma}\\boldsymbol{V}^T\n",
    "\\boldsymbol{V}\\boldsymbol{\\Sigma}^T\\boldsymbol{U}^T\n",
    "= \n",
    "\\boldsymbol{U}\\boldsymbol{\\Sigma}\n",
    "\\boldsymbol{\\Sigma}^T\\boldsymbol{U}^T.\n",
    "$$\n",
    "\n",
    "Do you recognise these?"
   ]
  },
  {
   "cell_type": "markdown",
   "metadata": {
    "slideshow": {
     "slide_type": "slide"
    }
   },
   "source": [
    "We have just shown that,\n",
    "\n",
    "$$\n",
    "\\boldsymbol{B}^T\\boldsymbol{B}\n",
    "= \\boldsymbol{V}\\boldsymbol{\\Sigma}^T\\boldsymbol{\\Sigma}\\boldsymbol{V}^T\n",
    "\\qquad\\text{ and }\\qquad\n",
    "\\boldsymbol{B}\\boldsymbol{B}^T\n",
    "= \n",
    "\\boldsymbol{U}\\boldsymbol{\\Sigma}\n",
    "\\boldsymbol{\\Sigma}^T\\boldsymbol{U}^T.\n",
    "$$\n",
    "\n",
    "Familiar? Think about $\\boldsymbol{A}=\\boldsymbol{V}\\boldsymbol{D}\\boldsymbol{V}^T$.\n",
    "\n",
    "- Put $\\boldsymbol{A} = \\boldsymbol{B}^T\\boldsymbol{B}$ (symmetric) and \n",
    "$\\boldsymbol{D} = \\boldsymbol{\\Sigma}^T\\boldsymbol{\\Sigma}$. Then,\n",
    "\n",
    "$$\n",
    "\\boldsymbol{B}^T\\boldsymbol{B}\n",
    "= \\boldsymbol{V}\\boldsymbol{\\Sigma}^T\\boldsymbol{\\Sigma}\\boldsymbol{V}^T\n",
    "\\qquad\\text{becomes}\\qquad\n",
    "\\boldsymbol{A}=\\boldsymbol{V}\\boldsymbol{D}\\boldsymbol{V}^T.\n",
    "$$\n",
    "\n",
    "- Put $\\boldsymbol{A} = \\boldsymbol{B}\\boldsymbol{B}^T$ (symmetric) and \n",
    "$\\boldsymbol{D} = \\boldsymbol{\\Sigma}\\boldsymbol{\\Sigma}^T$. Then,\n",
    "\n",
    "$$\n",
    "\\boldsymbol{B}\\boldsymbol{B}^T\n",
    "= \n",
    "\\boldsymbol{U}\\boldsymbol{\\Sigma}\n",
    "\\boldsymbol{\\Sigma}^T\\boldsymbol{U}^T\n",
    "\\qquad\\text{becomes}\\qquad\n",
    "\\boldsymbol{A}=\\boldsymbol{U}\\boldsymbol{D}\\boldsymbol{U}^T.\n",
    "$$\n",
    "\n",
    "- $\\boldsymbol{V}$, the right singular vectors in the SVD are the eigenvectors of \n",
    "$\\boldsymbol{B}^T\\boldsymbol{B}$.\n",
    "\n",
    "- $\\boldsymbol{U}$, the left singular vectors in the SVD are the eigenvectors of \n",
    "$\\boldsymbol{B}\\boldsymbol{B}^T$.\n",
    "\n",
    "- In both cases $\\boldsymbol{\\Sigma}$ contains the positive square\n",
    "roots of the eigenvalues of $\\boldsymbol{B}^T\\boldsymbol{B}$\n",
    "and $\\boldsymbol{B}\\boldsymbol{B}^T$.\n",
    "\n",
    "- **NOTE:** $\\boldsymbol{B}^T\\boldsymbol{B}$ and $\\boldsymbol{B}\\boldsymbol{B}^T$\n",
    "have the same non-zero eigenvalues (same rank).\n"
   ]
  },
  {
   "cell_type": "markdown",
   "metadata": {
    "slideshow": {
     "slide_type": "slide"
    }
   },
   "source": [
    "## Why does this matter?\n",
    " \n",
    "Our data, $\\boldsymbol{X}$, is organized into rows of feature values with one observation per row \n",
    "and one feature per column. We write this as\n",
    "\n",
    "$$\n",
    "\\boldsymbol{X} = \\Big(\n",
    "\\boldsymbol{X}_0, \\boldsymbol{X}_1, \\cdots, \\boldsymbol{X}_N\n",
    "\\Big)\n",
    "$$\n",
    "\n",
    "If $N=3$ (four features)..."
   ]
  },
  {
   "cell_type": "markdown",
   "metadata": {
    "slideshow": {
     "slide_type": "fragment"
    }
   },
   "source": [
    "... we recall that the **covariance matrix** takes this form:\n",
    "\n",
    "$$\n",
    "\\boldsymbol{M} = \n",
    "\\left(\\begin{array}{llll}\n",
    "\\mathrm{Var}(X_0)  &  \\mathrm{Cov}(X_0,X_1)  &  \\mathrm{Cov}(X_0,X_2)  &  \\mathrm{Cov}(X_0,X_3) \\\\\n",
    "\\mathrm{Cov}(X_1,X_0)  &  \\mathrm{Var}(X_1)  &  \\mathrm{Cov}(X_1,X_2)  &  \\mathrm{Cov}(X_1,X_3) \\\\\n",
    "\\mathrm{Cov}(X_2,X_0)  &  \\mathrm{Cov}(X_2,X_1)  &  \\mathrm{Var}(X_2)  &  \\mathrm{Cov}(X_2,X_3) \\\\\n",
    "\\mathrm{Cov}(X_3,X_0)  &  \\mathrm{Cov}(X_3,X_1)  &  \\mathrm{Cov}(X_3,X_2)  &  \\mathrm{Var}(X_3) \\\\\n",
    "\\end{array}\\right)\n",
    "$$\n",
    "\n",
    "because $\\mathrm{Cov}(X,X)=\\mathrm{Var}(X)$. Since $\\mathrm{Cov}(X,Y)=\\mathrm{Cov}(Y,X)$, this matrix is **symmetric**\n",
    "and so has real eigenvalues."
   ]
  },
  {
   "cell_type": "markdown",
   "metadata": {
    "slideshow": {
     "slide_type": "slide"
    }
   },
   "source": [
    "We have seen that if the data are already centred then,\n",
    "\n",
    "$$\n",
    "(N-1)\\boldsymbol{M} = \n",
    "\\left(\\begin{array}{llll}\n",
    "\\boldsymbol{X}_0\\cdot\\boldsymbol{X}_0 & \\boldsymbol{X}_0\\cdot\\boldsymbol{X}_1 &\n",
    "\\boldsymbol{X}_0\\cdot\\boldsymbol{X}_2 & \\boldsymbol{X}_0\\cdot\\boldsymbol{X}_3\n",
    "\\\\\n",
    "\\boldsymbol{X}_1\\cdot\\boldsymbol{X}_0 & \\boldsymbol{X}_1\\cdot\\boldsymbol{X}_1 &\n",
    "\\boldsymbol{X}_1\\cdot\\boldsymbol{X}_2 & \\boldsymbol{X}_1\\cdot\\boldsymbol{X}_3\n",
    "\\\\\n",
    "\\boldsymbol{X}_2\\cdot\\boldsymbol{X}_0 & \\boldsymbol{X}_2\\cdot\\boldsymbol{X}_1 &\n",
    "\\boldsymbol{X}_2\\cdot\\boldsymbol{X}_2 & \\boldsymbol{X}_2\\cdot\\boldsymbol{X}_3\n",
    "\\\\\n",
    "\\boldsymbol{X}_3\\cdot\\boldsymbol{X}_0 & \\boldsymbol{X}_3\\cdot\\boldsymbol{X}_1 &\n",
    "\\boldsymbol{X}_3\\cdot\\boldsymbol{X}_2 & \\boldsymbol{X}_3\\cdot\\boldsymbol{X}_3\n",
    "\\\\\n",
    "\\end{array}\\right)\n",
    "=\n",
    "\\left(\\begin{array}{l}\n",
    "\\boldsymbol{X}_0^T\n",
    "\\\\\n",
    "\\boldsymbol{X}_1^T\n",
    "\\\\\n",
    "\\boldsymbol{X}_2^T\n",
    "\\\\\n",
    "\\boldsymbol{X}_3^T\n",
    "\\\\\n",
    "\\end{array}\\right)\n",
    "\\left(\\begin{array}{llll}\n",
    "\\boldsymbol{X}_0\n",
    "&\n",
    "\\boldsymbol{X}_1\n",
    "&\n",
    "\\boldsymbol{X}_2\n",
    "&\n",
    "\\boldsymbol{X}_3\n",
    "\\\\\n",
    "\\end{array}\\right)\n",
    "$$\n",
    "\n",
    "and, hence (in general), the (sample) covariance matrix is\n",
    "\n",
    "$$\n",
    "\\boldsymbol{M} = \n",
    "\\frac{1}{(N-1)}\\boldsymbol{X}^T\\boldsymbol{X}.\n",
    "$$\n"
   ]
  },
  {
   "cell_type": "markdown",
   "metadata": {
    "slideshow": {
     "slide_type": "fragment"
    }
   },
   "source": [
    "# I N C O M P L E T E\n",
    "\n",
    "There is more to come - this document will be replaced with an update in due course."
   ]
  },
  {
   "cell_type": "code",
   "execution_count": 1,
   "metadata": {},
   "outputs": [],
   "source": [
    "import matplotlib.pyplot as plt\n",
    "import numpy as np\n",
    "import seaborn as sns\n",
    "\n",
    "from sklearn.model_selection import train_test_split\n",
    "from sklearn.preprocessing import StandardScaler\n",
    "#from sklearn.neighbors import KNeighborsClassifier\n",
    "#from sklearn.metrics import classification_report, confusion_matrix, accuracy_score"
   ]
  },
  {
   "cell_type": "code",
   "execution_count": 2,
   "metadata": {},
   "outputs": [
    {
     "name": "stdout",
     "output_type": "stream",
     "text": [
      "(333, 7)\n"
     ]
    }
   ],
   "source": [
    "dfp = sns.load_dataset('penguins')\n",
    "dfp2 = dfp.dropna()\n",
    "dfp2.isna().sum()\n",
    "dfp2 = dfp2.reset_index(drop=True)\n",
    "print(dfp2.shape)\n",
    "\n",
    "# create our labelled training and test data sets with 60/40 train/test split\n",
    "X = dfp2.iloc[:, 2:6].values\n",
    "y = dfp2.iloc[:, 0].values\n",
    "X_train, X_test, y_train, y_test = train_test_split(X, y, test_size=0.40)\n",
    "# scale the data\n",
    "scaler = StandardScaler()\n",
    "# mean zero, unit variance \n",
    "scaler.fit(X_train)\n",
    "X_train = scaler.transform(X_train)\n",
    "X_test = scaler.transform(X_test)"
   ]
  },
  {
   "cell_type": "code",
   "execution_count": 3,
   "metadata": {},
   "outputs": [
    {
     "name": "stdout",
     "output_type": "stream",
     "text": [
      "[23.45855015 12.33831915  8.56452686  4.48454962]\n",
      "[550.303575   152.23411933  73.3511204   20.11118527]\n",
      "[[-0.45995024  0.56936535  0.6699126   0.1244427 ]\n",
      " [ 0.39640248  0.81412959 -0.38776074 -0.17233601]\n",
      " [-0.57552324 -0.0028405  -0.24797151 -0.77927856]\n",
      " [-0.5477991   0.11405281 -0.58255373  0.58952459]]\n"
     ]
    }
   ],
   "source": [
    "# take the SVD of X_train - we must treat X_test as 'unseen'\n",
    "U, S, VT = np.linalg.svd(X_train, full_matrices=False) # full_matrices=False - discussed later\n",
    "\n",
    "print(S)\n",
    "print(S*S)\n",
    "print(VT.T)"
   ]
  },
  {
   "cell_type": "markdown",
   "metadata": {},
   "source": [
    "Now look at the covariance matrix of X_train\n"
   ]
  },
  {
   "cell_type": "code",
   "execution_count": 4,
   "metadata": {},
   "outputs": [
    {
     "name": "stdout",
     "output_type": "stream",
     "text": [
      "[[ 1.00505051 -0.2487554   0.66308312  0.61307975]\n",
      " [-0.2487554   1.00505051 -0.58658486 -0.45876841]\n",
      " [ 0.66308312 -0.58658486  1.00505051  0.88284045]\n",
      " [ 0.61307975 -0.45876841  0.88284045  1.00505051]]\n",
      "[550.303575   152.23411933  73.3511204   20.11118527]\n",
      "[2.77931098 0.76885919 0.3704602  0.10157164]\n",
      "[[-0.45995024  0.56936535  0.6699126   0.1244427 ]\n",
      " [ 0.39640248  0.81412959 -0.38776074 -0.17233601]\n",
      " [-0.57552324 -0.0028405  -0.24797151 -0.77927856]\n",
      " [-0.5477991   0.11405281 -0.58255373  0.58952459]]\n"
     ]
    }
   ],
   "source": [
    "N = X_train.shape[0]\n",
    "C = X_train.T @ X_train / (N-1)\n",
    "print(C)\n",
    "w, v = np.linalg.eig(C)\n",
    "print(w*(N-1))\n",
    "print(w)\n",
    "print(v)"
   ]
  },
  {
   "cell_type": "code",
   "execution_count": 5,
   "metadata": {},
   "outputs": [
    {
     "name": "stdout",
     "output_type": "stream",
     "text": [
      "[0.69133615 0.19124889 0.09214965 0.02526531]\n",
      "[23.45855015 12.33831915  8.56452686  4.48454962]\n",
      "[[ 0.45995024 -0.39640248  0.57552324  0.5477991 ]\n",
      " [ 0.56936535  0.81412959 -0.0028405   0.11405281]\n",
      " [ 0.6699126  -0.38776074 -0.24797151 -0.58255373]\n",
      " [ 0.1244427  -0.17233601 -0.77927856  0.58952459]]\n"
     ]
    }
   ],
   "source": [
    "from sklearn.decomposition import PCA\n",
    "pca = PCA(n_components=4)\n",
    "pca.fit(X_train)\n",
    "print(pca.explained_variance_ratio_)\n",
    "print(pca.singular_values_)\n",
    "print(pca.components_)"
   ]
  },
  {
   "cell_type": "markdown",
   "metadata": {},
   "source": [
    "## Standard Example\n",
    "\n",
    "Plot lozenge of Gaussian data"
   ]
  },
  {
   "cell_type": "code",
   "execution_count": 6,
   "metadata": {},
   "outputs": [
    {
     "name": "stdout",
     "output_type": "stream",
     "text": [
      "[39.27050983  5.72949017] \n",
      " [[ 0.85065081 -0.52573111]\n",
      " [ 0.52573111  0.85065081]]\n"
     ]
    }
   ],
   "source": [
    "# https://numpy.org/doc/stable/reference/random/generated/numpy.random.multivariate_normal.html\n",
    "# decide number of samples, they will have zero mean\n",
    "Ns = 50\n",
    "mean = [0, 0]\n",
    "cov = [[30, 15], [15, 15]] \n",
    "w,v = np.linalg.eig(cov)\n",
    "print(w,'\\n',v)\n",
    "x, y = np.random.multivariate_normal(mean, cov, Ns).T\n"
   ]
  },
  {
   "cell_type": "code",
   "execution_count": 7,
   "metadata": {},
   "outputs": [
    {
     "name": "stdout",
     "output_type": "stream",
     "text": [
      "(before) mean of x = -0.4043788024073319\n",
      "(before) mean of y = -1.0257760064645915\n",
      "(after)  mean of x = 1.4210854715202004e-16\n",
      "(after)  mean of y = 8.881784197001253e-17\n"
     ]
    }
   ],
   "source": [
    "# remove the mean - can't assume this\n",
    "print(f'(before) mean of x = {x.mean()}')\n",
    "print(f'(before) mean of y = {y.mean()}')\n",
    "x -= x.mean()\n",
    "y -= y.mean()\n",
    "print(f'(after)  mean of x = {x.mean()}')\n",
    "print(f'(after)  mean of y = {y.mean()}')"
   ]
  },
  {
   "cell_type": "code",
   "execution_count": 8,
   "metadata": {},
   "outputs": [
    {
     "data": {
      "image/png": "[encoded data removed]",
      "text/plain": [
       "<Figure size 432x288 with 1 Axes>"
      ]
     },
     "metadata": {
      "needs_background": "light"
     },
     "output_type": "display_data"
    }
   ],
   "source": [
    "import matplotlib.pyplot as plt\n",
    "plt.plot(x, y, 'x', color='b')\n",
    "plt.xlim([-20,20])\n",
    "plt.ylim([-20,20])\n",
    "plt.gca().set_aspect('equal')\n",
    "plt.show()"
   ]
  },
  {
   "cell_type": "code",
   "execution_count": 9,
   "metadata": {},
   "outputs": [
    {
     "name": "stdout",
     "output_type": "stream",
     "text": [
      "[[27.36947921 14.86907652]\n",
      " [14.86907652 14.39088293]]\n",
      "w =  [37.10363405  4.65672808]\n",
      "V = \n",
      " [[ 0.8366585  -0.54772489]\n",
      " [ 0.54772489  0.8366585 ]]\n"
     ]
    }
   ],
   "source": [
    "x = x.reshape(-1,1)\n",
    "y = y.reshape(-1,1)\n",
    "X = np.hstack((x,y))\n",
    "Cv = X.T @ X / (Ns-1)\n",
    "print(Cv)\n",
    "w,V = np.linalg.eig(Cv)\n",
    "print('w = ', w)\n",
    "print('V = \\n', V)"
   ]
  },
  {
   "cell_type": "code",
   "execution_count": 10,
   "metadata": {},
   "outputs": [
    {
     "name": "stdout",
     "output_type": "stream",
     "text": [
      "S   = [42.63892668 15.10561736]\n",
      "S*S = [1818.07806868  228.17967594]\n",
      "S*S/(Ns-1) = [37.10363405  4.65672808]\n",
      "S*S/(Ns-0) = [36.36156137  4.56359352]\n",
      "V = \n",
      "[[ 0.8366585   0.54772489]\n",
      " [ 0.54772489 -0.8366585 ]]\n"
     ]
    }
   ],
   "source": [
    "U,S,VT = np.linalg.svd(X)\n",
    "print(f'S   = {S}')\n",
    "print(f'S*S = {S*S}')\n",
    "print(f'S*S/(Ns-1) = {S*S/(Ns-1)}')\n",
    "print(f'S*S/(Ns-0) = {S*S/(Ns-0)}')\n",
    "print(f'V = \\n{VT.T}')\n",
    "\n"
   ]
  },
  {
   "cell_type": "code",
   "execution_count": 11,
   "metadata": {},
   "outputs": [
    {
     "name": "stdout",
     "output_type": "stream",
     "text": [
      "XV ratio = [0.88848928]\n",
      "sing vals = [42.63892668]\n",
      "B = \n",
      " [[0.8366585 ]\n",
      " [0.54772489]]\n",
      "(1, 2)\n"
     ]
    }
   ],
   "source": [
    "from sklearn.decomposition import PCA\n",
    "pca = PCA(n_components=1)\n",
    "pca.fit(X)\n",
    "print(f'XV ratio = {pca.explained_variance_ratio_}')\n",
    "print(f'sing vals = {pca.singular_values_}')\n",
    "# the component are stored as row vectors\n",
    "B = pca.components_.T\n",
    "print('B = \\n', B)\n",
    "print(pca.components_.shape)"
   ]
  },
  {
   "cell_type": "code",
   "execution_count": 12,
   "metadata": {},
   "outputs": [
    {
     "name": "stdout",
     "output_type": "stream",
     "text": [
      "XV ratio = [0.88848928 0.11151072]\n",
      "sing vals = [42.63892668 15.10561736]\n",
      "B = \n",
      " [[ 0.8366585   0.54772489]\n",
      " [ 0.54772489 -0.8366585 ]]\n",
      "B.T*B = \n",
      " [[ 1.00000000e+00 -1.76012178e-17]\n",
      " [-1.76012178e-17  1.00000000e+00]]\n",
      "(50, 2)\n"
     ]
    }
   ],
   "source": [
    "from sklearn.decomposition import PCA\n",
    "pca = PCA(n_components=2)\n",
    "pca.fit(X)\n",
    "print(f'XV ratio = {pca.explained_variance_ratio_}')\n",
    "print(f'sing vals = {pca.singular_values_}')\n",
    "# the component are stored as row vectors\n",
    "B = pca.components_.T\n",
    "print('B = \\n', B)\n",
    "print('B.T*B = \\n', B.T@B)\n",
    "Y1 = X @ B[:,[0]] @ B[:,[0]].T\n",
    "Y2 = X @ B[:,[1]] @ B[:,[1]].T\n",
    "print(Y1.shape)"
   ]
  },
  {
   "cell_type": "code",
   "execution_count": 13,
   "metadata": {},
   "outputs": [
    {
     "data": {
      "image/png": "[encoded data removed]",
      "text/plain": [
       "<Figure size 432x288 with 1 Axes>"
      ]
     },
     "metadata": {
      "needs_background": "light"
     },
     "output_type": "display_data"
    }
   ],
   "source": [
    "plt.plot(x, y, 'x', color='b')\n",
    "plt.gca().set_aspect('equal')\n",
    "plt.plot(Y1[:,0], Y1[:,1], '.', color='r')\n",
    "plt.plot(Y2[:,0], Y2[:,1], '.', color='g')\n",
    "plt.xlim([-20,20])\n",
    "plt.ylim([-20,20])\n",
    "plt.show()\n"
   ]
  },
  {
   "cell_type": "code",
   "execution_count": 14,
   "metadata": {},
   "outputs": [
    {
     "data": {
      "image/png": "[encoded data removed]",
      "text/plain": [
       "<Figure size 432x288 with 1 Axes>"
      ]
     },
     "metadata": {
      "needs_background": "light"
     },
     "output_type": "display_data"
    }
   ],
   "source": [
    "Z1 = X @ B[:,[0]]\n",
    "Z2 = X @ B[:,[1]]\n",
    "plt.plot(x, y, 'x', color='b')\n",
    "plt.plot(Z1[:,0], 0*Z1[:,0], '.', color='r')\n",
    "plt.plot(0*Z2[:,0], Z2[:,0], '.', color='g')\n",
    "plt.xlim([-20,20])\n",
    "plt.ylim([-20,20])\n",
    "plt.gca().set_aspect('equal')\n",
    "plt.show()\n",
    "\n"
   ]
  },
  {
   "cell_type": "code",
   "execution_count": 15,
   "metadata": {},
   "outputs": [
    {
     "data": {
      "image/png": "[encoded data removed]",
      "text/plain": [
       "<Figure size 432x288 with 1 Axes>"
      ]
     },
     "metadata": {
      "needs_background": "light"
     },
     "output_type": "display_data"
    }
   ],
   "source": [
    "Z1 = X @ B[:,[0]]\n",
    "Z2 = X @ B[:,[1]]\n",
    "plt.plot(x, y, 'x', color='b')\n",
    "plt.plot(Z1[:,0], Z1[:,0], '.', color='r')\n",
    "plt.plot(Z2[:,0], -Z2[:,0], '.', color='g')\n",
    "plt.xlim([-20,20])\n",
    "plt.ylim([-20,20])\n",
    "plt.gca().set_aspect('equal')\n",
    "plt.show()"
   ]
  },
  {
   "cell_type": "code",
   "execution_count": 16,
   "metadata": {},
   "outputs": [
    {
     "data": {
      "image/png": "[encoded data removed]",
      "text/plain": [
       "<Figure size 432x288 with 1 Axes>"
      ]
     },
     "metadata": {
      "needs_background": "light"
     },
     "output_type": "display_data"
    }
   ],
   "source": [
    "#Z1 = X @ B[:,[0]]\n",
    "#Z2 = X @ B[:,[1]]\n",
    "Z1 = X @ B[:,[0]] @ B[:,[0]].T\n",
    "Z2 = X @ B[:,[1]] @ B[:,[1]].T\n",
    "plt.plot(x, y, 'x', color='b')\n",
    "plt.plot(Z1[:,0], Z1[:,0], '.', color='r')\n",
    "plt.plot(Z2[:,0], -Z2[:,0], '.', color='g')\n",
    "plt.xlim([-20,20])\n",
    "plt.ylim([-20,20])\n",
    "plt.gca().set_aspect('equal')\n",
    "\n",
    "for k in range(X.shape[0]):\n",
    "  plt.plot([X[k,0], Z1[k,0]], [X[k,1], Z1[k,0]], '-', color='r')\n",
    "\n",
    "plt.show()\n"
   ]
  },
  {
   "cell_type": "markdown",
   "metadata": {},
   "source": [
    "# FRESH START - Simple Example\n"
   ]
  },
  {
   "cell_type": "code",
   "execution_count": 34,
   "metadata": {},
   "outputs": [
    {
     "name": "stdout",
     "output_type": "stream",
     "text": [
      "[[ 2  1]\n",
      " [ 1  2]\n",
      " [-2 -1]\n",
      " [-1 -2]]\n",
      "Column means 1, 0.0 and 2, 0.0\n",
      "XV ratio = [0.9 0.1]\n",
      "sing vals = [4.24264069 1.41421356]\n",
      "B = \n",
      " [[ 0.70710678 -0.70710678]\n",
      " [ 0.70710678  0.70710678]]\n",
      "(2, 2)\n",
      "Shape of Z1 is (4, 2)\n",
      "Shape of Z2 is (4, 2)\n"
     ]
    },
    {
     "data": {
      "text/plain": [
       "[<matplotlib.lines.Line2D at 0x7f96c8457da0>]"
      ]
     },
     "execution_count": 34,
     "metadata": {},
     "output_type": "execute_result"
    },
    {
     "data": {
      "image/png": "[encoded data removed]",
      "text/plain": [
       "<Figure size 576x576 with 1 Axes>"
      ]
     },
     "metadata": {
      "needs_background": "light"
     },
     "output_type": "display_data"
    }
   ],
   "source": [
    "X = np.array([[2,1],[1,2],[-2,-1],[-1,-2]])\n",
    "print(X)\n",
    "print(f'Column means 1, {X[:,0].mean()} and 2, {X[:,0].mean()}')\n",
    "plt.figure(figsize=(8,8))\n",
    "plt.gca().set_aspect('equal')\n",
    "plt.plot(X[:,0], X[:,1], '.', color='b')\n",
    "pca = PCA(n_components=2)\n",
    "pca.fit(X)\n",
    "print(f'XV ratio = {pca.explained_variance_ratio_}')\n",
    "print(f'sing vals = {pca.singular_values_}')\n",
    "# the component are stored as row vectors, so transpose\n",
    "B = pca.components_.T\n",
    "print('B = \\n', B)\n",
    "print(pca.components_.shape)\n",
    "\n",
    "#Z1 = X @ B[:,[0]]\n",
    "#Z2 = X @ B[:,[1]]\n",
    "Z1 = X @ B[:,[0]] @ B[:,[0]].T\n",
    "Z2 = X @ B[:,[1]] @ B[:,[1]].T\n",
    "print(f'Shape of Z1 is {Z1.shape}')\n",
    "print(f'Shape of Z2 is {Z2.shape}')\n",
    "plt.plot(Z1[:,0], Z1[:,1], '.', color='r')\n",
    "plt.plot(Z2[:,0], Z2[:,1], '.', color='g')"
   ]
  },
  {
   "cell_type": "code",
   "execution_count": 58,
   "metadata": {},
   "outputs": [
    {
     "name": "stdout",
     "output_type": "stream",
     "text": [
      "Column means 1, 0.20752003163363394 and 2, 0.20752003163363394\n",
      "XV ratio = [0.88294319 0.11705681]\n",
      "sing vals = [47.78151901 17.39770303]\n",
      "B = \n",
      " [[ 0.82199188  0.56949921]\n",
      " [ 0.56949921 -0.82199188]]\n",
      "(2, 2)\n",
      "Shape of Z1 is (50, 2)\n",
      "Shape of Z2 is (50, 2)\n"
     ]
    },
    {
     "data": {
      "image/png": "[encoded data removed]",
      "text/plain": [
       "<Figure size 576x576 with 1 Axes>"
      ]
     },
     "metadata": {
      "needs_background": "light"
     },
     "output_type": "display_data"
    }
   ],
   "source": [
    "Ns=50\n",
    "window = 30\n",
    "#X = np.random.randn(Ns,2)\n",
    "mean = [0, 0]\n",
    "cov = [[30, 15], [15, 15]]\n",
    "x, y = np.random.multivariate_normal(mean, cov, Ns).T\n",
    "#x = x.reshape(-1,1)\n",
    "#y = y.reshape(-1,1)\n",
    "X = np.hstack((x.reshape(-1,1),y.reshape(-1,1)))\n",
    "\n",
    "if Ns < 5: print(X)\n",
    "print(f'Column means 1, {X[:,0].mean()} and 2, {X[:,0].mean()}')\n",
    "plt.figure(figsize=(8,8))\n",
    "plt.gca().set_aspect('equal')\n",
    "plt.plot(X[:,0], X[:,1], '.', color='b')\n",
    "pca = PCA(n_components=2)\n",
    "pca.fit(X)\n",
    "print(f'XV ratio = {pca.explained_variance_ratio_}')\n",
    "print(f'sing vals = {pca.singular_values_}')\n",
    "# the component are stored as row vectors, so transpose\n",
    "B = pca.components_.T\n",
    "print('B = \\n', B)\n",
    "print(pca.components_.shape)\n",
    "\n",
    "#Z1 = X @ B[:,[0]]\n",
    "#Z2 = X @ B[:,[1]]\n",
    "Z1 = X @ B[:,[0]] @ B[:,[0]].T\n",
    "Z2 = X @ B[:,[1]] @ B[:,[1]].T\n",
    "print(f'Shape of Z1 is {Z1.shape}')\n",
    "print(f'Shape of Z2 is {Z2.shape}')\n",
    "plt.plot(Z1[:,0], Z1[:,1], '.', color='r')\n",
    "plt.plot(Z2[:,0], Z2[:,1], '.', color='g')\n",
    "\n",
    "for k in range(Ns):\n",
    "  plt.plot([X[k,0], Z1[k,0]], [X[k,1],Z1[k,1]], ':', color='r')\n",
    "  plt.plot([X[k,0], Z2[k,0]], [X[k,1],Z2[k,1]], ':', color='g')\n",
    "\n",
    "\n",
    "window=20; plt.xlim(-window,window); plt.ylim(-window,window)\n",
    "plt.show()"
   ]
  },
  {
   "cell_type": "code",
   "execution_count": null,
   "metadata": {},
   "outputs": [],
   "source": [
    "ax1 = plt.subplot(131)\n",
    "ax1.margins(0.05)           # Default margin is 0.05, value 0 means fit\n",
    "ax1.plot(t1, f(t1))\n",
    "\n",
    "ax2 = plt.subplot(221)\n",
    "ax2.margins(2, 2)           # Values >0.0 zoom out\n",
    "ax2.plot(t1, f(t1))\n",
    "ax2.set_title('Zoomed out')\n",
    "\n",
    "ax3 = plt.subplot(222)\n",
    "ax3.margins(x=0, y=-0.25)   # Values in (-0.5, 0.0) zooms in to center\n",
    "ax3.plot(t1, f(t1))\n",
    "ax3.set_title('Zoomed in')\n",
    "\n",
    "plt.show()"
   ]
  },
  {
   "cell_type": "code",
   "execution_count": null,
   "metadata": {},
   "outputs": [],
   "source": []
  },
  {
   "cell_type": "markdown",
   "metadata": {},
   "source": [
    "# Here are those matlab notes...\n",
    "\n",
    "```\n",
    "K = [1 3; 2 5; 9 1]\n",
    "\n",
    "K =\n",
    "\n",
    "     1     3\n",
    "     2     5\n",
    "     9     1\n",
    "\n",
    "[U, S, V] = svd(K)\n",
    "\n",
    "U =\n",
    "\n",
    "   -0.2043   -0.4757   -0.8556\n",
    "   -0.3727   -0.7704    0.5173\n",
    "   -0.9052    0.4246   -0.0199\n",
    "\n",
    "\n",
    "S =\n",
    "\n",
    "    9.7046         0\n",
    "         0    5.1789\n",
    "         0         0\n",
    "\n",
    "\n",
    "V =\n",
    "\n",
    "   -0.9373    0.3485\n",
    "   -0.3485   -0.9373\n",
    "\n",
    "S*V'\n",
    "\n",
    "ans =\n",
    "\n",
    "   -9.0963   -3.3816\n",
    "    1.8046   -4.8543\n",
    "         0         0\n",
    "\n",
    "U*S*V'\n",
    "\n",
    "ans =\n",
    "\n",
    "    1.0000    3.0000\n",
    "    2.0000    5.0000\n",
    "    9.0000    1.0000\n",
    "\n",
    "w = [ S(1,1)*U(1,1); S(2,2)*U(1,2)]\n",
    "\n",
    "w =\n",
    "\n",
    "   -1.9827\n",
    "   -2.4635\n",
    "\n",
    "V*w\n",
    "\n",
    "ans =\n",
    "\n",
    "    1.0000\n",
    "    3.0000\n",
    "\n",
    "W = U*S\n",
    "\n",
    "W =\n",
    "\n",
    "   -1.9827   -2.4635\n",
    "   -3.6169   -3.9897\n",
    "   -8.7844    2.1988\n",
    "\n",
    "V*W\n",
    "\n",
    "{Error using <a href=\"matlab:matlab.internal.language.introspective.errorDocCallback('mtimes')\" style=\"font-weight:bold\"> * </a>\n",
    "Incorrect dimensions for matrix multiplication. Check that the number of columns in the first matrix matches the number of\n",
    "rows in the second matrix. To perform elementwise multiplication, use '.*'.\n",
    "}\n",
    "\n",
    "W = S'*U'\n",
    "\n",
    "W =\n",
    "\n",
    "   -1.9827   -3.6169   -8.7844\n",
    "   -2.4635   -3.9897    2.1988\n",
    "\n",
    "W'*V'\n",
    "\n",
    "ans =\n",
    "\n",
    "    1.0000    3.0000\n",
    "    2.0000    5.0000\n",
    "    9.0000    1.0000\n",
    "\n",
    "diary off\n",
    "\n",
    "```\n",
    "\n",
    "and \n",
    "\n",
    "```\n",
    "K = [1 3; 2 5; 9 1]\n",
    "\n",
    "K =\n",
    "\n",
    "     1     3\n",
    "     2     5\n",
    "     9     1\n",
    "\n",
    "[U, S, V] = svd(K)\n",
    "\n",
    "U =\n",
    "\n",
    "   -0.2043   -0.4757   -0.8556\n",
    "   -0.3727   -0.7704    0.5173\n",
    "   -0.9052    0.4246   -0.0199\n",
    "\n",
    "\n",
    "S =\n",
    "\n",
    "    9.7046         0\n",
    "         0    5.1789\n",
    "         0         0\n",
    "\n",
    "\n",
    "V =\n",
    "\n",
    "   -0.9373    0.3485\n",
    "   -0.3485   -0.9373\n",
    "\n",
    "S*V'\n",
    "\n",
    "ans =\n",
    "\n",
    "   -9.0963   -3.3816\n",
    "    1.8046   -4.8543\n",
    "         0         0\n",
    "\n",
    "U*S*V'\n",
    "\n",
    "ans =\n",
    "\n",
    "    1.0000    3.0000\n",
    "    2.0000    5.0000\n",
    "    9.0000    1.0000\n",
    "\n",
    "w = [ S(1,1)*U(1,1); S(2,2)*U(1,2)]\n",
    "\n",
    "w =\n",
    "\n",
    "   -1.9827\n",
    "   -2.4635\n",
    "\n",
    "V*w\n",
    "\n",
    "ans =\n",
    "\n",
    "    1.0000\n",
    "    3.0000\n",
    "\n",
    "W = U*S\n",
    "\n",
    "W =\n",
    "\n",
    "   -1.9827   -2.4635\n",
    "   -3.6169   -3.9897\n",
    "   -8.7844    2.1988\n",
    "\n",
    "V*W\n",
    "\n",
    "{Error using <a href=\"matlab:matlab.internal.language.introspective.errorDocCallback('mtimes')\" style=\"font-weight:bold\"> * </a>\n",
    "Incorrect dimensions for matrix multiplication. Check that the number of columns in the first matrix matches the number of\n",
    "rows in the second matrix. To perform elementwise multiplication, use '.*'.\n",
    "}\n",
    "\n",
    "W = S'*U'\n",
    "\n",
    "W =\n",
    "\n",
    "   -1.9827   -3.6169   -8.7844\n",
    "   -2.4635   -3.9897    2.1988\n",
    "\n",
    "W'*V'\n",
    "\n",
    "ans =\n",
    "\n",
    "    1.0000    3.0000\n",
    "    2.0000    5.0000\n",
    "    9.0000    1.0000\n",
    "\n",
    "Kn = zeros(K)\n",
    "\n",
    "{Error using <a href=\"matlab:matlab.internal.language.introspective.errorDocCallback('zeros')\" style=\"font-weight:bold\">zeros</a>\n",
    "Size vector should be a row vector with real elements.\n",
    "}\n",
    "\n",
    "Kn = zeros(size(K))\n",
    "\n",
    "Kn =\n",
    "\n",
    "     0     0\n",
    "     0     0\n",
    "     0     0\n",
    "\n",
    "Kn = zeros(size(K)); for n=1:2; Kn = Kn + S(n,n)*U(:,n)*V(:n)'; disp(Kn); end\n",
    " Kn = zeros(size(K)); for n=1:2; Kn = Kn + S(n,n)*U(:,n)*V(:n)'; disp(Kn); end\n",
    "                                                            \n",
    "{Error: Invalid expression. Check for missing multiplication operator, missing or unbalanced delimiters, or other syntax\n",
    "error. To construct matrices, use brackets instead of parentheses.\n",
    "}\n",
    "\n",
    "Kn = zeros(size(K)); for n=1:2; Kn = Kn + S(n,n)*U(:,n)*V(:,n)'; disp(Kn); end\n",
    "    1.8584    0.6909\n",
    "    3.3902    1.2603\n",
    "    8.2338    3.0610\n",
    "\n",
    "    1.0000    3.0000\n",
    "    2.0000    5.0000\n",
    "    9.0000    1.0000\n",
    "\n",
    "K\n",
    "\n",
    "K =\n",
    "\n",
    "     1     3\n",
    "     2     5\n",
    "     9     1\n",
    "\n",
    "W = [S(1,1)*U(1,1); 0];\n",
    "V*W\n",
    "\n",
    "ans =\n",
    "\n",
    "    1.8584\n",
    "    0.6909\n",
    "\n",
    "diary off\n",
    "\n",
    "```"
   ]
  },
  {
   "cell_type": "markdown",
   "metadata": {},
   "source": [
    "# THIS PART BELOW BELONGS SOMEWHERE ELSE"
   ]
  },
  {
   "cell_type": "code",
   "execution_count": 16,
   "metadata": {},
   "outputs": [],
   "source": [
    "import matplotlib.pyplot as plt\n",
    "import numpy as np\n",
    "import seaborn as sns\n",
    "\n",
    "from sklearn.model_selection import train_test_split\n",
    "from sklearn.preprocessing import StandardScaler\n",
    "from sklearn.neighbors import KNeighborsClassifier\n",
    "from sklearn.metrics import classification_report, confusion_matrix, accuracy_score"
   ]
  },
  {
   "cell_type": "code",
   "execution_count": 17,
   "metadata": {},
   "outputs": [
    {
     "name": "stdout",
     "output_type": "stream",
     "text": [
      "(333, 7)\n"
     ]
    }
   ],
   "source": [
    "dfp = sns.load_dataset('penguins')\n",
    "dfp2 = dfp.dropna()\n",
    "dfp2.isna().sum()\n",
    "dfp2 = dfp2.reset_index(drop=True)\n",
    "print(dfp2.shape)\n",
    "\n",
    "# create our labelled training and test data sets with 60/40 train/test split\n",
    "X = dfp2.iloc[:, 2:6].values\n",
    "y = dfp2.iloc[:, 0].values\n",
    "X_train, X_test, y_train, y_test = train_test_split(X, y, test_size=0.40)\n",
    "# scale the data\n",
    "scaler = StandardScaler()\n",
    "# mean zero, unit variance \n",
    "scaler.fit(X_train)\n",
    "X_train = scaler.transform(X_train)\n",
    "X_test = scaler.transform(X_test)\n",
    "# obtain the classifier and fit it using 2 nearest neighbours\n",
    "# and the Manhattan norm\n",
    "classifier = KNeighborsClassifier(n_neighbors=2, p=1)\n",
    "classifier.fit(X_train, y_train)\n",
    "# Now use the fitted model from the training data to predict\n",
    "# from the test data.\n",
    "y_pred = classifier.predict(X_test)"
   ]
  },
  {
   "cell_type": "code",
   "execution_count": 18,
   "metadata": {},
   "outputs": [
    {
     "name": "stdout",
     "output_type": "stream",
     "text": [
      "Confusion Matrix:\n",
      "[[62  0  0]\n",
      " [ 5 23  0]\n",
      " [ 0  0 44]]\n",
      "Accuracy: 0.9626865671641791\n"
     ]
    }
   ],
   "source": [
    "# create a confusion matrix to assess the performance\n",
    "cm = confusion_matrix(y_test, y_pred)\n",
    "print(\"Confusion Matrix:\"); print(cm)\n",
    "accsc = accuracy_score(y_test,y_pred);\n",
    "print(\"Accuracy:\", accsc)"
   ]
  },
  {
   "cell_type": "code",
   "execution_count": 19,
   "metadata": {},
   "outputs": [
    {
     "data": {
      "image/png": "[encoded data removed]",
      "text/plain": [
       "<Figure size 432x288 with 2 Axes>"
      ]
     },
     "metadata": {
      "needs_background": "light"
     },
     "output_type": "display_data"
    }
   ],
   "source": [
    "from sklearn.metrics import ConfusionMatrixDisplay\n",
    "cmplot = ConfusionMatrixDisplay(cm, display_labels=classifier.classes_)\n",
    "cmplot.plot()\n",
    "plt.show()"
   ]
  },
  {
   "cell_type": "markdown",
   "metadata": {},
   "source": [
    "### Problem!\n",
    "\n",
    "In the SVD demo we took the SVD of `X`. But the test data should be *unseen*. \n",
    "Hence we cannot include it in our training phase.\n",
    "\n",
    "Let's look at the SVD of the scaled training data. "
   ]
  },
  {
   "cell_type": "code",
   "execution_count": 20,
   "metadata": {},
   "outputs": [
    {
     "name": "stdout",
     "output_type": "stream",
     "text": [
      "allclose? (T/F):  True\n"
     ]
    }
   ],
   "source": [
    "# Let's again do this with SVD - but this time for X_train\n",
    "U, S, VT = np.linalg.svd(X_train, full_matrices=False)\n",
    "print(\"allclose? (T/F): \", np.allclose(X_train, U @ np.diag(S) @ VT))"
   ]
  },
  {
   "cell_type": "code",
   "execution_count": 21,
   "metadata": {},
   "outputs": [
    {
     "name": "stdout",
     "output_type": "stream",
     "text": [
      "S =  [23.37152008 12.25673506  8.82852756  4.64775173]\n"
     ]
    },
    {
     "data": {
      "text/plain": [
       "<BarContainer object of 4 artists>"
      ]
     },
     "execution_count": 21,
     "metadata": {},
     "output_type": "execute_result"
    },
    {
     "data": {
      "image/png": "[encoded data removed]",
      "text/plain": [
       "<Figure size 432x288 with 1 Axes>"
      ]
     },
     "metadata": {
      "needs_background": "light"
     },
     "output_type": "display_data"
    }
   ],
   "source": [
    "print(\"S = \", S)\n",
    "plt.bar([1,2,3,4],S)"
   ]
  },
  {
   "cell_type": "markdown",
   "metadata": {},
   "source": [
    "**Now things don't look so clear...**\n",
    "\n",
    "Let's repeat our SVD experiment. We could try this..."
   ]
  },
  {
   "cell_type": "code",
   "execution_count": 22,
   "metadata": {},
   "outputs": [],
   "source": [
    "accarray = np.zeros([4])\n",
    "X = dfp2.iloc[:, 2:6].values\n",
    "y = dfp2.iloc[:, 0].values\n",
    "X_train, X_test, y_train, y_test = train_test_split(X, y, test_size=0.40)\n",
    "# scale the data\n",
    "scaler = StandardScaler();\n",
    "scaler.fit(X_train)\n",
    "X_train = scaler.transform(X_train)\n",
    "X_test = scaler.transform(X_test)\n",
    "# get the SVD of the training data. NOT the test data - WHY?\n",
    "U, S, VT = np.linalg.svd(X_train, full_matrices=False)"
   ]
  },
  {
   "cell_type": "code",
   "execution_count": 23,
   "metadata": {},
   "outputs": [
    {
     "name": "stdout",
     "output_type": "stream",
     "text": [
      "nc =  1 , ||X_train-Xc_train|| =  15.94013905919953\n",
      "Confusion Matrix:\n",
      "[[55  8  0]\n",
      " [16  8  3]\n",
      " [ 0  1 43]]\n",
      "Accuracy: 0.7910447761194029\n",
      "nc =  1 , ||X-Xc|| =  15.94013905919953\n",
      "<class 'numpy.ndarray'> (3, 3)\n"
     ]
    }
   ],
   "source": [
    "Xc_train = np.zeros(X_train.shape)\n",
    "nc = 1\n",
    "for k in range(0, nc):\n",
    "  Xc_train +=  S[k] * U[:,[k]] @ VT[[k],:]\n",
    "print('nc = ', nc, ', ||X_train-Xc_train|| = ', np.linalg.norm(X_train - Xc_train))\n",
    "\n",
    "# obtain classifier, fit using 2 NN's and the Manhattan norm\n",
    "classifier = KNeighborsClassifier(n_neighbors=2, p=1)\n",
    "classifier.fit(Xc_train, y_train)\n",
    "# predict from the test data.\n",
    "y_pred = classifier.predict(X_test)\n",
    "# create a confusion matrix to assess the performance\n",
    "cm = confusion_matrix(y_test, y_pred)\n",
    "print(\"Confusion Matrix:\"); print(cm)\n",
    "accsc = accuracy_score(y_test,y_pred); print(\"Accuracy:\", accsc)\n",
    "print('nc = ', nc, ', ||X-Xc|| = ', np.linalg.norm(X_train - Xc_train))\n",
    "# store the accuracy scores in a python list for nc=1,2,3,4\n",
    "accarray[nc-1] = accsc\n",
    "print(type(cm), cm.shape)"
   ]
  },
  {
   "cell_type": "code",
   "execution_count": 24,
   "metadata": {},
   "outputs": [
    {
     "name": "stdout",
     "output_type": "stream",
     "text": [
      "Confusion Matrix:\n",
      "[[55  8  0]\n",
      " [16  8  3]\n",
      " [ 0  1 43]]\n",
      "Accuracy: 0.7910447761194029\n"
     ]
    }
   ],
   "source": [
    "# create a confusion matrix to assess the performance\n",
    "cm = confusion_matrix(y_test, y_pred)\n",
    "print(\"Confusion Matrix:\"); print(cm)\n",
    "accsc = accuracy_score(y_test,y_pred);\n",
    "print(\"Accuracy:\", accsc)"
   ]
  },
  {
   "cell_type": "code",
   "execution_count": 25,
   "metadata": {},
   "outputs": [
    {
     "data": {
      "image/png": "[encoded data removed]",
      "text/plain": [
       "<Figure size 432x288 with 2 Axes>"
      ]
     },
     "metadata": {
      "needs_background": "light"
     },
     "output_type": "display_data"
    }
   ],
   "source": [
    "from sklearn.metrics import ConfusionMatrixDisplay\n",
    "cmplot = ConfusionMatrixDisplay(cm, display_labels=classifier.classes_)\n",
    "cmplot.plot()\n",
    "plt.show()"
   ]
  },
  {
   "cell_type": "markdown",
   "metadata": {},
   "source": [
    "Let's wrap this up in a loop"
   ]
  },
  {
   "cell_type": "code",
   "execution_count": 26,
   "metadata": {},
   "outputs": [
    {
     "name": "stdout",
     "output_type": "stream",
     "text": [
      "nc =  1 , ||X_train-Xc_train|| =  15.885752236172209\n",
      "nc =  2 , ||X_train-Xc_train|| =  10.064850342287789\n",
      "nc =  3 , ||X_train-Xc_train|| =  4.304607224490962\n",
      "nc =  4 , ||X_train-Xc_train|| =  2.2530887970186448e-14\n",
      "Confusion Matrix:\n",
      "[[52.  6.  0.]\n",
      " [19.  4.  2.]\n",
      " [ 0.  2. 49.]]\n",
      "nc =  4 , ||X-Xc|| =  2.2530887970186448e-14\n",
      "Accuracy: 0.7835820895522388\n",
      "Confusion Matrix:\n",
      "[[54.  4.  0.]\n",
      " [15. 10.  0.]\n",
      " [ 0.  0. 51.]]\n",
      "nc =  4 , ||X-Xc|| =  2.2530887970186448e-14\n",
      "Accuracy: 0.8582089552238806\n",
      "Confusion Matrix:\n",
      "[[58.  0.  0.]\n",
      " [ 2. 23.  0.]\n",
      " [ 0.  0. 51.]]\n",
      "nc =  4 , ||X-Xc|| =  2.2530887970186448e-14\n",
      "Accuracy: 0.9850746268656716\n",
      "Confusion Matrix:\n",
      "[[58.  0.  0.]\n",
      " [ 2. 23.  0.]\n",
      " [ 0.  0. 51.]]\n",
      "nc =  4 , ||X-Xc|| =  2.2530887970186448e-14\n",
      "Accuracy: 0.9850746268656716\n",
      "[0.78358209 0.85820896 0.98507463 0.98507463]\n"
     ]
    },
    {
     "data": {
      "text/plain": [
       "(0.0, 1.0)"
      ]
     },
     "execution_count": 26,
     "metadata": {},
     "output_type": "execute_result"
    },
    {
     "data": {
      "image/png": "[encoded data removed]",
      "text/plain": [
       "<Figure size 432x288 with 1 Axes>"
      ]
     },
     "metadata": {
      "needs_background": "light"
     },
     "output_type": "display_data"
    }
   ],
   "source": [
    "accarray = np.zeros([4])\n",
    "cm_all = np.zeros([4,3,3])\n",
    "X = dfp2.iloc[:, 2:6].values\n",
    "y = dfp2.iloc[:, 0].values\n",
    "X_train, X_test, y_train, y_test = train_test_split(X, y, test_size=0.40)\n",
    "# scale the data\n",
    "scaler = StandardScaler();\n",
    "scaler.fit(X_train)\n",
    "X_train = scaler.transform(X_train)\n",
    "X_test = scaler.transform(X_test)\n",
    "# get the SVD of the training data. NOT the test data - WHY?\n",
    "U, S, VT = np.linalg.svd(X_train, full_matrices=False)\n",
    "\n",
    "for k in range(4):\n",
    "  Xc_train = np.zeros(X_train.shape)\n",
    "  nc = 1+k\n",
    "  for k in range(0, nc):\n",
    "    Xc_train +=  S[k] * U[:,[k]] @ VT[[k],:]\n",
    "  print('nc = ', nc, ', ||X_train-Xc_train|| = ', np.linalg.norm(X_train - Xc_train))\n",
    "\n",
    "  # obtain classifier, fit using 2 NN's and the Manhattan norm\n",
    "  classifier = KNeighborsClassifier(n_neighbors=2, p=1)\n",
    "  classifier.fit(Xc_train, y_train)\n",
    "  # predict from the test data.\n",
    "  y_pred = classifier.predict(X_test)\n",
    "  # create a confusion matrix to assess the performance\n",
    "  cm_all[k,:,:] = confusion_matrix(y_test, y_pred)\n",
    "  accarray[k] = accuracy_score(y_test,y_pred)\n",
    "\n",
    "\n",
    "for k in range(4):\n",
    "  print(\"Confusion Matrix:\"); print(cm_all[k,:,:])\n",
    "  print('nc = ', nc, ', ||X-Xc|| = ', np.linalg.norm(X_train - Xc_train))\n",
    "  print(\"Accuracy:\", accarray[k])\n",
    "\n",
    "print(accarray)\n",
    "plt.plot([1,2,3,4], accarray)\n",
    "plt.xlabel('Number of Singular Values')\n",
    "plt.ylabel('Accuracy estimate')\n",
    "plt.ylim([0,1])"
   ]
  },
  {
   "cell_type": "code",
   "execution_count": 27,
   "metadata": {},
   "outputs": [
    {
     "data": {
      "text/plain": [
       "<sklearn.metrics._plot.confusion_matrix.ConfusionMatrixDisplay at 0x7f9d70956390>"
      ]
     },
     "execution_count": 27,
     "metadata": {},
     "output_type": "execute_result"
    },
    {
     "data": {
      "image/png": "[encoded data removed]",
      "text/plain": [
       "<Figure size 432x288 with 2 Axes>"
      ]
     },
     "metadata": {
      "needs_background": "light"
     },
     "output_type": "display_data"
    }
   ],
   "source": [
    "k=0\n",
    "cmplot = ConfusionMatrixDisplay(cm_all[k,:,:], display_labels=classifier.classes_)\n",
    "cmplot.plot()\n"
   ]
  },
  {
   "cell_type": "code",
   "execution_count": 28,
   "metadata": {},
   "outputs": [
    {
     "data": {
      "image/png": "[encoded data removed]",
      "text/plain": [
       "<Figure size 1440x360 with 8 Axes>"
      ]
     },
     "metadata": {
      "needs_background": "light"
     },
     "output_type": "display_data"
    }
   ],
   "source": [
    "# subplot hints came from here:\n",
    "# https://stackoverflow.com/questions/61825227/plotting-multiple-confusion-matrix-side-by-side\n",
    "\n",
    "f, axes = plt.subplots(1, 4, figsize=(20, 5), sharey='row')\n",
    "for k in range(4):\n",
    "  cmplot = ConfusionMatrixDisplay(cm_all[k,:,:], display_labels=classifier.classes_)\n",
    "  cmplot.plot(ax=axes[k], xticks_rotation=45)\n",
    "plt.show()"
   ]
  },
  {
   "cell_type": "markdown",
   "metadata": {
    "slideshow": {
     "slide_type": "slide"
    }
   },
   "source": [
    "### Review\n",
    "\n",
    "We covered *just enough*, to make *progress at pace*. We looked at\n",
    "\n",
    "- How the SVD and eigenvalue decomposition are related.\n",
    "- How this becomes relevant to the data covariance matrix.\n",
    "- How this can be used.\n",
    "\n",
    "Now we can start putting all of this material to work."
   ]
  },
  {
   "cell_type": "markdown",
   "metadata": {
    "slideshow": {
     "slide_type": "skip"
    }
   },
   "source": [
    "## Technical Notes, Production and Archiving\n",
    "\n",
    "Ignore the material below. What follows is not relevant to the material being taught."
   ]
  },
  {
   "cell_type": "markdown",
   "metadata": {
    "slideshow": {
     "slide_type": "skip"
    }
   },
   "source": [
    "#### Production Workflow\n",
    "\n",
    "- Finalise the notebook material above\n",
    "- Clear and fresh run of entire notebook\n",
    "- Create html slide show:\n",
    "  - `jupyter nbconvert --to slides 10_pca.ipynb `\n",
    "- Set `OUTPUTTING=1` below\n",
    "- Comment out the display of web-sourced diagrams\n",
    "- Clear and fresh run of entire notebook\n",
    "- Comment back in the display of web-sourced diagrams\n",
    "- Clear all cell output\n",
    "- Set `OUTPUTTING=0` below\n",
    "- Save\n",
    "- git add, commit and push to FML\n",
    "- copy PDF, HTML etc to web site\n",
    "  - git add, commit and push\n",
    "- rebuild binder"
   ]
  },
  {
   "cell_type": "markdown",
   "metadata": {
    "slideshow": {
     "slide_type": "skip"
    }
   },
   "source": [
    "Some of this originated from\n",
    "\n",
    "<https://stackoverflow.com/questions/38540326/save-html-of-a-jupyter-notebook-from-within-the-notebook>\n",
    "\n",
    "These lines create a back up of the notebook. They can be ignored.\n",
    "\n",
    "At some point this is better as a bash script outside of the notebook"
   ]
  },
  {
   "cell_type": "code",
   "execution_count": 29,
   "metadata": {
    "slideshow": {
     "slide_type": "skip"
    }
   },
   "outputs": [
    {
     "name": "stdout",
     "output_type": "stream",
     "text": [
      "Not Generating html, pdf and py output versions\n"
     ]
    }
   ],
   "source": [
    "%%bash\n",
    "NBROOTNAME=10_pca\n",
    "OUTPUTTING=0\n",
    "\n",
    "if [ $OUTPUTTING -eq 1 ]; then\n",
    "  jupyter nbconvert --to html $NBROOTNAME.ipynb\n",
    "  cp $NBROOTNAME.html ../backups/$(date +\"%m_%d_%Y-%H%M%S\")_$NBROOTNAME.html\n",
    "  mv -f $NBROOTNAME.html ./formats/html/\n",
    "\n",
    "  jupyter nbconvert --to pdf $NBROOTNAME.ipynb\n",
    "  cp $NBROOTNAME.pdf ../backups/$(date +\"%m_%d_%Y-%H%M%S\")_$NBROOTNAME.pdf\n",
    "  mv -f $NBROOTNAME.pdf ./formats/pdf/\n",
    "\n",
    "  jupyter nbconvert --to script $NBROOTNAME.ipynb\n",
    "  cp $NBROOTNAME.py ../backups/$(date +\"%m_%d_%Y-%H%M%S\")_$NBROOTNAME.py\n",
    "  mv -f $NBROOTNAME.py ./formats/py/\n",
    "else\n",
    "  echo 'Not Generating html, pdf and py output versions'\n",
    "fi"
   ]
  },
  {
   "cell_type": "code",
   "execution_count": null,
   "metadata": {},
   "outputs": [],
   "source": []
  }
 ],
 "metadata": {
  "celltoolbar": "Slideshow",
  "kernelspec": {
   "display_name": "Python 3",
   "language": "python",
   "name": "python3"
  },
  "language_info": {
   "codemirror_mode": {
    "name": "ipython",
    "version": 3
   },
   "file_extension": ".py",
   "mimetype": "text/x-python",
   "name": "python",
   "nbconvert_exporter": "python",
   "pygments_lexer": "ipython3",
   "version": "3.7.1"
  }
 },
 "nbformat": 4,
 "nbformat_minor": 4
}
