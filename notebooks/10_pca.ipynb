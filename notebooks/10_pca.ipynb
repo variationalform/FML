{
 "cells": [
  {
   "cell_type": "markdown",
   "metadata": {
    "slideshow": {
     "slide_type": "slide"
    }
   },
   "source": [
    "# Principal Component Analysis\n",
    "\n",
    "#### *variationalform* <https://variationalform.github.io/>\n",
    "\n",
    "#### *Just Enough: progress at pace*\n",
    "\n",
    "<https://variationalform.github.io/>\n",
    "\n",
    "<https://github.com/variationalform>\n",
    "\n",
    "Simon Shaw\n",
    "<https://www.brunel.ac.uk/people/simon-shaw>.\n"
   ]
  },
  {
   "cell_type": "markdown",
   "metadata": {
    "slideshow": {
     "slide_type": "fragment"
    }
   },
   "source": [
    "<table>\n",
    "<tr>\n",
    "<td>\n",
    "<img src=\"https://mirrors.creativecommons.org/presskit/icons/cc.svg?ref=chooser-v1\" style=\"height:18px\"/>\n",
    "<img src=\"https://mirrors.creativecommons.org/presskit/icons/by.svg?ref=chooser-v1\" style=\"height:18px\"/>\n",
    "<img src=\"https://mirrors.creativecommons.org/presskit/icons/sa.svg?ref=chooser-v1\" style=\"height:18px\"/>\n",
    "</td>\n",
    "<td>\n",
    "\n",
    "<p>\n",
    "This work is licensed under CC BY-SA 4.0 (Attribution-ShareAlike 4.0 International)\n",
    "\n",
    "<p>\n",
    "Visit <a href=\"http://creativecommons.org/licenses/by-sa/4.0/\">http://creativecommons.org/licenses/by-sa/4.0/</a> to see the terms.\n",
    "</td>\n",
    "</tr>\n",
    "</table>"
   ]
  },
  {
   "cell_type": "markdown",
   "metadata": {
    "slideshow": {
     "slide_type": "fragment"
    }
   },
   "source": [
    "<table>\n",
    "<tr>\n",
    "<td>This document uses python</td>\n",
    "<td>\n",
    "<img src=\"https://www.python.org/static/community_logos/python-logo-master-v3-TM.png\" style=\"height:30px\"/>\n",
    "</td>\n",
    "<td>and also makes use of LaTeX </td>\n",
    "<td>\n",
    "<img src=\"https://upload.wikimedia.org/wikipedia/commons/thumb/9/92/LaTeX_logo.svg/320px-LaTeX_logo.svg.png\" style=\"height:30px\"/>\n",
    "</td>\n",
    "<td>in Markdown</td> \n",
    "<td>\n",
    "<img src=\"https://github.com/adam-p/markdown-here/raw/master/src/common/images/icon48.png\" style=\"height:30px\"/>\n",
    "</td>\n",
    "</tr>\n",
    "</table>"
   ]
  },
  {
   "cell_type": "markdown",
   "metadata": {
    "slideshow": {
     "slide_type": "slide"
    }
   },
   "source": [
    "## What this is about:\n",
    "\n",
    "The connection between SVD, the **Singular Value Decomposition**, and PCA,\n",
    "**Principal Component Analysis**.\n",
    "\n",
    "As usual our emphasis will be on *doing* rather than *proving*:\n",
    "*just enough: progress at pace*\n"
   ]
  },
  {
   "cell_type": "markdown",
   "metadata": {
    "slideshow": {
     "slide_type": "slide"
    }
   },
   "source": [
    "## Assigned Reading\n",
    "\n",
    "For this worksheet you are recommended Chapters 4 and 10 of [MML],\n",
    "Chapter 10 of [MLFCES], Chapter 5.3 of [IPDS], \n",
    "\n",
    "- MML: Mathematics for Machine Learning, by Marc Peter Deisenroth, A. Aldo Faisal, and Cheng Soon Ong.\n",
    "  Cambridge University Press. <https://mml-book.github.io>.\n",
    "- MLFCES: Machine Learning: A First Course for Engineers and Scientists, by Andreas Lindholm,\n",
    "  Niklas Wahlström, Fredrik Lindsten, Thomas B. Schön. Cambridge University Press. \n",
    "  <http://smlbook.org>.\n",
    "- IPDS: Introduction to Probability for Data Science, by Stanley H. Chan,\n",
    "  <https://probability4datascience.com>\n",
    "\n",
    "These can be accessed legally and without cost.\n",
    "\n",
    "There are also these useful references for coding:\n",
    "\n",
    "- PT: `python`: <https://docs.python.org/3/tutorial>\n",
    "- NP: `numpy`: <https://numpy.org/doc/stable/user/quickstart.html>\n",
    "- MPL: `matplotlib`: <https://matplotlib.org>"
   ]
  },
  {
   "cell_type": "markdown",
   "metadata": {
    "slideshow": {
     "slide_type": "slide"
    }
   },
   "source": [
    "## Review\n",
    "\n",
    "\n",
    "We have seen these \n",
    "\n",
    "- Eigenvalue decomposition\n",
    "- SVD, the **Singular Value Decomposition**\n",
    "\n",
    "Let's review them..."
   ]
  },
  {
   "cell_type": "markdown",
   "metadata": {
    "slideshow": {
     "slide_type": "slide"
    }
   },
   "source": [
    "## Eigen-systems of Symmetric Matrices\n",
    "\n",
    "Given a real square $n$-row by $n$-column matrix,\n",
    "$\\boldsymbol{A}\\in\\mathbb{R}^{n\\times n}$ the eigenvalue problem\n",
    "is that of finding scalar eigenvalues $\\lambda$\n",
    "and $n$-dimensional eigenvectors $\\boldsymbol{v}$ such that\n",
    "\n",
    "$$\n",
    "\\boldsymbol{A}\\boldsymbol{v}=\\lambda\\boldsymbol{v}    \n",
    "\\quad\\Longrightarrow\\quad\n",
    "\\boldsymbol{A}\\boldsymbol{V}=\\boldsymbol{V}\\boldsymbol{D}  \n",
    "\\quad\\Longrightarrow\\quad\n",
    "\\boldsymbol{A} = \n",
    "\\sum_{k=1}^n\n",
    "\\lambda_k\\boldsymbol{v}_k\\boldsymbol{v}_k^T.\n",
    "$$\n",
    "\n",
    "The eigensystem is **real**.\n",
    "\n",
    "We have the *Spectral Theorem* - see [MML, Theorem 4.15]\n",
    "\n",
    "> **Spectral Theorem (for matrices)**\n",
    "> If $\\boldsymbol{A}$ is real and symmetric then its eigenvalues are\n",
    "> all real and its eigenvector matrix $\\boldsymbol{V}$ can be taken\n",
    "> as *orthogonal* so that $\\boldsymbol{V}^{-1}=\\boldsymbol{V}^T$.\n",
    "Hence...\n",
    "\n",
    "$$\n",
    "\\boldsymbol{A}=\\boldsymbol{V}\\boldsymbol{D}\\boldsymbol{V}^T  \n",
    "$$\n"
   ]
  },
  {
   "cell_type": "markdown",
   "metadata": {
    "slideshow": {
     "slide_type": "slide"
    }
   },
   "source": [
    "## The SVD: Singular Value Decomposition\n",
    "\n",
    "Given a real $m$-row by $n$-column matrix, \n",
    "$\\boldsymbol{B}\\in\\mathbb{R}^{m\\times n}$\n",
    "\n",
    "$$\n",
    "\\boldsymbol{B} = \\boldsymbol{U}\\boldsymbol{\\Sigma}\\boldsymbol{V}^T\n",
    "=\\sum_{j=1}^{p} \\sigma_j \\boldsymbol{u}_j\\boldsymbol{v}_j^T\n",
    "$$\n",
    "\n",
    "where: for the left singular vectors: $\\boldsymbol{U}\\in\\mathbb{R}^{m\\times m}$;\n",
    "for the singular values: $\\boldsymbol{\\Sigma}\\in\\mathbb{R}^{m\\times n}$;\n",
    "and, for the right singular vectors, $\\boldsymbol{V}\\in\\mathbb{R}^{n\\times n}$.\n",
    "Here $p=\\min\\{m,n\\}$.\n",
    "\n",
    "Note that $\\boldsymbol{\\Sigma}=\\text{diag}(\\sigma_1,\\ldots,\\sigma_p) + \\mathit{zeros}$,\n",
    "and we can always arrange that $0 \\le \\sigma_1\\le\\cdots\\le\\sigma_p$.\n",
    "\n",
    "As $\\boldsymbol{B}$ is real,\n",
    "$\\boldsymbol{U}$ and $\\boldsymbol{V}$ are real and *orthogonal*.\n",
    "\n",
    "If $\\sigma_r\\ne 0$ and $\\sigma_p= 0$ for all $p>r$ then\n",
    "$r$ is the rank of $\\boldsymbol{B}$.\n",
    "\n"
   ]
  },
  {
   "cell_type": "markdown",
   "metadata": {
    "slideshow": {
     "slide_type": "slide"
    }
   },
   "source": [
    "## How are these factorizations connected?\n",
    "\n",
    "On the face of it they are very different. the first applies only to \n",
    "square symmetric matrices, while the second applies also to\n",
    "rectangular, and hence (why?) non-symmetric matrices.\n",
    "\n",
    "But... Look at this... Given the SVD \n",
    "$\\boldsymbol{B} = \\boldsymbol{U}\\boldsymbol{\\Sigma}\\boldsymbol{V}^T$\n",
    "we have,\n",
    "\n",
    "$$\n",
    "\\boldsymbol{B}^T\\boldsymbol{B}\n",
    "= \\Big(\\boldsymbol{U}\\boldsymbol{\\Sigma}\\boldsymbol{V}^T\\Big)^T\n",
    "\\boldsymbol{U}\\boldsymbol{\\Sigma}\\boldsymbol{V}^T\n",
    "$$\n",
    "\n",
    "and remembering that, in general,\n",
    "$(\\boldsymbol{K}\\boldsymbol{L})^T = \\boldsymbol{L}^T\\boldsymbol{K}^T$\n",
    "(this could called *taking the transpose through*), we can write,\n",
    "\n",
    "$$\n",
    "\\boldsymbol{B}^T\\boldsymbol{B}\n",
    "= \\boldsymbol{V}\\boldsymbol{\\Sigma}^T\\boldsymbol{U}^T\n",
    "\\boldsymbol{U}\\boldsymbol{\\Sigma}\\boldsymbol{V}^T\n",
    "= \\boldsymbol{V}\\boldsymbol{\\Sigma}^T\\boldsymbol{\\Sigma}\\boldsymbol{V}^T\n",
    "$$\n",
    "because $\\boldsymbol{U}^T\\boldsymbol{U}=\\boldsymbol{I}$ (orthogonal).\n",
    "\n",
    "Similarly, because also\n",
    "$\\boldsymbol{V}^T\\boldsymbol{V}=\\boldsymbol{I}$ (orthogonal),\n",
    "\n",
    "$$\n",
    "\\boldsymbol{B}\\boldsymbol{B}^T\n",
    "= \n",
    "\\boldsymbol{U}\\boldsymbol{\\Sigma}\\boldsymbol{V}^T\n",
    "\\Big(\\boldsymbol{U}\\boldsymbol{\\Sigma}\\boldsymbol{V}^T\\Big)^T\n",
    "= \n",
    "\\boldsymbol{U}\\boldsymbol{\\Sigma}\\boldsymbol{V}^T\n",
    "\\boldsymbol{V}\\boldsymbol{\\Sigma}^T\\boldsymbol{U}^T\n",
    "= \n",
    "\\boldsymbol{U}\\boldsymbol{\\Sigma}\n",
    "\\boldsymbol{\\Sigma}^T\\boldsymbol{U}^T.\n",
    "$$\n",
    "\n",
    "Do you recognise these?"
   ]
  },
  {
   "cell_type": "markdown",
   "metadata": {
    "slideshow": {
     "slide_type": "slide"
    }
   },
   "source": [
    "We have just shown that,\n",
    "\n",
    "$$\n",
    "\\boldsymbol{B}^T\\boldsymbol{B}\n",
    "= \\boldsymbol{V}\\boldsymbol{\\Sigma}^T\\boldsymbol{\\Sigma}\\boldsymbol{V}^T\n",
    "\\qquad\\text{ and }\\qquad\n",
    "\\boldsymbol{B}\\boldsymbol{B}^T\n",
    "= \n",
    "\\boldsymbol{U}\\boldsymbol{\\Sigma}\n",
    "\\boldsymbol{\\Sigma}^T\\boldsymbol{U}^T.\n",
    "$$\n",
    "\n",
    "Familiar? Think about $\\boldsymbol{A}=\\boldsymbol{V}\\boldsymbol{D}\\boldsymbol{V}^T$.\n",
    "\n",
    "- Put $\\boldsymbol{A} = \\boldsymbol{B}^T\\boldsymbol{B}$ (symmetric) and \n",
    "$\\boldsymbol{D} = \\boldsymbol{\\Sigma}^T\\boldsymbol{\\Sigma}$. Then,\n",
    "\n",
    "$$\n",
    "\\boldsymbol{B}^T\\boldsymbol{B}\n",
    "= \\boldsymbol{V}\\boldsymbol{\\Sigma}^T\\boldsymbol{\\Sigma}\\boldsymbol{V}^T\n",
    "\\qquad\\text{becomes}\\qquad\n",
    "\\boldsymbol{A}=\\boldsymbol{V}\\boldsymbol{D}\\boldsymbol{V}^T.\n",
    "$$\n",
    "\n",
    "- Put $\\boldsymbol{A} = \\boldsymbol{B}\\boldsymbol{B}^T$ (symmetric) and \n",
    "$\\boldsymbol{D} = \\boldsymbol{\\Sigma}\\boldsymbol{\\Sigma}^T$. Then,\n",
    "\n",
    "$$\n",
    "\\boldsymbol{B}\\boldsymbol{B}^T\n",
    "= \n",
    "\\boldsymbol{U}\\boldsymbol{\\Sigma}\n",
    "\\boldsymbol{\\Sigma}^T\\boldsymbol{U}^T\n",
    "\\qquad\\text{becomes}\\qquad\n",
    "\\boldsymbol{A}=\\boldsymbol{U}\\boldsymbol{D}\\boldsymbol{U}^T.\n",
    "$$\n",
    "\n",
    "- $\\boldsymbol{V}$, the right singular vectors in the SVD are the eigenvectors of \n",
    "$\\boldsymbol{B}^T\\boldsymbol{B}$.\n",
    "\n",
    "- $\\boldsymbol{U}$, the left singular vectors in the SVD are the eigenvectors of \n",
    "$\\boldsymbol{B}\\boldsymbol{B}^T$.\n",
    "\n",
    "- In both cases $\\boldsymbol{\\Sigma}$ contains the positive square\n",
    "roots of the eigenvalues of $\\boldsymbol{B}^T\\boldsymbol{B}$\n",
    "and $\\boldsymbol{B}\\boldsymbol{B}^T$.\n",
    "\n",
    "- **NOTE:** $\\boldsymbol{B}^T\\boldsymbol{B}$ and $\\boldsymbol{B}\\boldsymbol{B}^T$\n",
    "have the same non-zero eigenvalues (same rank).\n"
   ]
  },
  {
   "cell_type": "markdown",
   "metadata": {
    "slideshow": {
     "slide_type": "slide"
    }
   },
   "source": [
    "## Why does this matter?\n",
    " \n",
    "Our data, $\\boldsymbol{X}$, is organized into rows of feature values with one observation per row \n",
    "and one feature per column. We write this as\n",
    "\n",
    "$$\n",
    "\\boldsymbol{X} = \\Big(\n",
    "\\boldsymbol{X}_0, \\boldsymbol{X}_1, \\cdots, \\boldsymbol{X}_N\n",
    "\\Big)\n",
    "$$\n",
    "\n",
    "If $N=3$ (four features)..."
   ]
  },
  {
   "cell_type": "markdown",
   "metadata": {
    "slideshow": {
     "slide_type": "fragment"
    }
   },
   "source": [
    "... we recall that the **covariance matrix** takes this form:\n",
    "\n",
    "$$\n",
    "\\boldsymbol{M} = \n",
    "\\left(\\begin{array}{llll}\n",
    "\\mathrm{Var}(X_0)  &  \\mathrm{Cov}(X_0,X_1)  &  \\mathrm{Cov}(X_0,X_2)  &  \\mathrm{Cov}(X_0,X_3) \\\\\n",
    "\\mathrm{Cov}(X_1,X_0)  &  \\mathrm{Var}(X_1)  &  \\mathrm{Cov}(X_1,X_2)  &  \\mathrm{Cov}(X_1,X_3) \\\\\n",
    "\\mathrm{Cov}(X_2,X_0)  &  \\mathrm{Cov}(X_2,X_1)  &  \\mathrm{Var}(X_2)  &  \\mathrm{Cov}(X_2,X_3) \\\\\n",
    "\\mathrm{Cov}(X_3,X_0)  &  \\mathrm{Cov}(X_3,X_1)  &  \\mathrm{Cov}(X_3,X_2)  &  \\mathrm{Var}(X_3) \\\\\n",
    "\\end{array}\\right)\n",
    "$$\n",
    "\n",
    "because $\\mathrm{Cov}(X,X)=\\mathrm{Var}(X)$. Since $\\mathrm{Cov}(X,Y)=\\mathrm{Cov}(Y,X)$, this matrix is **symmetric**\n",
    "and so has real eigenvalues."
   ]
  },
  {
   "cell_type": "markdown",
   "metadata": {
    "slideshow": {
     "slide_type": "slide"
    }
   },
   "source": [
    "We have seen that if the data are already centred then,\n",
    "\n",
    "$$\n",
    "(N-1)\\boldsymbol{M} = \n",
    "\\left(\\begin{array}{llll}\n",
    "\\boldsymbol{X}_0\\cdot\\boldsymbol{X}_0 & \\boldsymbol{X}_0\\cdot\\boldsymbol{X}_1 &\n",
    "\\boldsymbol{X}_0\\cdot\\boldsymbol{X}_2 & \\boldsymbol{X}_0\\cdot\\boldsymbol{X}_3\n",
    "\\\\\n",
    "\\boldsymbol{X}_1\\cdot\\boldsymbol{X}_0 & \\boldsymbol{X}_1\\cdot\\boldsymbol{X}_1 &\n",
    "\\boldsymbol{X}_1\\cdot\\boldsymbol{X}_2 & \\boldsymbol{X}_1\\cdot\\boldsymbol{X}_3\n",
    "\\\\\n",
    "\\boldsymbol{X}_2\\cdot\\boldsymbol{X}_0 & \\boldsymbol{X}_2\\cdot\\boldsymbol{X}_1 &\n",
    "\\boldsymbol{X}_2\\cdot\\boldsymbol{X}_2 & \\boldsymbol{X}_2\\cdot\\boldsymbol{X}_3\n",
    "\\\\\n",
    "\\boldsymbol{X}_3\\cdot\\boldsymbol{X}_0 & \\boldsymbol{X}_3\\cdot\\boldsymbol{X}_1 &\n",
    "\\boldsymbol{X}_3\\cdot\\boldsymbol{X}_2 & \\boldsymbol{X}_3\\cdot\\boldsymbol{X}_3\n",
    "\\\\\n",
    "\\end{array}\\right)\n",
    "=\n",
    "\\left(\\begin{array}{l}\n",
    "\\boldsymbol{X}_0^T\n",
    "\\\\\n",
    "\\boldsymbol{X}_1^T\n",
    "\\\\\n",
    "\\boldsymbol{X}_2^T\n",
    "\\\\\n",
    "\\boldsymbol{X}_3^T\n",
    "\\\\\n",
    "\\end{array}\\right)\n",
    "\\left(\\begin{array}{llll}\n",
    "\\boldsymbol{X}_0\n",
    "&\n",
    "\\boldsymbol{X}_1\n",
    "&\n",
    "\\boldsymbol{X}_2\n",
    "&\n",
    "\\boldsymbol{X}_3\n",
    "\\\\\n",
    "\\end{array}\\right)\n",
    "$$\n",
    "\n",
    "and, hence (in general), the (sample) covariance matrix is\n",
    "\n",
    "$$\n",
    "\\boldsymbol{M} = \n",
    "\\frac{1}{(N-1)}\\boldsymbol{X}^T\\boldsymbol{X}.\n",
    "$$\n"
   ]
  },
  {
   "cell_type": "markdown",
   "metadata": {
    "slideshow": {
     "slide_type": "fragment"
    }
   },
   "source": [
    "# I N C O M P L E T E\n",
    "\n",
    "There is more to come - this document will be replaced with an update in due course."
   ]
  },
  {
   "cell_type": "markdown",
   "metadata": {
    "slideshow": {
     "slide_type": "slide"
    }
   },
   "source": [
    "### Review\n",
    "\n",
    "We covered *just enough*, to make *progress at pace*. We looked at\n",
    "\n",
    "- How the SVD and eigenvalue decomposition are related.\n",
    "- How this becomes relevant to the data covariance matrix.\n",
    "- How this can be used.\n",
    "\n",
    "Now we can start putting all of this material to work."
   ]
  },
  {
   "cell_type": "markdown",
   "metadata": {
    "slideshow": {
     "slide_type": "skip"
    }
   },
   "source": [
    "## Technical Notes, Production and Archiving\n",
    "\n",
    "Ignore the material below. What follows is not relevant to the material being taught."
   ]
  },
  {
   "cell_type": "markdown",
   "metadata": {
    "slideshow": {
     "slide_type": "skip"
    }
   },
   "source": [
    "#### Production Workflow\n",
    "\n",
    "- Finalise the notebook material above\n",
    "- Clear and fresh run of entire notebook\n",
    "- Create html slide show:\n",
    "  - `jupyter nbconvert --to slides 10_pca.ipynb `\n",
    "- Set `OUTPUTTING=1` below\n",
    "- Comment out the display of web-sourced diagrams\n",
    "- Clear and fresh run of entire notebook\n",
    "- Comment back in the display of web-sourced diagrams\n",
    "- Clear all cell output\n",
    "- Set `OUTPUTTING=0` below\n",
    "- Save\n",
    "- git add, commit and push to FML\n",
    "- copy PDF, HTML etc to web site\n",
    "  - git add, commit and push\n",
    "- rebuild binder"
   ]
  },
  {
   "cell_type": "markdown",
   "metadata": {
    "slideshow": {
     "slide_type": "skip"
    }
   },
   "source": [
    "Some of this originated from\n",
    "\n",
    "<https://stackoverflow.com/questions/38540326/save-html-of-a-jupyter-notebook-from-within-the-notebook>\n",
    "\n",
    "These lines create a back up of the notebook. They can be ignored.\n",
    "\n",
    "At some point this is better as a bash script outside of the notebook"
   ]
  },
  {
   "cell_type": "code",
   "execution_count": null,
   "metadata": {
    "slideshow": {
     "slide_type": "skip"
    }
   },
   "outputs": [],
   "source": [
    "%%bash\n",
    "NBROOTNAME=10_pca\n",
    "OUTPUTTING=0\n",
    "\n",
    "if [ $OUTPUTTING -eq 1 ]; then\n",
    "  jupyter nbconvert --to html $NBROOTNAME.ipynb\n",
    "  cp $NBROOTNAME.html ../backups/$(date +\"%m_%d_%Y-%H%M%S\")_$NBROOTNAME.html\n",
    "  mv -f $NBROOTNAME.html ./formats/html/\n",
    "\n",
    "  jupyter nbconvert --to pdf $NBROOTNAME.ipynb\n",
    "  cp $NBROOTNAME.pdf ../backups/$(date +\"%m_%d_%Y-%H%M%S\")_$NBROOTNAME.pdf\n",
    "  mv -f $NBROOTNAME.pdf ./formats/pdf/\n",
    "\n",
    "  jupyter nbconvert --to script $NBROOTNAME.ipynb\n",
    "  cp $NBROOTNAME.py ../backups/$(date +\"%m_%d_%Y-%H%M%S\")_$NBROOTNAME.py\n",
    "  mv -f $NBROOTNAME.py ./formats/py/\n",
    "else\n",
    "  echo 'Not Generating html, pdf and py output versions'\n",
    "fi"
   ]
  }
 ],
 "metadata": {
  "celltoolbar": "Slideshow",
  "kernelspec": {
   "display_name": "Python 3",
   "language": "python",
   "name": "python3"
  },
  "language_info": {
   "codemirror_mode": {
    "name": "ipython",
    "version": 3
   },
   "file_extension": ".py",
   "mimetype": "text/x-python",
   "name": "python",
   "nbconvert_exporter": "python",
   "pygments_lexer": "ipython3",
   "version": "3.7.1"
  }
 },
 "nbformat": 4,
 "nbformat_minor": 4
}
