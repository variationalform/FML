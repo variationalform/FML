{
 "cells": [
  {
   "cell_type": "markdown",
   "metadata": {},
   "source": [
    "# Linear Algebra: Review of Vectors and Matrices\n",
    "\n",
    "#### *variationalform* <https://variationalform.github.io/>\n",
    "\n",
    "#### *Just Enough: progress at pace*\n",
    "\n",
    "<https://variationalform.github.io/>\n",
    "\n",
    "<https://github.com/variationalform>\n",
    "\n",
    "<https://www.brunel.ac.uk/people/simon-shaw>.\n"
   ]
  },
  {
   "cell_type": "markdown",
   "metadata": {},
   "source": [
    "<table>\n",
    "<tr>\n",
    "<td>\n",
    "<img src=\"https://mirrors.creativecommons.org/presskit/icons/cc.svg?ref=chooser-v1\" style=\"height:18px\"/>\n",
    "<img src=\"https://mirrors.creativecommons.org/presskit/icons/by.svg?ref=chooser-v1\" style=\"height:18px\"/>\n",
    "<img src=\"https://mirrors.creativecommons.org/presskit/icons/sa.svg?ref=chooser-v1\" style=\"height:18px\"/>\n",
    "</td>\n",
    "<td>\n",
    "\n",
    "<p>\n",
    "This work is licensed under CC BY-SA 4.0 (Attribution-ShareAlike 4.0 International)\n",
    "\n",
    "<p>\n",
    "Visit <a href=\"http://creativecommons.org/licenses/by-sa/4.0/\">http://creativecommons.org/licenses/by-sa/4.0/</a> to see the terms.\n",
    "</td>\n",
    "</tr>\n",
    "</table>"
   ]
  },
  {
   "cell_type": "markdown",
   "metadata": {},
   "source": [
    "<table>\n",
    "<tr>\n",
    "<td>This document uses</td>\n",
    "<td>\n",
    "<img src=\"https://www.python.org/static/community_logos/python-logo-master-v3-TM.png\" style=\"height:30px\"/>\n",
    "</td>\n",
    "<td>and also makes use of LaTeX </td>\n",
    "<td>\n",
    "<img src=\"https://upload.wikimedia.org/wikipedia/commons/thumb/9/92/LaTeX_logo.svg/320px-LaTeX_logo.svg.png\" style=\"height:30px\"/>\n",
    "</td>\n",
    "<td>in Markdown</td> \n",
    "<td>\n",
    "<img src=\"https://github.com/adam-p/markdown-here/raw/master/src/common/images/icon48.png\" style=\"height:30px\"/>\n",
    "</td>\n",
    "</tr>\n",
    "</table>"
   ]
  },
  {
   "cell_type": "markdown",
   "metadata": {},
   "source": [
    "Standard imports"
   ]
  },
  {
   "cell_type": "code",
   "execution_count": 1,
   "metadata": {},
   "outputs": [],
   "source": [
    "import numpy as np\n",
    "from numpy import linalg as LA"
   ]
  },
  {
   "cell_type": "code",
   "execution_count": 2,
   "metadata": {},
   "outputs": [
    {
     "name": "stdout",
     "output_type": "stream",
     "text": [
      "[[1 2]\n",
      " [3 4]]\n",
      "[[1 2]\n",
      " [3 4]]\n",
      "[[ 1  4]\n",
      " [ 9 16]]\n",
      "[[ 7 10]\n",
      " [15 22]]\n"
     ]
    }
   ],
   "source": [
    "# beware...\n",
    "M = np.array([[1,2],[3,4]])\n",
    "print(M)\n",
    "print(M)\n",
    "print(M*M)\n",
    "print(M.dot(M))"
   ]
  },
  {
   "cell_type": "markdown",
   "metadata": {},
   "source": [
    "Example distance. Find the shortest distance from the point $Q$ at coordinates\n",
    "$(2,1)$ to the line with $\\boldsymbol{w}=(-1,1)^T$ and $\\phi=1$.\n",
    "\n",
    "Solution: \n",
    "\n",
    "$$\n",
    "d = \\frac{\\phi-\\boldsymbol{w}^T\\boldsymbol{q}}{\\Vert\\boldsymbol{w}\\Vert_2}\n",
    "$$\n",
    "\n",
    "with $\\boldsymbol{q}=(2,1)^T$."
   ]
  },
  {
   "cell_type": "code",
   "execution_count": 3,
   "metadata": {},
   "outputs": [
    {
     "name": "stdout",
     "output_type": "stream",
     "text": [
      "[[-1]\n",
      " [ 1]]\n",
      "[[2]\n",
      " [1]]\n",
      "1.4142135623730951\n",
      "1.414213562373095\n",
      "[[1.41421356]]\n",
      "1.414213562373095\n"
     ]
    }
   ],
   "source": [
    "w = np.array([[-1],[1]])\n",
    "q = np.array([[2],[1]])\n",
    "phi = 1\n",
    "print(w)\n",
    "print(q)\n",
    "print(np.linalg.norm(w))\n",
    "d = (phi - np.ndarray.item(w.T.dot(q)))/np.linalg.norm(w)\n",
    "print(d)\n",
    "d = (phi - np.matmul(w.T,q))/np.linalg.norm(w)\n",
    "print(d)\n",
    "d = (phi - np.vdot(w.T,q))/np.linalg.norm(w)\n",
    "print(d)"
   ]
  },
  {
   "cell_type": "code",
   "execution_count": 4,
   "metadata": {
    "scrolled": true
   },
   "outputs": [
    {
     "name": "stdout",
     "output_type": "stream",
     "text": [
      "A=\n",
      " [[ 3 -2  4]\n",
      " [-2  6  2]\n",
      " [ 4  2  5]] \n",
      " w=\n",
      " [-1.21699057  8.21699057  7.        ] \n",
      " D=\n",
      " [[-1.21699057  0.          0.        ]\n",
      " [ 0.          8.21699057  0.        ]\n",
      " [ 0.          0.          7.        ]] \n",
      " V=\n",
      " [[ 7.26085219e-01  5.22302838e-01 -4.47213595e-01]\n",
      " [ 3.63042610e-01  2.61151419e-01  8.94427191e-01]\n",
      " [-5.83952325e-01  8.11787954e-01  2.85088132e-16]]\n",
      "V V^T = ...\n",
      " [[ 1.00000000e+00 -1.55686504e-16  3.16593922e-16]\n",
      " [-1.55686504e-16  1.00000000e+00 -3.00120936e-16]\n",
      " [ 3.16593922e-16 -3.00120936e-16  1.00000000e+00]]\n",
      "\n",
      " error ...\n",
      " [[-5.32907052e-15  2.66453526e-15 -3.55271368e-15]\n",
      " [ 2.22044605e-15  2.66453526e-15  4.44089210e-16]\n",
      " [-4.44089210e-15  6.66133815e-16  8.88178420e-16]]\n",
      "\n",
      " recon ...\n",
      "[[ 3. -2.  4.]\n",
      " [-2.  6.  2.]\n",
      " [ 4.  2.  5.]]\n",
      "sum = -3.774758283725532e-15\n"
     ]
    }
   ],
   "source": [
    "# eigenvalues of symmetric matrix\n",
    "A = np.array([[3,-2,4],[-2,6,2],[4,2,5]])\n",
    "w, V = np.linalg.eig(A)\n",
    "D=np.diag(w)\n",
    "print('A=\\n',A,'\\n','w=\\n',w,'\\n','D=\\n',D,'\\n','V=\\n',V)\n",
    "print('V V^T = ...\\n',V.dot(V.T))\n",
    "print('\\n error ...\\n',A-V.dot(D.dot(V.T)))\n",
    "# slicing: V[:,0]*V[:,0].T wont work. See ...\n",
    "# https://stackoverflow.com/questions/29635501/row-vs-column-vector-return-during-numpy-array-slicing\n",
    "print('\\n recon ...')\n",
    "print(D[0,0]*V[:,0:1]*V[:,0:1].T+D[1,1]*V[:,1:2]*V[:,1:2].T+D[2,2]*V[:,2:3]*V[:,2:3].T)\n",
    "\n",
    "print('sum =', np.sum(A-V.dot(D.dot(V.T))) )\n",
    "assert np.sum(A-V.dot(D.dot(V.T))) < 0.0001\n"
   ]
  },
  {
   "cell_type": "code",
   "execution_count": 5,
   "metadata": {
    "scrolled": true
   },
   "outputs": [
    {
     "name": "stdout",
     "output_type": "stream",
     "text": [
      "E=\n",
      " [[-0.64159712 -0.32079856  0.51600297]\n",
      " [-0.32079856 -0.16039928  0.25800148]\n",
      " [ 0.51600297  0.25800148 -0.41499417]]\n",
      "(A-E)/A [[1.21386571 0.83960072 0.87099926]\n",
      " [0.83960072 1.02673321 0.87099926]\n",
      " [0.87099926 0.87099926 1.08299883]]\n",
      "E=\n",
      " [[1.6 0.8 4. ]\n",
      " [0.8 0.4 2. ]\n",
      " [4.  2.  5. ]]\n",
      "(A-E)/A [[ 4.66666667e-01  1.40000000e+00 -1.33226763e-15]\n",
      " [ 1.40000000e+00  9.33333333e-01  1.11022302e-15]\n",
      " [-1.33226763e-15  1.11022302e-15  1.77635684e-16]]\n",
      "E=\n",
      " [[ 3. -2.  4.]\n",
      " [-2.  6.  2.]\n",
      " [ 4.  2.  5.]]\n",
      "(A-E)/A [[-1.62832710e-15 -1.33226763e-15 -1.11022302e-15]\n",
      " [-1.33226763e-15  4.44089210e-16  2.22044605e-16]\n",
      " [-1.11022302e-15  2.22044605e-16  1.77635684e-16]]\n"
     ]
    }
   ],
   "source": [
    "E = np.zeros(A.shape)\n",
    "for i in range(0,3):\n",
    "    E = E + D[i,i]*np.matmul(V[:,i:i+1],V[:,i:i+1].T)\n",
    "    print('E=\\n',E)\n",
    "    print('(A-E)/A', (A-E)/A)\n",
    "\n"
   ]
  },
  {
   "cell_type": "code",
   "execution_count": 6,
   "metadata": {},
   "outputs": [
    {
     "name": "stderr",
     "output_type": "stream",
     "text": [
      "[NbConvertApp] Converting notebook 5a_linalg.ipynb to html\n",
      "[NbConvertApp] Writing 591195 bytes to 5a_linalg.html\n",
      "[NbConvertApp] Converting notebook 5a_linalg.ipynb to pdf\n",
      "[NbConvertApp] Writing 33908 bytes to notebook.tex\n",
      "[NbConvertApp] Building PDF\n",
      "[NbConvertApp] Running xelatex 3 times: ['xelatex', 'notebook.tex', '-quiet']\n",
      "[NbConvertApp] Running bibtex 1 time: ['bibtex', 'notebook']\n",
      "[NbConvertApp] WARNING | bibtex had problems, most likely because there were no citations\n",
      "[NbConvertApp] PDF successfully created\n",
      "[NbConvertApp] Writing 50975 bytes to 5a_linalg.pdf\n",
      "[NbConvertApp] Converting notebook 5a_linalg.ipynb to script\n",
      "[NbConvertApp] Writing 3752 bytes to 5a_linalg.py\n"
     ]
    }
   ],
   "source": [
    "%%bash\n",
    "NBROOTNAME='5a_linalg'\n",
    "OUTPUTTING=1\n",
    "\n",
    "if [ $OUTPUTTING -eq 1 ]; then\n",
    "  jupyter nbconvert --to html $NBROOTNAME.ipynb\n",
    "  cp $NBROOTNAME.html ../backups/$(date +\"%m_%d_%Y-%H%M%S\")_$NBROOTNAME.html\n",
    "  mv -f $NBROOTNAME.html ./formats/html/\n",
    "\n",
    "  jupyter nbconvert --to pdf $NBROOTNAME.ipynb\n",
    "  cp $NBROOTNAME.pdf ../backups/$(date +\"%m_%d_%Y-%H%M%S\")_$NBROOTNAME.pdf\n",
    "  mv -f $NBROOTNAME.pdf ./formats/pdf/\n",
    "\n",
    "  jupyter nbconvert --to script $NBROOTNAME.ipynb\n",
    "  cp $NBROOTNAME.py ../backups/$(date +\"%m_%d_%Y-%H%M%S\")_$NBROOTNAME.py\n",
    "  mv -f $NBROOTNAME.py ./formats/py/\n",
    "else\n",
    "  echo 'Not Generating html, pdf and py output versions'\n",
    "fi"
   ]
  },
  {
   "cell_type": "code",
   "execution_count": null,
   "metadata": {},
   "outputs": [],
   "source": []
  }
 ],
 "metadata": {
  "kernelspec": {
   "display_name": "Python 3",
   "language": "python",
   "name": "python3"
  },
  "language_info": {
   "codemirror_mode": {
    "name": "ipython",
    "version": 3
   },
   "file_extension": ".py",
   "mimetype": "text/x-python",
   "name": "python",
   "nbconvert_exporter": "python",
   "pygments_lexer": "ipython3",
   "version": "3.7.1"
  }
 },
 "nbformat": 4,
 "nbformat_minor": 4
}
