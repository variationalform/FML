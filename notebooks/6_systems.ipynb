{
 "cells": [
  {
   "cell_type": "markdown",
   "metadata": {
    "slideshow": {
     "slide_type": "slide"
    }
   },
   "source": [
    "# Systems\n",
    "\n",
    "#### *variationalform* <https://variationalform.github.io/>\n",
    "\n",
    "#### *Just Enough: progress at pace*\n",
    "\n",
    "<https://variationalform.github.io/>\n",
    "\n",
    "<https://github.com/variationalform>\n",
    "\n",
    "Simon Shaw\n",
    "<https://www.brunel.ac.uk/people/simon-shaw>.\n"
   ]
  },
  {
   "cell_type": "markdown",
   "metadata": {
    "slideshow": {
     "slide_type": "fragment"
    }
   },
   "source": [
    "<table>\n",
    "<tr>\n",
    "<td>\n",
    "<img src=\"https://mirrors.creativecommons.org/presskit/icons/cc.svg?ref=chooser-v1\" style=\"height:18px\"/>\n",
    "<img src=\"https://mirrors.creativecommons.org/presskit/icons/by.svg?ref=chooser-v1\" style=\"height:18px\"/>\n",
    "<img src=\"https://mirrors.creativecommons.org/presskit/icons/sa.svg?ref=chooser-v1\" style=\"height:18px\"/>\n",
    "</td>\n",
    "<td>\n",
    "\n",
    "<p>\n",
    "This work is licensed under CC BY-SA 4.0 (Attribution-ShareAlike 4.0 International)\n",
    "\n",
    "<p>\n",
    "Visit <a href=\"http://creativecommons.org/licenses/by-sa/4.0/\">http://creativecommons.org/licenses/by-sa/4.0/</a> to see the terms.\n",
    "</td>\n",
    "</tr>\n",
    "</table>"
   ]
  },
  {
   "cell_type": "markdown",
   "metadata": {
    "slideshow": {
     "slide_type": "fragment"
    }
   },
   "source": [
    "<table>\n",
    "<tr>\n",
    "<td>This document uses python</td>\n",
    "<td>\n",
    "<img src=\"https://www.python.org/static/community_logos/python-logo-master-v3-TM.png\" style=\"height:30px\"/>\n",
    "</td>\n",
    "<td>and also makes use of LaTeX </td>\n",
    "<td>\n",
    "<img src=\"https://upload.wikimedia.org/wikipedia/commons/thumb/9/92/LaTeX_logo.svg/320px-LaTeX_logo.svg.png\" style=\"height:30px\"/>\n",
    "</td>\n",
    "<td>in Markdown</td> \n",
    "<td>\n",
    "<img src=\"https://github.com/adam-p/markdown-here/raw/master/src/common/images/icon48.png\" style=\"height:30px\"/>\n",
    "</td>\n",
    "</tr>\n",
    "</table>"
   ]
  },
  {
   "cell_type": "markdown",
   "metadata": {
    "slideshow": {
     "slide_type": "slide"
    }
   },
   "source": [
    "## What this is about:\n",
    "\n",
    "You will be introduced to ...\n",
    "\n",
    "- simultaneous equations and their matrix representation as *systems*.\n",
    "- the concept of *over* and *under* determined systems.\n",
    "- the notion of matrix *rank*.\n",
    "- using `numpy` to work with *systems of equations*.\n",
    "- the concept of an *orthogonal* matrix.\n",
    "\n",
    "As usual our emphasis will be on *doing* rather than *proving*:\n",
    "*just enough: progress at pace*"
   ]
  },
  {
   "cell_type": "markdown",
   "metadata": {
    "slideshow": {
     "slide_type": "slide"
    }
   },
   "source": [
    "## Assigned Reading\n",
    "\n",
    "For this worksheet you should read Chapter 11 of [VMLS] for background\n",
    "to the linear algenra of vectors, and also Appendix D of [DSML] if you want to read more\n",
    "about `python` and `numpy`. \n",
    "\n",
    "- VMLS: Introduction to Applied Linear Algebra - Vectors, Matrices, and Least Squares,\n",
    "  by Stephen Boyd and Lieven Vandenberghe,\n",
    "  <https://web.stanford.edu/~boyd/vmls/>\n",
    "- DSML: Data Science and Machine Learning, Mathematical and Statistical Methods\n",
    "  by Dirk P. Kroese, Zdravko I. Botev, Thomas Taimre, Radislav Vaisman,\n",
    "  \\url{https://people.smp.uq.edu.au/DirkKroese/DSML/} and\n",
    "  \\url{https://people.smp.uq.edu.au/DirkKroese/DSML/DSML.pdf}\n",
    "\n",
    "Further accessible material can be found in Chapter 1 of [FCLA]\n",
    "and in Chapters 2.3 of [MML].\n",
    "\n",
    "- MML: Mathematics for Machine Learning, by Marc Peter Deisenroth, A. Aldo Faisal, and Cheng Soon Ong.\n",
    "  Cambridge University Press. <https://mml-book.github.io>.\n",
    "- FCLA: A First Course in Linear Algebra, by Ken Kuttler, \n",
    "  <https://math.libretexts.org/Bookshelves/Linear_Algebra/A_First_Course_in_Linear_Algebra_(Kuttler)>\n",
    " \n",
    "All of the above can be accessed legally and without cost."
   ]
  },
  {
   "cell_type": "markdown",
   "metadata": {
    "slideshow": {
     "slide_type": "slide"
    }
   },
   "source": [
    "There are also these useful references for coding:\n",
    "\n",
    "- PT: `python`: <https://docs.python.org/3/tutorial>\n",
    "- NP: `numpy`: <https://numpy.org/doc/stable/user/quickstart.html>\n",
    "- MPL: `matplotlib`: <https://matplotlib.org>"
   ]
  },
  {
   "cell_type": "markdown",
   "metadata": {
    "slideshow": {
     "slide_type": "slide"
    }
   },
   "source": [
    "## Linear Systems of Simultaneous Equations\n",
    "\n",
    "The following type of problem occurs frequently across the whole\n",
    "landscape of applied mathematics - of which data science and analytics\n",
    "is a part. We'll see several examples of it as we go along. The problem\n",
    "is of this nature: find the values of $x$, $y$ and $z$ that\n",
    "*simultaneously* satisfy these three linear equations:\n",
    "\n",
    "\n",
    "\\begin{alignat*}{6}\n",
    "&& 3x &-2y +\\ 4z &&  = & 2  \\\\\n",
    "&&-6x &+6y -11z &&   = & -1  \\\\\n",
    "&& 6x &+2y +\\ 5z  && = & 7\n",
    "\\end{alignat*}\n",
    "\n",
    "We can write this as: find $\\boldsymbol{u} = (x, y, z)^T$ such that\n",
    "\n",
    "$$\n",
    "\\boldsymbol{B}\\boldsymbol{u}=\\boldsymbol{f}\n",
    "\\qquad\\text{ for }\n",
    "\\boldsymbol{B}\n",
    "= \\left(\\begin{array}{rrr}\n",
    " 3 & -2 & 4 \\\\\n",
    "-6 & 6 & -11 \\\\\n",
    " 6 & 2 & 5 \\\\\n",
    "\\end{array}\\right)\n",
    "\\text{ and }\n",
    "\\boldsymbol{f}\n",
    "=\n",
    "\\left(\\begin{array}{rrr}\n",
    "2 \\\\ -1 \\\\ 7\n",
    "\\end{array}\\right)\n",
    "$$"
   ]
  },
  {
   "cell_type": "markdown",
   "metadata": {
    "slideshow": {
     "slide_type": "slide"
    }
   },
   "source": [
    "If $\\boldsymbol{B}$ is invertible then we can obtain\n",
    "$\\boldsymbol{u}$, and hence $x$, $y$ and $z$, by *solving the system*:\n",
    "\n",
    "$$\n",
    "\\left(\\begin{array}{rrr}\n",
    "x \\\\ y \\\\ x\n",
    "\\end{array}\\right)\n",
    "=\n",
    "\\boldsymbol{u}\n",
    "= \n",
    "\\boldsymbol{B}^{-1}\\boldsymbol{f}\n",
    "=\n",
    "\\frac{1}{36}\\left(\\begin{array}{rrr}\n",
    " 52 &  18 & -2 \\\\\n",
    "-36 & -9 &   9 \\\\\n",
    "-48 & -18 &  6\n",
    "\\end{array}\\right)\n",
    "\\left(\\begin{array}{rrr}\n",
    "2 \\\\ -1 \\\\ 7\n",
    "\\end{array}\\right)\n",
    "=\n",
    "\\left(\\begin{array}{rrr}\n",
    "2 \\\\ 0 \\\\ -1\n",
    "\\end{array}\\right).\n",
    "$$\n",
    "\n",
    "What we see here is that if we have three unknowns, then we can\n",
    "determine them if we have three independent pieces of information. In\n",
    "this case that means the three equations. If those equations are not\n",
    "independent of each other then we wont be able to find all three\n",
    "unknowns."
   ]
  },
  {
   "cell_type": "markdown",
   "metadata": {
    "slideshow": {
     "slide_type": "slide"
    }
   },
   "source": [
    "$$\n",
    "\\boldsymbol{B}\\boldsymbol{u}=\\boldsymbol{f}\n",
    "\\qquad\\text{ for }\n",
    "\\boldsymbol{B}\n",
    "= \\left(\\begin{array}{rrr}\n",
    " 3 & -2 & 4 \\\\\n",
    "-6 & 6 & -11 \\\\\n",
    " 6 & 2 & 5 \\\\\n",
    "\\end{array}\\right)\n",
    "\\text{ and }\n",
    "\\boldsymbol{f}\n",
    "=\n",
    "\\left(\\begin{array}{rrr}\n",
    "2 \\\\ -1 \\\\ 7\n",
    "\\end{array}\\right)\n",
    "$$\n",
    "\n",
    "Let's see this in `numpy`"
   ]
  },
  {
   "cell_type": "code",
   "execution_count": 1,
   "metadata": {
    "slideshow": {
     "slide_type": "fragment"
    }
   },
   "outputs": [
    {
     "name": "stdout",
     "output_type": "stream",
     "text": [
      "f = \n",
      " [[ 2]\n",
      " [-1]\n",
      " [ 7]]\n"
     ]
    }
   ],
   "source": [
    "import numpy as np\n",
    "B = np.array( [[3, -2, 4],[-6, 6, -11],[ 6, 2, 5 ]])\n",
    "u = np.array([[2], [0], [-1]])\n",
    "f = B.dot(u)\n",
    "print('f = \\n', f) "
   ]
  },
  {
   "cell_type": "code",
   "execution_count": 2,
   "metadata": {
    "slideshow": {
     "slide_type": "fragment"
    }
   },
   "outputs": [
    {
     "name": "stdout",
     "output_type": "stream",
     "text": [
      "[[ 2.]\n",
      " [ 0.]\n",
      " [-1.]]\n"
     ]
    }
   ],
   "source": [
    "# here is how to solve a linear system like this...\n",
    "u = np.linalg.solve(B, f)\n",
    "print(u)"
   ]
  },
  {
   "cell_type": "markdown",
   "metadata": {
    "slideshow": {
     "slide_type": "slide"
    }
   },
   "source": [
    "## Under- and Over-Determined Systems\n",
    "\n",
    "The point just made is quite subtle. Rather than explore the general\n",
    "theory let's look at some examples.\n",
    "\n",
    "**Example 1** The system, find $\\boldsymbol{u}$ such that,\n",
    "\n",
    "$$\n",
    "\\boldsymbol{B}\\boldsymbol{u}=\\boldsymbol{f}\n",
    "\\qquad\\text{ for }\n",
    "\\boldsymbol{B}\n",
    "= \\left(\\begin{array}{rrr}\n",
    " 3 & -2 & 4 \\\\\n",
    "-6 & 6 & -11 \\\\\n",
    " 6 & -4 & 8 \\\\\n",
    "\\end{array}\\right)\n",
    "\\text{ and }\n",
    "\\boldsymbol{f}\n",
    "=\n",
    "\\left(\\begin{array}{rrr}\n",
    "2 \\\\ -1 \\\\ 4\n",
    "\\end{array}\\right)\n",
    "$$\n",
    "\n",
    "seems just like the one above, but there's an important difference. It's\n",
    "hard to spot, but if you look closely you can see that the third\n",
    "equation is exactly the same as the first multiplied by 2. Therefore\n",
    "these equations do not give three independent pieces of information -\n",
    "just two, and so there is not enough information to obtain three\n",
    "unknowns $\\boldsymbol{u}$.\n",
    "\n",
    "However, we can assert that $x = (10-2z)/6$ and $y = (9+9z)/6$ will\n",
    "solve this system for any choice of $z$ (we'll see why in the lab)."
   ]
  },
  {
   "cell_type": "markdown",
   "metadata": {
    "slideshow": {
     "slide_type": "slide"
    }
   },
   "source": [
    "**Example 2** On the other hand, consider this problem: find\n",
    "$\\boldsymbol{u}$ such that,\n",
    "\n",
    "$$\n",
    "\\boldsymbol{B}\\boldsymbol{u}=\\boldsymbol{f}\n",
    "\\qquad\\text{ for }\n",
    "\\boldsymbol{B}\n",
    "= \\left(\\begin{array}{rrr}\n",
    " 3 & -2 & 4 \\\\\n",
    "-6 & 6 & -11 \\\\\n",
    " 9 & -8 & 15 \\\\\n",
    "\\end{array}\\right)\n",
    "\\text{ and }\n",
    "\\boldsymbol{f}\n",
    "=\n",
    "\\left(\\begin{array}{rrr}\n",
    "2 \\\\ -1 \\\\ 3\n",
    "\\end{array}\\right).\n",
    "$$\n",
    "\n",
    "Here you have to look even more closely: if you subtract the second\n",
    "equation from the first you'll get the third. So, again, there are three\n",
    "unknowns but only two (independent) equations."
   ]
  },
  {
   "cell_type": "markdown",
   "metadata": {
    "slideshow": {
     "slide_type": "subslide"
    }
   },
   "source": [
    "**Example 3** What do you make of this? Find $\\boldsymbol{u}=(x, y)^T$\n",
    "such that\n",
    "\n",
    "$$\n",
    "\\boldsymbol{B}\\boldsymbol{u}=\\boldsymbol{f}\n",
    "\\qquad\\text{ for }\n",
    "\\boldsymbol{B}\n",
    "= \\left(\\begin{array}{rrr}\n",
    " 3 & -2 \\\\\n",
    "-6 & 6  \\\\\n",
    " 6 & 2  \\\\\n",
    "\\end{array}\\right)\n",
    "\\text{ and }\n",
    "\\boldsymbol{f}\n",
    "=\n",
    "\\left(\\begin{array}{rrr}\n",
    "6 \\\\ -18 \\\\ 7\n",
    "\\end{array}\\right).\n",
    "$$\n",
    "\n",
    "This is the same as\n",
    "\n",
    "$$\n",
    "\\left(\\begin{array}{rrr}\n",
    " 3 & -2 \\\\\n",
    "-6 & 6  \\\\\n",
    " 6 & 2  \\\\\n",
    "\\end{array}\\right)\n",
    "\\left(\\begin{array}{rrr}\n",
    "x \\\\ y\n",
    "\\end{array}\\right)\n",
    "=\n",
    "\\left(\\begin{array}{rrr}\n",
    "6 \\\\ -18 \\\\ 7\n",
    "\\end{array}\\right)\n",
    "$$\n",
    "\n",
    "or,\n",
    "\n",
    "\n",
    "\\begin{alignat*}{6}\n",
    "&& 3x &-2y = & 6  \\\\\n",
    "&&-6x &+6y = & -18  \\\\\n",
    "&& 6x &+2y = & 7 \\\\\n",
    "\\end{alignat*}"
   ]
  },
  {
   "cell_type": "markdown",
   "metadata": {
    "slideshow": {
     "slide_type": "subslide"
    }
   },
   "source": [
    "\\begin{alignat*}{6}\n",
    "&& 3x &-2y = & 6  \\\\\n",
    "&&-6x &+6y = & -18  \\\\\n",
    "&& 6x &+2y = & 7 \\\\\n",
    "\\end{alignat*}\n",
    "\n",
    "\n",
    "It turns out this is impossible: $x=0$ and $y=-3$ is the unique (why?)\n",
    "solution to the first two equations yet using these in the third gives\n",
    "$2y=-6\\ne 7$.\n",
    "\n",
    "There is therefore no solution to this problem because now we have three\n",
    "independent pieces of information (the equations), but only two degrees\n",
    "of freedom to fit that information.\n",
    "\n",
    "Examples 1 and 2 are examples of *under-determined* systems. Here there\n",
    "are not as many equations as there are unknowns and when we remove the\n",
    "redundant equations the system matrices are short and wide (more columns\n",
    "than rows). We can expect to be able to solve such systems - although\n",
    "not uniquely.\n",
    "\n",
    "Example 3 is an example of an *over-determined* system where there are\n",
    "more independent equations than unknowns. The system matrix is in this\n",
    "case tall and narrow (more rows than columns). These systems may not have\n",
    "solutions in the usual sense unless the extra equations are *consistent*\n",
    "with the rest of the system (although in that case it isn't really \n",
    "*over-determined*). The full story is complicated - here we're doing \n",
    "*just enough* so we can make *progress at pace*."
   ]
  },
  {
   "cell_type": "markdown",
   "metadata": {
    "slideshow": {
     "slide_type": "slide"
    }
   },
   "source": [
    "## Rank\n",
    "\n",
    "The rank (for our purposes) of a matrix corresponds to the number of\n",
    "independent equations it is capable of representing. In Examples 1 and 2\n",
    "above the rank of the matrix, which is $2$, is less than the dimension\n",
    "of the matrix, $3$ in both cases.\n",
    "\n",
    "When the rank of a square matrix is equal to its dimension, then that\n",
    "matrix has an inverse and we can solve the linear system in order to get\n",
    "a unique solution. This was the case in the original example above where\n",
    "we wrote $\\boldsymbol{B}\\boldsymbol{u}=\\boldsymbol{f}$ and solved for\n",
    "$\\boldsymbol{u}=\\boldsymbol{B}^{-1}\\boldsymbol{f}=(2, 0,-1)^T$."
   ]
  },
  {
   "cell_type": "markdown",
   "metadata": {
    "slideshow": {
     "slide_type": "slide"
    }
   },
   "source": [
    "## Orthogonal Matrices\n",
    "\n",
    "Consider these two vectors,\n",
    "\n",
    "$$\n",
    "\\boldsymbol{u} = \\frac{1}{5}\\left(\\begin{array}{r}\n",
    "3 \\\\ 4\n",
    "\\end{array}\\right)\n",
    "\\qquad\\text{ and }\\qquad\n",
    "\\boldsymbol{v} = \\frac{1}{10}\\left(\\begin{array}{r}\n",
    "8 \\\\ -6\n",
    "\\end{array}\\right).\n",
    "$$ It's easy to check that $\\boldsymbol{u}^T\\boldsymbol{v}=0$ and so\n",
    "they are *orthogonal* (that is $\\cos\\theta=0$ where $\\theta$ is the\n",
    "angle between the vectors). Moreover, the denominators ensure that they\n",
    "are normalized to unit length, so they are in fact *orthonormal*. Let's\n",
    "stack them together horizontally and create a matrix like this,\n",
    "\n",
    "$$\n",
    "\\boldsymbol{Q} = \\big( \\boldsymbol{u}\\ \\boldsymbol{v}\\big)\n",
    "= \\left(\\begin{array}{rr}\n",
    "3/5 & 8/10\\\\ 4/5 & -6/10\n",
    "\\end{array}\\right)\n",
    "= \\left(\\begin{array}{rr}\n",
    "3/5 & 4/5\\\\ 4/5 & -3/5\n",
    "\\end{array}\\right)\n",
    "= \\frac{1}{5}\\left(\\begin{array}{rr}\n",
    "3 & 4\\\\ 4 & -3\n",
    "\\end{array}\\right).\n",
    "$$\n",
    "\n",
    "Now notice that because of the *orthonormality*,\n",
    "\n",
    "$$\n",
    "\\boldsymbol{Q}^T\\boldsymbol{Q} \n",
    "= \\frac{1}{25}\\left(\\begin{array}{rr}\n",
    "3 & 4\\\\ 4 & -3\n",
    "\\end{array}\\right)\n",
    "\\left(\\begin{array}{rr}\n",
    "3 & 4\\\\ 4 & -3\n",
    "\\end{array}\\right)\n",
    "=\n",
    "\\frac{1}{25}\\left(\\begin{array}{rr}\n",
    "25 & 0\\\\ 0 & 25\n",
    "\\end{array}\\right)\n",
    "=\n",
    "\\left(\\begin{array}{rr}\n",
    "1 & 0\\\\ 0 & 1\n",
    "\\end{array}\\right)\n",
    "= \\boldsymbol{I}\n",
    "$$\n",
    "\n",
    "and so $\\boldsymbol{Q}^T=\\boldsymbol{Q}^{-1}$. Such a matrix is called\n",
    "an *orthogonal* matrix. In this example $\\boldsymbol{Q}$ is symmetric,\n",
    "but it need not be to have this property."
   ]
  },
  {
   "cell_type": "markdown",
   "metadata": {
    "slideshow": {
     "slide_type": "subslide"
    }
   },
   "source": [
    "Indeed, if $\\boldsymbol{Q}^T=\\boldsymbol{Q}^{-1}$, it will also follow\n",
    "that $\\boldsymbol{Q}\\boldsymbol{Q}^T=\\boldsymbol{I}$, even if\n",
    "$\\boldsymbol{Q}$ is not symmetric.\n",
    "\n",
    "This idea generalises to $n\\times n$ matrices. We just have to imagine a\n",
    "matrix made by stacking a set of mutually orthogonal vectors next to\n",
    "each other. If each vector has $n$ components, and there are $n$ such\n",
    "vectors, then the matrix will be square. If the matrix is denoted by\n",
    "$\\boldsymbol{Q}$ then it will follow that\n",
    "\n",
    "$$\n",
    "\\boldsymbol{Q}^T\\boldsymbol{Q} = \\boldsymbol{I} \\qquad\\text{ the }\n",
    "n\\times n\\text{ identity matrix, and }\\qquad\n",
    "\\boldsymbol{Q}\\boldsymbol{Q}^T = \\boldsymbol{I}.\n",
    "$$\n",
    "\n",
    "We will see orthogonal matrices below when we study the eigenvectors of\n",
    "symmetric matrices."
   ]
  },
  {
   "cell_type": "markdown",
   "metadata": {
    "slideshow": {
     "slide_type": "slide"
    }
   },
   "source": [
    "## Review\n",
    "\n",
    "We have made a lot of progress:\n",
    "\n",
    "- we understand that linear equations can be written in matrix form.\n",
    "- we saw how using `numpy` in `python` we could\n",
    "  - represent linear systems using matrices and vectors;\n",
    "  - create and solve linear systems with full rank;\n",
    "- we understand the concept of an under-determined system\n",
    "- we understand the concept of an over-determined system\n",
    "- we know what is meant by an orthogonal matrix\n",
    "\n",
    "We will be building extensively on these concepts. Matrices and vectors\n",
    "are form the branch of Mathematics called **Linear Algebra**.\n",
    "\n",
    "Linear Algebra is of **central importance** in Data Science and \n",
    "Machine Learning."
   ]
  },
  {
   "cell_type": "markdown",
   "metadata": {
    "slideshow": {
     "slide_type": "skip"
    }
   },
   "source": [
    "## Technical Notes, Production and Archiving\n",
    "\n",
    "Ignore the material below. What follows is not relevant to the material being taught."
   ]
  },
  {
   "cell_type": "markdown",
   "metadata": {
    "slideshow": {
     "slide_type": "skip"
    }
   },
   "source": [
    "#### Production Workflow\n",
    "\n",
    "- Finalise the notebook material above\n",
    "- Clear and fresh run of entire notebook\n",
    "- Create html slide show:\n",
    "  - `jupyter nbconvert --to slides 6_systems.ipynb `\n",
    "- Set `OUTPUTTING=1` below\n",
    "- Comment out the display of web-sourced diagrams\n",
    "- Clear and fresh run of entire notebook\n",
    "- Comment back in the display of web-sourced diagrams\n",
    "- Clear all cell output\n",
    "- Set `OUTPUTTING=0` below\n",
    "- Save\n",
    "- git add, commit and push to FML\n",
    "- copy PDF, HTML etc to web site\n",
    "  - git add, commit and push\n",
    "- rebuild binder"
   ]
  },
  {
   "cell_type": "markdown",
   "metadata": {
    "slideshow": {
     "slide_type": "skip"
    }
   },
   "source": [
    "Some of this originated from\n",
    "\n",
    "<https://stackoverflow.com/questions/38540326/save-html-of-a-jupyter-notebook-from-within-the-notebook>\n",
    "\n",
    "These lines create a back up of the notebook. They can be ignored.\n",
    "\n",
    "At some point this is better as a bash script outside of the notebook"
   ]
  },
  {
   "cell_type": "code",
   "execution_count": 3,
   "metadata": {
    "slideshow": {
     "slide_type": "skip"
    }
   },
   "outputs": [
    {
     "name": "stderr",
     "output_type": "stream",
     "text": [
      "[NbConvertApp] Converting notebook 6_systems.ipynb to html\n",
      "[NbConvertApp] Writing 592709 bytes to 6_systems.html\n",
      "[NbConvertApp] Converting notebook 6_systems.ipynb to pdf\n",
      "[NbConvertApp] Writing 37869 bytes to notebook.tex\n",
      "[NbConvertApp] Building PDF\n",
      "[NbConvertApp] Running xelatex 3 times: ['xelatex', 'notebook.tex', '-quiet']\n",
      "[NbConvertApp] Running bibtex 1 time: ['bibtex', 'notebook']\n",
      "[NbConvertApp] WARNING | bibtex had problems, most likely because there were no citations\n",
      "[NbConvertApp] PDF successfully created\n",
      "[NbConvertApp] Writing 72335 bytes to 6_systems.pdf\n",
      "[NbConvertApp] Converting notebook 6_systems.ipynb to script\n",
      "[NbConvertApp] Writing 14573 bytes to 6_systems.py\n"
     ]
    }
   ],
   "source": [
    "%%bash\n",
    "NBROOTNAME='6_systems'\n",
    "OUTPUTTING=1\n",
    "\n",
    "if [ $OUTPUTTING -eq 1 ]; then\n",
    "  jupyter nbconvert --to html $NBROOTNAME.ipynb\n",
    "  cp $NBROOTNAME.html ../backups/$(date +\"%m_%d_%Y-%H%M%S\")_$NBROOTNAME.html\n",
    "  mv -f $NBROOTNAME.html ./formats/html/\n",
    "\n",
    "  jupyter nbconvert --to pdf $NBROOTNAME.ipynb\n",
    "  cp $NBROOTNAME.pdf ../backups/$(date +\"%m_%d_%Y-%H%M%S\")_$NBROOTNAME.pdf\n",
    "  mv -f $NBROOTNAME.pdf ./formats/pdf/\n",
    "\n",
    "  jupyter nbconvert --to script $NBROOTNAME.ipynb\n",
    "  cp $NBROOTNAME.py ../backups/$(date +\"%m_%d_%Y-%H%M%S\")_$NBROOTNAME.py\n",
    "  mv -f $NBROOTNAME.py ./formats/py/\n",
    "else\n",
    "  echo 'Not Generating html, pdf and py output versions'\n",
    "fi"
   ]
  }
 ],
 "metadata": {
  "celltoolbar": "Slideshow",
  "kernelspec": {
   "display_name": "Python 3",
   "language": "python",
   "name": "python3"
  },
  "language_info": {
   "codemirror_mode": {
    "name": "ipython",
    "version": 3
   },
   "file_extension": ".py",
   "mimetype": "text/x-python",
   "name": "python",
   "nbconvert_exporter": "python",
   "pygments_lexer": "ipython3",
   "version": "3.7.1"
  }
 },
 "nbformat": 4,
 "nbformat_minor": 4
}
