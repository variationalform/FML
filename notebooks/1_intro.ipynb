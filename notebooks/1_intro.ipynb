{
 "cells": [
  {
   "cell_type": "markdown",
   "metadata": {},
   "source": [
    "# MA5634: Fundamentals of Machine Learning\n",
    "\n",
    "#### *variationalform* <https://variationalform.github.io/>\n",
    "\n",
    "#### *Just Enough: progress at pace*\n",
    "\n",
    "<https://variationalform.github.io/>\n",
    "\n",
    "<https://github.com/variationalform>\n",
    "\n",
    "Simon Shaw\n",
    "<https://www.brunel.ac.uk/people/simon-shaw>.\n"
   ]
  },
  {
   "cell_type": "markdown",
   "metadata": {},
   "source": [
    "<table>\n",
    "<tr>\n",
    "<td>\n",
    "<img src=\"https://mirrors.creativecommons.org/presskit/icons/cc.svg?ref=chooser-v1\" style=\"height:18px\"/>\n",
    "<img src=\"https://mirrors.creativecommons.org/presskit/icons/by.svg?ref=chooser-v1\" style=\"height:18px\"/>\n",
    "<img src=\"https://mirrors.creativecommons.org/presskit/icons/sa.svg?ref=chooser-v1\" style=\"height:18px\"/>\n",
    "</td>\n",
    "<td>\n",
    "\n",
    "<p>\n",
    "This work is licensed under CC BY-SA 4.0 (Attribution-ShareAlike 4.0 International)\n",
    "\n",
    "<p>\n",
    "Visit <a href=\"http://creativecommons.org/licenses/by-sa/4.0/\">http://creativecommons.org/licenses/by-sa/4.0/</a> to see the terms.\n",
    "</td>\n",
    "</tr>\n",
    "</table>"
   ]
  },
  {
   "cell_type": "markdown",
   "metadata": {},
   "source": [
    "<table>\n",
    "<tr>\n",
    "<td>This document uses</td>\n",
    "<td>\n",
    "<img src=\"https://www.python.org/static/community_logos/python-logo-master-v3-TM.png\" style=\"height:30px\"/>\n",
    "</td>\n",
    "<td>and also makes use of LaTeX </td>\n",
    "<td>\n",
    "<img src=\"https://upload.wikimedia.org/wikipedia/commons/thumb/9/92/LaTeX_logo.svg/320px-LaTeX_logo.svg.png\" style=\"height:30px\"/>\n",
    "</td>\n",
    "<td>in Markdown</td> \n",
    "<td>\n",
    "<img src=\"https://github.com/adam-p/markdown-here/raw/master/src/common/images/icon48.png\" style=\"height:30px\"/>\n",
    "</td>\n",
    "</tr>\n",
    "</table>"
   ]
  },
  {
   "cell_type": "markdown",
   "metadata": {},
   "source": [
    "## What this is about:\n",
    "\n",
    "You will be introduced to ...\n",
    "\n",
    "- fundamental techniques used in data science, like:\n",
    "    - $k$-NN: $k$-Nearest Neighbours;\n",
    "    - data reduction with SVD and PCA;\n",
    "    - linear and polynomial regression;\n",
    "    - perceptrons and support vector machines;\n",
    "    - neural networks and deep learning.\n",
    "- essential mathematical concepts: *just enough: progress at pace*\n",
    "    - you are **not expected to be a mathematician** ...\n",
    "    - ... but you will be expected to either recall or learn basic facts and techniques in \n",
    "        - vectors, matrices, and differential calculus\n",
    "- essential `python` programming: *just enough: progress at pace*\n",
    "    - you are **not expected to be a computer scientist** ...\n",
    "    - ... but `python` will be introduced and used as a tool\n",
    "        - only the necessary `python` syntax, tools and techniques will be taught\n",
    "        - our emphasis will be on *doing* rather than *proving*"
   ]
  },
  {
   "cell_type": "markdown",
   "metadata": {},
   "source": [
    "## Assessment\n",
    "\n",
    "- 40% coursework (details to follow in a few weeks)\n",
    "- 60% examination (revision and reflection time will be allocated)"
   ]
  },
  {
   "cell_type": "markdown",
   "metadata": {},
   "source": [
    "## Study Guide\n",
    "\n",
    "The Quality Assurance Agency for Higher Education\n",
    "(QAA, <https://www.qaa.ac.uk>) defines one academic\n",
    "credit as nominally equal to 10 hours of\n",
    "study (see <https://www.qaa.ac.uk/docs/qaa/quality-code/higher-education-credit-framework-for-england.pdf>).\n",
    "\n",
    "Therefore, this 15 credit block requires nominally 150 hours of your time.\n",
    "Although every one of us is different and may choose to spend our time in different ways,\n",
    "the following sketch of these 150 hours is fairly accurate.\n",
    "\n",
    "There will be $33$ hours spent on two lectures plus one seminar/lab in each of\n",
    "eleven weeks. There will be a two hour exam, to which you could assign $25$ hours of\n",
    "preparation/revision time. This accounts for $33+2+25 = 60$ hours. \n",
    "\n",
    "In addition there is assignment which you could allocate $20$ hours too, making up\n",
    "to $80$ hours. This leaves $70$ of the $150$ hours over. In each of $10$ \n",
    "weeks of term there will be a requirement to engage in set tasks and problems, and\n",
    "to read sections of set books and sources in order to strengthen your understanding\n",
    "of imparted material as well as to prepare you for the next topics. These $70$ \n",
    "hours average out to $7$ hours per week over those $10$ weeks.\n",
    "\n",
    "Note that as a full-time equivalent student you study a $4\\times 15 = 60$ credit week.\n",
    "Using the figures above you can think of this as $4\\times 3 = 12$ contact hours plus\n",
    "$4 \\times 7 = 28$ private study hours per week. This is a $40$ hour week. \n",
    "\n",
    "Note that engaging at this level does not guarantee any outcome, whether that be a \n",
    "bare pass or an A grade. It is a guideline only. If despite engaging at this level\n",
    "you are struggling to progress and achieve in the module then seek help and advice.\n",
    "\n",
    "Further, these '$40$ hours' have to be high quality inquisitive engagement. \n",
    "Writing and re-writing notes, procrastinating, and looking at but not \n",
    "engaging with learning materials don't really count. You'll know when you're \n",
    "actually **working** - you'll feel it. Have a read of this\n",
    "<https://en.wikipedia.org/wiki/Flow_(psychology)> and make learning a daily rewarding habit.\n"
   ]
  },
  {
   "cell_type": "markdown",
   "metadata": {},
   "source": [
    "## Key Concepts: Glossary of Relevant Terms\n",
    "\n",
    "The first few of these are debateable, evolving and subject to debate. It's worth searching and reading for yourself.\n",
    "These are a fast growing areas.\n",
    "\n",
    "\n",
    "#### Data Science\n",
    "\n",
    "A blend of mathematics, computer science and statistics brought to bear with some form of domain expertise.\n",
    "\n",
    "#### Data Analytics\n",
    "\n",
    "Systematic computational analysis of data, used typically to discover value and insights.\n",
    "\n",
    "#### Data Engineering\n",
    "\n",
    "The stewardship, cleaning, warehousing and preparation of data to support its pipelining to its\n",
    "exploitation.\n",
    "\n",
    "#### Artificial Intelligence\n",
    "\n",
    "The development and deployment of digital systems that can effectively substitute for humans in \n",
    "tasks beyond the routine application of fixed rules. When you talk to your home assistant, your\n",
    "phone, or your satellite TV receiver, or your car, or your laptop, and so on, it has no idea\n",
    "what you are going to say. It doesn't have a bank of pre-answered questions, but instead it\n",
    "responds dynamically to what it hears. It has been trained on data, and it has learned how to\n",
    "respond. Incidentally, how do you think these systems even undertsand what you said? As a child,\n",
    "it took you years to fully understand human speech...\n",
    "\n",
    "#### Machine Learning\n",
    "\n",
    "The development and deployment of algorithms that are able to learn from data without explicit instructions,\n",
    "and then analyze, predict, or otherwise draw inferences, from unseen data. These algorithms would typically\n",
    "be expected to add measurable value in their performance.\n",
    "\n",
    "> *Consider for example an algorithm that predicted __tails__ for every coin flip. It's\n",
    "> right half the time* - but there's no value in that. \n",
    "\n",
    "#### Learning\n",
    "\n",
    "Machine learning models do not have intrinsic knowledge but instead learn from data.\n",
    "Typically a data set comprises a list of items each of which has one or more \n",
    "*features* which correspond to a *label*. We'll see some examples of this below.\n",
    "\n",
    "We think of the features as being inputs to the machine learning model, and the label\n",
    "as being the output. Typically we want to be able to feed in new features, and have\n",
    "the model predict the label.\n",
    "\n",
    "To do this we need a **training data set** so that the model can learn how to map the\n",
    "features to the label: the *input to the output*.\n",
    "\n",
    "There are three basic learning paradigms:\n",
    "\n",
    "- **Supervised Learning**:\n",
    "Here the data is labelled. This means that for a given set of , or inputs, we also know\n",
    "their labels, or outputs. Examples of this are where...\n",
    "  - We could have a list of features of insured drivers, such as age, time since they passed\n",
    "  their driving test, type of car, locality, and slong with those features a monetary \n",
    "  value on their accident claim. The task would be to learn how much of an insurance premium\n",
    "  to charge to a new customer once those features have been determined.\n",
    "  - We might have a bank of images handwritten digits, and for each image we know what \n",
    "  digit has been written. The MNIST database of handwritten digits, see\n",
    "  <http://yann.lecun.com/exdb/mnist/> or <https://en.wikipedia.org/wiki/MNIST_database>\n",
    "  for example, is a well known example of this. The task is to learn how to predict \n",
    "  what digit is captured by a new image. This could be used in ANPR systems for example,\n",
    "  <https://en.wikipedia.org/wiki/Automatic_number-plate_recognition>.\n",
    "  \n",
    "\n",
    "- **Unsupervised Learning**:\n",
    "This is where we only know the features and we want to cluster the data in such a way \n",
    "that a set of similar features can be assiociated with some common characteristic (the label).\n",
    "  - This can be used on data where the anlayst doesn't initialluy know what they are looking\n",
    "  for. For example, a retailer might have a mass of data of customer age, locale, average spend,\n",
    "  types of purchased item, time of day of purchase, day of week of purchase, time of year etc.\n",
    "  What characteristics can be used to group these customers? How can advertising be targetted? \n",
    "  - principal component analysis seeks to re-orient data so that its dominant statistical\n",
    "  properties are recealed. We'll see this later.\n",
    "\n",
    "\n",
    "- **Reinforcement Learning**:\n",
    "This seeks to strike a balance between the two above. There are no labels, but instead, as time\n",
    "progresses the learning algorithm has a *reward* variable which is increased when an action ity\n",
    "has learned has resuilted in a measurable benefit. Over time the algorithm develops a policy to\n",
    "inform its actions.\n",
    "\n",
    "This last is a major topic and will not be covered in these lectures. We will see examples of\n",
    "the first two.\n",
    "\n",
    "\n",
    "#### Regression and Classification\n",
    "\n",
    "Our algorithms will be developed to perform one of the following tasks:\n",
    "\n",
    "- **Regression:** here the output, the label, can take any value in a continuous set. For example,\n",
    "  the height of a tree, given local climate, soil type, genus, age since planting, could be \n",
    "  considered to be any non-negative real number (although not with equal probability). \n",
    "\n",
    "- **Classification:** in this case the label will be deemed to be one of a certain class. For \n",
    "  example, in the handwritten digits example above, the output will be one of the digits\n",
    "  $\\{0,1,2,3,\\ldots,9\\}$.\n",
    "\n",
    "Some of the algorithms we study will be able to perform both the regression and clustering tasks.\n",
    "\n"
   ]
  },
  {
   "cell_type": "markdown",
   "metadata": {},
   "source": [
    "## Reading List\n",
    "\n",
    "For the data science, our main sources of information are as follows:\n",
    "    \n",
    "- MML: Mathematics for Machine Learning, by Marc Peter Deisenroth, A. Aldo Faisal, and Cheng Soon Ong.\n",
    "  Cambridge University Press. <https://mml-book.github.io>.\n",
    "- MLFCES: Machine Learning: A First Course for Engineers and Scientists, by Andreas Lindholm,\n",
    "  Niklas Wahlström, Fredrik Lindsten, Thomas B. Schön. Cambridge University Press. \n",
    "  <http://smlbook.org>.\n",
    "- FCLA: A First Course in Linear Algebra, by Ken Kuttler, \n",
    "  <https://math.libretexts.org/Bookshelves/Linear_Algebra/A_First_Course_in_Linear_Algebra_(Kuttler)>\n",
    "- AP: Applied Probability, by Paul Pfeiffer\n",
    "  <https://stats.libretexts.org/Bookshelves/Probability_Theory/Applied_Probability_(Pfeiffer)>\n",
    "- IPDS: Introduction to Probability for Data Science, by Stanley H. Chan,\n",
    "  <https://probability4datascience.com>\n",
    "- SVMS: Support Vector Machines Succinctly, by Alexandre Kowalczyk,\n",
    "  <https://www.syncfusion.com/succinctly-free-ebooks/support-vector-machines-succinctly>\n",
    "- VMLS: Introduction to Applied Linear Algebra - Vectors, Matrices, and Least Squares,\n",
    "  by Stephen Boyd and Lieven Vandenberghe,\n",
    "  <https://web.stanford.edu/~boyd/vmls/>\n",
    " \n",
    "\n",
    "All of the above can be accessed legally and without cost.\n",
    "\n",
    "There are also these useful references for coding:\n",
    "\n",
    "- PT: `python`: <https://docs.python.org/3/tutorial>\n",
    "- NP: `numpy`: <https://numpy.org/doc/stable/user/quickstart.html>\n",
    "- MPL: `matplotlib`: <https://matplotlib.org>\n",
    "\n",
    "The capitalized abbreviations will be used throughout to refer to these sources. For example, we could\n",
    "say *See [MLFCES, Chap 2, Sec. 1] for more discussion of __Supervised Learning__*. This would\n",
    "just be a quick way of saying\n",
    "\n",
    "> Look in Section 1, of Chapter 2, of Machine Learning: A First Course for Engineers and\n",
    "> Scientists, by Andreas Lindholm, Niklas Wahlström, Fredrik Lindsten, Thomas B. Schön,\n",
    "> for more discussion of supervised learning. \n",
    "\n",
    "There will be other sources shared as we go along. For now these will get us a long way."
   ]
  },
  {
   "cell_type": "markdown",
   "metadata": {},
   "source": [
    "## Coding: `python` and some data sets\n",
    "\n",
    "For each of our main topics we will see some example data, discuss a means of working with it,\n",
    "and then implement those means in code. We will develop enough theory so as to understand how\n",
    "the codes work, but our main focus will be the intution behind the method, and the effective\n",
    "problem solving using code.\n",
    "\n",
    "We choose `python` because it's use in both the commercial and academic data science\n",
    "arena seems to be pre-eminent.\n",
    "\n",
    "The data science techniques and algorithms we will study, and the supporting technology\n",
    "like graphics and number crunching, are implemented in well-known and well-documented\n",
    "`python` libraries. These are the main ones we will use:\n",
    "\n",
    "- `matplotlib`: used to create visualizations, plotting 2D graphs in particular.\n",
    "- `numpy`: this is *numerical python*, it is used for array processing which for us \n",
    "   will usually mean the numerical calculaitons involving vectors and matrices.\n",
    "- `scikit-learn`: a set of well documented and easy to use tools for predictive data analysis.\n",
    "- `pandas`: a data analysis tool, used for the storing and manipulation of data.\n",
    "- `seaborn`: a data visualization library for attractive and informative statistical graphics. \n",
    "\n",
    "There will be others. But these are the main ones. Let's look at some examples of how to use these\n"
   ]
  },
  {
   "cell_type": "markdown",
   "metadata": {},
   "source": [
    "## Anaconda and Jupyter - a first look at some data\n",
    "\n",
    "We will use the anaconda distribution to access `python` and the libraries we need. The\n",
    "coding itsdelf will be carried out in a Jupyter notebook. We'll go through this in the\n",
    "first lab session.\n",
    "\n",
    "Let's see some code and some data. In the following cell we import `seaborn` and look at\n",
    "the names of the built in data sets. The `seaborn` library, <https://seaborn.pydata.org>,\n",
    "is designed for data visualization. It uses `matplotlib`, <https://matplotlib.org>,\n",
    "which is a graphics library for `python`.\n",
    "\n",
    "If you want to dig deeper, you can look at\n",
    "<https://blog.enterprisedna.co/how-to-load-sample-datasets-in-python/>\n",
    "and <https://github.com/mwaskom/seaborn-data> for the background - but you don't need to."
   ]
  },
  {
   "cell_type": "code",
   "execution_count": 1,
   "metadata": {},
   "outputs": [
    {
     "data": {
      "text/plain": [
       "['anagrams',\n",
       " 'anscombe',\n",
       " 'attention',\n",
       " 'brain_networks',\n",
       " 'car_crashes',\n",
       " 'diamonds',\n",
       " 'dots',\n",
       " 'dowjones',\n",
       " 'exercise',\n",
       " 'flights',\n",
       " 'fmri',\n",
       " 'geyser',\n",
       " 'glue',\n",
       " 'healthexp',\n",
       " 'iris',\n",
       " 'mpg',\n",
       " 'penguins',\n",
       " 'planets',\n",
       " 'seaice',\n",
       " 'taxis',\n",
       " 'tips',\n",
       " 'titanic']"
      ]
     },
     "execution_count": 1,
     "metadata": {},
     "output_type": "execute_result"
    }
   ],
   "source": [
    "import seaborn as sns\n",
    "# we can now refer to the seaborn library functions using 'sns'\n",
    "# note that you can use another character string - but 'sns' is standard.\n",
    "\n",
    "# note that # is used to write 'comments'\n",
    "# Now let's get the names of the built-in data sets.\n",
    "sns.get_dataset_names()\n",
    "\n",
    "# type SHIFT=RETURN to execute the highlighted (active) cell"
   ]
  },
  {
   "cell_type": "markdown",
   "metadata": {},
   "source": [
    "### The `taxis` data set"
   ]
  },
  {
   "cell_type": "code",
   "execution_count": 2,
   "metadata": {},
   "outputs": [
    {
     "data": {
      "text/html": [
       "<div>\n",
       "<style scoped>\n",
       "    .dataframe tbody tr th:only-of-type {\n",
       "        vertical-align: middle;\n",
       "    }\n",
       "\n",
       "    .dataframe tbody tr th {\n",
       "        vertical-align: top;\n",
       "    }\n",
       "\n",
       "    .dataframe thead th {\n",
       "        text-align: right;\n",
       "    }\n",
       "</style>\n",
       "<table border=\"1\" class=\"dataframe\">\n",
       "  <thead>\n",
       "    <tr style=\"text-align: right;\">\n",
       "      <th></th>\n",
       "      <th>pickup</th>\n",
       "      <th>dropoff</th>\n",
       "      <th>passengers</th>\n",
       "      <th>distance</th>\n",
       "      <th>fare</th>\n",
       "      <th>tip</th>\n",
       "      <th>tolls</th>\n",
       "      <th>total</th>\n",
       "      <th>color</th>\n",
       "      <th>payment</th>\n",
       "      <th>pickup_zone</th>\n",
       "      <th>dropoff_zone</th>\n",
       "      <th>pickup_borough</th>\n",
       "      <th>dropoff_borough</th>\n",
       "    </tr>\n",
       "  </thead>\n",
       "  <tbody>\n",
       "    <tr>\n",
       "      <th>0</th>\n",
       "      <td>2019-03-23 20:21:09</td>\n",
       "      <td>2019-03-23 20:27:24</td>\n",
       "      <td>1</td>\n",
       "      <td>1.60</td>\n",
       "      <td>7.0</td>\n",
       "      <td>2.15</td>\n",
       "      <td>0.0</td>\n",
       "      <td>12.95</td>\n",
       "      <td>yellow</td>\n",
       "      <td>credit card</td>\n",
       "      <td>Lenox Hill West</td>\n",
       "      <td>UN/Turtle Bay South</td>\n",
       "      <td>Manhattan</td>\n",
       "      <td>Manhattan</td>\n",
       "    </tr>\n",
       "    <tr>\n",
       "      <th>1</th>\n",
       "      <td>2019-03-04 16:11:55</td>\n",
       "      <td>2019-03-04 16:19:00</td>\n",
       "      <td>1</td>\n",
       "      <td>0.79</td>\n",
       "      <td>5.0</td>\n",
       "      <td>0.00</td>\n",
       "      <td>0.0</td>\n",
       "      <td>9.30</td>\n",
       "      <td>yellow</td>\n",
       "      <td>cash</td>\n",
       "      <td>Upper West Side South</td>\n",
       "      <td>Upper West Side South</td>\n",
       "      <td>Manhattan</td>\n",
       "      <td>Manhattan</td>\n",
       "    </tr>\n",
       "    <tr>\n",
       "      <th>2</th>\n",
       "      <td>2019-03-27 17:53:01</td>\n",
       "      <td>2019-03-27 18:00:25</td>\n",
       "      <td>1</td>\n",
       "      <td>1.37</td>\n",
       "      <td>7.5</td>\n",
       "      <td>2.36</td>\n",
       "      <td>0.0</td>\n",
       "      <td>14.16</td>\n",
       "      <td>yellow</td>\n",
       "      <td>credit card</td>\n",
       "      <td>Alphabet City</td>\n",
       "      <td>West Village</td>\n",
       "      <td>Manhattan</td>\n",
       "      <td>Manhattan</td>\n",
       "    </tr>\n",
       "    <tr>\n",
       "      <th>3</th>\n",
       "      <td>2019-03-10 01:23:59</td>\n",
       "      <td>2019-03-10 01:49:51</td>\n",
       "      <td>1</td>\n",
       "      <td>7.70</td>\n",
       "      <td>27.0</td>\n",
       "      <td>6.15</td>\n",
       "      <td>0.0</td>\n",
       "      <td>36.95</td>\n",
       "      <td>yellow</td>\n",
       "      <td>credit card</td>\n",
       "      <td>Hudson Sq</td>\n",
       "      <td>Yorkville West</td>\n",
       "      <td>Manhattan</td>\n",
       "      <td>Manhattan</td>\n",
       "    </tr>\n",
       "    <tr>\n",
       "      <th>4</th>\n",
       "      <td>2019-03-30 13:27:42</td>\n",
       "      <td>2019-03-30 13:37:14</td>\n",
       "      <td>3</td>\n",
       "      <td>2.16</td>\n",
       "      <td>9.0</td>\n",
       "      <td>1.10</td>\n",
       "      <td>0.0</td>\n",
       "      <td>13.40</td>\n",
       "      <td>yellow</td>\n",
       "      <td>credit card</td>\n",
       "      <td>Midtown East</td>\n",
       "      <td>Yorkville West</td>\n",
       "      <td>Manhattan</td>\n",
       "      <td>Manhattan</td>\n",
       "    </tr>\n",
       "  </tbody>\n",
       "</table>\n",
       "</div>"
      ],
      "text/plain": [
       "                pickup              dropoff  passengers  distance  fare   tip  \\\n",
       "0  2019-03-23 20:21:09  2019-03-23 20:27:24           1      1.60   7.0  2.15   \n",
       "1  2019-03-04 16:11:55  2019-03-04 16:19:00           1      0.79   5.0  0.00   \n",
       "2  2019-03-27 17:53:01  2019-03-27 18:00:25           1      1.37   7.5  2.36   \n",
       "3  2019-03-10 01:23:59  2019-03-10 01:49:51           1      7.70  27.0  6.15   \n",
       "4  2019-03-30 13:27:42  2019-03-30 13:37:14           3      2.16   9.0  1.10   \n",
       "\n",
       "   tolls  total   color      payment            pickup_zone  \\\n",
       "0    0.0  12.95  yellow  credit card        Lenox Hill West   \n",
       "1    0.0   9.30  yellow         cash  Upper West Side South   \n",
       "2    0.0  14.16  yellow  credit card          Alphabet City   \n",
       "3    0.0  36.95  yellow  credit card              Hudson Sq   \n",
       "4    0.0  13.40  yellow  credit card           Midtown East   \n",
       "\n",
       "            dropoff_zone pickup_borough dropoff_borough  \n",
       "0    UN/Turtle Bay South      Manhattan       Manhattan  \n",
       "1  Upper West Side South      Manhattan       Manhattan  \n",
       "2           West Village      Manhattan       Manhattan  \n",
       "3         Yorkville West      Manhattan       Manhattan  \n",
       "4         Yorkville West      Manhattan       Manhattan  "
      ]
     },
     "execution_count": 2,
     "metadata": {},
     "output_type": "execute_result"
    }
   ],
   "source": [
    "# let's take a look at 'taxis'\n",
    "dft = sns.load_dataset('taxis')\n",
    "# this just plots the first few lines of the data\n",
    "dft.head()"
   ]
  },
  {
   "cell_type": "code",
   "execution_count": 3,
   "metadata": {},
   "outputs": [
    {
     "data": {
      "text/html": [
       "<div>\n",
       "<style scoped>\n",
       "    .dataframe tbody tr th:only-of-type {\n",
       "        vertical-align: middle;\n",
       "    }\n",
       "\n",
       "    .dataframe tbody tr th {\n",
       "        vertical-align: top;\n",
       "    }\n",
       "\n",
       "    .dataframe thead th {\n",
       "        text-align: right;\n",
       "    }\n",
       "</style>\n",
       "<table border=\"1\" class=\"dataframe\">\n",
       "  <thead>\n",
       "    <tr style=\"text-align: right;\">\n",
       "      <th></th>\n",
       "      <th>pickup</th>\n",
       "      <th>dropoff</th>\n",
       "      <th>passengers</th>\n",
       "      <th>distance</th>\n",
       "      <th>fare</th>\n",
       "      <th>tip</th>\n",
       "      <th>tolls</th>\n",
       "      <th>total</th>\n",
       "      <th>color</th>\n",
       "      <th>payment</th>\n",
       "      <th>pickup_zone</th>\n",
       "      <th>dropoff_zone</th>\n",
       "      <th>pickup_borough</th>\n",
       "      <th>dropoff_borough</th>\n",
       "    </tr>\n",
       "  </thead>\n",
       "  <tbody>\n",
       "    <tr>\n",
       "      <th>6428</th>\n",
       "      <td>2019-03-31 09:51:53</td>\n",
       "      <td>2019-03-31 09:55:27</td>\n",
       "      <td>1</td>\n",
       "      <td>0.75</td>\n",
       "      <td>4.5</td>\n",
       "      <td>1.06</td>\n",
       "      <td>0.0</td>\n",
       "      <td>6.36</td>\n",
       "      <td>green</td>\n",
       "      <td>credit card</td>\n",
       "      <td>East Harlem North</td>\n",
       "      <td>Central Harlem North</td>\n",
       "      <td>Manhattan</td>\n",
       "      <td>Manhattan</td>\n",
       "    </tr>\n",
       "    <tr>\n",
       "      <th>6429</th>\n",
       "      <td>2019-03-31 17:38:00</td>\n",
       "      <td>2019-03-31 18:34:23</td>\n",
       "      <td>1</td>\n",
       "      <td>18.74</td>\n",
       "      <td>58.0</td>\n",
       "      <td>0.00</td>\n",
       "      <td>0.0</td>\n",
       "      <td>58.80</td>\n",
       "      <td>green</td>\n",
       "      <td>credit card</td>\n",
       "      <td>Jamaica</td>\n",
       "      <td>East Concourse/Concourse Village</td>\n",
       "      <td>Queens</td>\n",
       "      <td>Bronx</td>\n",
       "    </tr>\n",
       "    <tr>\n",
       "      <th>6430</th>\n",
       "      <td>2019-03-23 22:55:18</td>\n",
       "      <td>2019-03-23 23:14:25</td>\n",
       "      <td>1</td>\n",
       "      <td>4.14</td>\n",
       "      <td>16.0</td>\n",
       "      <td>0.00</td>\n",
       "      <td>0.0</td>\n",
       "      <td>17.30</td>\n",
       "      <td>green</td>\n",
       "      <td>cash</td>\n",
       "      <td>Crown Heights North</td>\n",
       "      <td>Bushwick North</td>\n",
       "      <td>Brooklyn</td>\n",
       "      <td>Brooklyn</td>\n",
       "    </tr>\n",
       "    <tr>\n",
       "      <th>6431</th>\n",
       "      <td>2019-03-04 10:09:25</td>\n",
       "      <td>2019-03-04 10:14:29</td>\n",
       "      <td>1</td>\n",
       "      <td>1.12</td>\n",
       "      <td>6.0</td>\n",
       "      <td>0.00</td>\n",
       "      <td>0.0</td>\n",
       "      <td>6.80</td>\n",
       "      <td>green</td>\n",
       "      <td>credit card</td>\n",
       "      <td>East New York</td>\n",
       "      <td>East Flatbush/Remsen Village</td>\n",
       "      <td>Brooklyn</td>\n",
       "      <td>Brooklyn</td>\n",
       "    </tr>\n",
       "    <tr>\n",
       "      <th>6432</th>\n",
       "      <td>2019-03-13 19:31:22</td>\n",
       "      <td>2019-03-13 19:48:02</td>\n",
       "      <td>1</td>\n",
       "      <td>3.85</td>\n",
       "      <td>15.0</td>\n",
       "      <td>3.36</td>\n",
       "      <td>0.0</td>\n",
       "      <td>20.16</td>\n",
       "      <td>green</td>\n",
       "      <td>credit card</td>\n",
       "      <td>Boerum Hill</td>\n",
       "      <td>Windsor Terrace</td>\n",
       "      <td>Brooklyn</td>\n",
       "      <td>Brooklyn</td>\n",
       "    </tr>\n",
       "  </tbody>\n",
       "</table>\n",
       "</div>"
      ],
      "text/plain": [
       "                   pickup              dropoff  passengers  distance  fare  \\\n",
       "6428  2019-03-31 09:51:53  2019-03-31 09:55:27           1      0.75   4.5   \n",
       "6429  2019-03-31 17:38:00  2019-03-31 18:34:23           1     18.74  58.0   \n",
       "6430  2019-03-23 22:55:18  2019-03-23 23:14:25           1      4.14  16.0   \n",
       "6431  2019-03-04 10:09:25  2019-03-04 10:14:29           1      1.12   6.0   \n",
       "6432  2019-03-13 19:31:22  2019-03-13 19:48:02           1      3.85  15.0   \n",
       "\n",
       "       tip  tolls  total  color      payment          pickup_zone  \\\n",
       "6428  1.06    0.0   6.36  green  credit card    East Harlem North   \n",
       "6429  0.00    0.0  58.80  green  credit card              Jamaica   \n",
       "6430  0.00    0.0  17.30  green         cash  Crown Heights North   \n",
       "6431  0.00    0.0   6.80  green  credit card        East New York   \n",
       "6432  3.36    0.0  20.16  green  credit card          Boerum Hill   \n",
       "\n",
       "                          dropoff_zone pickup_borough dropoff_borough  \n",
       "6428              Central Harlem North      Manhattan       Manhattan  \n",
       "6429  East Concourse/Concourse Village         Queens           Bronx  \n",
       "6430                    Bushwick North       Brooklyn        Brooklyn  \n",
       "6431      East Flatbush/Remsen Village       Brooklyn        Brooklyn  \n",
       "6432                   Windsor Terrace       Brooklyn        Brooklyn  "
      ]
     },
     "execution_count": 3,
     "metadata": {},
     "output_type": "execute_result"
    }
   ],
   "source": [
    "# this will plots the last few lines... There are 6432 records\n",
    "dft.tail()"
   ]
  },
  {
   "cell_type": "markdown",
   "metadata": {},
   "source": [
    "What we are seeing here is a **data frame**. It is furnished by the `pandas`\n",
    "library: <https://pandas.pydata.org> which is used by the `seaborn` library \n",
    "to store its example data sets.\n",
    "\n",
    "Each row of the data frame correspnds to a single **data point**, which we \n",
    "could also call an `observation` or `measurement` (depending on context).\n",
    "\n",
    "Each column (except the left-most) corresponds to a **feature** of the data \n",
    "point. The first column is just an index giving the row number. Note that this\n",
    "index starts at zero - so, for example, the third row will be labelled/indexed\n",
    "as $2$. Be careful of this - it can be confusing.\n",
    "\n",
    "In this, the variable dft is a pandas data frame: dft = data frame taxis"
   ]
  },
  {
   "cell_type": "code",
   "execution_count": 4,
   "metadata": {},
   "outputs": [
    {
     "name": "stdout",
     "output_type": "stream",
     "text": [
      "                   pickup              dropoff  passengers  distance  fare  \\\n",
      "0     2019-03-23 20:21:09  2019-03-23 20:27:24           1      1.60   7.0   \n",
      "1     2019-03-04 16:11:55  2019-03-04 16:19:00           1      0.79   5.0   \n",
      "2     2019-03-27 17:53:01  2019-03-27 18:00:25           1      1.37   7.5   \n",
      "3     2019-03-10 01:23:59  2019-03-10 01:49:51           1      7.70  27.0   \n",
      "4     2019-03-30 13:27:42  2019-03-30 13:37:14           3      2.16   9.0   \n",
      "...                   ...                  ...         ...       ...   ...   \n",
      "6428  2019-03-31 09:51:53  2019-03-31 09:55:27           1      0.75   4.5   \n",
      "6429  2019-03-31 17:38:00  2019-03-31 18:34:23           1     18.74  58.0   \n",
      "6430  2019-03-23 22:55:18  2019-03-23 23:14:25           1      4.14  16.0   \n",
      "6431  2019-03-04 10:09:25  2019-03-04 10:14:29           1      1.12   6.0   \n",
      "6432  2019-03-13 19:31:22  2019-03-13 19:48:02           1      3.85  15.0   \n",
      "\n",
      "       tip  tolls  total   color      payment            pickup_zone  \\\n",
      "0     2.15    0.0  12.95  yellow  credit card        Lenox Hill West   \n",
      "1     0.00    0.0   9.30  yellow         cash  Upper West Side South   \n",
      "2     2.36    0.0  14.16  yellow  credit card          Alphabet City   \n",
      "3     6.15    0.0  36.95  yellow  credit card              Hudson Sq   \n",
      "4     1.10    0.0  13.40  yellow  credit card           Midtown East   \n",
      "...    ...    ...    ...     ...          ...                    ...   \n",
      "6428  1.06    0.0   6.36   green  credit card      East Harlem North   \n",
      "6429  0.00    0.0  58.80   green  credit card                Jamaica   \n",
      "6430  0.00    0.0  17.30   green         cash    Crown Heights North   \n",
      "6431  0.00    0.0   6.80   green  credit card          East New York   \n",
      "6432  3.36    0.0  20.16   green  credit card            Boerum Hill   \n",
      "\n",
      "                          dropoff_zone pickup_borough dropoff_borough  \n",
      "0                  UN/Turtle Bay South      Manhattan       Manhattan  \n",
      "1                Upper West Side South      Manhattan       Manhattan  \n",
      "2                         West Village      Manhattan       Manhattan  \n",
      "3                       Yorkville West      Manhattan       Manhattan  \n",
      "4                       Yorkville West      Manhattan       Manhattan  \n",
      "...                                ...            ...             ...  \n",
      "6428              Central Harlem North      Manhattan       Manhattan  \n",
      "6429  East Concourse/Concourse Village         Queens           Bronx  \n",
      "6430                    Bushwick North       Brooklyn        Brooklyn  \n",
      "6431      East Flatbush/Remsen Village       Brooklyn        Brooklyn  \n",
      "6432                   Windsor Terrace       Brooklyn        Brooklyn  \n",
      "\n",
      "[6433 rows x 14 columns]\n"
     ]
    }
   ],
   "source": [
    "# in this, the variable dft is a pandas data frame: dft = data frame taxis\n",
    "print(dft)"
   ]
  },
  {
   "cell_type": "code",
   "execution_count": 5,
   "metadata": {},
   "outputs": [
    {
     "data": {
      "text/plain": [
       "<AxesSubplot:xlabel='distance', ylabel='fare'>"
      ]
     },
     "execution_count": 5,
     "metadata": {},
     "output_type": "execute_result"
    },
    {
     "data": {
      "image/png": "[encoded data removed]",
      "text/plain": [
       "<Figure size 432x288 with 1 Axes>"
      ]
     },
     "metadata": {
      "needs_background": "light"
     },
     "output_type": "display_data"
    }
   ],
   "source": [
    "# seaborn makes visualization easy - here is a scatter plot of the data.\n",
    "sns.scatterplot(data=dft, x=\"distance\", y=\"fare\")"
   ]
  },
  {
   "cell_type": "markdown",
   "metadata": {},
   "source": [
    "> **THINK ABOUT**: it looks like fare is roughly proportional to distance.\n",
    "> But what could cause the outliers? "
   ]
  },
  {
   "cell_type": "code",
   "execution_count": 6,
   "metadata": {},
   "outputs": [
    {
     "data": {
      "text/plain": [
       "<AxesSubplot:xlabel='pickup_borough', ylabel='tip'>"
      ]
     },
     "execution_count": 6,
     "metadata": {},
     "output_type": "execute_result"
    },
    {
     "data": {
      "image/png": "[encoded data removed]",
      "text/plain": [
       "<Figure size 432x288 with 1 Axes>"
      ]
     },
     "metadata": {
      "needs_background": "light"
     },
     "output_type": "display_data"
    }
   ],
   "source": [
    "# here's another example\n",
    "sns.scatterplot(data=dft, x=\"pickup_borough\", y=\"tip\")"
   ]
  },
  {
   "cell_type": "code",
   "execution_count": 7,
   "metadata": {},
   "outputs": [
    {
     "data": {
      "text/plain": [
       "<AxesSubplot:xlabel='fare', ylabel='tip'>"
      ]
     },
     "execution_count": 7,
     "metadata": {},
     "output_type": "execute_result"
    },
    {
     "data": {
      "image/png": "[encoded data removed]",
      "text/plain": [
       "<Figure size 432x288 with 1 Axes>"
      ]
     },
     "metadata": {
      "needs_background": "light"
     },
     "output_type": "display_data"
    }
   ],
   "source": [
    "# is the tip proportional to the fare?\n",
    "sns.scatterplot(data=dft, x=\"fare\", y=\"tip\")"
   ]
  },
  {
   "cell_type": "code",
   "execution_count": 8,
   "metadata": {},
   "outputs": [
    {
     "data": {
      "text/plain": [
       "<AxesSubplot:xlabel='distance', ylabel='tip'>"
      ]
     },
     "execution_count": 8,
     "metadata": {},
     "output_type": "execute_result"
    },
    {
     "data": {
      "image/png": "[encoded data removed]",
      "text/plain": [
       "<Figure size 432x288 with 1 Axes>"
      ]
     },
     "metadata": {
      "needs_background": "light"
     },
     "output_type": "display_data"
    }
   ],
   "source": [
    "sns.scatterplot(data=dft, x=\"distance\", y=\"tip\")"
   ]
  },
  {
   "cell_type": "markdown",
   "metadata": {},
   "source": [
    "### The `tips` data set\n",
    "\n",
    "Let's look now at the `tips` data set. Along the way we'll see a few more\n",
    "ways we can use the data frame object\n",
    "\n",
    "\n"
   ]
  },
  {
   "cell_type": "code",
   "execution_count": 9,
   "metadata": {},
   "outputs": [
    {
     "data": {
      "text/html": [
       "<div>\n",
       "<style scoped>\n",
       "    .dataframe tbody tr th:only-of-type {\n",
       "        vertical-align: middle;\n",
       "    }\n",
       "\n",
       "    .dataframe tbody tr th {\n",
       "        vertical-align: top;\n",
       "    }\n",
       "\n",
       "    .dataframe thead th {\n",
       "        text-align: right;\n",
       "    }\n",
       "</style>\n",
       "<table border=\"1\" class=\"dataframe\">\n",
       "  <thead>\n",
       "    <tr style=\"text-align: right;\">\n",
       "      <th></th>\n",
       "      <th>total_bill</th>\n",
       "      <th>tip</th>\n",
       "      <th>sex</th>\n",
       "      <th>smoker</th>\n",
       "      <th>day</th>\n",
       "      <th>time</th>\n",
       "      <th>size</th>\n",
       "    </tr>\n",
       "  </thead>\n",
       "  <tbody>\n",
       "    <tr>\n",
       "      <th>0</th>\n",
       "      <td>16.99</td>\n",
       "      <td>1.01</td>\n",
       "      <td>Female</td>\n",
       "      <td>No</td>\n",
       "      <td>Sun</td>\n",
       "      <td>Dinner</td>\n",
       "      <td>2</td>\n",
       "    </tr>\n",
       "    <tr>\n",
       "      <th>1</th>\n",
       "      <td>10.34</td>\n",
       "      <td>1.66</td>\n",
       "      <td>Male</td>\n",
       "      <td>No</td>\n",
       "      <td>Sun</td>\n",
       "      <td>Dinner</td>\n",
       "      <td>3</td>\n",
       "    </tr>\n",
       "    <tr>\n",
       "      <th>2</th>\n",
       "      <td>21.01</td>\n",
       "      <td>3.50</td>\n",
       "      <td>Male</td>\n",
       "      <td>No</td>\n",
       "      <td>Sun</td>\n",
       "      <td>Dinner</td>\n",
       "      <td>3</td>\n",
       "    </tr>\n",
       "    <tr>\n",
       "      <th>3</th>\n",
       "      <td>23.68</td>\n",
       "      <td>3.31</td>\n",
       "      <td>Male</td>\n",
       "      <td>No</td>\n",
       "      <td>Sun</td>\n",
       "      <td>Dinner</td>\n",
       "      <td>2</td>\n",
       "    </tr>\n",
       "    <tr>\n",
       "      <th>4</th>\n",
       "      <td>24.59</td>\n",
       "      <td>3.61</td>\n",
       "      <td>Female</td>\n",
       "      <td>No</td>\n",
       "      <td>Sun</td>\n",
       "      <td>Dinner</td>\n",
       "      <td>4</td>\n",
       "    </tr>\n",
       "  </tbody>\n",
       "</table>\n",
       "</div>"
      ],
      "text/plain": [
       "   total_bill   tip     sex smoker  day    time  size\n",
       "0       16.99  1.01  Female     No  Sun  Dinner     2\n",
       "1       10.34  1.66    Male     No  Sun  Dinner     3\n",
       "2       21.01  3.50    Male     No  Sun  Dinner     3\n",
       "3       23.68  3.31    Male     No  Sun  Dinner     2\n",
       "4       24.59  3.61  Female     No  Sun  Dinner     4"
      ]
     },
     "execution_count": 9,
     "metadata": {},
     "output_type": "execute_result"
    }
   ],
   "source": [
    "# load the data - dft: data frame tips\n",
    "# note that this overwrites the previous 'value/meaning' of dft\n",
    "dft = sns.load_dataset('tips')\n",
    "dft.head()"
   ]
  },
  {
   "cell_type": "markdown",
   "metadata": {},
   "source": [
    "An extensive list of data frame methods/functions can be found here: \n",
    "<https://pandas.pydata.org/pandas-docs/stable/reference/api/pandas.DataFrame.html#pandas.DataFrame>\n",
    "Let's look at some of them"
   ]
  },
  {
   "cell_type": "code",
   "execution_count": 10,
   "metadata": {},
   "outputs": [
    {
     "name": "stdout",
     "output_type": "stream",
     "text": [
      "<bound method DataFrame.info of      total_bill   tip     sex smoker   day    time  size\n",
      "0         16.99  1.01  Female     No   Sun  Dinner     2\n",
      "1         10.34  1.66    Male     No   Sun  Dinner     3\n",
      "2         21.01  3.50    Male     No   Sun  Dinner     3\n",
      "3         23.68  3.31    Male     No   Sun  Dinner     2\n",
      "4         24.59  3.61  Female     No   Sun  Dinner     4\n",
      "..          ...   ...     ...    ...   ...     ...   ...\n",
      "239       29.03  5.92    Male     No   Sat  Dinner     3\n",
      "240       27.18  2.00  Female    Yes   Sat  Dinner     2\n",
      "241       22.67  2.00    Male    Yes   Sat  Dinner     2\n",
      "242       17.82  1.75    Male     No   Sat  Dinner     2\n",
      "243       18.78  3.00  Female     No  Thur  Dinner     2\n",
      "\n",
      "[244 rows x 7 columns]>\n",
      "The shape of the data frame is:  (244, 7)\n",
      "The size of the data frame is:  1708\n",
      "Note that 244*7 = 1708\n"
     ]
    },
    {
     "data": {
      "text/plain": [
       "<bound method DataFrame.quantile of      total_bill   tip     sex smoker   day    time  size\n",
       "0         16.99  1.01  Female     No   Sun  Dinner     2\n",
       "1         10.34  1.66    Male     No   Sun  Dinner     3\n",
       "2         21.01  3.50    Male     No   Sun  Dinner     3\n",
       "3         23.68  3.31    Male     No   Sun  Dinner     2\n",
       "4         24.59  3.61  Female     No   Sun  Dinner     4\n",
       "..          ...   ...     ...    ...   ...     ...   ...\n",
       "239       29.03  5.92    Male     No   Sat  Dinner     3\n",
       "240       27.18  2.00  Female    Yes   Sat  Dinner     2\n",
       "241       22.67  2.00    Male    Yes   Sat  Dinner     2\n",
       "242       17.82  1.75    Male     No   Sat  Dinner     2\n",
       "243       18.78  3.00  Female     No  Thur  Dinner     2\n",
       "\n",
       "[244 rows x 7 columns]>"
      ]
     },
     "execution_count": 10,
     "metadata": {},
     "output_type": "execute_result"
    },
    {
     "data": {
      "image/png": "[encoded data removed]",
      "text/plain": [
       "<Figure size 432x288 with 1 Axes>"
      ]
     },
     "metadata": {
      "needs_background": "light"
     },
     "output_type": "display_data"
    }
   ],
   "source": [
    "print(dft.info)\n",
    "print('The shape of the data frame is: ', dft.shape)\n",
    "print('The size of the data frame is: ', dft.size)\n",
    "print('Note that 244*7 =', 244*7)\n",
    "dft.plot()\n",
    "dft.quantile\n"
   ]
  },
  {
   "cell_type": "code",
   "execution_count": 11,
   "metadata": {},
   "outputs": [
    {
     "data": {
      "text/html": [
       "<div>\n",
       "<style scoped>\n",
       "    .dataframe tbody tr th:only-of-type {\n",
       "        vertical-align: middle;\n",
       "    }\n",
       "\n",
       "    .dataframe tbody tr th {\n",
       "        vertical-align: top;\n",
       "    }\n",
       "\n",
       "    .dataframe thead th {\n",
       "        text-align: right;\n",
       "    }\n",
       "</style>\n",
       "<table border=\"1\" class=\"dataframe\">\n",
       "  <thead>\n",
       "    <tr style=\"text-align: right;\">\n",
       "      <th></th>\n",
       "      <th>total_bill</th>\n",
       "      <th>tip</th>\n",
       "      <th>size</th>\n",
       "    </tr>\n",
       "  </thead>\n",
       "  <tbody>\n",
       "    <tr>\n",
       "      <th>count</th>\n",
       "      <td>244.000000</td>\n",
       "      <td>244.000000</td>\n",
       "      <td>244.000000</td>\n",
       "    </tr>\n",
       "    <tr>\n",
       "      <th>mean</th>\n",
       "      <td>19.785943</td>\n",
       "      <td>2.998279</td>\n",
       "      <td>2.569672</td>\n",
       "    </tr>\n",
       "    <tr>\n",
       "      <th>std</th>\n",
       "      <td>8.902412</td>\n",
       "      <td>1.383638</td>\n",
       "      <td>0.951100</td>\n",
       "    </tr>\n",
       "    <tr>\n",
       "      <th>min</th>\n",
       "      <td>3.070000</td>\n",
       "      <td>1.000000</td>\n",
       "      <td>1.000000</td>\n",
       "    </tr>\n",
       "    <tr>\n",
       "      <th>25%</th>\n",
       "      <td>13.347500</td>\n",
       "      <td>2.000000</td>\n",
       "      <td>2.000000</td>\n",
       "    </tr>\n",
       "    <tr>\n",
       "      <th>50%</th>\n",
       "      <td>17.795000</td>\n",
       "      <td>2.900000</td>\n",
       "      <td>2.000000</td>\n",
       "    </tr>\n",
       "    <tr>\n",
       "      <th>75%</th>\n",
       "      <td>24.127500</td>\n",
       "      <td>3.562500</td>\n",
       "      <td>3.000000</td>\n",
       "    </tr>\n",
       "    <tr>\n",
       "      <th>max</th>\n",
       "      <td>50.810000</td>\n",
       "      <td>10.000000</td>\n",
       "      <td>6.000000</td>\n",
       "    </tr>\n",
       "  </tbody>\n",
       "</table>\n",
       "</div>"
      ],
      "text/plain": [
       "       total_bill         tip        size\n",
       "count  244.000000  244.000000  244.000000\n",
       "mean    19.785943    2.998279    2.569672\n",
       "std      8.902412    1.383638    0.951100\n",
       "min      3.070000    1.000000    1.000000\n",
       "25%     13.347500    2.000000    2.000000\n",
       "50%     17.795000    2.900000    2.000000\n",
       "75%     24.127500    3.562500    3.000000\n",
       "max     50.810000   10.000000    6.000000"
      ]
     },
     "execution_count": 11,
     "metadata": {},
     "output_type": "execute_result"
    }
   ],
   "source": [
    "# here are some descriptive statistics\n",
    "dft.describe()"
   ]
  },
  {
   "cell_type": "code",
   "execution_count": 12,
   "metadata": {},
   "outputs": [
    {
     "data": {
      "text/plain": [
       "<AxesSubplot:xlabel='total_bill', ylabel='tip'>"
      ]
     },
     "execution_count": 12,
     "metadata": {},
     "output_type": "execute_result"
    },
    {
     "data": {
      "image/png": "[encoded data removed]",
      "text/plain": [
       "<Figure size 432x288 with 1 Axes>"
      ]
     },
     "metadata": {
      "needs_background": "light"
     },
     "output_type": "display_data"
    }
   ],
   "source": [
    "sns.scatterplot(data=dft, x=\"total_bill\", y=\"tip\")"
   ]
  },
  {
   "cell_type": "markdown",
   "metadata": {},
   "source": [
    "### The `anscombe` data set\n",
    "\n",
    "This is pretty famous. There are four sets of 11 coordinate pairs.\n",
    "When plotted they look completely different. \n",
    "But they have the same summary statistics (at least the common ones).\n",
    "\n",
    "See <https://en.wikipedia.org/wiki/Anscombe%27s_quartet>\n",
    "\n",
    "<img src=\"https://upload.wikimedia.org/wikipedia/commons/7/7e/Julia-anscombe-plot-1.png\" style=\"height:300px\"/>\n",
    "\n",
    "Image Credit: `https://upload.wikimedia.org/wikipedia/commons/7/7e/Julia-anscombe-plot-1.png`"
   ]
  },
  {
   "cell_type": "code",
   "execution_count": 13,
   "metadata": {},
   "outputs": [
    {
     "name": "stdout",
     "output_type": "stream",
     "text": [
      "The size of Anscombe's data set is: (44, 3)\n"
     ]
    }
   ],
   "source": [
    "dfa = sns.load_dataset('anscombe')\n",
    "# look at how we get an apostrophe...\n",
    "print(\"The size of Anscombe's data set is:\", dfa.shape)"
   ]
  },
  {
   "cell_type": "markdown",
   "metadata": {},
   "source": [
    "Let's take a look at the data set - we can look at the head and tail of the table just as we did above."
   ]
  },
  {
   "cell_type": "code",
   "execution_count": 14,
   "metadata": {},
   "outputs": [
    {
     "data": {
      "text/html": [
       "<div>\n",
       "<style scoped>\n",
       "    .dataframe tbody tr th:only-of-type {\n",
       "        vertical-align: middle;\n",
       "    }\n",
       "\n",
       "    .dataframe tbody tr th {\n",
       "        vertical-align: top;\n",
       "    }\n",
       "\n",
       "    .dataframe thead th {\n",
       "        text-align: right;\n",
       "    }\n",
       "</style>\n",
       "<table border=\"1\" class=\"dataframe\">\n",
       "  <thead>\n",
       "    <tr style=\"text-align: right;\">\n",
       "      <th></th>\n",
       "      <th>dataset</th>\n",
       "      <th>x</th>\n",
       "      <th>y</th>\n",
       "    </tr>\n",
       "  </thead>\n",
       "  <tbody>\n",
       "    <tr>\n",
       "      <th>0</th>\n",
       "      <td>I</td>\n",
       "      <td>10.0</td>\n",
       "      <td>8.04</td>\n",
       "    </tr>\n",
       "    <tr>\n",
       "      <th>1</th>\n",
       "      <td>I</td>\n",
       "      <td>8.0</td>\n",
       "      <td>6.95</td>\n",
       "    </tr>\n",
       "    <tr>\n",
       "      <th>2</th>\n",
       "      <td>I</td>\n",
       "      <td>13.0</td>\n",
       "      <td>7.58</td>\n",
       "    </tr>\n",
       "    <tr>\n",
       "      <th>3</th>\n",
       "      <td>I</td>\n",
       "      <td>9.0</td>\n",
       "      <td>8.81</td>\n",
       "    </tr>\n",
       "    <tr>\n",
       "      <th>4</th>\n",
       "      <td>I</td>\n",
       "      <td>11.0</td>\n",
       "      <td>8.33</td>\n",
       "    </tr>\n",
       "  </tbody>\n",
       "</table>\n",
       "</div>"
      ],
      "text/plain": [
       "  dataset     x     y\n",
       "0       I  10.0  8.04\n",
       "1       I   8.0  6.95\n",
       "2       I  13.0  7.58\n",
       "3       I   9.0  8.81\n",
       "4       I  11.0  8.33"
      ]
     },
     "execution_count": 14,
     "metadata": {},
     "output_type": "execute_result"
    }
   ],
   "source": [
    "dfa.head()"
   ]
  },
  {
   "cell_type": "code",
   "execution_count": 15,
   "metadata": {},
   "outputs": [
    {
     "data": {
      "text/html": [
       "<div>\n",
       "<style scoped>\n",
       "    .dataframe tbody tr th:only-of-type {\n",
       "        vertical-align: middle;\n",
       "    }\n",
       "\n",
       "    .dataframe tbody tr th {\n",
       "        vertical-align: top;\n",
       "    }\n",
       "\n",
       "    .dataframe thead th {\n",
       "        text-align: right;\n",
       "    }\n",
       "</style>\n",
       "<table border=\"1\" class=\"dataframe\">\n",
       "  <thead>\n",
       "    <tr style=\"text-align: right;\">\n",
       "      <th></th>\n",
       "      <th>dataset</th>\n",
       "      <th>x</th>\n",
       "      <th>y</th>\n",
       "    </tr>\n",
       "  </thead>\n",
       "  <tbody>\n",
       "    <tr>\n",
       "      <th>39</th>\n",
       "      <td>IV</td>\n",
       "      <td>8.0</td>\n",
       "      <td>5.25</td>\n",
       "    </tr>\n",
       "    <tr>\n",
       "      <th>40</th>\n",
       "      <td>IV</td>\n",
       "      <td>19.0</td>\n",
       "      <td>12.50</td>\n",
       "    </tr>\n",
       "    <tr>\n",
       "      <th>41</th>\n",
       "      <td>IV</td>\n",
       "      <td>8.0</td>\n",
       "      <td>5.56</td>\n",
       "    </tr>\n",
       "    <tr>\n",
       "      <th>42</th>\n",
       "      <td>IV</td>\n",
       "      <td>8.0</td>\n",
       "      <td>7.91</td>\n",
       "    </tr>\n",
       "    <tr>\n",
       "      <th>43</th>\n",
       "      <td>IV</td>\n",
       "      <td>8.0</td>\n",
       "      <td>6.89</td>\n",
       "    </tr>\n",
       "  </tbody>\n",
       "</table>\n",
       "</div>"
      ],
      "text/plain": [
       "   dataset     x      y\n",
       "39      IV   8.0   5.25\n",
       "40      IV  19.0  12.50\n",
       "41      IV   8.0   5.56\n",
       "42      IV   8.0   7.91\n",
       "43      IV   8.0   6.89"
      ]
     },
     "execution_count": 15,
     "metadata": {},
     "output_type": "execute_result"
    }
   ],
   "source": [
    "dfa.tail()"
   ]
  },
  {
   "cell_type": "markdown",
   "metadata": {},
   "source": [
    "It looks like the four data sets are in the `dataset` column. How can we extract them as separate items? \n",
    "\n",
    "Well, one way is to print the whole dataset and see which rows correspond to each dataset. Like this..."
   ]
  },
  {
   "cell_type": "code",
   "execution_count": 16,
   "metadata": {},
   "outputs": [
    {
     "name": "stdout",
     "output_type": "stream",
     "text": [
      "   dataset     x      y\n",
      "0        I  10.0   8.04\n",
      "1        I   8.0   6.95\n",
      "2        I  13.0   7.58\n",
      "3        I   9.0   8.81\n",
      "4        I  11.0   8.33\n",
      "5        I  14.0   9.96\n",
      "6        I   6.0   7.24\n",
      "7        I   4.0   4.26\n",
      "8        I  12.0  10.84\n",
      "9        I   7.0   4.82\n",
      "10       I   5.0   5.68\n",
      "11      II  10.0   9.14\n",
      "12      II   8.0   8.14\n",
      "13      II  13.0   8.74\n",
      "14      II   9.0   8.77\n",
      "15      II  11.0   9.26\n",
      "16      II  14.0   8.10\n",
      "17      II   6.0   6.13\n",
      "18      II   4.0   3.10\n",
      "19      II  12.0   9.13\n",
      "20      II   7.0   7.26\n",
      "21      II   5.0   4.74\n",
      "22     III  10.0   7.46\n",
      "23     III   8.0   6.77\n",
      "24     III  13.0  12.74\n",
      "25     III   9.0   7.11\n",
      "26     III  11.0   7.81\n",
      "27     III  14.0   8.84\n",
      "28     III   6.0   6.08\n",
      "29     III   4.0   5.39\n",
      "30     III  12.0   8.15\n",
      "31     III   7.0   6.42\n",
      "32     III   5.0   5.73\n",
      "33      IV   8.0   6.58\n",
      "34      IV   8.0   5.76\n",
      "35      IV   8.0   7.71\n",
      "36      IV   8.0   8.84\n",
      "37      IV   8.0   8.47\n",
      "38      IV   8.0   7.04\n",
      "39      IV   8.0   5.25\n",
      "40      IV  19.0  12.50\n",
      "41      IV   8.0   5.56\n",
      "42      IV   8.0   7.91\n",
      "43      IV   8.0   6.89\n"
     ]
    }
   ],
   "source": [
    "print(dfa)"
   ]
  },
  {
   "cell_type": "markdown",
   "metadata": {},
   "source": [
    "From this we can see that there are four data sets:\n",
    "I, II, III and IV. They each contain $11$ pairs $(x,y)$.\n",
    "\n",
    "- The first set occupies rows $0,1,2,\\ldots,10$\n",
    "- The second set occupies rows $11,12,\\ldots,21$\n",
    "- The third set occupies rows $22,23,\\ldots,32$\n",
    "- The fourth set occupies rows $33,34,\\ldots,43$\n",
    "\n",
    "However, this kind of technique is not going to be useful if we have a data set \n",
    "with millions of data points (rows). We certainly wont want to print them all \n",
    "like we did above.\n",
    "\n",
    "Is there another way to determine the number of distinct feature values in a\n",
    "given column of the data frame?\n",
    "\n",
    "Fortunately, yes. We want to know how many different values the `dataset` column \n",
    "has. We can do it like this."
   ]
  },
  {
   "cell_type": "code",
   "execution_count": 17,
   "metadata": {},
   "outputs": [
    {
     "data": {
      "text/plain": [
       "array(['I', 'II', 'III', 'IV'], dtype=object)"
      ]
     },
     "execution_count": 17,
     "metadata": {},
     "output_type": "execute_result"
    }
   ],
   "source": [
    "dfa.dataset.unique()"
   ]
  },
  {
   "cell_type": "markdown",
   "metadata": {},
   "source": [
    "We can count the number of different ones autoimatically too, by asking\n",
    "for the `shape` of the returned value. Here we go:"
   ]
  },
  {
   "cell_type": "code",
   "execution_count": 18,
   "metadata": {},
   "outputs": [
    {
     "data": {
      "text/plain": [
       "(4,)"
      ]
     },
     "execution_count": 18,
     "metadata": {},
     "output_type": "execute_result"
    }
   ],
   "source": [
    "dfa.dataset.unique().shape"
   ]
  },
  {
   "cell_type": "markdown",
   "metadata": {},
   "source": [
    "This tell us that there are 4 items - as expected.\n",
    "Don't worry too much about it saying `(4,)` rather that just `4`. \n",
    "We'll come to that later when we discuss `numpy`\n",
    "(Numerical python: <https://numpy.org>)."
   ]
  },
  {
   "cell_type": "markdown",
   "metadata": {},
   "source": [
    "Now, we want to extract each of the four datasets as separate data sets so we can work\n",
    "with them. We can do that by using `loc` to get the row-wise locations where each \n",
    "value of the `dataset` feature is the same.\n",
    "\n",
    "For example, to get the data for the sub-data-set `I` we can do this:"
   ]
  },
  {
   "cell_type": "code",
   "execution_count": 19,
   "metadata": {},
   "outputs": [
    {
     "data": {
      "text/html": [
       "<div>\n",
       "<style scoped>\n",
       "    .dataframe tbody tr th:only-of-type {\n",
       "        vertical-align: middle;\n",
       "    }\n",
       "\n",
       "    .dataframe tbody tr th {\n",
       "        vertical-align: top;\n",
       "    }\n",
       "\n",
       "    .dataframe thead th {\n",
       "        text-align: right;\n",
       "    }\n",
       "</style>\n",
       "<table border=\"1\" class=\"dataframe\">\n",
       "  <thead>\n",
       "    <tr style=\"text-align: right;\">\n",
       "      <th></th>\n",
       "      <th>dataset</th>\n",
       "      <th>x</th>\n",
       "      <th>y</th>\n",
       "    </tr>\n",
       "  </thead>\n",
       "  <tbody>\n",
       "    <tr>\n",
       "      <th>0</th>\n",
       "      <td>I</td>\n",
       "      <td>10.0</td>\n",
       "      <td>8.04</td>\n",
       "    </tr>\n",
       "    <tr>\n",
       "      <th>1</th>\n",
       "      <td>I</td>\n",
       "      <td>8.0</td>\n",
       "      <td>6.95</td>\n",
       "    </tr>\n",
       "    <tr>\n",
       "      <th>2</th>\n",
       "      <td>I</td>\n",
       "      <td>13.0</td>\n",
       "      <td>7.58</td>\n",
       "    </tr>\n",
       "    <tr>\n",
       "      <th>3</th>\n",
       "      <td>I</td>\n",
       "      <td>9.0</td>\n",
       "      <td>8.81</td>\n",
       "    </tr>\n",
       "    <tr>\n",
       "      <th>4</th>\n",
       "      <td>I</td>\n",
       "      <td>11.0</td>\n",
       "      <td>8.33</td>\n",
       "    </tr>\n",
       "    <tr>\n",
       "      <th>5</th>\n",
       "      <td>I</td>\n",
       "      <td>14.0</td>\n",
       "      <td>9.96</td>\n",
       "    </tr>\n",
       "    <tr>\n",
       "      <th>6</th>\n",
       "      <td>I</td>\n",
       "      <td>6.0</td>\n",
       "      <td>7.24</td>\n",
       "    </tr>\n",
       "    <tr>\n",
       "      <th>7</th>\n",
       "      <td>I</td>\n",
       "      <td>4.0</td>\n",
       "      <td>4.26</td>\n",
       "    </tr>\n",
       "    <tr>\n",
       "      <th>8</th>\n",
       "      <td>I</td>\n",
       "      <td>12.0</td>\n",
       "      <td>10.84</td>\n",
       "    </tr>\n",
       "    <tr>\n",
       "      <th>9</th>\n",
       "      <td>I</td>\n",
       "      <td>7.0</td>\n",
       "      <td>4.82</td>\n",
       "    </tr>\n",
       "    <tr>\n",
       "      <th>10</th>\n",
       "      <td>I</td>\n",
       "      <td>5.0</td>\n",
       "      <td>5.68</td>\n",
       "    </tr>\n",
       "  </tbody>\n",
       "</table>\n",
       "</div>"
      ],
      "text/plain": [
       "   dataset     x      y\n",
       "0        I  10.0   8.04\n",
       "1        I   8.0   6.95\n",
       "2        I  13.0   7.58\n",
       "3        I   9.0   8.81\n",
       "4        I  11.0   8.33\n",
       "5        I  14.0   9.96\n",
       "6        I   6.0   7.24\n",
       "7        I   4.0   4.26\n",
       "8        I  12.0  10.84\n",
       "9        I   7.0   4.82\n",
       "10       I   5.0   5.68"
      ]
     },
     "execution_count": 19,
     "metadata": {},
     "output_type": "execute_result"
    }
   ],
   "source": [
    "# https://stackoverflow.com/questions/17071871/how-do-i-select-rows-from-a-dataframe-based-on-column-values\n",
    "dfa.loc[dfa['dataset'] == 'I']"
   ]
  },
  {
   "cell_type": "markdown",
   "metadata": {},
   "source": [
    "Now we have this subset of data we can examine it - with a scatter plot \n",
    "for example."
   ]
  },
  {
   "cell_type": "code",
   "execution_count": 20,
   "metadata": {},
   "outputs": [
    {
     "data": {
      "text/plain": [
       "<AxesSubplot:xlabel='x', ylabel='y'>"
      ]
     },
     "execution_count": 20,
     "metadata": {},
     "output_type": "execute_result"
    },
    {
     "data": {
      "image/png": "[encoded data removed]",
      "text/plain": [
       "<Figure size 432x288 with 1 Axes>"
      ]
     },
     "metadata": {
      "needs_background": "light"
     },
     "output_type": "display_data"
    }
   ],
   "source": [
    "sns.scatterplot(data=dfa.loc[dfa['dataset'] == 'I'], x=\"x\", y=\"y\")"
   ]
  },
  {
   "cell_type": "markdown",
   "metadata": {},
   "source": [
    "To really work properly with each subset we should extract them and give each\n",
    "of them a name that is meaningful."
   ]
  },
  {
   "cell_type": "code",
   "execution_count": 21,
   "metadata": {},
   "outputs": [],
   "source": [
    "# On the other hand:\n",
    "dfa1 = dfa.loc[dfa['dataset'] == 'I']\n",
    "dfa2 = dfa.loc[dfa['dataset'] == 'II']\n",
    "dfa3 = dfa.loc[dfa['dataset'] == 'III']\n",
    "dfa4 = dfa.loc[dfa['dataset'] == 'IV']\n"
   ]
  },
  {
   "cell_type": "code",
   "execution_count": 22,
   "metadata": {},
   "outputs": [
    {
     "data": {
      "text/html": [
       "<div>\n",
       "<style scoped>\n",
       "    .dataframe tbody tr th:only-of-type {\n",
       "        vertical-align: middle;\n",
       "    }\n",
       "\n",
       "    .dataframe tbody tr th {\n",
       "        vertical-align: top;\n",
       "    }\n",
       "\n",
       "    .dataframe thead th {\n",
       "        text-align: right;\n",
       "    }\n",
       "</style>\n",
       "<table border=\"1\" class=\"dataframe\">\n",
       "  <thead>\n",
       "    <tr style=\"text-align: right;\">\n",
       "      <th></th>\n",
       "      <th>x</th>\n",
       "      <th>y</th>\n",
       "    </tr>\n",
       "  </thead>\n",
       "  <tbody>\n",
       "    <tr>\n",
       "      <th>count</th>\n",
       "      <td>11.000000</td>\n",
       "      <td>11.000000</td>\n",
       "    </tr>\n",
       "    <tr>\n",
       "      <th>mean</th>\n",
       "      <td>9.000000</td>\n",
       "      <td>7.500909</td>\n",
       "    </tr>\n",
       "    <tr>\n",
       "      <th>std</th>\n",
       "      <td>3.316625</td>\n",
       "      <td>2.031568</td>\n",
       "    </tr>\n",
       "    <tr>\n",
       "      <th>min</th>\n",
       "      <td>4.000000</td>\n",
       "      <td>4.260000</td>\n",
       "    </tr>\n",
       "    <tr>\n",
       "      <th>25%</th>\n",
       "      <td>6.500000</td>\n",
       "      <td>6.315000</td>\n",
       "    </tr>\n",
       "    <tr>\n",
       "      <th>50%</th>\n",
       "      <td>9.000000</td>\n",
       "      <td>7.580000</td>\n",
       "    </tr>\n",
       "    <tr>\n",
       "      <th>75%</th>\n",
       "      <td>11.500000</td>\n",
       "      <td>8.570000</td>\n",
       "    </tr>\n",
       "    <tr>\n",
       "      <th>max</th>\n",
       "      <td>14.000000</td>\n",
       "      <td>10.840000</td>\n",
       "    </tr>\n",
       "  </tbody>\n",
       "</table>\n",
       "</div>"
      ],
      "text/plain": [
       "               x          y\n",
       "count  11.000000  11.000000\n",
       "mean    9.000000   7.500909\n",
       "std     3.316625   2.031568\n",
       "min     4.000000   4.260000\n",
       "25%     6.500000   6.315000\n",
       "50%     9.000000   7.580000\n",
       "75%    11.500000   8.570000\n",
       "max    14.000000  10.840000"
      ]
     },
     "execution_count": 22,
     "metadata": {},
     "output_type": "execute_result"
    },
    {
     "data": {
      "image/png": "[encoded data removed]",
      "text/plain": [
       "<Figure size 432x288 with 1 Axes>"
      ]
     },
     "metadata": {
      "needs_background": "light"
     },
     "output_type": "display_data"
    }
   ],
   "source": [
    "sns.scatterplot(data=dfa1, x=\"x\", y=\"y\")\n",
    "dfa1.describe()"
   ]
  },
  {
   "cell_type": "code",
   "execution_count": 23,
   "metadata": {},
   "outputs": [
    {
     "data": {
      "text/html": [
       "<div>\n",
       "<style scoped>\n",
       "    .dataframe tbody tr th:only-of-type {\n",
       "        vertical-align: middle;\n",
       "    }\n",
       "\n",
       "    .dataframe tbody tr th {\n",
       "        vertical-align: top;\n",
       "    }\n",
       "\n",
       "    .dataframe thead th {\n",
       "        text-align: right;\n",
       "    }\n",
       "</style>\n",
       "<table border=\"1\" class=\"dataframe\">\n",
       "  <thead>\n",
       "    <tr style=\"text-align: right;\">\n",
       "      <th></th>\n",
       "      <th>x</th>\n",
       "      <th>y</th>\n",
       "    </tr>\n",
       "  </thead>\n",
       "  <tbody>\n",
       "    <tr>\n",
       "      <th>count</th>\n",
       "      <td>11.000000</td>\n",
       "      <td>11.000000</td>\n",
       "    </tr>\n",
       "    <tr>\n",
       "      <th>mean</th>\n",
       "      <td>9.000000</td>\n",
       "      <td>7.500909</td>\n",
       "    </tr>\n",
       "    <tr>\n",
       "      <th>std</th>\n",
       "      <td>3.316625</td>\n",
       "      <td>2.031657</td>\n",
       "    </tr>\n",
       "    <tr>\n",
       "      <th>min</th>\n",
       "      <td>4.000000</td>\n",
       "      <td>3.100000</td>\n",
       "    </tr>\n",
       "    <tr>\n",
       "      <th>25%</th>\n",
       "      <td>6.500000</td>\n",
       "      <td>6.695000</td>\n",
       "    </tr>\n",
       "    <tr>\n",
       "      <th>50%</th>\n",
       "      <td>9.000000</td>\n",
       "      <td>8.140000</td>\n",
       "    </tr>\n",
       "    <tr>\n",
       "      <th>75%</th>\n",
       "      <td>11.500000</td>\n",
       "      <td>8.950000</td>\n",
       "    </tr>\n",
       "    <tr>\n",
       "      <th>max</th>\n",
       "      <td>14.000000</td>\n",
       "      <td>9.260000</td>\n",
       "    </tr>\n",
       "  </tbody>\n",
       "</table>\n",
       "</div>"
      ],
      "text/plain": [
       "               x          y\n",
       "count  11.000000  11.000000\n",
       "mean    9.000000   7.500909\n",
       "std     3.316625   2.031657\n",
       "min     4.000000   3.100000\n",
       "25%     6.500000   6.695000\n",
       "50%     9.000000   8.140000\n",
       "75%    11.500000   8.950000\n",
       "max    14.000000   9.260000"
      ]
     },
     "execution_count": 23,
     "metadata": {},
     "output_type": "execute_result"
    },
    {
     "data": {
      "image/png": "[encoded data removed]",
      "text/plain": [
       "<Figure size 432x288 with 1 Axes>"
      ]
     },
     "metadata": {
      "needs_background": "light"
     },
     "output_type": "display_data"
    }
   ],
   "source": [
    "sns.scatterplot(data=dfa2, x=\"x\", y=\"y\")\n",
    "dfa2.describe()"
   ]
  },
  {
   "cell_type": "code",
   "execution_count": 24,
   "metadata": {},
   "outputs": [
    {
     "data": {
      "text/html": [
       "<div>\n",
       "<style scoped>\n",
       "    .dataframe tbody tr th:only-of-type {\n",
       "        vertical-align: middle;\n",
       "    }\n",
       "\n",
       "    .dataframe tbody tr th {\n",
       "        vertical-align: top;\n",
       "    }\n",
       "\n",
       "    .dataframe thead th {\n",
       "        text-align: right;\n",
       "    }\n",
       "</style>\n",
       "<table border=\"1\" class=\"dataframe\">\n",
       "  <thead>\n",
       "    <tr style=\"text-align: right;\">\n",
       "      <th></th>\n",
       "      <th>x</th>\n",
       "      <th>y</th>\n",
       "    </tr>\n",
       "  </thead>\n",
       "  <tbody>\n",
       "    <tr>\n",
       "      <th>count</th>\n",
       "      <td>11.000000</td>\n",
       "      <td>11.000000</td>\n",
       "    </tr>\n",
       "    <tr>\n",
       "      <th>mean</th>\n",
       "      <td>9.000000</td>\n",
       "      <td>7.500000</td>\n",
       "    </tr>\n",
       "    <tr>\n",
       "      <th>std</th>\n",
       "      <td>3.316625</td>\n",
       "      <td>2.030424</td>\n",
       "    </tr>\n",
       "    <tr>\n",
       "      <th>min</th>\n",
       "      <td>4.000000</td>\n",
       "      <td>5.390000</td>\n",
       "    </tr>\n",
       "    <tr>\n",
       "      <th>25%</th>\n",
       "      <td>6.500000</td>\n",
       "      <td>6.250000</td>\n",
       "    </tr>\n",
       "    <tr>\n",
       "      <th>50%</th>\n",
       "      <td>9.000000</td>\n",
       "      <td>7.110000</td>\n",
       "    </tr>\n",
       "    <tr>\n",
       "      <th>75%</th>\n",
       "      <td>11.500000</td>\n",
       "      <td>7.980000</td>\n",
       "    </tr>\n",
       "    <tr>\n",
       "      <th>max</th>\n",
       "      <td>14.000000</td>\n",
       "      <td>12.740000</td>\n",
       "    </tr>\n",
       "  </tbody>\n",
       "</table>\n",
       "</div>"
      ],
      "text/plain": [
       "               x          y\n",
       "count  11.000000  11.000000\n",
       "mean    9.000000   7.500000\n",
       "std     3.316625   2.030424\n",
       "min     4.000000   5.390000\n",
       "25%     6.500000   6.250000\n",
       "50%     9.000000   7.110000\n",
       "75%    11.500000   7.980000\n",
       "max    14.000000  12.740000"
      ]
     },
     "execution_count": 24,
     "metadata": {},
     "output_type": "execute_result"
    },
    {
     "data": {
      "image/png": "[encoded data removed]",
      "text/plain": [
       "<Figure size 432x288 with 1 Axes>"
      ]
     },
     "metadata": {
      "needs_background": "light"
     },
     "output_type": "display_data"
    }
   ],
   "source": [
    "sns.scatterplot(data=dfa3, x=\"x\", y=\"y\")\n",
    "dfa3.describe()"
   ]
  },
  {
   "cell_type": "code",
   "execution_count": 25,
   "metadata": {},
   "outputs": [
    {
     "data": {
      "text/html": [
       "<div>\n",
       "<style scoped>\n",
       "    .dataframe tbody tr th:only-of-type {\n",
       "        vertical-align: middle;\n",
       "    }\n",
       "\n",
       "    .dataframe tbody tr th {\n",
       "        vertical-align: top;\n",
       "    }\n",
       "\n",
       "    .dataframe thead th {\n",
       "        text-align: right;\n",
       "    }\n",
       "</style>\n",
       "<table border=\"1\" class=\"dataframe\">\n",
       "  <thead>\n",
       "    <tr style=\"text-align: right;\">\n",
       "      <th></th>\n",
       "      <th>x</th>\n",
       "      <th>y</th>\n",
       "    </tr>\n",
       "  </thead>\n",
       "  <tbody>\n",
       "    <tr>\n",
       "      <th>count</th>\n",
       "      <td>11.000000</td>\n",
       "      <td>11.000000</td>\n",
       "    </tr>\n",
       "    <tr>\n",
       "      <th>mean</th>\n",
       "      <td>9.000000</td>\n",
       "      <td>7.500909</td>\n",
       "    </tr>\n",
       "    <tr>\n",
       "      <th>std</th>\n",
       "      <td>3.316625</td>\n",
       "      <td>2.030579</td>\n",
       "    </tr>\n",
       "    <tr>\n",
       "      <th>min</th>\n",
       "      <td>8.000000</td>\n",
       "      <td>5.250000</td>\n",
       "    </tr>\n",
       "    <tr>\n",
       "      <th>25%</th>\n",
       "      <td>8.000000</td>\n",
       "      <td>6.170000</td>\n",
       "    </tr>\n",
       "    <tr>\n",
       "      <th>50%</th>\n",
       "      <td>8.000000</td>\n",
       "      <td>7.040000</td>\n",
       "    </tr>\n",
       "    <tr>\n",
       "      <th>75%</th>\n",
       "      <td>8.000000</td>\n",
       "      <td>8.190000</td>\n",
       "    </tr>\n",
       "    <tr>\n",
       "      <th>max</th>\n",
       "      <td>19.000000</td>\n",
       "      <td>12.500000</td>\n",
       "    </tr>\n",
       "  </tbody>\n",
       "</table>\n",
       "</div>"
      ],
      "text/plain": [
       "               x          y\n",
       "count  11.000000  11.000000\n",
       "mean    9.000000   7.500909\n",
       "std     3.316625   2.030579\n",
       "min     8.000000   5.250000\n",
       "25%     8.000000   6.170000\n",
       "50%     8.000000   7.040000\n",
       "75%     8.000000   8.190000\n",
       "max    19.000000  12.500000"
      ]
     },
     "execution_count": 25,
     "metadata": {},
     "output_type": "execute_result"
    },
    {
     "data": {
      "image/png": "[encoded data removed]",
      "text/plain": [
       "<Figure size 432x288 with 1 Axes>"
      ]
     },
     "metadata": {
      "needs_background": "light"
     },
     "output_type": "display_data"
    }
   ],
   "source": [
    "sns.scatterplot(data=dfa4, x=\"x\", y=\"y\")\n",
    "dfa4.describe()"
   ]
  },
  {
   "cell_type": "markdown",
   "metadata": {},
   "source": [
    "## Exercises\n",
    "\n",
    "For the `taxis` data set:\n",
    "\n",
    "1. Produce a scatterplot of \"dropoff_borough\" vs. \"tip\"\n",
    "2. Plot the dependence of fare on distance. \n",
    "\n",
    "```\n",
    "1: sns.scatterplot(data=ds, x=\"dropoff_borough\", y=\"tip\")\n",
    "2: sns.scatterplot(data=ds, x=\"distance\", y=\"tip\")\n",
    "```\n",
    "\n",
    "For the `tips` data set:\n",
    "\n",
    "1. What is the standard deviation of the tips?\n",
    "2. Plot the scatter of tip against the total bill\n",
    "3. Plot the scatter of total bill against day\n",
    "4. Plot the scatter of tip against gender\n",
    "\n",
    "```\n",
    "1: ds.describe()\n",
    "2: sns.scatterplot(data=ds, x=\"total_bill\", y=\"tip\")\n",
    "3: sns.scatterplot(data=ds, x=\"day\", y=\"total_bill\")\n",
    "4: sns.scatterplot(data=ds, x=\"sex\", y=\"tip\")\n",
    "```\n",
    "\n",
    "For the Anscombe data set:\n",
    "\n",
    "1. Which of the summary statistics for $x$ are the same or similar for each subset?\n",
    "1. Which of the summary statistics for $y$ are the same or similar for each subset?\n",
    "\n",
    "\n",
    "Look at the `diamonds` data set\n",
    "\n",
    "1. How many diamonds are listed there? How many attributes does each have?\n",
    "2. Scatter plot price against carat.\n",
    "\n",
    "```\n",
    "1: ds = sns.load_dataset('diamonds'); ds.shape: 53940 and 10\n",
    "2: sns.scatterplot(data=ds, x=\"carat\", y=\"price\")\n",
    "```"
   ]
  },
  {
   "cell_type": "markdown",
   "metadata": {},
   "source": [
    "This originated from\n",
    "\n",
    "<https://stackoverflow.com/questions/38540326/save-html-of-a-jupyter-notebook-from-within-the-notebook>\n",
    "\n",
    "These lines create a back up of the notebook. They can be ignored.\n",
    "\n",
    "At some point this is better as a bash script outside of the notebook"
   ]
  },
  {
   "cell_type": "code",
   "execution_count": 26,
   "metadata": {},
   "outputs": [
    {
     "name": "stderr",
     "output_type": "stream",
     "text": [
      "[NbConvertApp] Converting notebook 1_intro.ipynb to html\n",
      "[NbConvertApp] Writing 847887 bytes to 1_intro.html\n",
      "[NbConvertApp] Converting notebook 1_intro.ipynb to pdf\n",
      "[NbConvertApp] Support files will be in 1_intro_files/\n",
      "[NbConvertApp] Making directory ./1_intro_files\n",
      "[NbConvertApp] Making directory ./1_intro_files\n",
      "[NbConvertApp] Making directory ./1_intro_files\n",
      "[NbConvertApp] Making directory ./1_intro_files\n",
      "[NbConvertApp] Making directory ./1_intro_files\n",
      "[NbConvertApp] Making directory ./1_intro_files\n",
      "[NbConvertApp] Making directory ./1_intro_files\n",
      "[NbConvertApp] Making directory ./1_intro_files\n",
      "[NbConvertApp] Making directory ./1_intro_files\n",
      "[NbConvertApp] Making directory ./1_intro_files\n",
      "[NbConvertApp] Making directory ./1_intro_files\n",
      "[NbConvertApp] Writing 76264 bytes to notebook.tex\n",
      "[NbConvertApp] Building PDF\n",
      "[NbConvertApp] Running xelatex 3 times: ['xelatex', 'notebook.tex', '-quiet']\n",
      "[NbConvertApp] Running bibtex 1 time: ['bibtex', 'notebook']\n",
      "[NbConvertApp] WARNING | bibtex had problems, most likely because there were no citations\n",
      "[NbConvertApp] PDF successfully created\n",
      "[NbConvertApp] Writing 240853 bytes to 1_intro.pdf\n",
      "[NbConvertApp] Converting notebook 1_intro.ipynb to script\n",
      "[NbConvertApp] Writing 22810 bytes to 1_intro.py\n"
     ]
    }
   ],
   "source": [
    "%%bash\n",
    "NBROOTNAME='1_intro'\n",
    "OUTPUTTING=0\n",
    "\n",
    "if [ $OUTPUTTING -eq 1 ]; then\n",
    "  jupyter nbconvert --to html $NBROOTNAME.ipynb\n",
    "  cp $NBROOTNAME.html ../backups/$(date +\"%m_%d_%Y-%H%M%S\")_$NBROOTNAME.html\n",
    "  mv -f $NBROOTNAME.html ./formats/html/\n",
    "\n",
    "  jupyter nbconvert --to pdf $NBROOTNAME.ipynb\n",
    "  cp $NBROOTNAME.pdf ../backups/$(date +\"%m_%d_%Y-%H%M%S\")_$NBROOTNAME.pdf\n",
    "  mv -f $NBROOTNAME.pdf ./formats/pdf/\n",
    "\n",
    "  jupyter nbconvert --to script $NBROOTNAME.ipynb\n",
    "  cp $NBROOTNAME.py ../backups/$(date +\"%m_%d_%Y-%H%M%S\")_$NBROOTNAME.py\n",
    "  mv -f $NBROOTNAME.py ./formats/py/\n",
    "else\n",
    "  echo 'Not Generating html, pdf and py output versions'\n",
    "fi"
   ]
  },
  {
   "cell_type": "code",
   "execution_count": null,
   "metadata": {},
   "outputs": [],
   "source": []
  }
 ],
 "metadata": {
  "kernelspec": {
   "display_name": "Python 3 (ipykernel)",
   "language": "python",
   "name": "python3"
  },
  "language_info": {
   "codemirror_mode": {
    "name": "ipython",
    "version": 3
   },
   "file_extension": ".py",
   "mimetype": "text/x-python",
   "name": "python",
   "nbconvert_exporter": "python",
   "pygments_lexer": "ipython3",
   "version": "3.10.8"
  }
 },
 "nbformat": 4,
 "nbformat_minor": 4
}
