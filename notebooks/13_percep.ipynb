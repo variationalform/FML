{
 "cells": [
  {
   "cell_type": "markdown",
   "metadata": {
    "slideshow": {
     "slide_type": "slide"
    }
   },
   "source": [
    "# Perceptrons\n",
    "\n",
    "#### *variationalform* <https://variationalform.github.io/>\n",
    "\n",
    "#### *Just Enough: progress at pace*\n",
    "\n",
    "<https://variationalform.github.io/>\n",
    "\n",
    "<https://github.com/variationalform>\n",
    "\n",
    "Simon Shaw\n",
    "<https://www.brunel.ac.uk/people/simon-shaw>.\n"
   ]
  },
  {
   "cell_type": "markdown",
   "metadata": {
    "slideshow": {
     "slide_type": "fragment"
    }
   },
   "source": [
    "<table>\n",
    "<tr>\n",
    "<td>\n",
    "<img src=\"https://mirrors.creativecommons.org/presskit/icons/cc.svg?ref=chooser-v1\" style=\"height:18px\"/>\n",
    "<img src=\"https://mirrors.creativecommons.org/presskit/icons/by.svg?ref=chooser-v1\" style=\"height:18px\"/>\n",
    "<img src=\"https://mirrors.creativecommons.org/presskit/icons/sa.svg?ref=chooser-v1\" style=\"height:18px\"/>\n",
    "</td>\n",
    "<td>\n",
    "\n",
    "<p>\n",
    "This work is licensed under CC BY-SA 4.0 (Attribution-ShareAlike 4.0 International)\n",
    "\n",
    "<p>\n",
    "Visit <a href=\"http://creativecommons.org/licenses/by-sa/4.0/\">http://creativecommons.org/licenses/by-sa/4.0/</a> to see the terms.\n",
    "</td>\n",
    "</tr>\n",
    "</table>"
   ]
  },
  {
   "cell_type": "markdown",
   "metadata": {
    "slideshow": {
     "slide_type": "fragment"
    }
   },
   "source": [
    "<table>\n",
    "<tr>\n",
    "<td>This document uses python</td>\n",
    "<td>\n",
    "<img src=\"https://www.python.org/static/community_logos/python-logo-master-v3-TM.png\" style=\"height:30px\"/>\n",
    "</td>\n",
    "<td>and also makes use of LaTeX </td>\n",
    "<td>\n",
    "<img src=\"https://upload.wikimedia.org/wikipedia/commons/thumb/9/92/LaTeX_logo.svg/320px-LaTeX_logo.svg.png\" style=\"height:30px\"/>\n",
    "</td>\n",
    "<td>in Markdown</td> \n",
    "<td>\n",
    "<img src=\"https://github.com/adam-p/markdown-here/raw/master/src/common/images/icon48.png\" style=\"height:30px\"/>\n",
    "</td>\n",
    "</tr>\n",
    "</table>"
   ]
  },
  {
   "cell_type": "markdown",
   "metadata": {
    "slideshow": {
     "slide_type": "slide"
    }
   },
   "source": [
    "## What this is about:\n",
    "\n",
    "\n",
    "The perceptron\n",
    "\n",
    "- weighted inputs\n",
    "- activation thresholds and outputs\n",
    "- decision boundaries\n",
    "- multi-layer perceptrons\n",
    "- feed-forward artificial neural network\n",
    "\n",
    "As usual our emphasis will be on *doing* rather than *proving*:\n",
    "*just enough: progress at pace*"
   ]
  },
  {
   "cell_type": "markdown",
   "metadata": {
    "slideshow": {
     "slide_type": "slide"
    }
   },
   "source": [
    "### Assigned Reading\n",
    "\n",
    "For this material you are recommended Chapter 3 of [UDL], \n",
    "then Chapter 3 of [NND], and Chapter 6 of [MLFCES], \n",
    "\n",
    "- UDL: Understanding Deep Learning, by Simon J.D. Prince. PDF draft available here:\n",
    "<https://udlbook.github.io/udlbook/>\n",
    "- NND: Neural Network Design by Martin T. Hagan, Howard B. Demuth, Mark Hudson Beale, Orlando De Jesús. <https://hagan.okstate.edu/nnd.html> and <https://hagan.okstate.edu/NNDesign.pdf>\n",
    "- MLFCES: Machine Learning: A First Course for Engineers and Scientists, by Andreas Lindholm,\n",
    "  Niklas Wahlström, Fredrik Lindsten, Thomas B. Schön. Cambridge University Press. \n",
    "  <http://smlbook.org>.\n",
    "\n",
    "These can be accessed legally and without cost.\n",
    "\n",
    "There are also these useful references for coding:\n",
    "\n",
    "- PT: `python`: <https://docs.python.org/3/tutorial>\n",
    "- NP: `numpy`: <https://numpy.org/doc/stable/user/quickstart.html>\n",
    "- MPL: `matplotlib`: <https://matplotlib.org>"
   ]
  },
  {
   "cell_type": "markdown",
   "metadata": {
    "slideshow": {
     "slide_type": "slide"
    }
   },
   "source": [
    "## Context\n",
    "\n",
    "In the last two sessions we moved from classification to regression and then\n",
    "we moved back to classification again.\n",
    "\n",
    "We have focussed on cases where the data is **linearly separable**. This important\n",
    "property allowed us to use **logistic regression** and **support vector machines** to\n",
    "construct **linear decision boundaries**.\n",
    "\n",
    "In this session we will continue to work with linear decision boundaries and\n",
    "investigate the **perceptron** and **feed forward neural networks**.\n",
    "\n",
    "The main purpose of this session is to get insight into how perceptrons\n",
    "can **carve up high dimensional space** with hyperplanes, thus creating many \n",
    "compartments within which data classes can be isolated.\n",
    "This will set us up nicely for our study of **deep neural networks**."
   ]
  },
  {
   "cell_type": "markdown",
   "metadata": {
    "slideshow": {
     "slide_type": "slide"
    }
   },
   "source": [
    "### The Percepton - and a Shallow Neural Network\n",
    "\n",
    "A perceptron is a computing unit that accepts a vector of numerical inputs,\n",
    "$\\boldsymbol{x}$, and forms a linear combination of them using a vector of\n",
    "**weights**, $\\boldsymbol{W}$, a numerical bias, $b$, may then be added to\n",
    "form a real number. \n",
    "\n",
    "This real number is then **thresholded** with an activation function. This\n",
    "activation function seeks to determine how significant its input signal is\n",
    "and either kills it or passes it through.\n",
    "\n",
    "The whole system is an attempt to (very crudely) mimic the neuronal connections\n",
    "in the brain.\n",
    "\n",
    "Chapters 2 and 3 of [UDL, Chapter 3] <https://udlbook.github.io/udlbook/> are useful\n",
    "background reading, but what we do here is self-contained."
   ]
  },
  {
   "cell_type": "markdown",
   "metadata": {
    "slideshow": {
     "slide_type": "slide"
    }
   },
   "source": [
    "Here it is - schematically. The input vector\n",
    "$\\boldsymbol{x}=(x_1,x_2,x_3)^T$, and weights,\n",
    "$\\boldsymbol{W}=(w_1,w_2,w_3)^T$, are **linearly combined**.\n",
    "An optional bias, $b$, is added and the result, $n$ \n",
    "is fed into an activation function,\n",
    "$\\sigma\\colon\\mathbb{R}\\to\\mathbb{R}$ to produce the output $y$.\n",
    "\n",
    "$$\n",
    "\\begin{array}{lr}\n",
    "\\begin{array}{ll}\n",
    "n & = w_1 x_1 + w_2 x_2 + w_3 x_3 + b, \\\\\n",
    "  & = \\boldsymbol{W}^T\\boldsymbol{x} + b, \\\\\n",
    "y & = \\sigma(n).\n",
    "\\end{array}\n",
    "& \\qquad\\qquad\n",
    "\\begin{array}{rlcll}\n",
    "x_1 & \\boldsymbol{w}&          &             &\\\\ \n",
    "    & \\searrow      &          & \\sigma(n)   &\\\\ \n",
    "x_2 & \\rightarrow   & n\\!\\!\\!\\!\\!\\bigcirc & \\longrightarrow & y \\\\ \n",
    "    & \\nearrow      & \\uparrow &             & \\\\ \n",
    "x_3 &               & b        &             & \\\\ \n",
    "    &               &          &             & \\\\ \n",
    "\\end{array}\n",
    "\\end{array}\n",
    "$$\n",
    "\n",
    "Compactly: $y = \\sigma(\\boldsymbol{W}^T\\boldsymbol{x} + b)$.\n",
    "Let's see why this is is so useful - it really comes down the the \n",
    "activation function. Without that this isn't such a big deal."
   ]
  },
  {
   "cell_type": "markdown",
   "metadata": {
    "slideshow": {
     "slide_type": "slide"
    }
   },
   "source": [
    "### The Heaviside Unit Step function\n",
    "\n",
    "This is defined as follows:\n",
    "\n",
    "$$\n",
    "\\mathcal{H}(x) = \\left\\{\\begin{array}{ll}\n",
    "1    &\\text{if } x > 0; \\\\\n",
    "x_2  &\\text{if } x = 0; \\\\\n",
    "0    &\\text{if } x < 0.\n",
    "\\end{array}\\right.\n",
    "$$\n",
    "\n",
    "It represents a switch being thrown and the output signal moving\n",
    "from zero to one. The value $x_2$ at the discontinuity is usually\n",
    "arbitrary. We have included it because `numpy` allows it with this\n",
    "syntax:\n",
    "\n",
    "\n",
    "```\n",
    "np.heaviside(x,x2)\n",
    "```\n",
    "\n",
    "We will usually take $x_2=0$. For details see here:\n",
    "<https://numpy.org/doc/stable/reference/generated/numpy.heaviside.html>\n",
    "\n",
    "The Heaviside function can be used as an **activation function** - let's see it. "
   ]
  },
  {
   "cell_type": "code",
   "execution_count": 17,
   "metadata": {
    "slideshow": {
     "slide_type": "slide"
    }
   },
   "outputs": [],
   "source": [
    "import matplotlib.pyplot as plt\n",
    "import numpy as np\n",
    "import numpy.matlib  # a new one, needed below for repmat"
   ]
  },
  {
   "cell_type": "code",
   "execution_count": 18,
   "metadata": {
    "slideshow": {
     "slide_type": "fragment"
    }
   },
   "outputs": [],
   "source": [
    "x_vals = np.arange(-20, 20.1, 0.1)\n",
    "y_vals_1 = np.heaviside(x_vals, 0)\n",
    "y_vals_2 = np.heaviside(x_vals - 5, 0)\n",
    "y_vals_3 = 2*np.heaviside(x_vals + 8, 0)"
   ]
  },
  {
   "cell_type": "code",
   "execution_count": 19,
   "metadata": {
    "slideshow": {
     "slide_type": "slide"
    }
   },
   "outputs": [
    {
     "data": {
      "image/png": "[encoded data removed]",
      "text/plain": [
       "<Figure size 720x288 with 1 Axes>"
      ]
     },
     "metadata": {
      "needs_background": "light"
     },
     "output_type": "display_data"
    }
   ],
   "source": [
    "plt.figure(figsize=(10,4)); plt.gca().set_aspect(10)\n",
    "plt.plot(x_vals, y_vals_1, color='blue', label='H(x)')\n",
    "plt.plot(x_vals, y_vals_2, color='red', label='H(x-5)')\n",
    "plt.plot(x_vals, y_vals_3, color='green', label='2H(x+8)')\n",
    "plt.xlabel('x'); plt.ylabel('Heaviside');\n",
    "plt.legend()\n",
    "plt.show()"
   ]
  },
  {
   "cell_type": "markdown",
   "metadata": {
    "slideshow": {
     "slide_type": "slide"
    }
   },
   "source": [
    "### A simple feed forward neural net\n",
    "\n",
    "Let's use ths concrete example: two inputs\n",
    "$\\boldsymbol{x}=(x_1,x_2)^T$, with weights,\n",
    "$\\boldsymbol{W}=(w_1,w_2)^T=(3,2)^T$ and optional bias,\n",
    "$b=-1$. The activation function is the Heaviside function.\n",
    "\n",
    "This gives the output,\n",
    "\n",
    "$$\n",
    "y = \\mathcal{H}(n) \\quad\\text{ for }\\quad\n",
    "n = \\boldsymbol{W}^T\\boldsymbol{x}+b\n",
    "= 3 x_1 + 2 x_2 - 1.\n",
    "$$\n",
    "\n",
    "Hence,\n",
    "\n",
    "$$\n",
    "y = \\left\\{\\begin{array}{ll}\n",
    "1    &\\text{if } n > 0; \\\\\n",
    "0    &\\text{if } n \\le 0,\n",
    "\\end{array}\\right.\n",
    "\\qquad\\Longrightarrow\\qquad\n",
    "y = \\left\\{\\begin{array}{ll}\n",
    "1    &\\text{if } 3 x_1 + 2 x_2 - 1 > 0; \\\\\n",
    "0    &\\text{if } 3 x_1 + 2 x_2 - 1 \\le 0.\n",
    "\\end{array}\\right.\n",
    "$$\n",
    "\n",
    "This can be a **binary classifier**. Can you see why?"
   ]
  },
  {
   "cell_type": "markdown",
   "metadata": {
    "slideshow": {
     "slide_type": "slide"
    }
   },
   "source": [
    "We have just seen that with the given weights and bias,\n",
    "\n",
    "$$\n",
    "y = \\mathcal{H}(n)\\text{ for }\n",
    "n = \\boldsymbol{W}^T\\boldsymbol{x}+b\n",
    "= 3 x_1 + 2 x_2 - 1\n",
    "\\ \\Rightarrow\\ y = \\left\\{\\begin{array}{ll}\n",
    "1    &\\text{if } 3 x_1 + 2 x_2 - 1 > 0; \\\\\n",
    "0    &\\text{if } 3 x_1 + 2 x_2 - 1 \\le 0.\n",
    "\\end{array}\\right.\n",
    "$$\n",
    "\n",
    "In this $3 x_1 + 2 x_2 - 1 = 0$ represents a straight line in the $(x_1,x_2)$\n",
    "plane. In the usual '$y=mx+c$' form this line has equation $x_2 = (1-3x_1)/2$ - gradient\n",
    "$-3/2$ and intercept $1/2$.\n",
    "\n",
    "A point $(x_1,x_2)=(a,b)$ above this line has $3 x_1 + 2 x_2 - 1 > 0$ while a point\n",
    "on or below the line has $3 x_1 + 2 x_2 - 1 \\le 0$.\n",
    "\n",
    "Therefore - **this line could be a decision boundary**. Any other line could also,\n",
    "we would just need different choices for the weights and bias.\n",
    "\n",
    "Let's set this up and do some calculations with $(x_1,x_2)=(3,1)$ and\n",
    "$(x_1,x_2)=(-2,-1)$."
   ]
  },
  {
   "cell_type": "markdown",
   "metadata": {
    "slideshow": {
     "slide_type": "slide"
    }
   },
   "source": [
    "$y = \\mathcal{H}(n)$ for $\\displaystyle n=(3,2){x_1 \\choose x_2}-1$..."
   ]
  },
  {
   "cell_type": "code",
   "execution_count": 20,
   "metadata": {
    "slideshow": {
     "slide_type": "fragment"
    }
   },
   "outputs": [
    {
     "name": "stdout",
     "output_type": "stream",
     "text": [
      "For input x = ( 3, 1), y =  [[1.]]\n",
      "For input x = (-2,-1), y =  [[0.]]\n"
     ]
    }
   ],
   "source": [
    "# set up our column vector of weights, and the bias\n",
    "W = np.array([[3,2]]).T\n",
    "b = -1\n",
    "# find y for input x = (3,1)\n",
    "X = np.array([[3,1]]).T\n",
    "y = np.heaviside(W.T@X-b,0)\n",
    "print('For input x = ( 3, 1), y = ', y)\n",
    "# find y for input x = (-2,-1)\n",
    "X = np.array([[-2,-1]]).T\n",
    "y = np.heaviside(W.T@X-b,0)\n",
    "print('For input x = (-2,-1), y = ', y)"
   ]
  },
  {
   "cell_type": "markdown",
   "metadata": {
    "slideshow": {
     "slide_type": "slide"
    }
   },
   "source": [
    "We can also illustrate this graphically. We plot the line and \n",
    "then the two input points"
   ]
  },
  {
   "cell_type": "code",
   "execution_count": 21,
   "metadata": {
    "slideshow": {
     "slide_type": "fragment"
    }
   },
   "outputs": [
    {
     "data": {
      "text/plain": [
       "<matplotlib.legend.Legend at 0x7fc4d86b1400>"
      ]
     },
     "execution_count": 21,
     "metadata": {},
     "output_type": "execute_result"
    },
    {
     "data": {
      "image/png": "[encoded data removed]",
      "text/plain": [
       "<Figure size 432x288 with 1 Axes>"
      ]
     },
     "metadata": {
      "needs_background": "light"
     },
     "output_type": "display_data"
    }
   ],
   "source": [
    "x_vals = np.arange(-5, 5.1)\n",
    "y_vals = (1-3*x_vals)/2\n",
    "plt.plot(x_vals, y_vals, color='black', label='decision boundary')\n",
    "plt.plot( 3, 1, 'x', color='blue',label='(x1,x2)=( 3, 1)')\n",
    "plt.plot(-2,-1, 'x', color='red', label='(x1,x2)=(-2,-1)')\n",
    "plt.xlabel('x_1'); plt.ylabel('x_2');\n",
    "plt.annotate('above', [ 0, 3], color='blue')\n",
    "plt.annotate('below', [-2,-4], color='red')\n",
    "plt.legend()"
   ]
  },
  {
   "cell_type": "markdown",
   "metadata": {},
   "source": [
    "```\n",
    "X = np.array([[1,1]]).T\n",
    "y = np.heaviside(W.T@X-b,0)\n",
    "print('For input x = (1,1), y = ', y)\n",
    "```"
   ]
  },
  {
   "cell_type": "markdown",
   "metadata": {
    "slideshow": {
     "slide_type": "slide"
    }
   },
   "source": [
    "Let's plot the predictions on a grid of equally spaced points in the \n",
    "$x_1$ and $x_2$ directions.\n",
    "\n",
    "If we colour the predictions according to $y=0$ or $y=1$ then this\n",
    "decision boundary will naturally emerge.\n",
    "\n",
    "We will create a grid that ranges in both directions over\n",
    "\n",
    "$$\n",
    "-7 \\le x_1, \\ x_2 \\le 9 \\qquad\\text{ in steps of } s=0.5\n",
    "$$"
   ]
  },
  {
   "cell_type": "code",
   "execution_count": 22,
   "metadata": {
    "slideshow": {
     "slide_type": "fragment"
    }
   },
   "outputs": [],
   "source": [
    "s = .5\n",
    "x1 = np.arange(-7, 9+s, s)\n",
    "x2 = np.arange(-7, 9+s, s)\n",
    "N = x1.shape[0]"
   ]
  },
  {
   "cell_type": "code",
   "execution_count": 23,
   "metadata": {
    "slideshow": {
     "slide_type": "fragment"
    }
   },
   "outputs": [],
   "source": [
    "# allocate input and output variables\n",
    "X = np.zeros([2,1])\n",
    "y = np.zeros([N,N])\n",
    "# and our grid points in each direction (note the transpose for x2)\n",
    "X1grid = np.matlib.repmat(x1,N,1)      # repeats x1 N times\n",
    "X2grid = np.matlib.repmat(x2,N,1).T"
   ]
  },
  {
   "cell_type": "code",
   "execution_count": 24,
   "metadata": {
    "slideshow": {
     "slide_type": "skip"
    }
   },
   "outputs": [],
   "source": [
    "\n",
    "#print(X)\n",
    "#print(X.shape)\n",
    "#print(x1[2])\n",
    "#X[0,0]=x1[2]\n",
    "#print(X)\n"
   ]
  },
  {
   "cell_type": "code",
   "execution_count": 25,
   "metadata": {
    "slideshow": {
     "slide_type": "slide"
    }
   },
   "outputs": [],
   "source": [
    "# loop over the grid, vertically for each horizontal point\n",
    "for i in range(N):\n",
    "  for j in range(N):\n",
    "    X[0,0] = X1grid[i,j] # x1[i]\n",
    "    X[1,0] = X2grid[i,j] # x2[j]\n",
    "    n = W.T @ X + b\n",
    "    # make a prediction and assign to y_{ij} for x1[i], x2[j]\n",
    "    tmp = np.heaviside(W.T @ X + b, 0)\n",
    "    y[i,j] = tmp"
   ]
  },
  {
   "cell_type": "code",
   "execution_count": 26,
   "metadata": {
    "slideshow": {
     "slide_type": "fragment"
    }
   },
   "outputs": [],
   "source": [
    "# determine the locations where the output is zero\n",
    "indx = (y < 0.5)\n",
    "# flatten this matrix into a vector, along with the grid points\n",
    "indx= indx.flatten()\n",
    "X1grid = X1grid.flatten()\n",
    "X2grid = X2grid.flatten()"
   ]
  },
  {
   "cell_type": "code",
   "execution_count": 27,
   "metadata": {
    "slideshow": {
     "slide_type": "slide"
    }
   },
   "outputs": [
    {
     "data": {
      "text/plain": [
       "[<matplotlib.lines.Line2D at 0x7fc4a8361908>]"
      ]
     },
     "execution_count": 27,
     "metadata": {},
     "output_type": "execute_result"
    },
    {
     "data": {
      "image/png": "[encoded data removed]",
      "text/plain": [
       "<Figure size 432x288 with 1 Axes>"
      ]
     },
     "metadata": {
      "needs_background": "light"
     },
     "output_type": "display_data"
    }
   ],
   "source": [
    "# plot the zero outputs in red\n",
    "plt.scatter(X1grid[indx], X2grid[indx], 2, color='red')\n",
    "# and plot the unit outputs in blue\n",
    "plt.scatter(X1grid[~indx], X2grid[~indx], 2, color='blue')\n",
    "# plot the decision boubdary from the weights and bias in black\n",
    "plt.plot(x_vals, y_vals, color='black')"
   ]
  },
  {
   "cell_type": "markdown",
   "metadata": {},
   "source": [
    "```\n",
    "#y0 = y.flatten()\n",
    "#print(y)\n",
    "#print(y0)\n",
    "# determine the locations where the output is zero\n",
    "indx = (y < 0.5)\n",
    "#indx = (y0 < 0.5)\n",
    "#indx = indx.reshape([N,N])\n",
    "#print(indx)\n",
    "# flatten this matrix into a vector, along with the grid points\n",
    "indx= indx.flatten()\n",
    "X1grid = X1grid.flatten()\n",
    "X2grid = X2grid.flatten()\n",
    "#print(indx)\n",
    "#print(X1grid)\n",
    "#print(X2grid)\n",
    "# plot the zero outputs in red\n",
    "plt.scatter(X1grid[indx], X2grid[indx], 2, color='red')\n",
    "#indx = y0 > 0.5\n",
    "#indx = (y0 >=0.5).reshape([N,N])\n",
    "#plt.scatter(X1grid[indx], X2grid[indx], color='blue')\n",
    "# and plot the unit outputs in blue\n",
    "plt.scatter(X1grid[~indx], X2grid[~indx], 2, color='blue')\n",
    "plt.plot(x_vals, y_vals, color='black')\n",
    "```"
   ]
  },
  {
   "cell_type": "markdown",
   "metadata": {
    "slideshow": {
     "slide_type": "slide"
    }
   },
   "source": [
    "Take a breath - this simple idea, using just this,\n",
    "\n",
    "$$\n",
    "y = \\mathcal{H}(n)\\text{ for }\n",
    "n = \\boldsymbol{W}^T\\boldsymbol{x}+b\n",
    "= 3 x_1 + 2 x_2 - 1\n",
    "\\ \\Rightarrow\\ y = \\left\\{\\begin{array}{ll}\n",
    "1    &\\text{if } 3 x_1 + 2 x_2 - 1 > 0; \\\\\n",
    "0    &\\text{if } 3 x_1 + 2 x_2 - 1 \\le 0.\n",
    "\\end{array}\\right.\n",
    "$$\n",
    "\n",
    "is the basis of a hugely powerful sub-domain technology in \n",
    "data science and artificial intelligence. \n",
    "\n",
    "We used this idea to classify the inoput into two classes.\n",
    "\n",
    "Let's start pushing the boundary (modestly).\n"
   ]
  },
  {
   "cell_type": "markdown",
   "metadata": {
    "slideshow": {
     "slide_type": "slide"
    }
   },
   "source": [
    "### Four Classes\n",
    "\n",
    "Consider this,\n",
    "\n",
    "$$\n",
    "\\left(\\begin{array}{r}\n",
    "y_1 \\\\ y_2\n",
    "\\end{array}\\right)\n",
    "=\n",
    "\\mathcal{H}\n",
    "\\left(\n",
    "\\left(\\begin{array}{rr}\n",
    "1 & 2 \\\\ -6 & 4\n",
    "\\end{array}\\right)^T\n",
    "\\left(\\begin{array}{r}\n",
    "x_1 \\\\ x_2 \n",
    "\\end{array}\\right)\n",
    "+\n",
    "\\left(\\begin{array}{r}\n",
    "1 \\\\ 2\n",
    "\\end{array}\\right)\n",
    "\\right)\n",
    "=\n",
    "\\left(\\begin{array}{l}\n",
    "\\mathcal{H}(x_1 - 6x_2 + 1)\n",
    "\\\\\n",
    "\\mathcal{H}(2 x_1 + 4 x_2 + 2)\n",
    "\\end{array}\\right).\n",
    "$$\n",
    "\n",
    "Note that the activation function is applied element-by-element.\n",
    "\n",
    "We can write this in a more generic way as follows:\n",
    "$\\boldsymbol{y} =\n",
    "\\sigma(\\boldsymbol{n})$ for\n",
    "$\\boldsymbol{n}=\\boldsymbol{W}^T\\boldsymbol{x}+\\boldsymbol{b}$.\n",
    "\n",
    "Here we have the matrix of weights\n",
    "$\\boldsymbol{W}={\\ \\ 1\\ \\ 2 \\choose-6\\ \\ 4}$\n",
    "and bias vector $\\boldsymbol{b}={1 \\choose 2}$.\n",
    "\n",
    "The possible outputs are:\n",
    "\n",
    "$$\n",
    "\\boldsymbol{y} =\n",
    "\\left(\\begin{array}{r}\n",
    "0 \\\\ 0\n",
    "\\end{array}\\right), \\quad\n",
    "\\left(\\begin{array}{r}\n",
    "1 \\\\ 0\n",
    "\\end{array}\\right), \\quad\n",
    "\\left(\\begin{array}{r}\n",
    "0 \\\\ 1\n",
    "\\end{array}\\right) \\quad\\text{ and }\\quad\n",
    "\\left(\\begin{array}{r}\n",
    "1 \\\\ 1\n",
    "\\end{array}\\right).\n",
    "$$\n",
    "\n",
    "With this we can consider **four** classes:\n",
    "$C_1$, $C_2$, $C_3$ and $C_4$."
   ]
  },
  {
   "cell_type": "markdown",
   "metadata": {
    "slideshow": {
     "slide_type": "slide"
    }
   },
   "source": [
    "With \n",
    "\n",
    "$$\n",
    "\\left(\\begin{array}{r}\n",
    "y_1 \\\\ y_2\n",
    "\\end{array}\\right)\n",
    "=\n",
    "\\left(\\begin{array}{l}\n",
    "\\mathcal{H}(x_1 - 6x_2 + 1)\n",
    "\\\\\n",
    "\\mathcal{H}(2 x_1 + 4 x_2 + 2)\n",
    "\\end{array}\\right).\n",
    "$$\n",
    "\n",
    "the decision boundaries are given by $x_1 - 6x_2 + 1=0$\n",
    "and $2 x_1 + 4 x_2 + 2=0$.\n",
    "\n",
    "This neural network will determine whether or not a given\n",
    "point is above or below the line $x_1 - 6x_2 + 1=0$ in\n",
    "the first component of $\\boldsymbol{y}$.\n",
    "\n",
    "And it will determine whether or not that\n",
    "point is above or below the line $2 x_1 + 4 x_2 + 2=0$ in\n",
    "the second component of $\\boldsymbol{y}$.\n",
    "\n",
    "It will then decide to which of the four classes the input\n",
    "belongs.\n",
    "\n",
    "Let's see a possible classification scheme..."
   ]
  },
  {
   "cell_type": "code",
   "execution_count": 28,
   "metadata": {
    "slideshow": {
     "slide_type": "slide"
    }
   },
   "outputs": [
    {
     "data": {
      "image/png": "[encoded data removed]",
      "text/plain": [
       "<Figure size 432x288 with 1 Axes>"
      ]
     },
     "metadata": {
      "needs_background": "light"
     },
     "output_type": "display_data"
    }
   ],
   "source": [
    "x_vals = np.arange(-5, 5.1)\n",
    "plt.plot(x_vals,-(1+x_vals)/2, color='black')\n",
    "plt.plot(x_vals, (1+x_vals)/6, color='black')\n",
    "plt.annotate('C1', [-4, 0], color='blue')\n",
    "plt.annotate('C2', [-2,-2], color='magenta')\n",
    "plt.annotate('C3', [ 2,0], color='red')\n",
    "plt.annotate('C4', [-1, 1], color='green');"
   ]
  },
  {
   "cell_type": "markdown",
   "metadata": {
    "slideshow": {
     "slide_type": "slide"
    }
   },
   "source": [
    "Let's make predictions on a background grid just as before. By coloring \n",
    "each prediction according to the four-way scheme above we will see the \n",
    "four classes and the separating decision boundaries naurally emerge.\n",
    "\n",
    "We will create a grid for $-20 \\le x_1, x_2 \\le 20$ in unit steps."
   ]
  },
  {
   "cell_type": "code",
   "execution_count": 29,
   "metadata": {
    "slideshow": {
     "slide_type": "fragment"
    }
   },
   "outputs": [],
   "source": [
    "# here is the grid\n",
    "s = 1\n",
    "x1 = np.arange(-20, 20+s, s)\n",
    "x2 = np.arange(-20, 20+s, s)\n",
    "N = x1.shape[0]\n",
    "X1grid = np.matlib.repmat(x1,N,1)\n",
    "X2grid = np.matlib.repmat(x2,N,1).T\n",
    "\n",
    "# here is the neural network definition\n",
    "W = np.array([[1,2],[-6,4]])\n",
    "b = np.array([[1,2]]).T\n",
    "# two variable, output and input\n",
    "y = np.zeros([2,N,N])\n",
    "X = np.zeros([2,1])\n",
    "#y[:,[0,0]] = np.heaviside(W.T @ X + b,0)"
   ]
  },
  {
   "cell_type": "code",
   "execution_count": 30,
   "metadata": {
    "slideshow": {
     "slide_type": "slide"
    }
   },
   "outputs": [],
   "source": [
    "# traverse the grid, store a prediction for each point\n",
    "for i in range(N):\n",
    "    for j in range(N):\n",
    "        X[0] = X1grid[i,j]\n",
    "        X[1] = X2grid[i,j]\n",
    "        tmp = np.heaviside(W.T @ X + b, 0)\n",
    "        y[:,i,j] = tmp[:,0] "
   ]
  },
  {
   "cell_type": "markdown",
   "metadata": {},
   "source": [
    "```\n",
    "#c = 0\n",
    "for i in range(N):\n",
    "    for j in range(N):\n",
    "        X[0] = X1grid[i,j]\n",
    "        X[1] = X2grid[i,j]\n",
    "#        print('X=', X)\n",
    "        tmp = np.heaviside(W.T @ X + b, 0)\n",
    "        y[:,i,j] = tmp[:,0] \n",
    "#        print(f'tmp = {tmp}')\n",
    "#        print('y=',y[:,i,j])\n",
    "#        c += 1\n",
    "```"
   ]
  },
  {
   "cell_type": "code",
   "execution_count": null,
   "metadata": {
    "slideshow": {
     "slide_type": "fragment"
    }
   },
   "outputs": [],
   "source": [
    "X1grid = X1grid.flatten()\n",
    "X2grid = X2grid.flatten()\n",
    "\n",
    "indx0 = (y[0,:] < 0.5)\n",
    "indx0= indx0.flatten()\n",
    "indx1 = (y[1,:] < 0.5)\n",
    "indx1= indx1.flatten()\n",
    "indx00 = np.logical_and( indx0, indx1)\n",
    "indx11 = np.logical_and(~indx0,~indx1)\n",
    "indx01 = np.logical_and( indx0,~indx1)\n",
    "indx10 = np.logical_and(~indx0, indx1)"
   ]
  },
  {
   "cell_type": "code",
   "execution_count": 31,
   "metadata": {
    "slideshow": {
     "slide_type": "slide"
    }
   },
   "outputs": [
    {
     "data": {
      "text/plain": [
       "[<matplotlib.lines.Line2D at 0x7fc4b8820cf8>]"
      ]
     },
     "execution_count": 31,
     "metadata": {},
     "output_type": "execute_result"
    },
    {
     "data": {
      "image/png": "[encoded data removed]",
      "text/plain": [
       "<Figure size 432x288 with 1 Axes>"
      ]
     },
     "metadata": {
      "needs_background": "light"
     },
     "output_type": "display_data"
    }
   ],
   "source": [
    "plt.scatter(X1grid[indx00], X2grid[indx00], 2, color='blue')\n",
    "plt.scatter(X1grid[indx11], X2grid[indx11], 2, color='red')\n",
    "plt.scatter(X1grid[indx01], X2grid[indx01], 2, color='green')\n",
    "plt.scatter(X1grid[indx10], X2grid[indx10], 2, color='magenta')\n",
    "plt.plot(x1,-(1+x1)/2, color='black')\n",
    "plt.plot(x1, (1+x1)/6, color='black')"
   ]
  },
  {
   "cell_type": "markdown",
   "metadata": {},
   "source": [
    "```\n",
    "X1grid = X1grid.flatten()\n",
    "X2grid = X2grid.flatten()\n",
    "\n",
    "indx0 = (y[0,:] < 0.5)\n",
    "indx0= indx0.flatten()\n",
    "indx1 = (y[1,:] < 0.5)\n",
    "indx1= indx1.flatten()\n",
    "indx = np.logical_and( indx0, indx1)\n",
    "plt.scatter(X1grid[indx], X2grid[indx], 2, color='blue')\n",
    "indx = np.logical_and(~indx0,~indx1)\n",
    "plt.scatter(X1grid[indx], X2grid[indx], 2, color='red')\n",
    "indx = np.logical_and( indx0,~indx1)\n",
    "plt.scatter(X1grid[indx], X2grid[indx], 2, color='green')\n",
    "indx = np.logical_and(~indx0, indx1)\n",
    "plt.scatter(X1grid[indx], X2grid[indx], 2, color='cyan')\n",
    "\n",
    "#plt.scatter(X1grid[~indx0 and  indx1], X2grid[~indx0 and  indx1], color='red')\n",
    "#plt.scatter(X1grid[ indx0 and ~indx1], X2grid[~indx0 and  indx1], color='green')\n",
    "#plt.scatter(X1grid[~indx0 and ~indx1], X2grid[~indx0 and  indx1], color='black')\n",
    "\n",
    "#x_vals = np.arange(-5, 5.1)\n",
    "plt.plot(x1,-(1+x1)/2, color='black')\n",
    "plt.plot(x1, (1+x1)/6, color='black')\n",
    "```"
   ]
  },
  {
   "cell_type": "markdown",
   "metadata": {},
   "source": [
    "\n",
    "Input\n",
    "\n",
    "$$\n",
    "\\boldsymbol{x} = (x_0, x_1, \\ldots, x_N)^T\n",
    "$$\n",
    "\n",
    "$$\n",
    "\\boldsymbol{W}\\qquad\\text{and}\\qquad\\boldsymbol{b}\n",
    "$$\n",
    "\n",
    "$$\n",
    "\\boldsymbol{y} = (y_0, y_1, \\ldots, y_M)^T\n",
    "$$\n",
    "\n",
    "$$\n",
    "\\boldsymbol{y} =\n",
    "\\sigma(\\boldsymbol{W}^T\\boldsymbol{x}+\\boldsymbol{b})\n",
    "$$\n",
    "\n"
   ]
  },
  {
   "cell_type": "code",
   "execution_count": null,
   "metadata": {},
   "outputs": [],
   "source": []
  },
  {
   "cell_type": "code",
   "execution_count": null,
   "metadata": {},
   "outputs": [],
   "source": []
  },
  {
   "cell_type": "code",
   "execution_count": null,
   "metadata": {},
   "outputs": [],
   "source": []
  },
  {
   "cell_type": "code",
   "execution_count": null,
   "metadata": {},
   "outputs": [],
   "source": []
  },
  {
   "cell_type": "code",
   "execution_count": null,
   "metadata": {},
   "outputs": [],
   "source": []
  },
  {
   "cell_type": "markdown",
   "metadata": {
    "slideshow": {
     "slide_type": "slide"
    }
   },
   "source": [
    "### Artificial Neural Network\n",
    "\n",
    "Perceptrons can be vertically stacked and **fully connected**, and \n",
    "they can also be multi-layered horizontally. \n",
    "\n",
    "An input signal on the left **input layer** is propagated through\n",
    "the network by repeating the **weighting**, **bias** and **activation**\n",
    "steps.\n",
    "\n",
    "This is called **feeding forward**. \n",
    "\n",
    "Layers of stacked perceptrons between the input and output layers \n",
    "are called **hidden layers**.\n",
    "\n"
   ]
  },
  {
   "cell_type": "markdown",
   "metadata": {
    "slideshow": {
     "slide_type": "skip"
    }
   },
   "source": [
    "The diagrams that are present in the Jupyter notebook and slides version of this document\n",
    "are not included in the PDF version."
   ]
  },
  {
   "cell_type": "markdown",
   "metadata": {
    "slideshow": {
     "slide_type": "slide"
    }
   },
   "source": [
    "This is a simple 2-input/2-output network with no hidden layers.\n",
    "\n",
    "<table>\n",
    "<tr>\n",
    "<td>\n",
    "<img src=\"./gfx/ann_1.png\" style=\"height:200px\"/>\n",
    "</td>\n",
    "<td>\n",
    "\n",
    "This is a useful notation system...\n",
    "\n",
    "\\begin{align*}\n",
    "\\boldsymbol{a}_0 & = \\boldsymbol{x},\n",
    "\\\\\n",
    "\\boldsymbol{n}_1 & = \\boldsymbol{W}_1^T\\boldsymbol{a}_0+\\boldsymbol{b}_1,\n",
    "\\\\\n",
    "\\boldsymbol{a}_1 & = \\sigma_1(\\boldsymbol{n_1}),\n",
    "\\\\\n",
    "\\boldsymbol{y} & = \\boldsymbol{a}_1.\n",
    "\\end{align*}\n",
    "    \n",
    "Note that the weight matrices are square.\n",
    "    \n",
    "</td>\n",
    "</tr>\n",
    "</table>"
   ]
  },
  {
   "cell_type": "markdown",
   "metadata": {
    "slideshow": {
     "slide_type": "slide"
    }
   },
   "source": [
    "This is a 3-input/3-output network with one hidden layer.\n",
    "\n",
    "<table>\n",
    "<tr>\n",
    "<td>\n",
    "<img src=\"./gfx/ann_2.png\" style=\"height:200px\"/>\n",
    "</td>\n",
    "<td>\n",
    "\n",
    "The notation system is now easily adjusted...\n",
    "\n",
    "\\begin{align*}\n",
    "\\boldsymbol{a}_0 & = \\boldsymbol{x},\n",
    "\\\\\n",
    "\\boldsymbol{n}_1 & = \\boldsymbol{W}_1^T\\boldsymbol{a}_0+\\boldsymbol{b}_1,\n",
    "\\\\\n",
    "\\boldsymbol{a}_1 & = \\sigma_1(\\boldsymbol{n_1}),\n",
    "\\\\\n",
    "\\boldsymbol{n}_2 & = \\boldsymbol{W}_2^T\\boldsymbol{a}_1+\\boldsymbol{b}_2,\n",
    "\\\\\n",
    "\\boldsymbol{a}_2 & = \\sigma_2(\\boldsymbol{n_2}),\n",
    "\\\\\n",
    "\\boldsymbol{y} & = \\boldsymbol{a}_2.\n",
    "\\end{align*}\n",
    "\n",
    "The weight matrices are still square.    \n",
    "\n",
    "</td>\n",
    "</tr>\n",
    "</table>"
   ]
  },
  {
   "cell_type": "markdown",
   "metadata": {
    "slideshow": {
     "slide_type": "slide"
    }
   },
   "source": [
    "This is more general network with one hidden layer.\n",
    "\n",
    "<table>\n",
    "<tr>\n",
    "<td>\n",
    "<img src=\"./gfx/ann_3.png\" style=\"height:200px\"/>\n",
    "</td>\n",
    "<td>\n",
    "\n",
    "\\begin{align*}\n",
    "\\boldsymbol{a}_0 & = \\boldsymbol{x},\n",
    "\\\\\n",
    "\\boldsymbol{n}_1 & = \\boldsymbol{W}_1^T\\boldsymbol{a}_0+\\boldsymbol{b}_1,\n",
    "\\\\\n",
    "\\boldsymbol{a}_1 & = \\sigma_1(\\boldsymbol{n_1}),\n",
    "\\\\\n",
    "\\boldsymbol{n}_2 & = \\boldsymbol{W}_2^T\\boldsymbol{a}_1+\\boldsymbol{b}_2,\n",
    "\\\\\n",
    "\\boldsymbol{a}_2 & = \\sigma_2(\\boldsymbol{n_2}),\n",
    "\\\\\n",
    "\\boldsymbol{y} & = \\boldsymbol{a}_2.\n",
    "\\end{align*}\n",
    "\n",
    "In this general case the weight matrices are no longer square.    \n",
    "\n",
    "</td>\n",
    "</tr>\n",
    "</table>"
   ]
  },
  {
   "cell_type": "markdown",
   "metadata": {
    "slideshow": {
     "slide_type": "slide"
    }
   },
   "source": [
    "This is a more general network with two hidden layers.\n",
    "\n",
    "<table>\n",
    "<tr>\n",
    "<td>\n",
    "<img src=\"./gfx/ann_4.png\" style=\"height:300px\"/>\n",
    "</td>\n",
    "<td>\n",
    "\n",
    "\\begin{align*}\n",
    "\\boldsymbol{a}_0 & = \\boldsymbol{x},\n",
    "\\\\\n",
    "\\boldsymbol{n}_1 & = \\boldsymbol{W}_1^T\\boldsymbol{a}_0+\\boldsymbol{b}_1,\n",
    "\\\\\n",
    "\\boldsymbol{a}_1 & = \\sigma_1(\\boldsymbol{n_1}),\n",
    "\\\\\n",
    "\\boldsymbol{n}_2 & = \\boldsymbol{W}_2^T\\boldsymbol{a}_1+\\boldsymbol{b}_2,\n",
    "\\\\\n",
    "\\boldsymbol{a}_2 & = \\sigma_2(\\boldsymbol{n_2}),\n",
    "\\\\\n",
    "\\boldsymbol{n}_3 & = \\boldsymbol{W}_3^T\\boldsymbol{a}_2+\\boldsymbol{b}_3,\n",
    "\\\\\n",
    "\\boldsymbol{a}_3 & = \\sigma_3(\\boldsymbol{n_3}),\n",
    "\\\\\n",
    "\\boldsymbol{y} & = \\boldsymbol{a}_3.\n",
    "\\end{align*}\n",
    "</td>\n",
    "</tr>\n",
    "</table>"
   ]
  },
  {
   "cell_type": "markdown",
   "metadata": {
    "slideshow": {
     "slide_type": "slide"
    }
   },
   "source": [
    "\n",
    "This assemblage of perceptons is called an **artificial neural network**.\n",
    "It is a very crude imitation of the neuronal connections in the brain.\n",
    "\n",
    "If the weights and biases have the \n",
    "\n",
    "There possibilities are **endless**, and there are also variants on\n",
    "the basic scheme as discussed here. \n",
    "\n",
    "- Convolutional Neural Networks\n",
    "\n",
    "- Recurrent Neural Networks\n",
    "\n",
    "- ... And lots more! It's a vibrant field!"
   ]
  },
  {
   "cell_type": "code",
   "execution_count": null,
   "metadata": {},
   "outputs": [],
   "source": [
    "def sigmoid(x):\n",
    "    return 1/(1+np.exp(-x))\n",
    "def ReLU(x):\n",
    "    return np.maximum(0,x)"
   ]
  },
  {
   "cell_type": "code",
   "execution_count": null,
   "metadata": {},
   "outputs": [],
   "source": [
    "X = 0.01*np.array([[6,2,8,4,1,6]]).T\n",
    "W = 0.01*np.array([[1,2],[3,4],[5,6],[1,2],[3,4],[5,6]])\n",
    "b = 0.01*np.array([[.5,.6]]).T\n",
    "print(X)\n",
    "print(W)\n",
    "print(b)"
   ]
  },
  {
   "cell_type": "code",
   "execution_count": null,
   "metadata": {},
   "outputs": [],
   "source": [
    "n = W.T @ X + b\n",
    "print(f'n = {n}')\n",
    "y = sigmoid(n)\n",
    "print(f'y = {y}')"
   ]
  },
  {
   "cell_type": "code",
   "execution_count": null,
   "metadata": {},
   "outputs": [],
   "source": [
    "W = np.array([[1,2],[-6,4]])\n",
    "b = 0.0*np.array([[1,2]]).T\n",
    "y = np.zeros([2,N,N])\n",
    "print(y.shape)\n",
    "X = np.zeros([2,1])\n",
    "#print(y)\n",
    "#print(X)\n",
    "#print(W)\n",
    "#print(sigmoid(W.T @ X + b))\n",
    "#print('y = ', y[:,[0,0]])\n",
    "#print('y = ', y)\n",
    "y[:,[0,0]] = sigmoid(W.T @ X + b)"
   ]
  },
  {
   "cell_type": "code",
   "execution_count": null,
   "metadata": {},
   "outputs": [],
   "source": [
    "n = W.T @ X + b\n",
    "print(f'n = {n}')\n",
    "y = ReLU(n)\n",
    "print(f'y = {y}')"
   ]
  },
  {
   "cell_type": "code",
   "execution_count": null,
   "metadata": {},
   "outputs": [],
   "source": []
  },
  {
   "cell_type": "code",
   "execution_count": null,
   "metadata": {},
   "outputs": [],
   "source": []
  },
  {
   "cell_type": "markdown",
   "metadata": {},
   "source": [
    "```\n",
    "indx0 = (y[0] < 0.5)\n",
    "indx= indx.flatten()\n",
    "X1grid = X1grid.flatten()\n",
    "X2grid = X2grid.flatten()\n",
    "plt.scatter(X1grid[indx], X2grid[indx], 2, color='red')\n",
    "plt.scatter(X1grid[~indx], X2grid[~indx], 2, color='blue')\n",
    "plt.plot(x_vals, y_vals, color='black')\n",
    "```"
   ]
  },
  {
   "cell_type": "markdown",
   "metadata": {},
   "source": [
    "```\n",
    "print(f'N = {N}')\n",
    "y0 = y[0,:].flatten()\n",
    "y1 = y[1,:].flatten()\n",
    "indx1 = y0<0.5\n",
    "indx2 = y1<0.5\n",
    "indx = np.logical_and(indx1, indx2).reshape(N,N)\n",
    "plt.scatter(X1grid[indx], X2grid[indx], color='blue')\n",
    "indx1 = y0>=0.5\n",
    "indx2 = y1>=0.5\n",
    "indx = np.logical_and(indx1, indx2).reshape(N,N)\n",
    "plt.scatter(X1grid[indx], X2grid[indx], color='red')\n",
    "\n",
    "indx1 = y0<0.5\n",
    "indx2 = y1>=0.5\n",
    "indx = np.logical_and(indx1, indx2).reshape(N,N)\n",
    "plt.scatter(X1grid[indx], X2grid[indx], color='green')\n",
    "\n",
    "indx1 = y0>=0.5\n",
    "indx2 = y1<0.5\n",
    "indx = np.logical_and(indx1, indx2).reshape(N,N)\n",
    "plt.scatter(X1grid[indx], X2grid[indx], color='black')\n",
    "```"
   ]
  },
  {
   "cell_type": "code",
   "execution_count": null,
   "metadata": {},
   "outputs": [],
   "source": []
  },
  {
   "cell_type": "code",
   "execution_count": null,
   "metadata": {},
   "outputs": [],
   "source": []
  },
  {
   "cell_type": "markdown",
   "metadata": {},
   "source": [
    "```\n",
    "plt.scatter(X1grid[y[0,:]<0.5], X2grid[y[0,:]<0.5], color='blue')\n",
    "plt.scatter(X1grid[y[0,:]>=0.5],X2grid[y[0,:]>=0.5], color='red')\n",
    "plt.scatter(X1grid[y[1,:]<0.5], X2grid[y[1,:]<0.5], marker='x', color='green')\n",
    "plt.scatter(X1grid[y[1,:]>=0.5],X2grid[y[1,:]>=0.5], marker='x', color='black')\n",
    "```"
   ]
  },
  {
   "cell_type": "code",
   "execution_count": null,
   "metadata": {},
   "outputs": [],
   "source": []
  },
  {
   "cell_type": "code",
   "execution_count": null,
   "metadata": {},
   "outputs": [],
   "source": []
  },
  {
   "cell_type": "code",
   "execution_count": null,
   "metadata": {},
   "outputs": [],
   "source": []
  },
  {
   "cell_type": "code",
   "execution_count": null,
   "metadata": {},
   "outputs": [],
   "source": []
  },
  {
   "cell_type": "markdown",
   "metadata": {},
   "source": [
    "```\n",
    "indx1 = y0<0.5\n",
    "indx2 = y1>=0.5\n",
    "indx = np.logical_and(indx1, indx2).reshape(N,N)\n",
    "plt.scatter(xxx1[indx], xxx2[indx], color='green')\n",
    "\n",
    "indx1 = y0>=0.5\n",
    "indx2 = y1<0.5\n",
    "indx = np.logical_and(indx1, indx2).reshape(N,N)\n",
    "plt.scatter(xxx1[indx], xxx2[indx], color='black')\n",
    "```"
   ]
  },
  {
   "cell_type": "code",
   "execution_count": null,
   "metadata": {},
   "outputs": [],
   "source": []
  },
  {
   "cell_type": "code",
   "execution_count": null,
   "metadata": {},
   "outputs": [],
   "source": []
  },
  {
   "cell_type": "code",
   "execution_count": null,
   "metadata": {},
   "outputs": [],
   "source": [
    "# https://stackoverflow.com/questions/36013063/what-is-the-purpose-of-meshgrid-in-python-numpy\n",
    "x1 = np.arange(-10, 10, 1)\n",
    "x2 = np.arange(-10, 10, 1)\n",
    "N = x1.shape[0]\n",
    "print(N)\n",
    "xx1, xx2 = np.meshgrid(x1, x2, sparse=True)\n",
    "z = np.sin(xx1**2 + xx2**2) / (1+xx1**2 + xx2**2)\n",
    "h = plt.contourf(x1,x2,z)\n",
    "#print(xx1)\n",
    "#print(xx2)"
   ]
  },
  {
   "cell_type": "code",
   "execution_count": null,
   "metadata": {},
   "outputs": [],
   "source": [
    "xxx1 = np.matlib.repmat(xx1,N,1)\n",
    "print(xxx1.shape)"
   ]
  },
  {
   "cell_type": "code",
   "execution_count": null,
   "metadata": {},
   "outputs": [],
   "source": [
    "xxx2 = np.matlib.repmat(xx2,1,N)\n",
    "print(xxx2.shape)"
   ]
  },
  {
   "cell_type": "code",
   "execution_count": null,
   "metadata": {},
   "outputs": [],
   "source": [
    "plt.scatter(xxx1[xxx2<0],xxx2[xxx2<0], color='blue')\n",
    "plt.scatter(xxx1[xxx2>=0],xxx2[xxx2>=0], color='red')"
   ]
  },
  {
   "cell_type": "code",
   "execution_count": null,
   "metadata": {},
   "outputs": [],
   "source": [
    "W = np.array([[1,2],[-6,4]])\n",
    "b = 0.0*np.array([[1,2]]).T\n",
    "y = np.zeros([2,N,N])\n",
    "print(y.shape)\n",
    "X = np.zeros([2,1])\n",
    "#print(y)\n",
    "#print(X)\n",
    "#print(W)\n",
    "#print(sigmoid(W.T @ X + b))\n",
    "#print('y = ', y[:,[0,0]])\n",
    "#print('y = ', y)\n",
    "y[:,[0,0]] = sigmoid(W.T @ X + b)"
   ]
  },
  {
   "cell_type": "code",
   "execution_count": null,
   "metadata": {},
   "outputs": [],
   "source": [
    "if False:\n",
    "    print(f'xx1 = {xx1}')\n",
    "    print(f'xx2 = {xx2}')\n",
    "\n"
   ]
  },
  {
   "cell_type": "code",
   "execution_count": null,
   "metadata": {},
   "outputs": [],
   "source": [
    "# Yes, these...\n",
    "c = 0\n",
    "for i in range(N):\n",
    "    for j in range(N):\n",
    "        X[0] = xx1[0,i]\n",
    "        X[1] = xx2[j,0]\n",
    "#        print('X=', X)\n",
    "        tmp = sigmoid(W.T @ X + b)\n",
    "        y[:,i,j] = tmp[:,0] \n",
    "#        print(f'tmp = {tmp}')\n",
    "#        print('y=',y[:,i,j])\n",
    "        c += 1"
   ]
  },
  {
   "cell_type": "code",
   "execution_count": null,
   "metadata": {},
   "outputs": [],
   "source": [
    "#print(y)"
   ]
  },
  {
   "cell_type": "code",
   "execution_count": null,
   "metadata": {},
   "outputs": [],
   "source": [
    "plt.scatter(xxx1[y[0,:]<0.5],xxx2[y[0,:]<0.5], color='blue')\n",
    "plt.scatter(xxx1[y[0,:]>=0.5],xxx2[y[0,:]>=0.5], color='red')\n",
    "plt.scatter(xxx1[y[1,:]<0.5],xxx2[y[1,:]<0.5], marker='x', color='green')\n",
    "plt.scatter(xxx1[y[1,:]>=0.5],xxx2[y[1,:]>=0.5], marker='x', color='black')\n",
    "\n"
   ]
  },
  {
   "cell_type": "code",
   "execution_count": null,
   "metadata": {},
   "outputs": [],
   "source": [
    "print(f'N = {N}')\n",
    "y0 = y[0,:].flatten()\n",
    "y1 = y[1,:].flatten()\n",
    "indx1 = y0<0.5\n",
    "indx2 = y1<0.5\n",
    "indx = np.logical_and(indx1, indx2).reshape(N,N)\n",
    "plt.scatter(xxx1[indx], xxx2[indx], color='blue')\n",
    "indx1 = y0>=0.5\n",
    "indx2 = y1>=0.5\n",
    "indx = np.logical_and(indx1, indx2).reshape(N,N)\n",
    "plt.scatter(xxx1[indx], xxx2[indx], color='red')\n",
    "\n",
    "indx1 = y0<0.5\n",
    "indx2 = y1>=0.5\n",
    "indx = np.logical_and(indx1, indx2).reshape(N,N)\n",
    "plt.scatter(xxx1[indx], xxx2[indx], color='green')\n",
    "\n",
    "indx1 = y0>=0.5\n",
    "indx2 = y1<0.5\n",
    "indx = np.logical_and(indx1, indx2).reshape(N,N)\n",
    "plt.scatter(xxx1[indx], xxx2[indx], color='black')\n",
    "\n"
   ]
  },
  {
   "cell_type": "code",
   "execution_count": null,
   "metadata": {},
   "outputs": [],
   "source": [
    "#indx1 = y[0,:]<0.5 and y[1,:]<0.5\n",
    "indx1 = y[0,:]<0.5\n",
    "indx2 = y[1,:]<0.5\n",
    "print('indx1 = ', indx1)\n",
    "indxR = np.intersect1d(indx1.flatten(),indx2.flatten())\n",
    "print(indxR)\n",
    "plt.scatter(xxx1[indxR], xxx2[indxR], color='blue')\n",
    "print(type(indx1))\n",
    "#plt.scatter(xxx1[y[0,:]<0.5], xxx2[y[1,:]<0.5], color='blue')\n",
    "#plt.scatter(xxx1[y[0,:]<0.5], xxx2[y[1,:]>=0.5], color='red')\n",
    "#plt.scatter(xxx1[y[0,:]>=0.5],xxx2[y[1,:]<0.5], marker='x', color='green')\n",
    "#plt.scatter(xxx1[y[0,:]>=0.5],xxx2[y[1,:]>=0.5], marker='x', color='black')"
   ]
  },
  {
   "cell_type": "markdown",
   "metadata": {},
   "source": []
  },
  {
   "cell_type": "code",
   "execution_count": null,
   "metadata": {},
   "outputs": [],
   "source": [
    "import numpy as np\n",
    "import seaborn as sns\n",
    "import matplotlib.pyplot as plt\n",
    "from sklearn.metrics import ConfusionMatrixDisplay\n",
    "from sklearn.model_selection import train_test_split\n",
    "from sklearn.preprocessing import StandardScaler\n",
    "from sklearn.metrics import classification_report, confusion_matrix, accuracy_score"
   ]
  },
  {
   "cell_type": "markdown",
   "metadata": {},
   "source": []
  },
  {
   "cell_type": "code",
   "execution_count": null,
   "metadata": {},
   "outputs": [],
   "source": []
  },
  {
   "cell_type": "code",
   "execution_count": null,
   "metadata": {},
   "outputs": [],
   "source": [
    "sns.get_dataset_names()\n",
    "dfi = sns.load_dataset('iris')\n",
    "dfi.head()"
   ]
  },
  {
   "cell_type": "code",
   "execution_count": null,
   "metadata": {},
   "outputs": [],
   "source": [
    "sns.pairplot(dfi, hue='species', height = 1.5)"
   ]
  },
  {
   "cell_type": "code",
   "execution_count": null,
   "metadata": {},
   "outputs": [],
   "source": [
    "# we want a binary classifier so we drop the virginica data\n",
    "dfid = dfi[ (dfi['species'] != 'virginica') == True ]\n",
    "sns.pairplot(dfid, hue='species', height = 1.5)"
   ]
  },
  {
   "cell_type": "code",
   "execution_count": null,
   "metadata": {},
   "outputs": [],
   "source": [
    "dfid.head()"
   ]
  },
  {
   "cell_type": "code",
   "execution_count": null,
   "metadata": {},
   "outputs": [],
   "source": [
    "# let's use petal length and sepal width as our features\n",
    "X = dfid.iloc[:,[1,2]].values\n",
    "# and species as our label\n",
    "y = dfid.iloc[:, 4].values"
   ]
  },
  {
   "cell_type": "code",
   "execution_count": null,
   "metadata": {},
   "outputs": [],
   "source": [
    "# select the setosa and versicolor feature rows\n",
    "#x_set = X[y == 'setosa',:]\n",
    "#x_ver = X[y == 'versicolor',:]"
   ]
  },
  {
   "cell_type": "markdown",
   "metadata": {},
   "source": [
    "<https://scikit-learn.org/stable/modules/svm.html>"
   ]
  },
  {
   "cell_type": "code",
   "execution_count": null,
   "metadata": {},
   "outputs": [],
   "source": [
    "# from the scikit-learn library we use 40% of the data to test\n",
    "\n",
    "X_train, X_test, y_train, y_test = train_test_split(X, y, test_size=0.40)"
   ]
  },
  {
   "cell_type": "code",
   "execution_count": null,
   "metadata": {},
   "outputs": [],
   "source": [
    "scaler = StandardScaler()\n",
    "# initialise the scaler by feeding it the training data\n",
    "scaler.fit(X_train)\n",
    "# now carry out the transformation of all of the feauture data\n",
    "X_train = scaler.transform(X_train)\n",
    "X_test = scaler.transform(X_test)"
   ]
  },
  {
   "cell_type": "code",
   "execution_count": null,
   "metadata": {},
   "outputs": [],
   "source": [
    "# import the SVM classifier\n",
    "from sklearn import svm\n",
    "# instance it\n",
    "svmclf = svm.SVC(kernel='linear')\n",
    "# and fit the training data\n",
    "svmclf.fit(X_train, y_train)"
   ]
  },
  {
   "cell_type": "code",
   "execution_count": null,
   "metadata": {},
   "outputs": [],
   "source": [
    "# make predictions on the test set\n",
    "y_pred = svmclf.predict(X_test)"
   ]
  },
  {
   "cell_type": "code",
   "execution_count": null,
   "metadata": {},
   "outputs": [],
   "source": [
    "\n",
    "cm = confusion_matrix(y_test, y_pred)\n",
    "print(\"Confusion Matrix:\")\n",
    "print(cm)\n",
    "clsrep = classification_report(y_test, y_pred)\n",
    "print(\"Classification Report:\",)\n",
    "print(clsrep)\n",
    "accsc = accuracy_score(y_test,y_pred)\n",
    "print(\"Accuracy:\", accsc)"
   ]
  },
  {
   "cell_type": "code",
   "execution_count": null,
   "metadata": {},
   "outputs": [],
   "source": [
    "\n",
    "cmplot = ConfusionMatrixDisplay(cm, display_labels=svmclf.classes_)\n",
    "cmplot.plot()\n",
    "plt.show()"
   ]
  },
  {
   "cell_type": "code",
   "execution_count": null,
   "metadata": {},
   "outputs": [],
   "source": [
    "indxS = np.where(y_test == 'setosa')[0]\n",
    "indxV = np.where(y_test != 'setosa')[0]\n",
    "plt.figure(figsize=(8,8)); plt.gca().set_aspect('equal')\n",
    "plt.scatter(X_test[indxS,0], X_test[indxS,1], color='blue')\n",
    "plt.scatter(X_test[indxV,0], X_test[indxV,1], color='red')\n",
    "plt.xlabel('sepal_width'); plt.ylabel('petal_length')"
   ]
  },
  {
   "cell_type": "code",
   "execution_count": null,
   "metadata": {},
   "outputs": [],
   "source": [
    "# get support vectors\n",
    "print('1=\\n', svmclf.support_vectors_)\n",
    "# get indices of support vectors\n",
    "print('2=\\n', svmclf.support_)\n",
    "# get number of support vectors for each class\n",
    "print('3=\\n', svmclf.n_support_)\n"
   ]
  },
  {
   "cell_type": "code",
   "execution_count": null,
   "metadata": {},
   "outputs": [],
   "source": [
    "# https://stackoverflow.com/questions/45894906/obtain-decision-boundary-for-svm\n",
    "for (intercept, coef) in zip(svmclf.intercept_, svmclf.coef_):\n",
    "    s = \"y = {0:.3f}\".format(intercept)\n",
    "    for (i, c) in enumerate(coef):\n",
    "        s += \" + {0:.3f} * x{1}\".format(c, i)\n",
    "\n",
    "    print(s)\n",
    "\n",
    "# ax0 + bx1 + c = 0\n",
    "print(svmclf.intercept_[0], svmclf.coef_[0])\n",
    "a = svmclf.coef_[0,0]\n",
    "b = svmclf.coef_[0,1]\n",
    "c = svmclf.intercept_[0]\n",
    "\n",
    "print(f'a={a}, b={b}, c={c}')"
   ]
  },
  {
   "cell_type": "code",
   "execution_count": null,
   "metadata": {},
   "outputs": [],
   "source": []
  },
  {
   "cell_type": "code",
   "execution_count": null,
   "metadata": {},
   "outputs": [],
   "source": [
    "indxS = np.where(y_train == 'setosa')[0]\n",
    "indxV = np.where(y_train != 'setosa')[0]\n",
    "plt.figure(figsize=(8,8)); plt.gca().set_aspect('equal')\n",
    "plt.scatter(X_train[indxS,0], X_train[indxS,1], color='blue')\n",
    "plt.scatter(X_train[indxV,0], X_train[indxV,1], color='red')\n",
    "plt.xlabel('sepal_width'); plt.ylabel('petal_length')\n",
    "\n",
    "#for k in range(0,svmclf.n_support_[0]):\n",
    "#    plt.plot([0,0], svmclf.support_vectors_[k,:], 'c')\n",
    "n0=svmclf.n_support_[0]\n",
    "n1=svmclf.n_support_[1]\n",
    "plt.scatter(svmclf.support_vectors_[:n0,0],svmclf.support_vectors_[:n0,1], color='green', marker='d')\n",
    "plt.scatter(svmclf.support_vectors_[n0:n0+n1,0],svmclf.support_vectors_[n0:n0+n1,1], color='magenta', marker='s')\n",
    "\n",
    "P0 = np.array([-2,3]); P1=-np.array([(a*P0[0]+c)/b,(a*P0[1]+c)/b])\n",
    "plt.plot(P0, P1, 'k')\n",
    "cn= c+1\n",
    "P0 = np.array([-2,3]); P1=-np.array([(a*P0[0]+cn)/b,(a*P0[1]+cn)/b])\n",
    "plt.plot(P0, P1, 'k')\n",
    "cn= c-1\n",
    "P0 = np.array([-2,3]); P1=-np.array([(a*P0[0]+cn)/b,(a*P0[1]+cn)/b])\n",
    "plt.plot(P0, P1, 'k')\n",
    "\n"
   ]
  },
  {
   "cell_type": "code",
   "execution_count": null,
   "metadata": {},
   "outputs": [],
   "source": [
    "indxS = np.where(y_test == 'setosa')[0]\n",
    "indxV = np.where(y_test != 'setosa')[0]\n",
    "plt.figure(figsize=(8,8)); plt.gca().set_aspect('equal')\n",
    "plt.scatter(X_test[indxS,0], X_test[indxS,1], color='blue')\n",
    "plt.scatter(X_test[indxV,0], X_test[indxV,1], color='red')\n",
    "plt.xlabel('sepal_width'); plt.ylabel('petal_length')\n",
    "\n",
    "#for k in range(0,svmclf.n_support_[0]):\n",
    "#    plt.plot([0,0], svmclf.support_vectors_[k,:], 'c')\n",
    "n0=svmclf.n_support_[0]\n",
    "n1=svmclf.n_support_[1]\n",
    "plt.scatter(svmclf.support_vectors_[:n0,0],svmclf.support_vectors_[:n0,1], color='green', marker='d')\n",
    "plt.scatter(svmclf.support_vectors_[n0:n0+n1,0],svmclf.support_vectors_[n0:n0+n1,1], color='magenta', marker='s')\n",
    "\n",
    "P0 = np.array([-2,3]); P1=-np.array([(a*P0[0]+c)/b,(a*P0[1]+c)/b])\n",
    "plt.plot(P0, P1, 'k')\n",
    "cn= c+1\n",
    "P0 = np.array([-2,3]); P1=-np.array([(a*P0[0]+cn)/b,(a*P0[1]+cn)/b])\n",
    "plt.plot(P0, P1, 'k')\n",
    "cn= c-1\n",
    "P0 = np.array([-2,3]); P1=-np.array([(a*P0[0]+cn)/b,(a*P0[1]+cn)/b])\n",
    "plt.plot(P0, P1, 'k')\n",
    "\n"
   ]
  },
  {
   "cell_type": "code",
   "execution_count": null,
   "metadata": {},
   "outputs": [],
   "source": [
    "indxS = np.where(y_pred == 'setosa')[0]\n",
    "indxV = np.where(y_pred != 'setosa')[0]\n",
    "plt.figure(figsize=(8,8)); plt.gca().set_aspect('equal')\n",
    "plt.scatter(X_test[indxS,0], X_test[indxS,1], color='blue')\n",
    "plt.scatter(X_test[indxV,0], X_test[indxV,1], color='red')\n",
    "plt.xlabel('sepal_width'); plt.ylabel('petal_length')\n",
    "\n",
    "#for k in range(0,svmclf.n_support_[0]):\n",
    "#    plt.plot([0,0], svmclf.support_vectors_[k,:], 'c')\n",
    "n0=svmclf.n_support_[0]\n",
    "n1=svmclf.n_support_[1]\n",
    "plt.scatter(svmclf.support_vectors_[:n0,0],svmclf.support_vectors_[:n0,1], color='green', marker='d')\n",
    "plt.scatter(svmclf.support_vectors_[n0:n0+n1,0],svmclf.support_vectors_[n0:n0+n1,1], color='magenta', marker='s')\n",
    "\n",
    "P0 = np.array([-2,3]); P1=-np.array([(a*P0[0]+c)/b,(a*P0[1]+c)/b])\n",
    "plt.plot(P0, P1, 'k')\n",
    "cn= c+1\n",
    "P0 = np.array([-2,3]); P1=-np.array([(a*P0[0]+cn)/b,(a*P0[1]+cn)/b])\n",
    "plt.plot(P0, P1, 'k')\n",
    "cn= c-1\n",
    "P0 = np.array([-2,3]); P1=-np.array([(a*P0[0]+cn)/b,(a*P0[1]+cn)/b])\n",
    "plt.plot(P0, P1, 'k')\n"
   ]
  },
  {
   "cell_type": "code",
   "execution_count": null,
   "metadata": {},
   "outputs": [],
   "source": []
  },
  {
   "cell_type": "code",
   "execution_count": null,
   "metadata": {},
   "outputs": [],
   "source": []
  },
  {
   "cell_type": "code",
   "execution_count": null,
   "metadata": {},
   "outputs": [],
   "source": []
  },
  {
   "cell_type": "markdown",
   "metadata": {},
   "source": [
    "### Review\n",
    "\n",
    "We covered *just enough*, to make *progress at pace*. We looked at\n",
    "\n",
    "- SVM\n",
    "- distance\n",
    "- ???????????????????????????????????????????????\n",
    "\n",
    "Now we can look at **artificial neural networks** and **deep learning**.\n",
    "\n",
    "<http://playground.tensorflow.org>\n",
    "\n",
    "<https://ethics-of-ai.mooc.fi/chapter-1/1-a-guide-to-ai-ethics>\n"
   ]
  },
  {
   "cell_type": "markdown",
   "metadata": {},
   "source": [
    "## Technical Notes, Production and Archiving\n",
    "\n",
    "Ignore the material below. What follows is not relevant to the material being taught."
   ]
  },
  {
   "cell_type": "markdown",
   "metadata": {},
   "source": [
    "#### Production Workflow\n",
    "\n",
    "- Finalise the notebook material above\n",
    "- Clear and fresh run of entire notebook\n",
    "- Create html slide show:\n",
    "  - `jupyter nbconvert --to slides 13_percep.ipynb `\n",
    "- Set `OUTPUTTING=1` below\n",
    "- Comment out the display of web-sourced diagrams\n",
    "- Clear and fresh run of entire notebook\n",
    "- Comment back in the display of web-sourced diagrams\n",
    "- Clear all cell output\n",
    "- Set `OUTPUTTING=0` below\n",
    "- Save\n",
    "- git add, commit and push to FML\n",
    "- copy PDF, HTML etc to web site\n",
    "  - git add, commit and push\n",
    "- rebuild binder"
   ]
  },
  {
   "cell_type": "markdown",
   "metadata": {},
   "source": [
    "Some of this originated from\n",
    "\n",
    "<https://stackoverflow.com/questions/38540326/save-html-of-a-jupyter-notebook-from-within-the-notebook>\n",
    "\n",
    "These lines create a back up of the notebook. They can be ignored.\n",
    "\n",
    "At some point this is better as a bash script outside of the notebook"
   ]
  },
  {
   "cell_type": "code",
   "execution_count": null,
   "metadata": {},
   "outputs": [],
   "source": [
    "%%bash\n",
    "NBROOTNAME=13_percep\n",
    "OUTPUTTING=1\n",
    "\n",
    "if [ $OUTPUTTING -eq 1 ]; then\n",
    "  jupyter nbconvert --to html $NBROOTNAME.ipynb\n",
    "  cp $NBROOTNAME.html ../backups/$(date +\"%m_%d_%Y-%H%M%S\")_$NBROOTNAME.html\n",
    "  mv -f $NBROOTNAME.html ./formats/html/\n",
    "\n",
    "  jupyter nbconvert --to pdf $NBROOTNAME.ipynb\n",
    "  cp $NBROOTNAME.pdf ../backups/$(date +\"%m_%d_%Y-%H%M%S\")_$NBROOTNAME.pdf\n",
    "  mv -f $NBROOTNAME.pdf ./formats/pdf/\n",
    "\n",
    "  jupyter nbconvert --to script $NBROOTNAME.ipynb\n",
    "  cp $NBROOTNAME.py ../backups/$(date +\"%m_%d_%Y-%H%M%S\")_$NBROOTNAME.py\n",
    "  mv -f $NBROOTNAME.py ./formats/py/\n",
    "else\n",
    "  echo 'Not Generating html, pdf and py output versions'\n",
    "fi"
   ]
  },
  {
   "cell_type": "code",
   "execution_count": null,
   "metadata": {},
   "outputs": [],
   "source": []
  }
 ],
 "metadata": {
  "celltoolbar": "Slideshow",
  "kernelspec": {
   "display_name": "Python 3",
   "language": "python",
   "name": "python3"
  },
  "language_info": {
   "codemirror_mode": {
    "name": "ipython",
    "version": 3
   },
   "file_extension": ".py",
   "mimetype": "text/x-python",
   "name": "python",
   "nbconvert_exporter": "python",
   "pygments_lexer": "ipython3",
   "version": "3.7.1"
  }
 },
 "nbformat": 4,
 "nbformat_minor": 4
}
