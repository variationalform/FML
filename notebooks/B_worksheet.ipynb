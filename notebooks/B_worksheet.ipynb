{
 "cells": [
  {
   "cell_type": "markdown",
   "metadata": {
    "slideshow": {
     "slide_type": "slide"
    }
   },
   "source": [
    "# Worksheet B\n",
    "\n",
    "#### *variationalform* <https://variationalform.github.io/>\n",
    "\n",
    "#### *Just Enough: progress at pace*\n",
    "\n",
    "<https://variationalform.github.io/>\n",
    "\n",
    "<https://github.com/variationalform>\n",
    "\n",
    "Simon Shaw\n",
    "<https://www.brunel.ac.uk/people/simon-shaw>."
   ]
  },
  {
   "cell_type": "markdown",
   "metadata": {
    "slideshow": {
     "slide_type": "fragment"
    }
   },
   "source": [
    "<table>\n",
    "<tr>\n",
    "<td>\n",
    "<img src=\"https://mirrors.creativecommons.org/presskit/icons/cc.svg?ref=chooser-v1\" style=\"height:18px\"/>\n",
    "<img src=\"https://mirrors.creativecommons.org/presskit/icons/by.svg?ref=chooser-v1\" style=\"height:18px\"/>\n",
    "<img src=\"https://mirrors.creativecommons.org/presskit/icons/sa.svg?ref=chooser-v1\" style=\"height:18px\"/>\n",
    "</td>\n",
    "<td>\n",
    "\n",
    "<p>\n",
    "This work is licensed under CC BY-SA 4.0 (Attribution-ShareAlike 4.0 International)\n",
    "\n",
    "<p>\n",
    "Visit <a href=\"http://creativecommons.org/licenses/by-sa/4.0/\">http://creativecommons.org/licenses/by-sa/4.0/</a> to see the terms.\n",
    "</td>\n",
    "</tr>\n",
    "</table>"
   ]
  },
  {
   "cell_type": "markdown",
   "metadata": {
    "slideshow": {
     "slide_type": "fragment"
    }
   },
   "source": [
    "<table>\n",
    "<tr>\n",
    "<td>This document uses python</td>\n",
    "<td>\n",
    "<img src=\"https://www.python.org/static/community_logos/python-logo-master-v3-TM.png\" style=\"height:30px\"/>\n",
    "</td>\n",
    "<td>and also makes use of LaTeX </td>\n",
    "<td>\n",
    "<img src=\"https://upload.wikimedia.org/wikipedia/commons/thumb/9/92/LaTeX_logo.svg/320px-LaTeX_logo.svg.png\" style=\"height:30px\"/>\n",
    "</td>\n",
    "<td>in Markdown</td> \n",
    "<td>\n",
    "<img src=\"https://github.com/adam-p/markdown-here/raw/master/src/common/images/icon48.png\" style=\"height:30px\"/>\n",
    "</td>\n",
    "</tr>\n",
    "</table>"
   ]
  },
  {
   "cell_type": "markdown",
   "metadata": {
    "slideshow": {
     "slide_type": "slide"
    }
   },
   "source": [
    "## What this is about:\n",
    "\n",
    "This worksheet is based on the material in the notebooks\n",
    "\n",
    "- matrices: matrix concepts and algebra\n",
    "- systems: systems of linear equations, under- and over-determined cases \n",
    "- decomp: eigensystem decomposition and SVD.\n",
    "\n",
    "Note that while the 'lecture' notebooks are prefixed with `1_`, `2_` and so on,\n",
    "to indicate the order in which they should be studied, the worksheets are prefixed\n",
    "with `A_`, `B_`, ..."
   ]
  },
  {
   "cell_type": "markdown",
   "metadata": {
    "slideshow": {
     "slide_type": "slide"
    }
   },
   "source": [
    "## Exercise 1\n",
    "\n",
    "Rebuild $\\boldsymbol{L}$ from the notes in `numpy`,\n",
    "\n",
    "$$\n",
    "\\boldsymbol{L} = \\left(\\begin{array}{rrr}\n",
    "1 & 5 & -7\\\\ -3 & -4 & 0\n",
    "\\end{array}\\right).\n",
    "$$\n",
    "\n",
    "\n",
    "1. What does `L.shape` give? (Look at the dimensions of $\\boldsymbol{L}$.)\n",
    "\n",
    "2. What does `L.ndim` give? ($\\boldsymbol{L}$ is two-dimensional.)\n",
    "\n",
    "3. Examine these statements. What do they do?\n",
    " - `np.ones(3)`\n",
    " - `np.ones([3,1])`\n",
    " - `np.ones([2,4])`\n",
    " - `np.zeros([2,4])`\n",
    " - `np.eye(4)`"
   ]
  },
  {
   "cell_type": "markdown",
   "metadata": {
    "slideshow": {
     "slide_type": "subslide"
    }
   },
   "source": [
    "4. Try these - explain the results: \n",
    " - `D = L.reshape([3,2])`\n",
    " - `E = L.reshape([6,])`\n",
    "\n",
    "5. What about these?\n",
    " - `np.arange(4)`\n",
    " - `np.arange(2,8)`\n",
    " - `np.arange(2,9,2)`\n",
    " - `np.linspace(4,9,num=6)`\n",
    " - `np.linspace(4,9,num=11)`\n",
    " \n",
    "`numpy` is very powerful: see this introduction for more details  <https://numpy.org/doc/stable/user/absolute_beginners.html>"
   ]
  },
  {
   "cell_type": "markdown",
   "metadata": {
    "slideshow": {
     "slide_type": "slide"
    }
   },
   "source": [
    "## Exercise 2\n",
    "\n",
    "In the lecture we decided that this is an under-determined system:\n",
    "\n",
    "$$\n",
    "\\boldsymbol{B}\\boldsymbol{u}=\\boldsymbol{f}\n",
    "\\qquad\\text{ for }\n",
    "\\boldsymbol{B}\n",
    "= \\left(\\begin{array}{rrr}\n",
    " 3 & -2 & 4 \\\\\n",
    "-6 & 6 & -11 \\\\\n",
    " 6 & -4 & 8 \\\\\n",
    "\\end{array}\\right)\n",
    "\\text{ and }\n",
    "\\boldsymbol{f}\n",
    "=\n",
    "\\left(\\begin{array}{rrr}\n",
    "2 \\\\ -1 \\\\ 4\n",
    "\\end{array}\\right)\n",
    "$$\n",
    "\n",
    "We claimed that $x = (10-2z)/6$ and $y = (9+9z)/6$ will\n",
    "solve this system for any choice of $z$\n",
    "\n",
    "1. Derive these solutions (Hint: move $z$ to the right and solve the $2\\times 2$ system).\n",
    "\n",
    "2. For large matrices finding the inverse is not practical.\n",
    "Fortunately, numpy can deal with under-determined systems using a least squares procedure.\n",
    "Try the following code. It's non-trivial, but it does illustrate this very advanced\n",
    "functionality.\n",
    "\n",
    "```python\n",
    "u,_,_,_ = np.linalg.lstsq(B,f,rcond=None)\n",
    "print(u)\n",
    "print(f-B.dot(u))\n",
    "```\n"
   ]
  },
  {
   "cell_type": "markdown",
   "metadata": {
    "slideshow": {
     "slide_type": "slide"
    }
   },
   "source": [
    "## Exercise 3\n",
    "\n",
    "We decided in the lecture that this is an over-determined system\n",
    "\n",
    "$$\n",
    "\\boldsymbol{B}\\boldsymbol{u}=\\boldsymbol{f}\n",
    "\\qquad\\text{ for }\n",
    "\\boldsymbol{B}\n",
    "= \\left(\\begin{array}{rrr}\n",
    " 3 & -2 \\\\\n",
    "-6 & 6  \\\\\n",
    " 6 & 2  \\\\\n",
    "\\end{array}\\right)\n",
    "\\text{ and }\n",
    "\\boldsymbol{f}\n",
    "=\n",
    "\\left(\\begin{array}{rrr}\n",
    "6 \\\\ -18 \\\\ 7\n",
    "\\end{array}\\right)\n",
    "$$\n",
    "\n",
    "and that a solution cannot exist. Try the *least squares* routine\n",
    "from `numpy` here and see what it produces."
   ]
  },
  {
   "cell_type": "markdown",
   "metadata": {
    "slideshow": {
     "slide_type": "slide"
    }
   },
   "source": [
    "## Exercise 4\n",
    "\n",
    "In the lecture we saw that \n",
    "$$\n",
    "\\text{if }\n",
    "\\boldsymbol{A} = \\left(\\begin{array}{rrr}\n",
    " 3 & -2 & 4  \\\\\n",
    "-2 &  6 & 2  \\\\\n",
    " 4 &  2 & 5\n",
    "\\end{array}\\right)\n",
    "$$\n",
    "\n",
    "then (with some rounding),\n",
    "\n",
    "$$\n",
    "\\boldsymbol{D} \\approx \\left(\n",
    "\\begin{array}{rrr}\n",
    "-1.217 &  0     & 0 \\\\\n",
    " 0     &  8.217 & 0 \\\\\n",
    " 0     &  0     & 7  \n",
    "\\end{array}\n",
    "\\right) \\quad\\text{ and }\\quad \\boldsymbol{V} \\approx \\left(\n",
    "\\begin{array}{rrr}\n",
    " .726 & .522 & -.447 \\\\\n",
    " .363 & .261 &  .894 \\\\\n",
    "-.584 & .812 &  0 \\\\\n",
    "\\end{array}\n",
    "\\right)\n",
    "$$\n",
    "\n",
    "- verify this with code.\n",
    "- verify that $\\boldsymbol{V}^{-1}=\\boldsymbol{V}^T$. Hint: `D=np.diag(w)`.\n",
    "- verify also that $\\boldsymbol{A}=\\boldsymbol{V}\\boldsymbol{D}\\boldsymbol{V}^T$\n",
    "\n"
   ]
  },
  {
   "cell_type": "markdown",
   "metadata": {
    "slideshow": {
     "slide_type": "slide"
    }
   },
   "source": [
    "## Exercise 5\n",
    "\n",
    "In the lecture we saw that after \n",
    "\n",
    "```\n",
    "A = np.array([[3,-2,4],[-2,6,2],[4,2,5]])\n",
    "w, V = np.linalg.eig(A)\n",
    "D=np.diag(w)\n",
    "```\n",
    "we could re-construct $\\boldsymbol{A}$ with\n",
    "\n",
    "```\n",
    "D[0,0]*V[:,0:1]*V[:,0:1].T + D[1,1]*V[:,1:2]*V[:,1:2].T + D[2,2]*V[:,2:3]*V[:,2:3].T\n",
    "```\n",
    "\n",
    "Investigate *python for loops* and re-code this using such a loop.\n",
    "\n",
    "Hint: a python for loop takes the form\n",
    "\n",
    "```\n",
    "for k in range(0,3):\n",
    "    do something with k = 0,1,2 in turn\n",
    "now carry on with something else\n",
    "```\n",
    "\n",
    "The indent is important here - it is the *loop body*. Jupyer gives you a \n",
    "four-space indent, but you can use more or less (but at least one) spaces.\n",
    "\n",
    "See e.g. <https://www.learnpython.org/en/Loops>"
   ]
  },
  {
   "cell_type": "markdown",
   "metadata": {
    "slideshow": {
     "slide_type": "slide"
    }
   },
   "source": [
    "## Exercise 6\n",
    "\n",
    "Find the eigen-decomposition of the matrix\n",
    "\n",
    "$$\n",
    "\\boldsymbol{T} = \\left(\\begin{array}{rrr}\n",
    " 7 & -3 & -9 \\\\\n",
    "-3 & -5 &  2 \\\\\n",
    "-9 &  2 & 10\n",
    "\\end{array}\\right)\n",
    "$$\n",
    "\n",
    "Order the eigenvalues so that \n",
    "$\\vert\\lambda_1\\vert \\ge \\vert\\lambda_2\\vert \\ge \\vert\\lambda_3\\vert$ \n",
    "and determine the partial recontructions,\n",
    "\n",
    "- $\\boldsymbol{T}_1 = \\lambda_1\\boldsymbol{v}_1\\boldsymbol{v}_1^T$\n",
    "- $\\boldsymbol{T}_2 = \\lambda_1\\boldsymbol{v}_1\\boldsymbol{v}_1^T + \\lambda_2\\boldsymbol{v}_2\\boldsymbol{v}_2^T$\n",
    "- $\\boldsymbol{T}_3 = \\lambda_1\\boldsymbol{v}_1\\boldsymbol{v}_1^T\n",
    "   + \\lambda_2\\boldsymbol{v}_2\\boldsymbol{v}_2^T+ \\lambda_3\\boldsymbol{v}_3\\boldsymbol{v}_3^T$\n",
    "\n",
    "\n",
    "Finally, check that $\\boldsymbol{T}_3 = \\boldsymbol{T}$."
   ]
  },
  {
   "cell_type": "markdown",
   "metadata": {
    "slideshow": {
     "slide_type": "slide"
    }
   },
   "source": [
    "## Exercise 7\n",
    "\n",
    "1. If $\\boldsymbol{A}$ is $n\\times n$ symmetric then how many independent\n",
    "quantities does it contain?\n",
    "\n",
    "2. If we approximate \n",
    "$$\n",
    "\\boldsymbol{A} =\n",
    "\\sum_{k=1}^n\n",
    "\\lambda_k\\boldsymbol{v}_k\\boldsymbol{v}_k^T\n",
    "\\qquad\\text{ by }\\qquad\n",
    "\\boldsymbol{A} \\approx\n",
    "\\sum_{k=1}^m\n",
    "\\lambda_k\\boldsymbol{v}_k\\boldsymbol{v}_k^T\n",
    "$$\n",
    "for some $k<$n, then how many independent quantities does this expression contain?\n",
    "\n",
    "3. What is the ratio of approximate size to exact size?\n",
    "\n",
    "4. Evaluate that ratio when $m=5$ and $n=1000$"
   ]
  },
  {
   "cell_type": "markdown",
   "metadata": {
    "slideshow": {
     "slide_type": "slide"
    }
   },
   "source": [
    "## Exercise 8\n",
    "\n",
    "Based originally on\n",
    "<https://stackoverflow.com/questions/8092920/sort-eigenvalues-and-associated-eigenvectors-after-using-numpy-linalg-eig-in-pyt>\n",
    "\n",
    "Let's think about ...\n",
    "\n",
    "- How can we use code to re-order the eigenvalues in `w` so that their absolute values are in descending order?\n",
    "- How can we use that re-ordering to correctly re-order the eigenvectors that are in the columns of V?\n",
    "\n",
    "First of all let's use the matrix $\\boldsymbol{A}$ that we saw in lectures."
   ]
  },
  {
   "cell_type": "code",
   "execution_count": 1,
   "metadata": {
    "slideshow": {
     "slide_type": "subslide"
    }
   },
   "outputs": [
    {
     "name": "stdout",
     "output_type": "stream",
     "text": [
      "V = \n",
      " [[ 7.26085219e-01  5.22302838e-01 -4.47213595e-01]\n",
      " [ 3.63042610e-01  2.61151419e-01  8.94427191e-01]\n",
      " [-5.83952325e-01  8.11787954e-01  2.85088132e-16]]\n",
      "D = \n",
      " [[-1.21699057  0.          0.        ]\n",
      " [ 0.          8.21699057  0.        ]\n",
      " [ 0.          0.          7.        ]]\n",
      "    w  =  [-1.21699057  8.21699057  7.        ]\n",
      "abs(w) =  [1.21699057 8.21699057 7.        ]\n"
     ]
    }
   ],
   "source": [
    "import numpy as np\n",
    "A = np.array([[3,-2,4],[-2,6,2],[4,2,5]])\n",
    "w, V = np.linalg.eig(A)\n",
    "D=np.diag(w)\n",
    "\n",
    "print('V = \\n', V)\n",
    "print('D = \\n', D)\n",
    "print('    w  = ', w)\n",
    "print('abs(w) = ', abs(w))"
   ]
  },
  {
   "cell_type": "markdown",
   "metadata": {
    "slideshow": {
     "slide_type": "subslide"
    }
   },
   "source": [
    "Now let's see how we can sort the eigenvalues by descending absolute value.\n",
    "\n",
    "We get them first in ascending order, and then flip them."
   ]
  },
  {
   "cell_type": "code",
   "execution_count": 2,
   "metadata": {
    "slideshow": {
     "slide_type": "fragment"
    }
   },
   "outputs": [
    {
     "name": "stdout",
     "output_type": "stream",
     "text": [
      "abs(w).argsort()           =  [0 2 1]\n",
      "np.flip( abs(w).argsort()) =  [1 2 0]\n",
      "abs(w).argsort()[::-1]     =  [1 2 0]\n",
      "indx =  [1 2 0]\n"
     ]
    }
   ],
   "source": [
    "# ascending...\n",
    "print('abs(w).argsort()           = ', abs(w).argsort())\n",
    "# flip to get descending\n",
    "print('np.flip( abs(w).argsort()) = ', np.flip( abs(w).argsort()))\n",
    "# or, alternatively,\n",
    "print('abs(w).argsort()[::-1]     = ', abs(w).argsort()[::-1])\n",
    "# the first is tidier - use it to store the indices.\n",
    "indx = np.flip( abs(w).argsort() )   \n",
    "print('indx = ', indx)"
   ]
  },
  {
   "cell_type": "markdown",
   "metadata": {
    "slideshow": {
     "slide_type": "subslide"
    }
   },
   "source": [
    "Now we can reassign `w` and `V` in descending order."
   ]
  },
  {
   "cell_type": "code",
   "execution_count": 3,
   "metadata": {
    "slideshow": {
     "slide_type": "fragment"
    }
   },
   "outputs": [
    {
     "name": "stdout",
     "output_type": "stream",
     "text": [
      "lambda =  [ 8.21699057  7.         -1.21699057]\n",
      "V = \n",
      " [[ 5.22302838e-01 -4.47213595e-01  7.26085219e-01]\n",
      " [ 2.61151419e-01  8.94427191e-01  3.63042610e-01]\n",
      " [ 8.11787954e-01  2.85088132e-16 -5.83952325e-01]]\n"
     ]
    }
   ],
   "source": [
    "w = w[indx]\n",
    "V = V[:,indx]\n",
    "print('lambda = ', w)\n",
    "print('V = \\n', V)"
   ]
  },
  {
   "cell_type": "markdown",
   "metadata": {
    "slideshow": {
     "slide_type": "subslide"
    }
   },
   "source": [
    "Re-visit the work above to find the eigen-decomposition of the matrix\n",
    "$\\boldsymbol{T}$ as given by,\n",
    "\n",
    "$$\n",
    "\\boldsymbol{T} = \\left(\\begin{array}{rrr}\n",
    " 7 & -3 & -9 \\\\\n",
    "-3 & -5 &  2 \\\\\n",
    "-9 &  2 & 10\n",
    "\\end{array}\\right)\n",
    "$$\n",
    "\n",
    "Use code, as descibed above, to order the eigenvalues so that \n",
    "$\\vert\\lambda_1\\vert \\ge \\vert\\lambda_2\\vert \\ge \\vert\\lambda_3\\vert$ \n",
    "and determine the partial recontructions,\n",
    "\n",
    "- $\\boldsymbol{T}_1 = \\lambda_1\\boldsymbol{v}_1\\boldsymbol{v}_1^T$\n",
    "- $\\boldsymbol{T}_2 = \\lambda_1\\boldsymbol{v}_1\\boldsymbol{v}_1^T + \\lambda_2\\boldsymbol{v}_2\\boldsymbol{v}_2^T$\n",
    "- $\\boldsymbol{T}_3 = \\lambda_1\\boldsymbol{v}_1\\boldsymbol{v}_1^T + \\lambda_2\\boldsymbol{v}_2\\boldsymbol{v}_2^T\n",
    "   + \\lambda_3\\boldsymbol{v}_3\\boldsymbol{v}_3^T$\n",
    "\n",
    "Finally, check that $\\boldsymbol{T}_3 = \\boldsymbol{T}$.\n",
    "\n",
    "Recall that in the lecture we sorted the eigenvalues manually...\n",
    "\n",
    "We have now seen how to automate the sorting."
   ]
  },
  {
   "cell_type": "markdown",
   "metadata": {
    "slideshow": {
     "slide_type": "subslide"
    }
   },
   "source": [
    "### Extra Challenge...\n",
    "\n",
    "Use a python for loop to determine those partial sums for $\\boldsymbol{T}_i$, $i-1,2,3$.\n",
    "\n",
    "Illustrate the relative errors in the partial and full reconstructions.\n",
    "\n",
    "Hint: you can use `np.allclose(A,B)` to see if two matrices are the same up toa  given tolerance.\n",
    "\n",
    "And: you can use `np.linalg.norm(A-B)` to check the norm, or *size*, of \n",
    "$\\boldsymbol{A}-\\boldsymbol{B}$."
   ]
  },
  {
   "cell_type": "markdown",
   "metadata": {
    "slideshow": {
     "slide_type": "slide"
    }
   },
   "source": [
    "# Outline solutions\n",
    "\n",
    "First import what we need..."
   ]
  },
  {
   "cell_type": "code",
   "execution_count": 4,
   "metadata": {
    "slideshow": {
     "slide_type": "fragment"
    }
   },
   "outputs": [],
   "source": [
    "import numpy as np"
   ]
  },
  {
   "cell_type": "markdown",
   "metadata": {
    "slideshow": {
     "slide_type": "slide"
    }
   },
   "source": [
    "## Exercise 1 - outline solutions"
   ]
  },
  {
   "cell_type": "code",
   "execution_count": 5,
   "metadata": {
    "slideshow": {
     "slide_type": "subslide"
    }
   },
   "outputs": [
    {
     "name": "stdout",
     "output_type": "stream",
     "text": [
      "2\n",
      "(2, 3)\n",
      "[1. 1. 1.]\n",
      "[[1.]\n",
      " [1.]\n",
      " [1.]]\n",
      "[[1. 1. 1. 1.]\n",
      " [1. 1. 1. 1.]]\n",
      "[[0. 0. 0. 0.]\n",
      " [0. 0. 0. 0.]]\n",
      "[[1. 0. 0. 0.]\n",
      " [0. 1. 0. 0.]\n",
      " [0. 0. 1. 0.]\n",
      " [0. 0. 0. 1.]]\n",
      "[[ 1  5 -7]\n",
      " [-3 -4  0]]\n",
      "[[ 1  5]\n",
      " [-7 -3]\n",
      " [-4  0]]\n",
      "[ 1  5 -7 -3 -4  0]\n",
      "[0 1 2 3]\n",
      "[2 3 4 5 6 7]\n",
      "[2 4 6 8]\n",
      "[4. 5. 6. 7. 8. 9.]\n",
      "[4.  4.5 5.  5.5 6.  6.5 7.  7.5 8.  8.5 9. ]\n"
     ]
    }
   ],
   "source": [
    "L = np.array([[1, 5, -7],[-3, -4, 0]])\n",
    "print(L.ndim)\n",
    "print(L.shape)\n",
    "print(np.ones(3))\n",
    "print(np.ones([3,1]))\n",
    "print(np.ones([2,4]))\n",
    "print(np.zeros([2,4]))\n",
    "print(np.eye(4))\n",
    "\n",
    "print(L)\n",
    "D = L.reshape([3,2])\n",
    "print(D)\n",
    "E = L.reshape([6,])\n",
    "print(E)\n",
    "\n",
    "print(np.arange(4))\n",
    "print(np.arange(2,8))\n",
    "print(np.arange(2,9,2))\n",
    "print(np.linspace(4,9,num=6))\n",
    "print(np.linspace(4,9,num=11))"
   ]
  },
  {
   "cell_type": "markdown",
   "metadata": {
    "slideshow": {
     "slide_type": "slide"
    }
   },
   "source": [
    "## Exercise 2 - outline solutions\n",
    "\n",
    "In the lecture we decided that this is an under-determined system:\n",
    "\n",
    "$$\n",
    "\\boldsymbol{B}\\boldsymbol{u}=\\boldsymbol{f}\n",
    "\\qquad\\text{ for }\n",
    "\\boldsymbol{B}\n",
    "= \\left(\\begin{array}{rrr}\n",
    " 3 & -2 & 4 \\\\\n",
    "-6 & 6 & -11 \\\\\n",
    " 6 & -4 & 8 \\\\\n",
    "\\end{array}\\right)\n",
    "\\text{ and }\n",
    "\\boldsymbol{f}\n",
    "=\n",
    "\\left(\\begin{array}{rrr}\n",
    "2 \\\\ -1 \\\\ 4\n",
    "\\end{array}\\right)\n",
    "$$\n",
    "\n",
    "Write this as\n",
    "\n",
    "$$\n",
    "\\left(\\begin{array}{rr}\n",
    " 3 & -2\\\\\n",
    "-6 & 6 \\\\\n",
    "\\end{array}\\right)\n",
    "\\left(\\begin{array}{rrr}\n",
    "x \\\\ y\n",
    "\\end{array}\\right)\n",
    "=\n",
    "\\left(\\begin{array}{rrr}\n",
    "2-4z \\\\ -1+11z\n",
    "\\end{array}\\right)\n",
    "$$\n",
    "\n",
    "and then use the inverse matrix (easy for a $2\\times 2$) to get\n",
    "\n",
    "$$\n",
    "\\left(\\begin{array}{rrr}\n",
    "x \\\\ y\n",
    "\\end{array}\\right)\n",
    "=\n",
    "\\frac{1}{6}\n",
    "\\left(\\begin{array}{rr}\n",
    " 6 & 2\\\\\n",
    " 6 & 3 \\\\\n",
    "\\end{array}\\right)\n",
    "\\left(\\begin{array}{rrr}\n",
    "2-4z \\\\ -1+11z\n",
    "\\end{array}\\right)\n",
    "$$\n",
    "\n",
    "These are the formulae we saw in the lecture notes."
   ]
  },
  {
   "cell_type": "code",
   "execution_count": 6,
   "metadata": {
    "slideshow": {
     "slide_type": "subslide"
    }
   },
   "outputs": [],
   "source": [
    "B = np.array( [[3, -2, 4],[-6, 6, -11],[ 6, -4, 8 ]])\n",
    "f = np.array([[2], [-1], [4]])"
   ]
  },
  {
   "cell_type": "code",
   "execution_count": 7,
   "metadata": {
    "slideshow": {
     "slide_type": "fragment"
    }
   },
   "outputs": [
    {
     "name": "stdout",
     "output_type": "stream",
     "text": [
      "[[ 2.]\n",
      " [-1.]\n",
      " [ 4.]]\n"
     ]
    }
   ],
   "source": [
    "z = 0\n",
    "x = (10-2*z)/6\n",
    "y = (9+9*z)/6\n",
    "u = np.array([[x],[y],[z]])\n",
    "print(B.dot(u))\n"
   ]
  },
  {
   "cell_type": "markdown",
   "metadata": {
    "slideshow": {
     "slide_type": "subslide"
    }
   },
   "source": [
    "On the other hand, for large matrices finding the inverse is not practical.\n",
    "\n",
    "Fortunately, `numpy` can deal with under-determined systems using a *least squares* procedure."
   ]
  },
  {
   "cell_type": "code",
   "execution_count": 8,
   "metadata": {
    "slideshow": {
     "slide_type": "fragment"
    }
   },
   "outputs": [
    {
     "name": "stdout",
     "output_type": "stream",
     "text": [
      "[[ 1.83471074]\n",
      " [ 0.74380165]\n",
      " [-0.50413223]]\n",
      "[[-2.66453526e-15]\n",
      " [ 6.21724894e-15]\n",
      " [-5.32907052e-15]]\n"
     ]
    }
   ],
   "source": [
    "u,_,_,_ = np.linalg.lstsq(B,f,rcond=None)\n",
    "print(u)\n",
    "print(f-B.dot(u))"
   ]
  },
  {
   "cell_type": "markdown",
   "metadata": {
    "slideshow": {
     "slide_type": "fragment"
    }
   },
   "source": [
    "Note that the result of $\\boldsymbol{f}-\\boldsymbol{B}\\boldsymbol{u}=\\boldsymbol{0}$\n",
    "up to rounding error. We'd expect this because we know that solutions exist."
   ]
  },
  {
   "cell_type": "markdown",
   "metadata": {
    "slideshow": {
     "slide_type": "slide"
    }
   },
   "source": [
    "## Exercise 3 - outline solution\n",
    "\n",
    "For this over-determined system\n",
    "\n",
    "$$\n",
    "\\boldsymbol{B}\\boldsymbol{u}=\\boldsymbol{f}\n",
    "\\qquad\\text{ for }\n",
    "\\boldsymbol{B}\n",
    "= \\left(\\begin{array}{rrr}\n",
    " 3 & -2 \\\\\n",
    "-6 & 6  \\\\\n",
    " 6 & 2  \\\\\n",
    "\\end{array}\\right)\n",
    "\\text{ and }\n",
    "\\boldsymbol{f}\n",
    "=\n",
    "\\left(\\begin{array}{rrr}\n",
    "6 \\\\ -18 \\\\ 7\n",
    "\\end{array}\\right)\n",
    "$$\n",
    "\n",
    "a solution cannot exist. However, we can try the *least squares* routine\n",
    "from `numpy` here and see what it produces..."
   ]
  },
  {
   "cell_type": "code",
   "execution_count": 9,
   "metadata": {
    "slideshow": {
     "slide_type": "subslide"
    }
   },
   "outputs": [
    {
     "name": "stdout",
     "output_type": "stream",
     "text": [
      "[[ 1.58108108]\n",
      " [-1.33108108]]\n",
      "[[-1.40540541]\n",
      " [-0.52702703]\n",
      " [ 0.17567568]]\n"
     ]
    }
   ],
   "source": [
    "B = np.array( [[3, -2],[-6, 6],[ 6, 2]])\n",
    "f = np.array([[6], [-18], [7]])\n",
    "\n",
    "u,_,_,_ = np.linalg.lstsq(B,f,rcond=None)\n",
    "print(u)\n",
    "print(f-B.dot(u))"
   ]
  },
  {
   "cell_type": "markdown",
   "metadata": {
    "slideshow": {
     "slide_type": "fragment"
    }
   },
   "source": [
    "Note that the result of $\\boldsymbol{f}-\\boldsymbol{B}\\boldsymbol{u}\\ne\\boldsymbol{0}$.\n",
    "Again, we expect this because we know that no solution can exist.\n",
    "\n",
    "So, what's happening here? Well `numpy` is trying to give us a *best* attempt at a solution..."
   ]
  },
  {
   "cell_type": "markdown",
   "metadata": {
    "slideshow": {
     "slide_type": "slide"
    }
   },
   "source": [
    "## Exercise 4 - outline solution"
   ]
  },
  {
   "cell_type": "code",
   "execution_count": 10,
   "metadata": {
    "slideshow": {
     "slide_type": "fragment"
    }
   },
   "outputs": [
    {
     "name": "stdout",
     "output_type": "stream",
     "text": [
      "A=\n",
      " [[ 3 -2  4]\n",
      " [-2  6  2]\n",
      " [ 4  2  5]] \n",
      " w=\n",
      " [-1.21699057  8.21699057  7.        ] \n",
      " D=\n",
      " [[-1.21699057  0.          0.        ]\n",
      " [ 0.          8.21699057  0.        ]\n",
      " [ 0.          0.          7.        ]] \n",
      " V=\n",
      " [[ 7.26085219e-01  5.22302838e-01 -4.47213595e-01]\n",
      " [ 3.63042610e-01  2.61151419e-01  8.94427191e-01]\n",
      " [-5.83952325e-01  8.11787954e-01  2.85088132e-16]]\n",
      "V V^T = ...\n",
      " [[ 1.00000000e+00 -1.55686504e-16  3.16593922e-16]\n",
      " [-1.55686504e-16  1.00000000e+00 -3.00120936e-16]\n",
      " [ 3.16593922e-16 -3.00120936e-16  1.00000000e+00]]\n",
      "\n",
      " error ...\n",
      " [[-5.32907052e-15  2.66453526e-15 -3.55271368e-15]\n",
      " [ 2.22044605e-15  2.66453526e-15  4.44089210e-16]\n",
      " [-4.44089210e-15  6.66133815e-16  8.88178420e-16]]\n",
      "sum = -3.774758283725532e-15\n"
     ]
    }
   ],
   "source": [
    "A = np.array([[3,-2,4],[-2,6,2],[4,2,5]])\n",
    "w, V = np.linalg.eig(A)\n",
    "D=np.diag(w)\n",
    "print('A=\\n',A,'\\n','w=\\n',w,'\\n','D=\\n',D,'\\n','V=\\n',V)\n",
    "print('V V^T = ...\\n',V.dot(V.T))\n",
    "print('\\n error ...\\n',A-V.dot(D.dot(V.T)))\n",
    "\n",
    "print('sum =', np.sum(A-V.dot(D.dot(V.T))) )\n",
    "assert np.sum(A-V.dot(D.dot(V.T))) < 0.0001"
   ]
  },
  {
   "cell_type": "markdown",
   "metadata": {
    "slideshow": {
     "slide_type": "slide"
    }
   },
   "source": [
    "## Exercise 5 - outline solution"
   ]
  },
  {
   "cell_type": "code",
   "execution_count": 11,
   "metadata": {
    "slideshow": {
     "slide_type": "fragment"
    }
   },
   "outputs": [
    {
     "name": "stdout",
     "output_type": "stream",
     "text": [
      "[[ 3 -2  4]\n",
      " [-2  6  2]\n",
      " [ 4  2  5]]\n",
      "\n",
      " The reconstruction of A ...\n",
      "[[ 3. -2.  4.]\n",
      " [-2.  6.  2.]\n",
      " [ 4.  2.  5.]]\n",
      "[[ 3. -2.  4.]\n",
      " [-2.  6.  2.]\n",
      " [ 4.  2.  5.]]\n"
     ]
    }
   ],
   "source": [
    "A = np.array([[3,-2,4],[-2,6,2],[4,2,5]])\n",
    "w, V = np.linalg.eig(A)\n",
    "D=np.diag(w)\n",
    "print(A)\n",
    "# from the lecture\n",
    "print('\\n The reconstruction of A ...')\n",
    "print(D[0,0]*V[:,0:1]*V[:,0:1].T + D[1,1]*V[:,1:2]*V[:,1:2].T + D[2,2]*V[:,2:3]*V[:,2:3].T)\n",
    "\n",
    "# using a for loop\n",
    "M = np.zeros(A.shape)\n",
    "for k in range(0,3):\n",
    "    M += D[k,k]*V[:,k:k+1]*V[:,k:k+1].T\n",
    "print(M)"
   ]
  },
  {
   "cell_type": "markdown",
   "metadata": {
    "slideshow": {
     "slide_type": "slide"
    }
   },
   "source": [
    "## Exercise 6 - outline solution"
   ]
  },
  {
   "cell_type": "code",
   "execution_count": 12,
   "metadata": {
    "slideshow": {
     "slide_type": "fragment"
    }
   },
   "outputs": [
    {
     "name": "stdout",
     "output_type": "stream",
     "text": [
      "lambda =  [18.14414013 -0.43436748 -5.70977265]\n"
     ]
    }
   ],
   "source": [
    "# possible solution\n",
    "T = np.array([[7,-3,-9],[-3,-5,2],[-9,2,10]])\n",
    "w, V = np.linalg.eig(T)\n",
    "# look at the eigenvalues to manually sort them...\n",
    "print('lambda = ', w)"
   ]
  },
  {
   "cell_type": "markdown",
   "metadata": {
    "slideshow": {
     "slide_type": "fragment"
    }
   },
   "source": [
    "We can see that $\\vert\\lambda_1\\vert > \\vert\\lambda_3\\vert > \\vert\\lambda_2\\vert$\n",
    "and so, we can select them out in the correct order manually like this..."
   ]
  },
  {
   "cell_type": "code",
   "execution_count": 13,
   "metadata": {
    "slideshow": {
     "slide_type": "subslide"
    }
   },
   "outputs": [
    {
     "name": "stdout",
     "output_type": "stream",
     "text": [
      "T1 = \n",
      " [[ 7.55329941 -1.7372557  -8.77369555]\n",
      " [-1.7372557   0.39956808  2.0179463 ]\n",
      " [-8.77369555  2.0179463  10.19127264]]\n",
      "T2 = \n",
      " [[ 7.22886142 -3.05895812 -8.79129842]\n",
      " [-3.05895812 -4.98481151  1.94623536]\n",
      " [-8.79129842  1.94623536 10.19031757]]\n",
      "T-T3 = \n",
      " [[-4.44089210e-15  2.66453526e-15  7.10542736e-15]\n",
      " [ 2.66453526e-15  8.88178420e-16 -8.88178420e-16]\n",
      " [ 7.10542736e-15 -8.88178420e-16 -8.88178420e-15]]\n"
     ]
    }
   ],
   "source": [
    "D=np.diag(w)\n",
    "T1 = D[0,0]*V[:,0:1]*V[:,0:1].T       # using lambda_1\n",
    "T2 = T1 + D[2,2]*V[:,2:3]*V[:,2:3].T  # using lambda_2\n",
    "T3 = T2 + D[1,1]*V[:,1:2]*V[:,1:2].T  # using lambda_3\n",
    "print('T1 = \\n', T1)\n",
    "print('T2 = \\n', T2)\n",
    "print('T-T3 = \\n', T-T3)"
   ]
  },
  {
   "cell_type": "markdown",
   "metadata": {
    "slideshow": {
     "slide_type": "slide"
    }
   },
   "source": [
    "## Exercise 7 - outline solution\n",
    "\n",
    "1. There are $n^2$ entries in the matrix but those under the diagonal \n",
    "are replicated above the diagonal. Hence, by adding the length of\n",
    "the diagonal to the first, and then second, and then third, ...,\n",
    "super-diagonals there are just \n",
    "$$\n",
    "n+(n-1) + (n-2) + \\cdots + 2 + 1 = \\frac{(n+1)n}{2}.\n",
    "$$\n",
    "\n",
    "2. $\\boldsymbol{v}_k$ has $n$ entries, and $\\lambda_k$ is just one number.\n",
    "Hence this expression has just $m(n+1)$.\n",
    "\n",
    "3. The ratio is therefore\n",
    "\n",
    "$$\n",
    "m(n+1)\\div\\frac{n(n+1)}{2}\n",
    "= \n",
    "\\frac{2m(n+1)}{n(n+1)}\n",
    "= \n",
    "\\frac{2m}{n}.\n",
    "$$\n",
    "\n",
    "4. $m=5$ and $n=1000$ gives the ratio\n",
    "$\\displaystyle\\frac{2m}{n}=\\frac{2\\times 5}{1000} = 1\\%$."
   ]
  },
  {
   "cell_type": "markdown",
   "metadata": {
    "slideshow": {
     "slide_type": "slide"
    }
   },
   "source": [
    "## Exercise 8 - outline solution\n"
   ]
  },
  {
   "cell_type": "code",
   "execution_count": 14,
   "metadata": {
    "slideshow": {
     "slide_type": "fragment"
    }
   },
   "outputs": [
    {
     "name": "stdout",
     "output_type": "stream",
     "text": [
      "[[ 7 -3 -9]\n",
      " [-3 -5  2]\n",
      " [-9  2 10]]\n",
      "T1 = \n",
      " [[ 7.55329941 -1.7372557  -8.77369555]\n",
      " [-1.7372557   0.39956808  2.0179463 ]\n",
      " [-8.77369555  2.0179463  10.19127264]]\n",
      "T2 = \n",
      " [[ 7.22886142 -3.05895812 -8.79129842]\n",
      " [-3.05895812 -4.98481151  1.94623536]\n",
      " [-8.79129842  1.94623536 10.19031757]]\n",
      "T-T3 = \n",
      " [[-4.44089210e-15  2.66453526e-15  7.10542736e-15]\n",
      " [ 2.66453526e-15  8.88178420e-16 -8.88178420e-16]\n",
      " [ 7.10542736e-15 -8.88178420e-16 -8.88178420e-15]]\n"
     ]
    }
   ],
   "source": [
    "T = np.array([[7,-3,-9],[-3,-5,2],[-9,2,10]])\n",
    "print(T)\n",
    "w, V = np.linalg.eig(T)\n",
    "indx = np.flip( abs(w).argsort() )   \n",
    "w = w[indx]\n",
    "V = V[:,indx]\n",
    "D=np.diag(w)\n",
    "T1 = D[0,0]*V[:,0:1]*V[:,0:1].T\n",
    "T2 = T1 + D[1,1]*V[:,1:2]*V[:,1:2].T\n",
    "T3 = T2 + D[2,2]*V[:,2:3]*V[:,2:3].T\n",
    "print('T1 = \\n', T1)\n",
    "print('T2 = \\n', T2)\n",
    "print('T-T3 = \\n', T-T3)"
   ]
  },
  {
   "cell_type": "markdown",
   "metadata": {
    "slideshow": {
     "slide_type": "subslide"
    }
   },
   "source": [
    "### Extra - outline solution"
   ]
  },
  {
   "cell_type": "code",
   "execution_count": 15,
   "metadata": {
    "slideshow": {
     "slide_type": "fragment"
    }
   },
   "outputs": [
    {
     "name": "stdout",
     "output_type": "stream",
     "text": [
      "E=\n",
      " [[ 7.55329941 -1.7372557  -8.77369555]\n",
      " [-1.7372557   0.39956808  2.0179463 ]\n",
      " [-8.77369555  2.0179463  10.19127264]]\n",
      "(A-E)/A [[-0.07904277  0.42091477  0.02514494]\n",
      " [ 0.42091477  1.07991362 -0.00897315]\n",
      " [ 0.02514494 -0.00897315 -0.01912726]]\n",
      "max{ (A-E)/A } 1.0799136164905145\n",
      "E=\n",
      " [[ 7.22886142 -3.05895812 -8.79129842]\n",
      " [-3.05895812 -4.98481151  1.94623536]\n",
      " [-8.79129842  1.94623536 10.19031757]]\n",
      "(A-E)/A [[-0.03269449 -0.01965271  0.02318906]\n",
      " [-0.01965271  0.0030377   0.02688232]\n",
      " [ 0.02318906  0.02688232 -0.01903176]]\n",
      "max{ (A-E)/A } 0.026882320613163202\n",
      "E=\n",
      " [[ 7. -3. -9.]\n",
      " [-3. -5.  2.]\n",
      " [-9.  2. 10.]]\n",
      "(A-E)/A [[-6.34413157e-16 -8.88178420e-16 -7.89491929e-16]\n",
      " [-8.88178420e-16 -1.77635684e-16 -4.44089210e-16]\n",
      " [-7.89491929e-16 -4.44089210e-16 -8.88178420e-16]]\n",
      "max{ (A-E)/A } -1.7763568394002506e-16\n"
     ]
    }
   ],
   "source": [
    "E = np.zeros(T.shape)\n",
    "for i in range(0,3):\n",
    "    E = E + w[i] * V[:,i:i+1] @ V[:,i:i+1].T\n",
    "    print('E=\\n',E)\n",
    "    print('(A-E)/A', (T-E)/T)\n",
    "    print('max{ (A-E)/A }', np.max( (T-E)/T) )"
   ]
  },
  {
   "cell_type": "markdown",
   "metadata": {},
   "source": [
    "## Technical Notes, Production and Archiving\n",
    "\n",
    "Ignore the material below. What follows is not relevant to the material being taught."
   ]
  },
  {
   "cell_type": "markdown",
   "metadata": {},
   "source": [
    "#### Production Workflow\n",
    "\n",
    "- Finalise the notebook material above\n",
    "- Clear and fresh run of entire notebook\n",
    "- Create html slide show:\n",
    "  - `jupyter nbconvert --to slides B_worksheet.ipynb `\n",
    "- Set `OUTPUTTING=1` below\n",
    "- Comment out the display of web-sourced diagrams\n",
    "- Clear and fresh run of entire notebook\n",
    "- Comment back in the display of web-sourced diagrams\n",
    "- Clear all cell output\n",
    "- Set `OUTPUTTING=0` below\n",
    "- Save\n",
    "- git add, commit and push to FML\n",
    "- copy PDF, HTML etc to web site\n",
    "  - git add, commit and push\n",
    "- rebuild binder"
   ]
  },
  {
   "cell_type": "markdown",
   "metadata": {},
   "source": [
    "Some of this originated from\n",
    "\n",
    "<https://stackoverflow.com/questions/38540326/save-html-of-a-jupyter-notebook-from-within-the-notebook>\n",
    "\n",
    "These lines create a back up of the notebook. They can be ignored.\n",
    "\n",
    "At some point this is better as a bash script outside of the notebook"
   ]
  },
  {
   "cell_type": "code",
   "execution_count": 16,
   "metadata": {},
   "outputs": [
    {
     "name": "stderr",
     "output_type": "stream",
     "text": [
      "[NbConvertApp] Converting notebook B_worksheet.ipynb to html\n",
      "[NbConvertApp] Writing 642469 bytes to B_worksheet.html\n",
      "[NbConvertApp] Converting notebook B_worksheet.ipynb to pdf\n",
      "[NbConvertApp] Writing 64109 bytes to notebook.tex\n",
      "[NbConvertApp] Building PDF\n",
      "[NbConvertApp] Running xelatex 3 times: ['xelatex', 'notebook.tex', '-quiet']\n",
      "[NbConvertApp] Running bibtex 1 time: ['bibtex', 'notebook']\n",
      "[NbConvertApp] WARNING | bibtex had problems, most likely because there were no citations\n",
      "[NbConvertApp] PDF successfully created\n",
      "[NbConvertApp] Writing 94367 bytes to B_worksheet.pdf\n",
      "[NbConvertApp] Converting notebook B_worksheet.ipynb to script\n",
      "[NbConvertApp] Writing 17184 bytes to B_worksheet.py\n"
     ]
    }
   ],
   "source": [
    "%%bash\n",
    "NBROOTNAME='B_worksheet'\n",
    "OUTPUTTING=0\n",
    "\n",
    "if [ $OUTPUTTING -eq 1 ]; then\n",
    "  jupyter nbconvert --to html $NBROOTNAME.ipynb\n",
    "  cp $NBROOTNAME.html ../backups/$(date +\"%m_%d_%Y-%H%M%S\")_$NBROOTNAME.html\n",
    "  mv -f $NBROOTNAME.html ./formats/html/\n",
    "\n",
    "  jupyter nbconvert --to pdf $NBROOTNAME.ipynb\n",
    "  cp $NBROOTNAME.pdf ../backups/$(date +\"%m_%d_%Y-%H%M%S\")_$NBROOTNAME.pdf\n",
    "  mv -f $NBROOTNAME.pdf ./formats/pdf/\n",
    "\n",
    "  jupyter nbconvert --to script $NBROOTNAME.ipynb\n",
    "  cp $NBROOTNAME.py ../backups/$(date +\"%m_%d_%Y-%H%M%S\")_$NBROOTNAME.py\n",
    "  mv -f $NBROOTNAME.py ./formats/py/\n",
    "else\n",
    "  echo 'Not Generating html, pdf and py output versions'\n",
    "fi"
   ]
  },
  {
   "cell_type": "code",
   "execution_count": null,
   "metadata": {},
   "outputs": [],
   "source": []
  }
 ],
 "metadata": {
  "celltoolbar": "Slideshow",
  "kernelspec": {
   "display_name": "Python 3",
   "language": "python",
   "name": "python3"
  },
  "language_info": {
   "codemirror_mode": {
    "name": "ipython",
    "version": 3
   },
   "file_extension": ".py",
   "mimetype": "text/x-python",
   "name": "python",
   "nbconvert_exporter": "python",
   "pygments_lexer": "ipython3",
   "version": "3.7.1"
  }
 },
 "nbformat": 4,
 "nbformat_minor": 4
}
