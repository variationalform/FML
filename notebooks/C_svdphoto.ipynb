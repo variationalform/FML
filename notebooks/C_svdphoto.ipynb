{
 "cells": [
  {
   "cell_type": "markdown",
   "metadata": {
    "slideshow": {
     "slide_type": "slide"
    }
   },
   "source": [
    "# Worksheet C\n",
    "\n",
    "#### *variationalform* <https://variationalform.github.io/>\n",
    "\n",
    "#### *Just Enough: progress at pace*\n",
    "\n",
    "<https://variationalform.github.io/>\n",
    "\n",
    "<https://github.com/variationalform>\n",
    "\n",
    "Simon Shaw\n",
    "<https://www.brunel.ac.uk/people/simon-shaw>."
   ]
  },
  {
   "cell_type": "markdown",
   "metadata": {
    "slideshow": {
     "slide_type": "fragment"
    }
   },
   "source": [
    "<table>\n",
    "<tr>\n",
    "<td>\n",
    "<img src=\"https://mirrors.creativecommons.org/presskit/icons/cc.svg?ref=chooser-v1\" style=\"height:18px\"/>\n",
    "<img src=\"https://mirrors.creativecommons.org/presskit/icons/by.svg?ref=chooser-v1\" style=\"height:18px\"/>\n",
    "<img src=\"https://mirrors.creativecommons.org/presskit/icons/sa.svg?ref=chooser-v1\" style=\"height:18px\"/>\n",
    "</td>\n",
    "<td>\n",
    "\n",
    "<p>\n",
    "This work is licensed under CC BY-SA 4.0 (Attribution-ShareAlike 4.0 International)\n",
    "\n",
    "<p>\n",
    "Visit <a href=\"http://creativecommons.org/licenses/by-sa/4.0/\">http://creativecommons.org/licenses/by-sa/4.0/</a> to see the terms.\n",
    "</td>\n",
    "</tr>\n",
    "</table>"
   ]
  },
  {
   "cell_type": "markdown",
   "metadata": {
    "slideshow": {
     "slide_type": "fragment"
    }
   },
   "source": [
    "<table>\n",
    "<tr>\n",
    "<td>This document uses python</td>\n",
    "<td>\n",
    "<img src=\"https://www.python.org/static/community_logos/python-logo-master-v3-TM.png\" style=\"height:30px\"/>\n",
    "</td>\n",
    "<td>and also makes use of LaTeX </td>\n",
    "<td>\n",
    "<img src=\"https://upload.wikimedia.org/wikipedia/commons/thumb/9/92/LaTeX_logo.svg/320px-LaTeX_logo.svg.png\" style=\"height:30px\"/>\n",
    "</td>\n",
    "<td>in Markdown</td> \n",
    "<td>\n",
    "<img src=\"https://github.com/adam-p/markdown-here/raw/master/src/common/images/icon48.png\" style=\"height:30px\"/>\n",
    "</td>\n",
    "</tr>\n",
    "</table>"
   ]
  },
  {
   "cell_type": "markdown",
   "metadata": {
    "slideshow": {
     "slide_type": "slide"
    }
   },
   "source": [
    "## What this is about:\n",
    "\n",
    "This worksheet is based on the material in the notebooks\n",
    "\n",
    "- matrices: matrix concepts and algebra\n",
    "- systems: systems of linear equations, under- and over-determined cases \n",
    "- decomp: eigensystem decomposition and SVD.\n",
    "\n",
    "We look at a specific example of using SVD to compress a photograph.\n",
    "\n",
    "Note that while the 'lecture' notebooks are prefixed with `1_`, `2_` and so on,\n",
    "to indicate the order in which they should be studied, the worksheets are prefixed\n",
    "with `A_`, `B_`, ..."
   ]
  },
  {
   "cell_type": "code",
   "execution_count": null,
   "metadata": {
    "slideshow": {
     "slide_type": "slide"
    }
   },
   "outputs": [],
   "source": [
    "# Two new imports here ... PIL and IPython \n",
    "import matplotlib.pyplot as plt\n",
    "import numpy as np\n",
    "from PIL import Image\n",
    "import IPython.display"
   ]
  },
  {
   "cell_type": "code",
   "execution_count": null,
   "metadata": {
    "slideshow": {
     "slide_type": "fragment"
    }
   },
   "outputs": [],
   "source": [
    "# Use a jpeg photo - ffc.jpg is about 6.2MB (use your own path/filename here)\n",
    "IPython.display.Image(filename='./gfx/ffc.jpg', width = 150) "
   ]
  },
  {
   "cell_type": "code",
   "execution_count": null,
   "metadata": {
    "slideshow": {
     "slide_type": "slide"
    }
   },
   "outputs": [],
   "source": [
    "# that is just a display, so ...\n",
    "# load in the FFC bear - Roy - and visually check him.\n",
    "img = Image.open('./gfx/ffc.jpg')"
   ]
  },
  {
   "cell_type": "code",
   "execution_count": null,
   "metadata": {
    "slideshow": {
     "slide_type": "fragment"
    }
   },
   "outputs": [],
   "source": [
    "# convert him to a numpy array for processing as a matrix\n",
    "a = np.asarray(img)\n",
    "im_orig = Image.fromarray(a)\n",
    "plt.imshow(im_orig)"
   ]
  },
  {
   "cell_type": "markdown",
   "metadata": {
    "slideshow": {
     "slide_type": "slide"
    }
   },
   "source": [
    "This image is made up of pixels where each pixel has a value for RED, GREEN and BLUE.\n",
    "We can get these *colour bands* and show them as follows... "
   ]
  },
  {
   "cell_type": "code",
   "execution_count": null,
   "metadata": {
    "slideshow": {
     "slide_type": "fragment"
    }
   },
   "outputs": [],
   "source": [
    "# convert band 'bnd' to a numpy array and show them...\n",
    "for bnd in range(3):\n",
    "  plt.subplot(1, 3, 1+bnd)\n",
    "  img_mat = np.array(list(img.getdata(bnd)), float) \n",
    "  img_mat = np.matrix(img_mat)\n",
    "  img_mat.shape = (img.size[1], img.size[0])\n",
    "  plt.imshow(img_mat)"
   ]
  },
  {
   "cell_type": "code",
   "execution_count": null,
   "metadata": {
    "slideshow": {
     "slide_type": "slide"
    }
   },
   "outputs": [],
   "source": [
    "# get the red, green and blue bands as separate objects...\n",
    "rband =img.getdata(band=0)\n",
    "gband =img.getdata(band=1)\n",
    "bband =img.getdata(band=2)\n",
    "\n",
    "# and convert each to a numpy arrays for maths processing \n",
    "imgr_mat = np.array(list(rband), float) \n",
    "imgg_mat = np.array(list(gband), float) \n",
    "imgb_mat = np.array(list(bband), float)"
   ]
  },
  {
   "cell_type": "code",
   "execution_count": null,
   "metadata": {
    "slideshow": {
     "slide_type": "fragment"
    }
   },
   "outputs": [],
   "source": [
    "# each of these is about 64k elements\n",
    "print('sizes = ', imgr_mat.size, imgg_mat.size, imgb_mat.size)\n",
    "print('shapes = ', imgr_mat.shape, imgg_mat.shape, imgb_mat.shape)"
   ]
  },
  {
   "cell_type": "code",
   "execution_count": null,
   "metadata": {
    "slideshow": {
     "slide_type": "slide"
    }
   },
   "outputs": [],
   "source": [
    "# get image shape - we can assume they are all the same\n",
    "imgr_mat.shape = imgg_mat.shape = imgb_mat.shape = (img.size[1], img.size[0])\n",
    "print('imgr_mat.shape = ', imgr_mat.shape)\n",
    "print('imgg_mat.shape = ', imgg_mat.shape)\n",
    "print('imgb_mat.shape = ', imgb_mat.shape)\n",
    "\n",
    "# convert these 1D-arrays to matrices\n",
    "imgr_mat1D = np.matrix(imgr_mat)\n",
    "imgg_mat1D = np.matrix(imgg_mat)\n",
    "imgb_mat1D = np.matrix(imgb_mat)\n",
    "print(type(imgb_mat))"
   ]
  },
  {
   "cell_type": "markdown",
   "metadata": {
    "slideshow": {
     "slide_type": "fragment"
    }
   },
   "source": [
    "- The chained assignment above is OK but you should be aware that there\n",
    "are pitfalls... Take a look here for example.\n",
    "\n",
    "- <https://stackoverflow.com/questions/7601823/how-do-chained-assignments-work>\n",
    "\n",
    "- It depends on what is being chained... Here they are just values and not objects..."
   ]
  },
  {
   "cell_type": "code",
   "execution_count": null,
   "metadata": {
    "slideshow": {
     "slide_type": "fragment"
    }
   },
   "outputs": [],
   "source": [
    "print(imgb_mat.shape is imgg_mat.shape)"
   ]
  },
  {
   "cell_type": "code",
   "execution_count": null,
   "metadata": {
    "slideshow": {
     "slide_type": "slide"
    }
   },
   "outputs": [],
   "source": [
    "# each of these is about 64 million elements: 9248 by 6936\n",
    "print('sizes = ', imgr_mat1D.size, imgg_mat1D.size, imgb_mat1D.size)\n",
    "print('shapes = ', imgr_mat1D.shape, imgg_mat1D.shape, imgb_mat1D.shape)\n",
    "print('check: 9248 x 6936 = ', 9248 * 6936)"
   ]
  },
  {
   "cell_type": "markdown",
   "metadata": {
    "slideshow": {
     "slide_type": "slide"
    }
   },
   "source": [
    "Let's look at these matrices - the following code introduces `subplot` "
   ]
  },
  {
   "cell_type": "code",
   "execution_count": null,
   "metadata": {
    "slideshow": {
     "slide_type": "slide"
    }
   },
   "outputs": [],
   "source": [
    "fontsize=20\n",
    "fig=plt.figure(figsize=(8, 3))\n",
    "fig.suptitle('Horizontally stacked subplots', fontsize=fontsize)\n",
    "\n",
    "axs=fig.add_subplot(1,3,1); axs.imshow(imgr_mat)\n",
    "axs.set_xlabel('x', fontsize=fontsize); axs.set_ylabel('y', fontsize=fontsize)\n",
    "axs.set_title('RED', fontsize=fontsize)\n",
    "\n",
    "axs=fig.add_subplot(1,3,2); axs.imshow(imgg_mat)\n",
    "axs.set_xlabel('x', fontsize=fontsize); axs.set_ylabel('y', fontsize=fontsize)\n",
    "axs.set_title('GREEN', fontsize=fontsize)\n",
    "\n",
    "axs=fig.add_subplot(1,3,3); axs.imshow(imgb_mat)\n",
    "axs.set_xlabel('x', fontsize=fontsize); axs.set_ylabel('y', fontsize=fontsize)\n",
    "axs.set_title('BLUE', fontsize=fontsize)\n",
    "# use fractions of fontsize\n",
    "plt.tight_layout(pad=0.3, w_pad=2.5, h_pad=0.3); plt.show()"
   ]
  },
  {
   "cell_type": "markdown",
   "metadata": {
    "slideshow": {
     "slide_type": "slide"
    }
   },
   "source": [
    "Let's look at how much memory these photo layers occupy..."
   ]
  },
  {
   "cell_type": "code",
   "execution_count": null,
   "metadata": {
    "slideshow": {
     "slide_type": "fragment"
    }
   },
   "outputs": [],
   "source": [
    "print('Each matrix contains ', imgr_mat.size, ' elements')\n",
    "print('Each element occupies ', imgr_mat.itemsize, ' bytes')\n",
    "print('So each matrix occupies ', imgr_mat.size * imgg_mat.itemsize, ' bytes in memory')\n",
    "print('This is ', 3*imgr_mat.size * imgg_mat.itemsize, ' bytes for all three')\n",
    "\n",
    "print('This is {:e} bytes for all three'.format(3*imgr_mat.size * imgg_mat.itemsize))"
   ]
  },
  {
   "cell_type": "markdown",
   "metadata": {
    "slideshow": {
     "slide_type": "slide"
    }
   },
   "source": [
    "## Compression...\n",
    "\n",
    "Now that we know about the **Singular Value Decomposition**, we can hope to\n",
    "compress these objects using **mathematics**.\n",
    "\n",
    "First get the SVD's of the R, G and B layers... (takes a while)"
   ]
  },
  {
   "cell_type": "code",
   "execution_count": null,
   "metadata": {
    "slideshow": {
     "slide_type": "subslide"
    }
   },
   "outputs": [],
   "source": [
    "Ur, Sr, VTr = np.linalg.svd(imgr_mat) \n",
    "Ug, Sg, VTg = np.linalg.svd(imgg_mat) \n",
    "Ub, Sb, VTb = np.linalg.svd(imgb_mat) "
   ]
  },
  {
   "cell_type": "code",
   "execution_count": null,
   "metadata": {
    "slideshow": {
     "slide_type": "subslide"
    }
   },
   "outputs": [],
   "source": [
    "print(f'RED:   shapes of Ur, Sr, VTr = {Ur.shape}, {Sr.shape}, {VTr.shape}')\n",
    "print(f'GREEN: shapes of Ug, Sg, VTg = {Ug.shape}, {Sg.shape}, {VTg.shape}')\n",
    "print(f'BLUE:  shapes of Ub, Sb, VTb = {Ub.shape}, {Sb.shape}, {VTb.shape}')"
   ]
  },
  {
   "cell_type": "code",
   "execution_count": null,
   "metadata": {
    "slideshow": {
     "slide_type": "slide"
    }
   },
   "outputs": [],
   "source": [
    "# choose the number of components to use in the reconstruction\n",
    "nc = 5 # 1387    \n",
    "rec_imgr = np.matrix(Ur[:, :nc]) * np.diag(Sr[:nc]) * np.matrix(VTr[:nc, :])\n",
    "rec_imgg = np.matrix(Ug[:, :nc]) * np.diag(Sg[:nc]) * np.matrix(VTg[:nc, :])\n",
    "rec_imgb = np.matrix(Ub[:, :nc]) * np.diag(Sb[:nc]) * np.matrix(VTb[:nc, :])\n",
    "\n",
    "img_all = np.array([rec_imgr, rec_imgg, rec_imgb]).T\n",
    "img_all = np.swapaxes(img_all,0,1)\n",
    "\n",
    "PIL_image = Image.fromarray(np.uint8(img_all)).convert('RGB')\n",
    "# uncomment this to spawn an external viewer\n",
    "#PIL_image.show()\n",
    "# save the reconstruction\n",
    "PIL_image.save(\"ffc_recon.jpg\")"
   ]
  },
  {
   "cell_type": "code",
   "execution_count": null,
   "metadata": {
    "slideshow": {
     "slide_type": "slide"
    }
   },
   "outputs": [],
   "source": [
    "fig=plt.figure(figsize=(7, 5))\n",
    "fig.suptitle('Comparison', fontsize=30)\n",
    "\n",
    "plt.subplot(1,2,1)\n",
    "ax = plt.gca()\n",
    "im = Image.fromarray(np.uint8(img_all)).convert('RGB')\n",
    "ax.imshow(im)\n",
    "ax.set_title(f'Recon, nc = {nc}', fontsize=20)\n",
    "\n",
    "plt.subplot(1,2,2)\n",
    "ax = plt.gca()\n",
    "ax.imshow(im_orig)\n",
    "ax.set_title('original', fontsize=20)"
   ]
  },
  {
   "cell_type": "markdown",
   "metadata": {
    "slideshow": {
     "slide_type": "slide"
    }
   },
   "source": [
    "## Review\n",
    "\n",
    "We have seen a few examples now of how the SVD can play a very important role in \n",
    "Data Science. It is able to take data in matrix-form and distill it to its *essence*."
   ]
  },
  {
   "cell_type": "markdown",
   "metadata": {
    "slideshow": {
     "slide_type": "subslide"
    }
   },
   "source": [
    "# Exercises\n",
    "\n",
    "1. Create logarithmic scree plots for each of the colour bands - what value of `nc` do these suggest?\n",
    "1. Try to create non-log scree plots for each of the colour bands - what happens?\n",
    "1. Calculate the percentage in memory saving resulting from the chosen value of `nc`\n",
    "1. Look at each 'photo' corresponding to each singular component. Can you see the original\n",
    "coming through?\n",
    "1. Overlay the first few modes for each colour. What can you see now?"
   ]
  },
  {
   "cell_type": "code",
   "execution_count": null,
   "metadata": {
    "slideshow": {
     "slide_type": "skip"
    }
   },
   "outputs": [],
   "source": [
    "# Start solution 1 here"
   ]
  },
  {
   "cell_type": "code",
   "execution_count": null,
   "metadata": {
    "slideshow": {
     "slide_type": "skip"
    }
   },
   "outputs": [],
   "source": [
    "# Start solution 3 here"
   ]
  },
  {
   "cell_type": "code",
   "execution_count": null,
   "metadata": {
    "slideshow": {
     "slide_type": "skip"
    }
   },
   "outputs": [],
   "source": [
    "# Start solution 3 here"
   ]
  },
  {
   "cell_type": "code",
   "execution_count": null,
   "metadata": {
    "slideshow": {
     "slide_type": "skip"
    }
   },
   "outputs": [],
   "source": [
    "# Start solution 4 here"
   ]
  },
  {
   "cell_type": "code",
   "execution_count": null,
   "metadata": {
    "slideshow": {
     "slide_type": "skip"
    }
   },
   "outputs": [],
   "source": [
    "# Start solution 5 here"
   ]
  },
  {
   "cell_type": "markdown",
   "metadata": {
    "slideshow": {
     "slide_type": "slide"
    }
   },
   "source": [
    "# Outline Solutions\n",
    "\n",
    "1. For the scree plots - here are the red ones. "
   ]
  },
  {
   "cell_type": "code",
   "execution_count": null,
   "metadata": {
    "slideshow": {
     "slide_type": "slide"
    }
   },
   "outputs": [],
   "source": [
    "plt.bar(range(Sr.shape[0]),Sr, log=True)"
   ]
  },
  {
   "cell_type": "code",
   "execution_count": null,
   "metadata": {
    "slideshow": {
     "slide_type": "slide"
    }
   },
   "outputs": [],
   "source": [
    "# this fails - there are too many and each bar is too thin to show\n",
    "# plt.figure(figsize=(12, 12)) # you can try a bigger plot, doesn't help\n",
    "plt.bar(range(Sr.shape[0]),Sr)"
   ]
  },
  {
   "cell_type": "code",
   "execution_count": null,
   "metadata": {
    "slideshow": {
     "slide_type": "slide"
    }
   },
   "outputs": [],
   "source": [
    "plt.bar(range(50),Sr[:50])"
   ]
  },
  {
   "cell_type": "markdown",
   "metadata": {
    "slideshow": {
     "slide_type": "slide"
    }
   },
   "source": [
    "2. The memory ratio is the new size of the first `nc` components divided by the \n",
    "size of the original "
   ]
  },
  {
   "cell_type": "code",
   "execution_count": null,
   "metadata": {
    "slideshow": {
     "slide_type": "fragment"
    }
   },
   "outputs": [],
   "source": [
    "print('Each matrix contains ', imgr_mat.size, ' elements')\n",
    "print('Each element occupies ', imgr_mat.itemsize, ' bytes')\n",
    "print('So each matrix occupies ', imgr_mat.size * imgg_mat.itemsize, ' bytes in memory')\n",
    "\n",
    "num_bytes_orig = 3*imgr_mat.size * imgg_mat.itemsize\n",
    "print(f'This is {num_bytes_orig} bytes for all three')"
   ]
  },
  {
   "cell_type": "markdown",
   "metadata": {
    "slideshow": {
     "slide_type": "slide"
    }
   },
   "source": [
    "For `nc` components, for each colour, we had this:\n",
    "\n",
    "`rec_imgr = np.matrix(Ur[:, :nc]) * np.diag(Sr[:nc]) * np.matrix(VTr[:nc, :])`\n",
    "\n",
    "So, for this colour we need `nc` columns in `Ur`, `nc` scalars in `Sr` and \n",
    "`nc` rows in `VTr`. And the same for each of the other colours."
   ]
  },
  {
   "cell_type": "code",
   "execution_count": null,
   "metadata": {
    "slideshow": {
     "slide_type": "fragment"
    }
   },
   "outputs": [],
   "source": [
    "print(f'RED:   shapes of Ur, Sr, VTr = {Ur.shape}, {Sr.shape}, {VTr.shape}')\n",
    "num_bytes_recon  = 3*nc*(Ur.shape[1] + 1 + VTr.shape[0])*Ur.itemsize\n",
    "print(f'This is {num_bytes_recon} bytes for all three')"
   ]
  },
  {
   "cell_type": "code",
   "execution_count": null,
   "metadata": {
    "slideshow": {
     "slide_type": "slide"
    }
   },
   "outputs": [],
   "source": [
    "# The percentage memory savings ratio is then... \n",
    "print(f'percentage savings in bytes = {100*num_bytes_recon/num_bytes_orig} %')"
   ]
  },
  {
   "cell_type": "markdown",
   "metadata": {
    "slideshow": {
     "slide_type": "slide"
    }
   },
   "source": [
    "3. This is a complicated bit of code. There is a lot of value in understanding it\n",
    "\n",
    "The graphics are unlikely to fit on the slide - use the notebook"
   ]
  },
  {
   "cell_type": "code",
   "execution_count": null,
   "metadata": {
    "slideshow": {
     "slide_type": "slide"
    }
   },
   "outputs": [],
   "source": [
    "# cell toggle scrolling from menu to prevent small window and scroll bar\n",
    "fontsize=20; fig=plt.figure(figsize=(15, 15))\n",
    "fig.suptitle('First Few Modes', fontsize=fontsize)\n",
    "\n",
    "c = 0; max_m = 5; step_m = 2\n",
    "for m in range(0,max_m*step_m, step_m):\n",
    "  n = m+1\n",
    "  c += 1\n",
    "  mode_imgr = np.matrix(Ur[:, m:n]) * np.diag(Sr[m:n]) * np.matrix(VTr[m:n, :])\n",
    "  axs=fig.add_subplot(max_m,3,c)\n",
    "  axs.imshow(mode_imgr)\n",
    "  axs.set_title('red, mode = '+str(m), fontsize=fontsize)\n",
    "  c += 1\n",
    "  mode_imgg = np.matrix(Ug[:, m:n]) * np.diag(Sg[m:n]) * np.matrix(VTg[m:n, :])\n",
    "  axs=fig.add_subplot(max_m,3,c)\n",
    "  axs.imshow(mode_imgg)\n",
    "  axs.set_title('green, mode = '+str(m), fontsize=fontsize)\n",
    "  c += 1\n",
    "  mode_imgb = np.matrix(Ub[:, m:n]) * np.diag(Sb[m:n]) * np.matrix(VTb[m:n, :])\n",
    "  axs=fig.add_subplot(max_m,3,c)\n",
    "  axs.imshow(mode_imgb)\n",
    "\n",
    "  axs.set_title('blue, mode = '+str(m), fontsize=fontsize)"
   ]
  },
  {
   "cell_type": "markdown",
   "metadata": {
    "slideshow": {
     "slide_type": "slide"
    }
   },
   "source": [
    "4. This code is also of value.\n",
    "\n",
    "The graphics are unlikely to fit on the slide - use the notebook"
   ]
  },
  {
   "cell_type": "code",
   "execution_count": null,
   "metadata": {
    "slideshow": {
     "slide_type": "slide"
    }
   },
   "outputs": [],
   "source": [
    "# cell toggle scrolling from menu to prevent small window and scroll bar\n",
    "fontsize=20\n",
    "fig=plt.figure(figsize=(15,7))\n",
    "fig.suptitle('First Few Modes Combined', fontsize=fontsize)\n",
    "\n",
    "m = 0; n = max_m*step_m\n",
    "c = 1\n",
    "mode_imgr = np.matrix(Ur[:, m:n]) * np.diag(Sr[m:n]) * np.matrix(VTr[m:n, :])\n",
    "axs=fig.add_subplot(1,3,c)\n",
    "axs.imshow(mode_imgr)\n",
    "axs.set_title('red, modes up to = '+str(n), fontsize=fontsize)\n",
    "c += 1\n",
    "mode_imgg = np.matrix(Ug[:, m:n]) * np.diag(Sg[m:n]) * np.matrix(VTg[m:n, :])\n",
    "axs=fig.add_subplot(1,3,c)\n",
    "axs.imshow(mode_imgg)\n",
    "axs.set_title('green, modes up to = '+str(n), fontsize=fontsize)\n",
    "c += 1\n",
    "mode_imgb = np.matrix(Ub[:, m:n]) * np.diag(Sb[m:n]) * np.matrix(VTb[m:n, :])\n",
    "axs=fig.add_subplot(1,3,c)\n",
    "axs.imshow(mode_imgb)\n",
    "axs.set_title('blue, modes up to = '+str(n), fontsize=fontsize)\n"
   ]
  },
  {
   "cell_type": "markdown",
   "metadata": {
    "slideshow": {
     "slide_type": "skip"
    }
   },
   "source": [
    "## Technical Notes, Production and Archiving\n",
    "\n",
    "Ignore the material below. What follows is not relevant to the material being taught."
   ]
  },
  {
   "cell_type": "markdown",
   "metadata": {
    "slideshow": {
     "slide_type": "skip"
    }
   },
   "source": [
    "#### Production Workflow\n",
    "\n",
    "- Finalise the notebook material above\n",
    "- Clear and fresh run of entire notebook\n",
    "- Create html slide show:\n",
    "  - `jupyter nbconvert --to slides C_svdphoto.ipynb `\n",
    "- Set `OUTPUTTING=1` below\n",
    "- Comment out the display of web-sourced diagrams\n",
    "- Clear and fresh run of entire notebook\n",
    "- Comment back in the display of web-sourced diagrams\n",
    "- Clear all cell output\n",
    "- Set `OUTPUTTING=0` below\n",
    "- Save\n",
    "- git add, commit and push to FML\n",
    "- copy PDF, HTML etc to web site\n",
    "  - git add, commit and push\n",
    "- rebuild binder"
   ]
  },
  {
   "cell_type": "markdown",
   "metadata": {
    "slideshow": {
     "slide_type": "skip"
    }
   },
   "source": [
    "Some of this originated from\n",
    "\n",
    "<https://stackoverflow.com/questions/38540326/save-html-of-a-jupyter-notebook-from-within-the-notebook>\n",
    "\n",
    "These lines create a back up of the notebook. They can be ignored.\n",
    "\n",
    "At some point this is better as a bash script outside of the notebook"
   ]
  },
  {
   "cell_type": "code",
   "execution_count": null,
   "metadata": {
    "slideshow": {
     "slide_type": "skip"
    }
   },
   "outputs": [],
   "source": [
    "%%bash\n",
    "NBROOTNAME='C_svdphoto'\n",
    "OUTPUTTING=0\n",
    "\n",
    "if [ $OUTPUTTING -eq 1 ]; then\n",
    "  jupyter nbconvert --to html $NBROOTNAME.ipynb\n",
    "  cp $NBROOTNAME.html ../backups/$(date +\"%m_%d_%Y-%H%M%S\")_$NBROOTNAME.html\n",
    "  mv -f $NBROOTNAME.html ./formats/html/\n",
    "\n",
    "  jupyter nbconvert --to pdf $NBROOTNAME.ipynb\n",
    "  cp $NBROOTNAME.pdf ../backups/$(date +\"%m_%d_%Y-%H%M%S\")_$NBROOTNAME.pdf\n",
    "  mv -f $NBROOTNAME.pdf ./formats/pdf/\n",
    "\n",
    "  jupyter nbconvert --to script $NBROOTNAME.ipynb\n",
    "  cp $NBROOTNAME.py ../backups/$(date +\"%m_%d_%Y-%H%M%S\")_$NBROOTNAME.py\n",
    "  mv -f $NBROOTNAME.py ./formats/py/\n",
    "else\n",
    "  echo 'Not Generating html, pdf and py output versions'\n",
    "fi"
   ]
  }
 ],
 "metadata": {
  "celltoolbar": "Slideshow",
  "kernelspec": {
   "display_name": "Python 3",
   "language": "python",
   "name": "python3"
  },
  "language_info": {
   "codemirror_mode": {
    "name": "ipython",
    "version": 3
   },
   "file_extension": ".py",
   "mimetype": "text/x-python",
   "name": "python",
   "nbconvert_exporter": "python",
   "pygments_lexer": "ipython3",
   "version": "3.7.1"
  }
 },
 "nbformat": 4,
 "nbformat_minor": 4
}
