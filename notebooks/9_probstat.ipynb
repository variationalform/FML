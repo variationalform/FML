{
 "cells": [
  {
   "cell_type": "markdown",
   "metadata": {
    "slideshow": {
     "slide_type": "slide"
    }
   },
   "source": [
    "# Probability and Statistics\n",
    "\n",
    "#### *variationalform* <https://variationalform.github.io/>\n",
    "\n",
    "#### *Just Enough: progress at pace*\n",
    "\n",
    "<https://variationalform.github.io/>\n",
    "\n",
    "<https://github.com/variationalform>\n",
    "\n",
    "Simon Shaw\n",
    "<https://www.brunel.ac.uk/people/simon-shaw>.\n"
   ]
  },
  {
   "cell_type": "markdown",
   "metadata": {
    "slideshow": {
     "slide_type": "fragment"
    }
   },
   "source": [
    "<table>\n",
    "<tr>\n",
    "<td>\n",
    "<img src=\"https://mirrors.creativecommons.org/presskit/icons/cc.svg?ref=chooser-v1\" style=\"height:18px\"/>\n",
    "<img src=\"https://mirrors.creativecommons.org/presskit/icons/by.svg?ref=chooser-v1\" style=\"height:18px\"/>\n",
    "<img src=\"https://mirrors.creativecommons.org/presskit/icons/sa.svg?ref=chooser-v1\" style=\"height:18px\"/>\n",
    "</td>\n",
    "<td>\n",
    "\n",
    "<p>\n",
    "This work is licensed under CC BY-SA 4.0 (Attribution-ShareAlike 4.0 International)\n",
    "\n",
    "<p>\n",
    "Visit <a href=\"http://creativecommons.org/licenses/by-sa/4.0/\">http://creativecommons.org/licenses/by-sa/4.0/</a> to see the terms.\n",
    "</td>\n",
    "</tr>\n",
    "</table>"
   ]
  },
  {
   "cell_type": "markdown",
   "metadata": {
    "slideshow": {
     "slide_type": "fragment"
    }
   },
   "source": [
    "<table>\n",
    "<tr>\n",
    "<td>This document uses python</td>\n",
    "<td>\n",
    "<img src=\"https://www.python.org/static/community_logos/python-logo-master-v3-TM.png\" style=\"height:30px\"/>\n",
    "</td>\n",
    "<td>and also makes use of LaTeX </td>\n",
    "<td>\n",
    "<img src=\"https://upload.wikimedia.org/wikipedia/commons/thumb/9/92/LaTeX_logo.svg/320px-LaTeX_logo.svg.png\" style=\"height:30px\"/>\n",
    "</td>\n",
    "<td>in Markdown</td> \n",
    "<td>\n",
    "<img src=\"https://github.com/adam-p/markdown-here/raw/master/src/common/images/icon48.png\" style=\"height:30px\"/>\n",
    "</td>\n",
    "</tr>\n",
    "</table>"
   ]
  },
  {
   "cell_type": "markdown",
   "metadata": {
    "slideshow": {
     "slide_type": "slide"
    }
   },
   "source": [
    "## What this is about:\n",
    "\n",
    "This is a very quick recap of essential (for us) concepts in \n",
    "\n",
    "- Probability.\n",
    "- Statistics.\n",
    "\n",
    "As usual our emphasis will be on *doing* rather than *proving*:\n",
    "*just enough: progress at pace*\n"
   ]
  },
  {
   "cell_type": "markdown",
   "metadata": {
    "slideshow": {
     "slide_type": "slide"
    }
   },
   "source": [
    "## Assigned Reading\n",
    "\n",
    "For this worksheet you are recommended Chapter 6 of [MML] and Appendix C of [DSML].\n",
    "\n",
    "- MML: Mathematics for Machine Learning, by Marc Peter Deisenroth, A. Aldo Faisal, and Cheng Soon Ong.\n",
    "  Cambridge University Press. <https://mml-book.github.io>.\n",
    "  \n",
    "- DSML: Data Science and Machine Learning, Mathematical and Statistical Methods by Dirk P. Kroese, Zdravko I. Botev, Thomas Taimre, Radislav Vaisman <https://people.smp.uq.edu.au/DirkKroese/DSML/DSML.pdf>\n",
    "\n",
    "- There are also various resources here: <https://stats.libretexts.org/Bookshelves>\n",
    "\n",
    "These can be accessed legally and without cost. **NOTE:** we haven't referred to\n",
    "the second of these before.\n",
    "\n",
    "There are also these useful references for coding:\n",
    "\n",
    "- PT: `python`: <https://docs.python.org/3/tutorial>\n",
    "- NP: `numpy`: <https://numpy.org/doc/stable/user/quickstart.html>\n",
    "- MPL: `matplotlib`: <https://matplotlib.org>\n",
    "\n",
    "And,\n",
    "\n",
    "- DSML (as above): Appendix D has a very useful python primer."
   ]
  },
  {
   "cell_type": "markdown",
   "metadata": {
    "slideshow": {
     "slide_type": "slide"
    }
   },
   "source": [
    "## Discrete Probability\n",
    "\n",
    "Probability is a subtle topic, and also not without its interpretational\n",
    "controversy.\n",
    "\n",
    "Suppose you flip a coin $N$ times and it lands heads $n$ times.\n",
    "\n",
    "- What is the probability that it will land heads next time you flip it?\n",
    "- What is the probahility it will not land heads, but land tails?\n",
    "\n",
    "We do this by looking at the relatve frequencies and say:\n",
    "\n",
    "- The probabilty of a head, written $\\mathrm{P}(H)$ is given by \n",
    "the limiting value of $n/N$ as $N\\to\\infty$\n",
    "- Since the coin land heads or tails and it can't land both:\n",
    "$\\mathrm{P}(H) + \\mathrm{P}(T) = 1$. This is *certainty*.\n",
    "- It follows that $\\mathrm{P}(T) = 1 - \\mathrm{P}(H)$\n",
    "\n",
    "This seems fine - we can flip a coin as many times as we like to approximate\n",
    "$N\\to\\infty$"
   ]
  },
  {
   "cell_type": "markdown",
   "metadata": {
    "slideshow": {
     "slide_type": "subslide"
    }
   },
   "source": [
    "We can also introduce *prior beliefs*. If the coin is fair, a judgement\n",
    "we make by appeal to its physical symmetry and the laws of physics, then\n",
    "we can assert that\n",
    "\n",
    "- $\\mathrm{P}(H) = 1/2$\n",
    "- $\\mathrm{P}(T) = 1/2$\n",
    "\n",
    "Sometimes though we can't appeal to this type of simple intuitive \n",
    "interpretation of probability.\n",
    "\n",
    ">**There is a 70\\% chance of rain tomorrow.**\n",
    "\n",
    "Really? What does that mean? It isn't like the coin toss. We can't repeat\n",
    "'tomorrow' $N$ times and count the number $n$ of times it rains.\n",
    "\n",
    "What this means is that for $10$ meteorologically similar days we can\n",
    "expect to need an umbrella on 7 of them. \n",
    "\n",
    "There is a lot of history and lively debate around these questions\n",
    "of interpretation. See for example,\n",
    "<https://plato.stanford.edu/entries/probability-interpret/>\n",
    "\n",
    "We're fortunate though. We will usually be able to run our codes\n",
    "many times on large enough data sets, and so we can think about\n",
    "relative frequencies.\n"
   ]
  },
  {
   "cell_type": "markdown",
   "metadata": {
    "slideshow": {
     "slide_type": "slide"
    }
   },
   "source": [
    "### Key axioms of Discrete Probability\n",
    "\n",
    "We think of running an experiment.\n",
    "We will have a sample space $\\Omega$ of all \n",
    "the possible outcomes of the experiment,\n",
    "and an event space $\\mathcal{E}$ of all possible results.\n",
    "The event space is the power set of $\\Omega$.\n",
    "\n",
    "For example, if we toss a coin three times there are $2^8$\n",
    "possible outcomes.\n",
    "\n",
    "$\\Omega = \\{HHH, HHT, HTH, THH, HTT, THT, THH, TTT\\}$\n",
    "\n",
    "Example of events are\n",
    "- 'Two heads and one tail': $\\{HHT,HTH,THH\\}$.\n",
    "- 'Head on first fall': $\\{HHH, HHT, HTH, HTT\\}$. \n",
    " \n",
    "There is a function $\\mathrm{P}\\colon\\mathcal{E}\\to [0,1]$ that assigns\n",
    "a probability to each event $E\\in\\mathcal{E}$.\n",
    "\n",
    "On the assumption that this is revision, we wont work through examples here."
   ]
  },
  {
   "cell_type": "markdown",
   "metadata": {
    "slideshow": {
     "slide_type": "slide"
    }
   },
   "source": [
    "### Conditional Probability\n",
    "\n",
    "Suppose you want to know the probability that $A$ occurs **given that** $B$ does occur.\n",
    "For example,\n",
    "\n",
    "- What is the probability of a negative test, $A$, given the patient is healthy, $B$?\n",
    "- What is probability of a DNA match, $A$, on a guilty defendant, $B$?\n",
    "- What is the probability the penguin is a *Chinstrap* given that your $k$-NN classifier predicts so?\n",
    "\n",
    "We write this **conditional probability** as $\\mathrm{P}(A\\mid B)$.\n",
    "\n",
    "To understand it, suppose that in $N$ trials $A$ and $B$ have simultaneously\n",
    "occurred $m$ times while $B$ has occurred $n$ times. We must have that $n\\ge m$\n",
    "and so the probability that $A$ and $B$ both occurred given that $B$ occurred\n",
    "is reasoned out like this:\n",
    "\n",
    "$$\n",
    "\\mathrm{P}(A\\mid B) \\approx \\frac{m}{n} = \\frac{m}{N}\\frac{N}{n}\n",
    "= \\frac{m}{N}\\left(\\frac{n}{N}\\right)^{-1}\n",
    "\\to \\frac{\\mathrm{P}(A\\mathrm{\\ and\\ }B)}{\\mathrm{P}(B)}\n",
    "$$\n",
    "\n",
    "We take the right hand side as the definition of the left hand side, given \n",
    "the intuitive calculation in the middle."
   ]
  },
  {
   "cell_type": "markdown",
   "metadata": {
    "slideshow": {
     "slide_type": "slide"
    }
   },
   "source": [
    "### Bayes' Theorem\n",
    "\n",
    "This is very useful. It allows us to switch the conditioning around.\n",
    "\n",
    "- What is the probability the patient is healthy, $B$, given a negative test, $A$?\n",
    "- What is probability the defendant is guily, $B$, given a DNA match, $A$, ?\n",
    "- What is the probability the calssifier predicts *Gentoo* for *Adelie* penguins?\n",
    "\n",
    "$$\n",
    "\\mathrm{P}(B\\mid A)\n",
    "= \\frac{\\mathrm{P}(A\\mathrm{\\ and\\ }B)}{\\mathrm{P}(A)}\n",
    "= \\frac{\\mathrm{P}(A\\mathrm{\\ and\\ }B)}{\\mathrm{P}(B)}\\frac{\\mathrm{P}(B)}{\\mathrm{P}(A)}\n",
    "= \\frac{\\mathrm{P}(B)}{\\mathrm{P}(A)}\\mathrm{P}(A\\mid B)\n",
    "$$\n",
    "\n",
    "It is useful to recognise that \n",
    "$\\mathrm{P}(A\\mathrm{\\ and\\ }B) = \\mathrm{P}(A\\mid B)\\mathrm{P}(B) = \\mathrm{P}(B\\mid A)\\mathrm{P}(A)$."
   ]
  },
  {
   "cell_type": "markdown",
   "metadata": {
    "slideshow": {
     "slide_type": "slide"
    }
   },
   "source": [
    "### Key Formulae for Probability.\n",
    "\n",
    "- $\\mathrm{P}(A\\mathrm{\\ or\\ }B) = \\mathrm{P}(A)+\\mathrm{P}(B)-\\mathrm{P}(A\\mathrm{\\ and\\ }B)$\n",
    "- $\\mathrm{P}(A\\mathrm{\\ or\\ }B) = \\mathrm{P}(A)+\\mathrm{P}(B)$ if $A$ and $B$ are **mutually exclusive**\n",
    "- $\\mathrm{P}(A\\mathrm{\\ and\\ }B) = \\mathrm{P}(A)\\mathrm{P}(B)$ if $A$ and $B$ are **independent**\n",
    "- $\\mathrm{P}(A)+\\mathrm{P}(\\neg A) = 1$ where $\\neg A$ ('not' $A$) means that $A$ did not occur\n",
    "\n",
    "The **Partition Theorem** (or the **Law of Total Probability**)\n",
    "\n",
    "- $\\mathrm{P}(A) = \\mathrm{P}(A\\mathrm{\\ and\\ }B) + \\mathrm{P}(A\\mathrm{\\ and\\ }\\neg B)$\n",
    "\n",
    "- $\\mathrm{P}(A) = \\mathrm{P}(A\\mid B)\\mathrm{P}(B) + \\mathrm{P}(A\\mid \\neg B)\\mathrm{P}(\\neg B)$\n",
    "\n",
    "Bayes formula (reprised)\n",
    "\n",
    "$$\n",
    "\\mathrm{P}(B\\mid A)\\displaystyle\n",
    "= \\frac{\\mathrm{P}(A\\mathrm{\\ and\\ }B)}{\\mathrm{P}(A)}\n",
    "= \\frac{\\mathrm{P}(A\\mid B)\\mathrm{P}(B)}\n",
    "       {\\mathrm{P}(A\\mid B)\\mathrm{P}(B) + \\mathrm{P}(A\\mid \\neg B)\\mathrm{P}(\\neg B)}\n",
    "$$\n",
    "\n",
    "We wont have too much need for these, but we are interested in the connection \n",
    "to **confusion matrices**..."
   ]
  },
  {
   "cell_type": "markdown",
   "metadata": {
    "slideshow": {
     "slide_type": "slide"
    }
   },
   "source": [
    "### Confusion Matrices\n",
    "\n",
    "Recall that for a binary classifier our confusion matrices took the very specific form:\n",
    "\n",
    "$$\n",
    "\\begin{array}{rcc}\n",
    "  \\begin{array}{r}  \\text{target, or true} \\\\ \\text{label/class}  \\end{array}\\quad\n",
    "  &\n",
    "  \\begin{array}{c}  Y \\\\ N  \\end{array}\\!\\!\n",
    "  &\n",
    "  \\left(\n",
    "  \\begin{array}{cc}\n",
    "  \\mathrm{TP} & \\mathrm{FN} \\\\\n",
    "  \\mathrm{FP} & \\mathrm{TN} \\\\\n",
    "  \\end{array}\n",
    "  \\right)\n",
    "\\\\\n",
    "& & \\begin{array}{cc} + & - \\end{array}\n",
    "\\\\\n",
    "& & \\text{output, or predicted}\n",
    "\\\\\n",
    "& & \\text{label/class}\n",
    "\\\\\n",
    "\\end{array}\n",
    "$$\n",
    "\n",
    "These numbers represent estimates (that get better as $N\\to\\infty$) of conditional probabilities..."
   ]
  },
  {
   "cell_type": "markdown",
   "metadata": {
    "slideshow": {
     "slide_type": "slide"
    }
   },
   "source": [
    "**Example**: suppose we have this set of results where $Y$ or $N$ are the known labels\n",
    "and $+$ and $-$ are the predictions:\n",
    "\n",
    "$$\n",
    "\\begin{array}{rcc}\n",
    "  \\begin{array}{r}  \\text{label} \\\\ \\text{}  \\end{array}\\quad\n",
    "  &\n",
    "  \\begin{array}{c}  Y \\\\ N  \\end{array}\\!\\!\n",
    "  &\n",
    "  \\left(\n",
    "  \\begin{array}{cc}\n",
    "  \\mathrm{TP} & \\mathrm{FN} \\\\\n",
    "  \\mathrm{FP} & \\mathrm{TN} \\\\\n",
    "  \\end{array}\n",
    "  \\right)\n",
    "\\\\\n",
    "& & \\begin{array}{cc} + & - \\end{array}\n",
    "\\\\\n",
    "& & \\text{predicted}\n",
    "\\\\\n",
    "\\end{array}\n",
    "\\qquad\\text{ with, specifically,}\\qquad\n",
    "  \\left(\n",
    "  \\begin{array}{cc}\n",
    "  \\mathrm{62} & \\mathrm{5} \\\\\n",
    "  \\mathrm{9} & \\mathrm{44} \\\\\n",
    "  \\end{array}\n",
    "  \\right).\n",
    "$$\n",
    "\n",
    "There are $120$ results. Look along the first row - these are the actual\n",
    "numbers in the sample which are labelled as `Y`\n",
    "(healthy, innocent, passed, safe, ...) as opposed to `N` (sick, guilty,\n",
    "failed, unsafe, ...).\n",
    "\n",
    "So $62+5$ are in the `Y` class out of a total of $120$. If this sample\n",
    "represents the population then we can estimate...\n",
    "\n",
    "$\\mathrm{P}(Y)=67/120$. Similarly, $P(+)=(62+9)/120$.\n",
    "\n",
    "Further, in the second row, we **know** that `N` occurs, for these\n",
    "are all in the `N` class. So, with similar reasoning ...\n",
    "\n",
    "$\\mathrm{P}(+\\mid N)=9/(9+44)$. Similarly, $P(Y\\mid -)=5/(5+44)$.\n",
    "\n",
    "Let's see all the calculations..."
   ]
  },
  {
   "cell_type": "code",
   "execution_count": 1,
   "metadata": {
    "slideshow": {
     "slide_type": "subslide"
    }
   },
   "outputs": [
    {
     "name": "stdout",
     "output_type": "stream",
     "text": [
      "Number of samples:  120  with base rates...\n",
      "P(Y) = (62+5)/120 =  0.5583333333333333 and P(N) = (9+44)/120 =  0.44166666666666665  = 1-P(Y)\n",
      "P(+) = (62+9)/120 =  0.5916666666666667 and P(-) = (5+44)/120 =  0.4083333333333333  = 1-P(+)\n",
      "Conditionals...\n",
      "P(Y|+) = 62/(62+9) =  0.8732394366197183 and P(N|+) =  9/(62+9) =  0.1267605633802817\n",
      "P(Y|-) =  5/(5+44) =  0.10204081632653061 and P(N|-) = 44/(5+44) =  0.8979591836734694\n",
      "P(+|Y) = 62/(62+5) =  0.9253731343283582 and P(-|Y) =  5/(62+5) =  0.07462686567164178\n",
      "P(+|N) =  9/(9+44) =  0.16981132075471697 and P(-|N) = 44/(9+44) =  0.8301886792452831\n"
     ]
    }
   ],
   "source": [
    "import numpy as np\n",
    "cm = np.array([[62,5],[9,44]])\n",
    "N = cm.sum()\n",
    "print('Number of samples: ', N,' with base rates...')\n",
    "print('P(Y) = (62+5)/120 = ', (62+5)/120, end=' and ')\n",
    "print('P(N) = (9+44)/120 = ', (9+44)/120, ' = 1-P(Y)')\n",
    "print('P(+) = (62+9)/120 = ', (62+9)/120, end=' and ')\n",
    "print('P(-) = (5+44)/120 = ', (5+44)/120, ' = 1-P(+)')\n",
    "print('Conditionals...')\n",
    "print('P(Y|+) = 62/(62+9) = ', 62/(62+9), end=' and ')\n",
    "print('P(N|+) =  9/(62+9) = ',  9/(62+9))\n",
    "print('P(Y|-) =  5/(5+44) = ',  5/(5+44), end=' and ')\n",
    "print('P(N|-) = 44/(5+44) = ', 44/(5+44))\n",
    "print('P(+|Y) = 62/(62+5) = ', 62/(62+5), end=' and ')\n",
    "print('P(-|Y) =  5/(62+5) = ',  5/(62+5))\n",
    "print('P(+|N) =  9/(9+44) = ',  9/(9+44), end=' and ')\n",
    "print('P(-|N) = 44/(9+44) = ', 44/(9+44))"
   ]
  },
  {
   "cell_type": "markdown",
   "metadata": {
    "slideshow": {
     "slide_type": "slide"
    }
   },
   "source": [
    "### Relation to Earlier Formulae and Measures\n",
    "\n",
    "Earler for a bnnary classifier we defined some useful terms for\n",
    "measuring performance. Some of these can be related to conditional\n",
    "probabilites.\n",
    "\n",
    "\n",
    "$$\n",
    "\\begin{array}{rcc}\n",
    "  \\begin{array}{r}  \\text{target, or true} \\\\ \\text{label/class}  \\end{array}\\quad\n",
    "  &\n",
    "  \\begin{array}{c}  Y \\\\ N  \\end{array}\\!\\!\n",
    "  &\n",
    "  \\left(\n",
    "  \\begin{array}{cc}\n",
    "  \\mathrm{TP} & \\mathrm{FN} \\\\\n",
    "  \\mathrm{FP} & \\mathrm{TN} \\\\\n",
    "  \\end{array}\n",
    "  \\right)\n",
    "\\\\\n",
    "& & \\begin{array}{cc} + & - \\end{array}\n",
    "\\\\\n",
    "& & \\text{output, or predicted}\n",
    "\\\\\n",
    "& & \\text{label/class}\n",
    "\\\\\n",
    "\\end{array}\n",
    "$$\n",
    "\n",
    "Recall that we used $\\mathrm{P}$ and $\\mathrm{N}$ for the number of positives\n",
    "and negatives overall in the test set.\n",
    "\n",
    "\n",
    "\n",
    "- **Prevalence**:\n",
    "$\\mathrm{Prevalence} = \\frac{\\mathrm{P}}{\\mathrm{P}+\\mathrm{N}}\n",
    "= \\mathrm{P}(Y)$\n",
    "\n",
    "- TPR: **True Positive Rate**, *sensitivity*, *recall*:\n",
    "$\\mathrm{TPR} = \\frac{\\mathrm{TP}}{\\mathrm{P}} = \\frac{\\mathrm{TP}}{\\mathrm{TP}+\\mathrm{FN}}\n",
    "= \\mathrm{P}(+\\mid Y)$\n",
    "\n",
    "\n",
    "- TNR: **True Negative Rate**, *specificity*, *selectivity*:\n",
    "$\\mathrm{TNR} = \\frac{\\mathrm{TN}}{\\mathrm{N}} = \\frac{\\mathrm{TN}}{\\mathrm{TN}+\\mathrm{FP}}\n",
    "= \\mathrm{P}(-\\mid N)$"
   ]
  },
  {
   "cell_type": "markdown",
   "metadata": {
    "slideshow": {
     "slide_type": "subslide"
    }
   },
   "source": [
    "And also...\n",
    "\n",
    "$$\n",
    "\\begin{array}{rcc}\n",
    "  \\begin{array}{r}  \\text{target, or true} \\\\ \\text{label/class}  \\end{array}\\quad\n",
    "  &\n",
    "  \\begin{array}{c}  Y \\\\ N  \\end{array}\\!\\!\n",
    "  &\n",
    "  \\left(\n",
    "  \\begin{array}{cc}\n",
    "  \\mathrm{TP} & \\mathrm{FN} \\\\\n",
    "  \\mathrm{FP} & \\mathrm{TN} \\\\\n",
    "  \\end{array}\n",
    "  \\right)\n",
    "\\\\\n",
    "& & \\begin{array}{cc} + & - \\end{array}\n",
    "\\\\\n",
    "& & \\text{output, or predicted}\n",
    "\\\\\n",
    "& & \\text{label/class}\n",
    "\\\\\n",
    "\\end{array}\n",
    "$$\n",
    "\n",
    "- FPR: **False Positive Rate**:\n",
    "$\\mathrm{FPR} = \\frac{\\mathrm{FP}}{\\mathrm{N}} = \\frac{\\mathrm{FP}}{\\mathrm{FP}+\\mathrm{TN}}\n",
    "= \\mathrm{P}(+\\mid N)$\n",
    "\n",
    "- FNR: **False Negative Rate**:\n",
    "$\\mathrm{FNR} = \\frac{\\mathrm{FN}}{\\mathrm{P}} = \\frac{\\mathrm{FN}}{\\mathrm{FN}+\\mathrm{TP}}\n",
    "= \\mathrm{P}(-\\mid Y)$\n",
    "\n",
    "- PPV: **Positive Predictive Value**, *precision*:\n",
    "$\\mathrm{PPV} = \\frac{\\mathrm{TP}}{\\mathrm{TP}+\\mathrm{FP}}\n",
    "= \\mathrm{P}(Y\\mid +)$\n",
    "\n",
    "\n",
    "- NPV: **Negative Predictive Value**:\n",
    "$\\mathrm{NPV} = \\frac{\\mathrm{TN}}{\\mathrm{TN}+\\mathrm{FN}}\n",
    "= \\mathrm{P}(N\\mid -)$\n"
   ]
  },
  {
   "cell_type": "markdown",
   "metadata": {
    "slideshow": {
     "slide_type": "slide"
    }
   },
   "source": [
    "## Statistics and Associated Concepts\n",
    "\n",
    "In addition to needing an understanding of how to infer probabilities\n",
    "from our results, we'll also need to undersatnd some related concepts\n",
    "that lead to *Mathematical Statistics*.\n",
    "\n",
    "We review these terms:\n",
    "    \n",
    "- Expected Value and mean, median and mode\n",
    "- Variance and Standard Deviation\n",
    "- Correlation, Covariance"
   ]
  },
  {
   "cell_type": "markdown",
   "metadata": {
    "slideshow": {
     "slide_type": "subslide"
    }
   },
   "source": [
    "A random variable is a function $Z\\colon \\Omega \\to\\mathbb{R}$. We can use them \n",
    "to take probabilities.\n",
    "\n",
    "For example, a dice is thrown and $Z$ is assigned the value shown on the upward face.\n",
    "\n",
    "The **Expected Value** of the random variable is the sum of all the probabilities\n",
    "weighted by the value of the variable:\n",
    "\n",
    "- $\\mathbb{E}(Z) = \\displaystyle\\sum_{k=1}^6 k\\mathrm{P}(Z=k)$\n",
    "\n",
    "This coincides with the notion of *average* or *mean* value. Why?"
   ]
  },
  {
   "cell_type": "markdown",
   "metadata": {
    "slideshow": {
     "slide_type": "slide"
    }
   },
   "source": [
    "### Mean, Average, Expected Value\n",
    "\n",
    "The numerical data we will usually be working with will typically\n",
    "be lists of **samples** of the random variable, with each value of\n",
    "the random variable occuring with equal probability.\n",
    "\n",
    "For example, if the random variable, $Z$, takes one of $N$ equally probable \n",
    "values $Z_1, Z_2, \\ldots, Z_N$, then the probability that a given value\n",
    "is taken is $N^{-1}$ and then the expected value of $Z$ is,\n",
    "\n",
    "$$\n",
    "\\mathbb{E}(Z) = \\sum_{k=1}^N k P(Z_k)\n",
    "=\\frac{1}{N}\\sum_{k=1}^N k\n",
    "= \\bar{Z}.\n",
    "$$\n",
    "\n",
    "This, the expected value of $Z$, is called the **mean**, or **average**,\n",
    "value of $Z$.\n",
    "\n",
    "We use $\\bar{Z}$ to denote the sample mean. The population mean is more\n",
    "usually denoted $\\mu_Z$. This isn't usually accessible to us - we'll \n",
    "almost always be working with samples."
   ]
  },
  {
   "cell_type": "markdown",
   "metadata": {
    "slideshow": {
     "slide_type": "slide"
    }
   },
   "source": [
    "### Median and Mode\n",
    "\n",
    "The mean is a measure of the **centre** of a distribution. Two other measures\n",
    "are also in common use. Confining ourselves to the discrete case these are\n",
    "\n",
    "- **median**: this is the value in the middle of an ordered set. For \n",
    "example $\\{1,3,4,78,90\\}$ had median $4$. When the set has an even number\n",
    "of elements the median can be taken as the average of the two centre elements.\n",
    "\n",
    "- **mode**: this is the most frequently occuring value. The set above doesn't\n",
    "have a mode (or all elements are modes). The set $\\{1,3,3,78,90\\}$ has mode $3$.\n"
   ]
  },
  {
   "cell_type": "markdown",
   "metadata": {
    "slideshow": {
     "slide_type": "slide"
    }
   },
   "source": [
    "### Variance\n",
    "\n",
    "The **variance** of the random variable is defined (for our purposes) as\n",
    "\n",
    "$\\mathbb{Var}(Z) = \\mathbb{E}(Z^2) - \\big(\\mathbb{E}(Z)\\big)^2$.\n",
    "\n",
    "For us this is,\n",
    "\n",
    "$$\n",
    "\\mathbb{Var}(Z) = \\frac{1}{N}\\sum_{k=1}^N\\big(X_k-\\mathbb{E}(X)\\big)^2\n",
    "$$\n",
    "\n",
    "Also, the **standard deviation** is given by\n",
    "\n",
    "$\\sigma_Z = \\mathbb{Std}(Z) = \\sqrt{\\mathbb{Var}(Z)}$.\n",
    "\n",
    "These formulae are sometimes altered slightly for smaller samples sizes, \n",
    "with the denominator $N$ replaced by $N-1$ to get an unbiased estimate.\n",
    "When $N$ is large this has negligible effect.\n",
    "\n",
    "Let's see concrete examples with the data set $X\\in\\{1,3,4,5,7\\}$.\n",
    "We'll see that `numpy` can make life easy for us..."
   ]
  },
  {
   "cell_type": "code",
   "execution_count": 2,
   "metadata": {
    "slideshow": {
     "slide_type": "subslide"
    }
   },
   "outputs": [
    {
     "name": "stdout",
     "output_type": "stream",
     "text": [
      "E(X) = mean =  4.0  or with numpy:  4.0\n",
      "Var(X) = variance =  4.0  or with numpy:  4.0\n",
      "SD(X) = Std Dev =  2.0  or with numpy:  2.0\n",
      "Var(X) = variance =  5.0  or with numpy:  5.0\n",
      "SD(X) = Std Dev =  2.23606797749979  or with numpy:  2.23606797749979\n"
     ]
    }
   ],
   "source": [
    "X = np.array([1,3,4,5,7])\n",
    "N = X.shape[0]\n",
    "Xbar = X.sum()/N\n",
    "print('E(X) = mean = ', Xbar, ' or with numpy: ', X.mean())\n",
    "# centre X using mean, then sum of squares using dot product\n",
    "Xc = X-Xbar\n",
    "VarX = Xc.T.dot(Xc) / N\n",
    "print('Var(X) = variance = ', VarX, ' or with numpy: ', X.var())\n",
    "print('SD(X) = Std Dev = ', np.sqrt(VarX), ' or with numpy: ', X.std())\n",
    "# or, the unbiased result..\n",
    "VarX = Xc.T.dot(Xc) / (N-1)\n",
    "print('Var(X) = variance = ', VarX, ' or with numpy: ', X.var(ddof=1))\n",
    "print('SD(X) = Std Dev = ', np.sqrt(VarX), ' or with numpy: ', X.std(ddof=1))\n"
   ]
  },
  {
   "cell_type": "markdown",
   "metadata": {
    "slideshow": {
     "slide_type": "slide"
    }
   },
   "source": [
    "### Covariance and Correlation\n",
    "\n",
    "Often we have more than one random variable in play. We saw four numerical\n",
    "columns in the penguins data set for example. We can calculate stats for\n",
    "each column as shown above, but how can we assess how **related** these\n",
    "variables might be? \n",
    "\n",
    "We define the **covariance** of two random variables as\n",
    "\n",
    "$$\n",
    "\\mathrm{Cov}(X,Y) = \\mathbb{E}\\Big(\\big(X-\\mathbb{E}(X)\\big)\\big(Y-\\mathbb{E}(Y)\\big)\\Big)\n",
    "= \\frac{1}{N}\\sum_{k=1}^N \\big(X_k-\\bar{X}\\big)\\big(Y_k-\\bar{Y}\\big)\n",
    "$$\n",
    "\n",
    "and the **correlation coefficient** of two random variables as\n",
    "\n",
    "$$\n",
    "\\rho_{XY} = \\frac{\\mathrm{Cov}(X,Y)}{\\sigma_X\\,\\sigma_Y}\n",
    "$$\n",
    "\n",
    "It is easy to see that $\\mathrm{Cov}(X,X)=\\mathrm{Var}(X)$ and\n",
    "that $\\rho_{XX} = 1$.\n",
    "\n",
    "These measurements indicate how strongly related the random variables are to\n",
    "each other: positive correlations indicate that both tend to grow or diminish \n",
    "together, while negative indicate that one grows as the other shrinks. A zero\n",
    "correlation indicates that the effects are unrelated."
   ]
  },
  {
   "cell_type": "markdown",
   "metadata": {
    "slideshow": {
     "slide_type": "slide"
    }
   },
   "source": [
    "We'll normally work with covariance ratrher than correlation.\n",
    "Let's see an example - using penguins again...\n",
    "\n",
    "Grab the data and clean it up just like before."
   ]
  },
  {
   "cell_type": "code",
   "execution_count": 3,
   "metadata": {
    "slideshow": {
     "slide_type": "fragment"
    }
   },
   "outputs": [
    {
     "data": {
      "text/html": [
       "<div>\n",
       "<style scoped>\n",
       "    .dataframe tbody tr th:only-of-type {\n",
       "        vertical-align: middle;\n",
       "    }\n",
       "\n",
       "    .dataframe tbody tr th {\n",
       "        vertical-align: top;\n",
       "    }\n",
       "\n",
       "    .dataframe thead th {\n",
       "        text-align: right;\n",
       "    }\n",
       "</style>\n",
       "<table border=\"1\" class=\"dataframe\">\n",
       "  <thead>\n",
       "    <tr style=\"text-align: right;\">\n",
       "      <th></th>\n",
       "      <th>species</th>\n",
       "      <th>island</th>\n",
       "      <th>bill_length_mm</th>\n",
       "      <th>bill_depth_mm</th>\n",
       "      <th>flipper_length_mm</th>\n",
       "      <th>body_mass_g</th>\n",
       "      <th>sex</th>\n",
       "    </tr>\n",
       "  </thead>\n",
       "  <tbody>\n",
       "    <tr>\n",
       "      <th>0</th>\n",
       "      <td>Adelie</td>\n",
       "      <td>Torgersen</td>\n",
       "      <td>39.1</td>\n",
       "      <td>18.7</td>\n",
       "      <td>181.0</td>\n",
       "      <td>3750.0</td>\n",
       "      <td>Male</td>\n",
       "    </tr>\n",
       "    <tr>\n",
       "      <th>1</th>\n",
       "      <td>Adelie</td>\n",
       "      <td>Torgersen</td>\n",
       "      <td>39.5</td>\n",
       "      <td>17.4</td>\n",
       "      <td>186.0</td>\n",
       "      <td>3800.0</td>\n",
       "      <td>Female</td>\n",
       "    </tr>\n",
       "    <tr>\n",
       "      <th>2</th>\n",
       "      <td>Adelie</td>\n",
       "      <td>Torgersen</td>\n",
       "      <td>40.3</td>\n",
       "      <td>18.0</td>\n",
       "      <td>195.0</td>\n",
       "      <td>3250.0</td>\n",
       "      <td>Female</td>\n",
       "    </tr>\n",
       "    <tr>\n",
       "      <th>3</th>\n",
       "      <td>Adelie</td>\n",
       "      <td>Torgersen</td>\n",
       "      <td>36.7</td>\n",
       "      <td>19.3</td>\n",
       "      <td>193.0</td>\n",
       "      <td>3450.0</td>\n",
       "      <td>Female</td>\n",
       "    </tr>\n",
       "    <tr>\n",
       "      <th>4</th>\n",
       "      <td>Adelie</td>\n",
       "      <td>Torgersen</td>\n",
       "      <td>39.3</td>\n",
       "      <td>20.6</td>\n",
       "      <td>190.0</td>\n",
       "      <td>3650.0</td>\n",
       "      <td>Male</td>\n",
       "    </tr>\n",
       "  </tbody>\n",
       "</table>\n",
       "</div>"
      ],
      "text/plain": [
       "  species     island  bill_length_mm  bill_depth_mm  flipper_length_mm  \\\n",
       "0  Adelie  Torgersen            39.1           18.7              181.0   \n",
       "1  Adelie  Torgersen            39.5           17.4              186.0   \n",
       "2  Adelie  Torgersen            40.3           18.0              195.0   \n",
       "3  Adelie  Torgersen            36.7           19.3              193.0   \n",
       "4  Adelie  Torgersen            39.3           20.6              190.0   \n",
       "\n",
       "   body_mass_g     sex  \n",
       "0       3750.0    Male  \n",
       "1       3800.0  Female  \n",
       "2       3250.0  Female  \n",
       "3       3450.0  Female  \n",
       "4       3650.0    Male  "
      ]
     },
     "execution_count": 3,
     "metadata": {},
     "output_type": "execute_result"
    }
   ],
   "source": [
    "import numpy as np\n",
    "import seaborn as sns\n",
    "dfp = sns.load_dataset('penguins')\n",
    "dfp.head()\n",
    "dfp = dfp.dropna()\n",
    "dfp = dfp.reset_index(drop=True)\n",
    "dfp.head()"
   ]
  },
  {
   "cell_type": "markdown",
   "metadata": {
    "slideshow": {
     "slide_type": "fragment"
    }
   },
   "source": [
    "Now assign the numerical data in columns 3 - 6 in `X`"
   ]
  },
  {
   "cell_type": "code",
   "execution_count": 4,
   "metadata": {
    "slideshow": {
     "slide_type": "slide"
    }
   },
   "outputs": [
    {
     "data": {
      "text/plain": [
       "array([[  39.1,   18.7,  181. , 3750. ],\n",
       "       [  39.5,   17.4,  186. , 3800. ],\n",
       "       [  40.3,   18. ,  195. , 3250. ],\n",
       "       [  36.7,   19.3,  193. , 3450. ]])"
      ]
     },
     "execution_count": 4,
     "metadata": {},
     "output_type": "execute_result"
    }
   ],
   "source": [
    "X = dfp.iloc[:, 2:6].values\n",
    "X[:4,:]"
   ]
  },
  {
   "cell_type": "markdown",
   "metadata": {
    "slideshow": {
     "slide_type": "fragment"
    }
   },
   "source": [
    "Each column represents a random variable: $X_0$, $X_1$, $X_2$, $X_3$.\n",
    "We can calculate means, variances and covariances. For example..."
   ]
  },
  {
   "cell_type": "code",
   "execution_count": 5,
   "metadata": {
    "slideshow": {
     "slide_type": "subslide"
    }
   },
   "outputs": [
    {
     "name": "stdout",
     "output_type": "stream",
     "text": [
      "Mean of column 1 (indexed at 0) :   43.99279279279279\n",
      "Std Dev of column 3 (population):   13.994704772576716\n",
      "Std Dev of column 3 (unbiased)  :   14.015765288287879\n"
     ]
    }
   ],
   "source": [
    "print('Mean of column 1 (indexed at 0) :  ', X[:,0].mean())\n",
    "print('Std Dev of column 3 (population):  ', X[:,2].std())\n",
    "print('Std Dev of column 3 (unbiased)  :  ', X[:,2].std(ddof=1))"
   ]
  },
  {
   "cell_type": "code",
   "execution_count": 6,
   "metadata": {
    "slideshow": {
     "slide_type": "fragment"
    }
   },
   "outputs": [
    {
     "data": {
      "text/html": [
       "<div>\n",
       "<style scoped>\n",
       "    .dataframe tbody tr th:only-of-type {\n",
       "        vertical-align: middle;\n",
       "    }\n",
       "\n",
       "    .dataframe tbody tr th {\n",
       "        vertical-align: top;\n",
       "    }\n",
       "\n",
       "    .dataframe thead th {\n",
       "        text-align: right;\n",
       "    }\n",
       "</style>\n",
       "<table border=\"1\" class=\"dataframe\">\n",
       "  <thead>\n",
       "    <tr style=\"text-align: right;\">\n",
       "      <th></th>\n",
       "      <th>bill_length_mm</th>\n",
       "      <th>bill_depth_mm</th>\n",
       "      <th>flipper_length_mm</th>\n",
       "      <th>body_mass_g</th>\n",
       "    </tr>\n",
       "  </thead>\n",
       "  <tbody>\n",
       "    <tr>\n",
       "      <th>count</th>\n",
       "      <td>333.000000</td>\n",
       "      <td>333.000000</td>\n",
       "      <td>333.000000</td>\n",
       "      <td>333.000000</td>\n",
       "    </tr>\n",
       "    <tr>\n",
       "      <th>mean</th>\n",
       "      <td>43.992793</td>\n",
       "      <td>17.164865</td>\n",
       "      <td>200.966967</td>\n",
       "      <td>4207.057057</td>\n",
       "    </tr>\n",
       "    <tr>\n",
       "      <th>std</th>\n",
       "      <td>5.468668</td>\n",
       "      <td>1.969235</td>\n",
       "      <td>14.015765</td>\n",
       "      <td>805.215802</td>\n",
       "    </tr>\n",
       "    <tr>\n",
       "      <th>min</th>\n",
       "      <td>32.100000</td>\n",
       "      <td>13.100000</td>\n",
       "      <td>172.000000</td>\n",
       "      <td>2700.000000</td>\n",
       "    </tr>\n",
       "    <tr>\n",
       "      <th>25%</th>\n",
       "      <td>39.500000</td>\n",
       "      <td>15.600000</td>\n",
       "      <td>190.000000</td>\n",
       "      <td>3550.000000</td>\n",
       "    </tr>\n",
       "    <tr>\n",
       "      <th>50%</th>\n",
       "      <td>44.500000</td>\n",
       "      <td>17.300000</td>\n",
       "      <td>197.000000</td>\n",
       "      <td>4050.000000</td>\n",
       "    </tr>\n",
       "    <tr>\n",
       "      <th>75%</th>\n",
       "      <td>48.600000</td>\n",
       "      <td>18.700000</td>\n",
       "      <td>213.000000</td>\n",
       "      <td>4775.000000</td>\n",
       "    </tr>\n",
       "    <tr>\n",
       "      <th>max</th>\n",
       "      <td>59.600000</td>\n",
       "      <td>21.500000</td>\n",
       "      <td>231.000000</td>\n",
       "      <td>6300.000000</td>\n",
       "    </tr>\n",
       "  </tbody>\n",
       "</table>\n",
       "</div>"
      ],
      "text/plain": [
       "       bill_length_mm  bill_depth_mm  flipper_length_mm  body_mass_g\n",
       "count      333.000000     333.000000         333.000000   333.000000\n",
       "mean        43.992793      17.164865         200.966967  4207.057057\n",
       "std          5.468668       1.969235          14.015765   805.215802\n",
       "min         32.100000      13.100000         172.000000  2700.000000\n",
       "25%         39.500000      15.600000         190.000000  3550.000000\n",
       "50%         44.500000      17.300000         197.000000  4050.000000\n",
       "75%         48.600000      18.700000         213.000000  4775.000000\n",
       "max         59.600000      21.500000         231.000000  6300.000000"
      ]
     },
     "execution_count": 6,
     "metadata": {},
     "output_type": "execute_result"
    }
   ],
   "source": [
    "# remember that we can access some summary stats like this...\n",
    "dfp.describe()"
   ]
  },
  {
   "cell_type": "markdown",
   "metadata": {
    "slideshow": {
     "slide_type": "slide"
    }
   },
   "source": [
    "What about the covariance? Let's calculate $\\mathrm{Cov}(X_1,X_2)$"
   ]
  },
  {
   "cell_type": "code",
   "execution_count": 7,
   "metadata": {
    "slideshow": {
     "slide_type": "fragment"
    }
   },
   "outputs": [
    {
     "name": "stdout",
     "output_type": "stream",
     "text": [
      "Cov(X1,X2) =  -15.94724845327255\n"
     ]
    }
   ],
   "source": [
    "# first center the data using the column means...\n",
    "X1 = X[:,[1]] - X[:,[1]].mean()\n",
    "X2 = X[:,[2]] - X[:,[2]].mean()\n",
    "# then multiply, sum and take the unbiased average\n",
    "N = X.shape[0]\n",
    "CV12 = np.sum(X1*X2)/(N-1)\n",
    "print(\"Cov(X1,X2) = \", CV12)"
   ]
  },
  {
   "cell_type": "markdown",
   "metadata": {
    "slideshow": {
     "slide_type": "fragment"
    }
   },
   "source": [
    "We can use the dot product, $\\boldsymbol{X}_1^T\\boldsymbol{X}_2$,\n",
    "rather than `np.sum()` like this,"
   ]
  },
  {
   "cell_type": "code",
   "execution_count": 8,
   "metadata": {
    "slideshow": {
     "slide_type": "fragment"
    }
   },
   "outputs": [
    {
     "name": "stdout",
     "output_type": "stream",
     "text": [
      "Cov(X1,X2) =  [[-15.94724845]]  or as a scalar Cov(X1,X2) =  -15.94724845327255\n"
     ]
    }
   ],
   "source": [
    "CV12 = X1.T @ X2 / (N-1)\n",
    "print(\"Cov(X1,X2) = \", CV12, \" or as a scalar Cov(X1,X2) = \", float(CV12) )"
   ]
  },
  {
   "cell_type": "markdown",
   "metadata": {
    "slideshow": {
     "slide_type": "slide"
    }
   },
   "source": [
    "A useful concept is the **covariance matrix**, it takes this form:\n",
    "\n",
    "$$\n",
    "\\boldsymbol{M} = \n",
    "\\left(\\begin{array}{llll}\n",
    "\\mathrm{Var}(X_0)  &  \\mathrm{Cov}(X_0,X_1)  &  \\mathrm{Cov}(X_0,X_2)  &  \\mathrm{Cov}(X_0,X_3) \\\\\n",
    "\\mathrm{Cov}(X_1,X_0)  &  \\mathrm{Var}(X_1)  &  \\mathrm{Cov}(X_1,X_2)  &  \\mathrm{Cov}(X_1,X_3) \\\\\n",
    "\\mathrm{Cov}(X_2,X_0)  &  \\mathrm{Cov}(X_2,X_1)  &  \\mathrm{Var}(X_2)  &  \\mathrm{Cov}(X_2,X_3) \\\\\n",
    "\\mathrm{Cov}(X_3,X_0)  &  \\mathrm{Cov}(X_3,X_1)  &  \\mathrm{Cov}(X_3,X_2)  &  \\mathrm{Var}(X_3) \\\\\n",
    "\\end{array}\\right)\n",
    "$$\n",
    "\n",
    "Recall that $\\mathrm{Cov}(X,X)=\\mathrm{Var}(X)$ and note that \n",
    "$\\mathrm{Cov}(X,Y)=\\mathrm{Cov}(Y,X)$. This matrix is therefore **symmetric**\n",
    "and so has real eigenvalues."
   ]
  },
  {
   "cell_type": "markdown",
   "metadata": {
    "slideshow": {
     "slide_type": "slide"
    }
   },
   "source": [
    "The covariance matrix is also positive semidefinite. This means that \n",
    "\n",
    "$$\n",
    "\\boldsymbol{u}\\cdot\\boldsymbol{M}\\boldsymbol{u} \\ge 0\n",
    "$$\n",
    "\n",
    "for all vectors $\\boldsymbol{u}$. This in turn means that the eigenvalues of\n",
    "the covariance matrix are non-negative. To see this inequality assume\n",
    "without loss of generality that the $X_i$'s are already centered and collect\n",
    "the observed value into the column vectors $\\boldsymbol{X}_i$. Then,\n",
    "\n",
    "$$\n",
    "(N-1)\\boldsymbol{M} = \n",
    "\\left(\\begin{array}{llll}\n",
    "\\boldsymbol{X}_0\\cdot\\boldsymbol{X}_0 & \\boldsymbol{X}_0\\cdot\\boldsymbol{X}_1 &\n",
    "\\boldsymbol{X}_0\\cdot\\boldsymbol{X}_2 & \\boldsymbol{X}_0\\cdot\\boldsymbol{X}_3\n",
    "\\\\\n",
    "\\boldsymbol{X}_1\\cdot\\boldsymbol{X}_0 & \\boldsymbol{X}_1\\cdot\\boldsymbol{X}_1 &\n",
    "\\boldsymbol{X}_1\\cdot\\boldsymbol{X}_2 & \\boldsymbol{X}_1\\cdot\\boldsymbol{X}_3\n",
    "\\\\\n",
    "\\boldsymbol{X}_2\\cdot\\boldsymbol{X}_0 & \\boldsymbol{X}_2\\cdot\\boldsymbol{X}_1 &\n",
    "\\boldsymbol{X}_2\\cdot\\boldsymbol{X}_2 & \\boldsymbol{X}_2\\cdot\\boldsymbol{X}_3\n",
    "\\\\\n",
    "\\boldsymbol{X}_3\\cdot\\boldsymbol{X}_0 & \\boldsymbol{X}_3\\cdot\\boldsymbol{X}_1 &\n",
    "\\boldsymbol{X}_3\\cdot\\boldsymbol{X}_2 & \\boldsymbol{X}_3\\cdot\\boldsymbol{X}_3\n",
    "\\\\\n",
    "\\end{array}\\right)\n",
    "=\n",
    "\\left(\\begin{array}{l}\n",
    "\\boldsymbol{X}_0^T\n",
    "\\\\\n",
    "\\boldsymbol{X}_1^T\n",
    "\\\\\n",
    "\\boldsymbol{X}_2^T\n",
    "\\\\\n",
    "\\boldsymbol{X}_3^T\n",
    "\\\\\n",
    "\\end{array}\\right)\n",
    "\\left(\\begin{array}{llll}\n",
    "\\boldsymbol{X}_0\n",
    "&\n",
    "\\boldsymbol{X}_1\n",
    "&\n",
    "\\boldsymbol{X}_2\n",
    "&\n",
    "\\boldsymbol{X}_3\n",
    "\\\\\n",
    "\\end{array}\\right)\n",
    "$$"
   ]
  },
  {
   "cell_type": "markdown",
   "metadata": {
    "slideshow": {
     "slide_type": "subslide"
    }
   },
   "source": [
    "Write this as $(N-1)\\boldsymbol{M} = \\boldsymbol{K}^T\\boldsymbol{K}$ and then\n",
    "for $\\boldsymbol{u}$ arbitrary \n",
    "\n",
    "$$\n",
    "\\boldsymbol{u}\\cdot\\boldsymbol{M}\\boldsymbol{u}\n",
    "= \\frac{1}{N-1}\n",
    "\\boldsymbol{u}^T\\boldsymbol{K}^T\\boldsymbol{K}\\boldsymbol{u}\n",
    "= \\frac{1}{N-1}\n",
    "\\big(\\boldsymbol{K}\\boldsymbol{u}\\big)^T\\boldsymbol{K}\\boldsymbol{u}\n",
    "\\ge 0\n",
    "$$"
   ]
  },
  {
   "cell_type": "markdown",
   "metadata": {
    "slideshow": {
     "slide_type": "slide"
    }
   },
   "source": [
    "We have seen how to get the covariance matrix entries using `numpy` but there \n",
    "are a lot more - and this is for just four columns.\n",
    "\n",
    "Fortunately `numpy` can do the heavy lifting for us..."
   ]
  },
  {
   "cell_type": "code",
   "execution_count": 9,
   "metadata": {
    "slideshow": {
     "slide_type": "fragment"
    }
   },
   "outputs": [
    {
     "name": "stdout",
     "output_type": "stream",
     "text": [
      "[[ 2.99063334e+01 -2.46209134e+00  5.00581949e+01  2.59562330e+03]\n",
      " [-2.46209134e+00  3.87788831e+00 -1.59472485e+01 -7.48456122e+02]\n",
      " [ 5.00581949e+01 -1.59472485e+01  1.96441677e+02  9.85219165e+03]\n",
      " [ 2.59562330e+03 -7.48456122e+02  9.85219165e+03  6.48372488e+05]]\n"
     ]
    }
   ],
   "source": [
    "# note the transpose...\n",
    "print(np.cov(X.T))"
   ]
  },
  {
   "cell_type": "markdown",
   "metadata": {
    "slideshow": {
     "slide_type": "fragment"
    }
   },
   "source": [
    "We can see that in the third column, second row we have \n",
    "$\\mathrm{Cov}(X_1,X_2) = -15.94724845\\ldots$ as expected.\n",
    "\n",
    "But, the `pandas` library that gives us the data frames has already\n",
    "thought of ..."
   ]
  },
  {
   "cell_type": "markdown",
   "metadata": {
    "slideshow": {
     "slide_type": "slide"
    }
   },
   "source": [
    "... both **covariance** and **correlation**, like this:"
   ]
  },
  {
   "cell_type": "code",
   "execution_count": 10,
   "metadata": {
    "slideshow": {
     "slide_type": "fragment"
    }
   },
   "outputs": [
    {
     "data": {
      "text/html": [
       "<div>\n",
       "<style scoped>\n",
       "    .dataframe tbody tr th:only-of-type {\n",
       "        vertical-align: middle;\n",
       "    }\n",
       "\n",
       "    .dataframe tbody tr th {\n",
       "        vertical-align: top;\n",
       "    }\n",
       "\n",
       "    .dataframe thead th {\n",
       "        text-align: right;\n",
       "    }\n",
       "</style>\n",
       "<table border=\"1\" class=\"dataframe\">\n",
       "  <thead>\n",
       "    <tr style=\"text-align: right;\">\n",
       "      <th></th>\n",
       "      <th>bill_length_mm</th>\n",
       "      <th>bill_depth_mm</th>\n",
       "      <th>flipper_length_mm</th>\n",
       "      <th>body_mass_g</th>\n",
       "    </tr>\n",
       "  </thead>\n",
       "  <tbody>\n",
       "    <tr>\n",
       "      <th>bill_length_mm</th>\n",
       "      <td>29.906333</td>\n",
       "      <td>-2.462091</td>\n",
       "      <td>50.058195</td>\n",
       "      <td>2595.623304</td>\n",
       "    </tr>\n",
       "    <tr>\n",
       "      <th>bill_depth_mm</th>\n",
       "      <td>-2.462091</td>\n",
       "      <td>3.877888</td>\n",
       "      <td>-15.947248</td>\n",
       "      <td>-748.456122</td>\n",
       "    </tr>\n",
       "    <tr>\n",
       "      <th>flipper_length_mm</th>\n",
       "      <td>50.058195</td>\n",
       "      <td>-15.947248</td>\n",
       "      <td>196.441677</td>\n",
       "      <td>9852.191649</td>\n",
       "    </tr>\n",
       "    <tr>\n",
       "      <th>body_mass_g</th>\n",
       "      <td>2595.623304</td>\n",
       "      <td>-748.456122</td>\n",
       "      <td>9852.191649</td>\n",
       "      <td>648372.487699</td>\n",
       "    </tr>\n",
       "  </tbody>\n",
       "</table>\n",
       "</div>"
      ],
      "text/plain": [
       "                   bill_length_mm  bill_depth_mm  flipper_length_mm  \\\n",
       "bill_length_mm          29.906333      -2.462091          50.058195   \n",
       "bill_depth_mm           -2.462091       3.877888         -15.947248   \n",
       "flipper_length_mm       50.058195     -15.947248         196.441677   \n",
       "body_mass_g           2595.623304    -748.456122        9852.191649   \n",
       "\n",
       "                     body_mass_g  \n",
       "bill_length_mm       2595.623304  \n",
       "bill_depth_mm        -748.456122  \n",
       "flipper_length_mm    9852.191649  \n",
       "body_mass_g        648372.487699  "
      ]
     },
     "execution_count": 10,
     "metadata": {},
     "output_type": "execute_result"
    }
   ],
   "source": [
    "dfp.cov()"
   ]
  },
  {
   "cell_type": "code",
   "execution_count": 11,
   "metadata": {
    "slideshow": {
     "slide_type": "fragment"
    }
   },
   "outputs": [
    {
     "data": {
      "text/html": [
       "<div>\n",
       "<style scoped>\n",
       "    .dataframe tbody tr th:only-of-type {\n",
       "        vertical-align: middle;\n",
       "    }\n",
       "\n",
       "    .dataframe tbody tr th {\n",
       "        vertical-align: top;\n",
       "    }\n",
       "\n",
       "    .dataframe thead th {\n",
       "        text-align: right;\n",
       "    }\n",
       "</style>\n",
       "<table border=\"1\" class=\"dataframe\">\n",
       "  <thead>\n",
       "    <tr style=\"text-align: right;\">\n",
       "      <th></th>\n",
       "      <th>bill_length_mm</th>\n",
       "      <th>bill_depth_mm</th>\n",
       "      <th>flipper_length_mm</th>\n",
       "      <th>body_mass_g</th>\n",
       "    </tr>\n",
       "  </thead>\n",
       "  <tbody>\n",
       "    <tr>\n",
       "      <th>bill_length_mm</th>\n",
       "      <td>1.000000</td>\n",
       "      <td>-0.228626</td>\n",
       "      <td>0.653096</td>\n",
       "      <td>0.589451</td>\n",
       "    </tr>\n",
       "    <tr>\n",
       "      <th>bill_depth_mm</th>\n",
       "      <td>-0.228626</td>\n",
       "      <td>1.000000</td>\n",
       "      <td>-0.577792</td>\n",
       "      <td>-0.472016</td>\n",
       "    </tr>\n",
       "    <tr>\n",
       "      <th>flipper_length_mm</th>\n",
       "      <td>0.653096</td>\n",
       "      <td>-0.577792</td>\n",
       "      <td>1.000000</td>\n",
       "      <td>0.872979</td>\n",
       "    </tr>\n",
       "    <tr>\n",
       "      <th>body_mass_g</th>\n",
       "      <td>0.589451</td>\n",
       "      <td>-0.472016</td>\n",
       "      <td>0.872979</td>\n",
       "      <td>1.000000</td>\n",
       "    </tr>\n",
       "  </tbody>\n",
       "</table>\n",
       "</div>"
      ],
      "text/plain": [
       "                   bill_length_mm  bill_depth_mm  flipper_length_mm  \\\n",
       "bill_length_mm           1.000000      -0.228626           0.653096   \n",
       "bill_depth_mm           -0.228626       1.000000          -0.577792   \n",
       "flipper_length_mm        0.653096      -0.577792           1.000000   \n",
       "body_mass_g              0.589451      -0.472016           0.872979   \n",
       "\n",
       "                   body_mass_g  \n",
       "bill_length_mm        0.589451  \n",
       "bill_depth_mm        -0.472016  \n",
       "flipper_length_mm     0.872979  \n",
       "body_mass_g           1.000000  "
      ]
     },
     "execution_count": 11,
     "metadata": {},
     "output_type": "execute_result"
    }
   ],
   "source": [
    "dfp.corr()"
   ]
  },
  {
   "cell_type": "markdown",
   "metadata": {
    "slideshow": {
     "slide_type": "fragment"
    }
   },
   "source": [
    "> **THINK ABOUT:** do you need both `flipper_length_mm` and `body_mass_g`\n",
    "> in your analysis?"
   ]
  },
  {
   "cell_type": "markdown",
   "metadata": {
    "slideshow": {
     "slide_type": "slide"
    }
   },
   "source": [
    "### Review\n",
    "\n",
    "We covered *just enough*, to make *progress at pace*. We looked at\n",
    "\n",
    "- How conditional probabilities can be estimated from confusion matrices.\n",
    "- How we can obtain statistical quantities using `python` tools.\n",
    "\n",
    "Now we can start putting all of this material to work."
   ]
  },
  {
   "cell_type": "markdown",
   "metadata": {
    "slideshow": {
     "slide_type": "skip"
    }
   },
   "source": [
    "## Technical Notes, Production and Archiving\n",
    "\n",
    "Ignore the material below. What follows is not relevant to the material being taught."
   ]
  },
  {
   "cell_type": "markdown",
   "metadata": {
    "slideshow": {
     "slide_type": "skip"
    }
   },
   "source": [
    "#### Production Workflow\n",
    "\n",
    "- Finalise the notebook material above\n",
    "- Clear and fresh run of entire notebook\n",
    "- Create html slide show:\n",
    "  - `jupyter nbconvert --to slides 9_probstat.ipynb `\n",
    "- Set `OUTPUTTING=1` below\n",
    "- Comment out the display of web-sourced diagrams\n",
    "- Clear and fresh run of entire notebook\n",
    "- Comment back in the display of web-sourced diagrams\n",
    "- Clear all cell output\n",
    "- Set `OUTPUTTING=0` below\n",
    "- Save\n",
    "- git add, commit and push to FML\n",
    "- copy PDF, HTML etc to web site\n",
    "  - git add, commit and push\n",
    "- rebuild binder"
   ]
  },
  {
   "cell_type": "markdown",
   "metadata": {
    "slideshow": {
     "slide_type": "skip"
    }
   },
   "source": [
    "Some of this originated from\n",
    "\n",
    "<https://stackoverflow.com/questions/38540326/save-html-of-a-jupyter-notebook-from-within-the-notebook>\n",
    "\n",
    "These lines create a back up of the notebook. They can be ignored.\n",
    "\n",
    "At some point this is better as a bash script outside of the notebook"
   ]
  },
  {
   "cell_type": "code",
   "execution_count": 12,
   "metadata": {
    "slideshow": {
     "slide_type": "skip"
    }
   },
   "outputs": [
    {
     "name": "stderr",
     "output_type": "stream",
     "text": [
      "[NbConvertApp] Converting notebook 9_probstat.ipynb to html\n",
      "[NbConvertApp] Writing 633666 bytes to 9_probstat.html\n",
      "[NbConvertApp] Converting notebook 9_probstat.ipynb to pdf\n",
      "[NbConvertApp] Writing 63547 bytes to notebook.tex\n",
      "[NbConvertApp] Building PDF\n",
      "[NbConvertApp] Running xelatex 3 times: ['xelatex', 'notebook.tex', '-quiet']\n",
      "[NbConvertApp] Running bibtex 1 time: ['bibtex', 'notebook']\n",
      "[NbConvertApp] WARNING | bibtex had problems, most likely because there were no citations\n",
      "[NbConvertApp] PDF successfully created\n",
      "[NbConvertApp] Writing 107461 bytes to 9_probstat.pdf\n",
      "[NbConvertApp] Converting notebook 9_probstat.ipynb to script\n",
      "[NbConvertApp] Writing 24462 bytes to 9_probstat.py\n"
     ]
    }
   ],
   "source": [
    "%%bash\n",
    "NBROOTNAME='9_probstat'\n",
    "OUTPUTTING=0\n",
    "\n",
    "if [ $OUTPUTTING -eq 1 ]; then\n",
    "  jupyter nbconvert --to html $NBROOTNAME.ipynb\n",
    "  cp $NBROOTNAME.html ../backups/$(date +\"%m_%d_%Y-%H%M%S\")_$NBROOTNAME.html\n",
    "  mv -f $NBROOTNAME.html ./formats/html/\n",
    "\n",
    "  jupyter nbconvert --to pdf $NBROOTNAME.ipynb\n",
    "  cp $NBROOTNAME.pdf ../backups/$(date +\"%m_%d_%Y-%H%M%S\")_$NBROOTNAME.pdf\n",
    "  mv -f $NBROOTNAME.pdf ./formats/pdf/\n",
    "\n",
    "  jupyter nbconvert --to script $NBROOTNAME.ipynb\n",
    "  cp $NBROOTNAME.py ../backups/$(date +\"%m_%d_%Y-%H%M%S\")_$NBROOTNAME.py\n",
    "  mv -f $NBROOTNAME.py ./formats/py/\n",
    "else\n",
    "  echo 'Not Generating html, pdf and py output versions'\n",
    "fi"
   ]
  },
  {
   "cell_type": "code",
   "execution_count": null,
   "metadata": {},
   "outputs": [],
   "source": []
  }
 ],
 "metadata": {
  "celltoolbar": "Slideshow",
  "kernelspec": {
   "display_name": "Python 3",
   "language": "python",
   "name": "python3"
  },
  "language_info": {
   "codemirror_mode": {
    "name": "ipython",
    "version": 3
   },
   "file_extension": ".py",
   "mimetype": "text/x-python",
   "name": "python",
   "nbconvert_exporter": "python",
   "pygments_lexer": "ipython3",
   "version": "3.7.1"
  }
 },
 "nbformat": 4,
 "nbformat_minor": 4
}
