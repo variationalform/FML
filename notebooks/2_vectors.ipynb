{
 "cells": [
  {
   "cell_type": "markdown",
   "metadata": {
    "slideshow": {
     "slide_type": "slide"
    }
   },
   "source": [
    "# Vectors\n",
    "\n",
    "#### *variationalform* <https://variationalform.github.io/>\n",
    "\n",
    "#### *Just Enough: progress at pace*\n",
    "\n",
    "<https://variationalform.github.io/>\n",
    "\n",
    "<https://github.com/variationalform>\n",
    "\n",
    "Simon Shaw\n",
    "<https://www.brunel.ac.uk/people/simon-shaw>.\n"
   ]
  },
  {
   "cell_type": "markdown",
   "metadata": {
    "slideshow": {
     "slide_type": "fragment"
    }
   },
   "source": [
    "<table>\n",
    "<tr>\n",
    "<td>\n",
    "<img src=\"https://mirrors.creativecommons.org/presskit/icons/cc.svg?ref=chooser-v1\" style=\"height:18px\"/>\n",
    "<img src=\"https://mirrors.creativecommons.org/presskit/icons/by.svg?ref=chooser-v1\" style=\"height:18px\"/>\n",
    "<img src=\"https://mirrors.creativecommons.org/presskit/icons/sa.svg?ref=chooser-v1\" style=\"height:18px\"/>\n",
    "</td>\n",
    "<td>\n",
    "\n",
    "<p>\n",
    "This work is licensed under CC BY-SA 4.0 (Attribution-ShareAlike 4.0 International)\n",
    "\n",
    "<p>\n",
    "Visit <a href=\"http://creativecommons.org/licenses/by-sa/4.0/\">http://creativecommons.org/licenses/by-sa/4.0/</a> to see the terms.\n",
    "</td>\n",
    "</tr>\n",
    "</table>"
   ]
  },
  {
   "cell_type": "markdown",
   "metadata": {
    "slideshow": {
     "slide_type": "fragment"
    }
   },
   "source": [
    "<table>\n",
    "<tr>\n",
    "<td>This document uses python</td>\n",
    "<td>\n",
    "<img src=\"https://www.python.org/static/community_logos/python-logo-master-v3-TM.png\" style=\"height:30px\"/>\n",
    "</td>\n",
    "<td>and also makes use of LaTeX </td>\n",
    "<td>\n",
    "<img src=\"https://upload.wikimedia.org/wikipedia/commons/thumb/9/92/LaTeX_logo.svg/320px-LaTeX_logo.svg.png\" style=\"height:30px\"/>\n",
    "</td>\n",
    "<td>in Markdown</td> \n",
    "<td>\n",
    "<img src=\"https://github.com/adam-p/markdown-here/raw/master/src/common/images/icon48.png\" style=\"height:30px\"/>\n",
    "</td>\n",
    "</tr>\n",
    "</table>"
   ]
  },
  {
   "cell_type": "markdown",
   "metadata": {
    "slideshow": {
     "slide_type": "slide"
    }
   },
   "source": [
    "## What this is about:\n",
    "\n",
    "You will be introduced to ...\n",
    "\n",
    "- Vectors as a way to think about points in space.\n",
    "- The arithmetic (adding and subtracting) of vectors.\n",
    "- Ways to measure the size - or length - of a vector.\n",
    "- The `numpy` library (or package) for working with vectors in `python`.\n",
    "\n",
    "We'll then see how to interpret data as vectors in high dimensional space.\n",
    "This will involve *abstraction* in that although it's easy for us to \n",
    "visualize a point in three dimensions, data may live in many dimensions.\n",
    "\n",
    "As usual our emphasis will be on *doing* rather than *proving*:\n",
    "*just enough: progress at pace*.\n"
   ]
  },
  {
   "cell_type": "markdown",
   "metadata": {
    "slideshow": {
     "slide_type": "slide"
    }
   },
   "source": [
    "## Assigned Reading\n",
    "\n",
    "For this worksheet you should read sections 1.1 - 1.3 and 3.1, 3.2 of [VMLS] for background\n",
    "to the linear algebra of vectors, and also Appendix D of [DSML] if you want to read more\n",
    "about `python` and `numpy`. \n",
    "\n",
    "- VMLS: Introduction to Applied Linear Algebra - Vectors, Matrices, and Least Squares,\n",
    "  by Stephen Boyd and Lieven Vandenberghe,\n",
    "  <https://web.stanford.edu/~boyd/vmls/>\n",
    "- DSML: Data Science and Machine Learning, Mathematical and Statistical Methods\n",
    "  by Dirk P. Kroese, Zdravko I. Botev, Thomas Taimre, Radislav Vaisman,\n",
    "  <https://people.smp.uq.edu.au/DirkKroese/DSML> and\n",
    "  <https://people.smp.uq.edu.au/DirkKroese/DSML/DSML.pdf>"
   ]
  },
  {
   "cell_type": "markdown",
   "metadata": {
    "slideshow": {
     "slide_type": "subslide"
    }
   },
   "source": [
    "Further accessible material can be found in [FCLA], and the early part of Chapter 1\n",
    "of [SVMS]. Advanced material is available in Chapters 2 and 3 of [MML].\n",
    "\n",
    "- MML: Mathematics for Machine Learning, by Marc Peter Deisenroth,\n",
    "  A. Aldo Faisal, and Cheng Soon Ong.\n",
    "  Cambridge University Press. <https://mml-book.github.io>.\n",
    "- FCLA: A First Course in Linear Algebra, by Ken Kuttler, \n",
    "  <https://math.libretexts.org/Bookshelves/Linear_Algebra/A_First_Course_in_Linear_Algebra_(Kuttler)>\n",
    "- SVMS: Support Vector Machines Succinctly, by Alexandre Kowalczyk,\n",
    "  <https://www.syncfusion.com/succinctly-free-ebooks/support-vector-machines-succinctly>\n",
    "- VMLS: Introduction to Applied Linear Algebra - Vectors,\n",
    "  Matrices, and Least Squares,\n",
    "  by Stephen Boyd and Lieven Vandenberghe,\n",
    "  <https://web.stanford.edu/~boyd/vmls/>\n",
    " \n",
    "All of the above can be accessed legally and without cost.\n",
    "\n",
    "There are also these useful references for coding:\n",
    "\n",
    "- PT: `python`: <https://docs.python.org/3/tutorial>\n",
    "- NP: `numpy`: <https://numpy.org/doc/stable/user/quickstart.html>\n",
    "- MPL: `matplotlib`: <https://matplotlib.org>"
   ]
  },
  {
   "cell_type": "markdown",
   "metadata": {
    "slideshow": {
     "slide_type": "slide"
    }
   },
   "source": [
    "## Vectors\n",
    "\n",
    "A *vector* is a row or column of real numbers enclosed in brackets. For\n",
    "example, these\n",
    "\n",
    "$$\n",
    "\\boldsymbol{v} = (3, -2, 1),\\qquad\n",
    "\\boldsymbol{b} = \\left(\\begin{array}{r}\n",
    "6 \\\\ -3 \\\\ 2.5 \\\\ -1 \\\\ 0\n",
    "\\end{array}\\right)\n",
    "$$\n",
    "\n",
    "show a *row vector* in $\\mathbb{R}^3$, and a *column vector* in\n",
    "$\\mathbb{R}^5$, where $\\mathbb{R}^n$ denotes the $n$-dimensional set of\n",
    "real numbers (to get feel for this we live in $\\mathbb{R}^3$ - up/down,\n",
    "forward/backward and left/right). We will denote vectors by lower case\n",
    "bold letters. A vector $\\boldsymbol{v}$ in $\\mathbb{R}^n$, written as\n",
    "$\\mathbb{v} \\in \\mathbb{R}^n$ is said to have *dimension* $n$.\n",
    "\n",
    "Note that we use commas to make it clear that the numbers are separate\n",
    "entities, but the commas are not part of the vector. We often think of\n",
    "vectors as having *physical* meaning, and then we diagrammatically\n",
    "represent them with arrows."
   ]
  },
  {
   "cell_type": "markdown",
   "metadata": {
    "slideshow": {
     "slide_type": "slide"
    }
   },
   "source": [
    "For example, the diagram here\n",
    "<https://en.wikipedia.org/wiki/Euclidean_vector#/media/File:Position_vector.svg>,\n",
    "taken from\n",
    "<https://en.wikipedia.org/wiki/Euclidean_vector>, shows a row vector in\n",
    "$2$ dimensions, joining the origin at $O$ to the coordinate\n",
    "$(x,y)=(2,3)$ at $A$.\n",
    "\n",
    "\n",
    "![Wikipedia Diagram of (2,3) vector from\n",
    "<https://en.wikipedia.org/wiki/Euclidean_vector>](https://upload.wikimedia.org/wikipedia/commons/4/40/Plane_Cartesian_vector.png \"Wikipedia Diagram\")\n",
    "\n",
    "This vector has *components* of length $2$ in the $x$ direction and of\n",
    "length $3$ in the $y$ direction. The overall length of the vector is\n",
    "then $\\sqrt{2^2+3^2} = \\sqrt{13}\\approx 3.605$ by Pythagoras's theorem.\n",
    "This might for example represent a person cycling approximately\n",
    "north-east at $3.6\\,\\mathrm{km/h}$ - or $2\\,\\mathrm{km/h}$ east and,\n",
    "simultaneously, $3\\,\\mathrm{km/h}$ north."
   ]
  },
  {
   "cell_type": "markdown",
   "metadata": {
    "slideshow": {
     "slide_type": "subslide"
    }
   },
   "source": [
    "![Wikipedia Diagram of (2,3) vector from\n",
    "<https://en.wikipedia.org/wiki/Euclidean_vector>](https://upload.wikimedia.org/wikipedia/commons/4/40/Plane_Cartesian_vector.png \"Wikipedia Diagram\")\n",
    "\n",
    "Note that the coordinate $(2,3)$ at $A$ in the diagram could\n",
    "easily be confused with a row vector. Such *overloading* of notation is\n",
    "common in maths, and usually context makes it clear what is intended.\n",
    "\n",
    "This shouldn't happen for us though, because from now on we will always\n",
    "work with column vectors, and switch between column and row forms using\n",
    "the the *transpose* operation. The transpose of a vector is denoted with\n",
    "a superscript $T$ and swaps the row into a column and *vice-versa*. For\n",
    "example,\n",
    "\n",
    "$$\n",
    "\\boldsymbol{v}^T = \\left(\\begin{array}{r}3 \\\\ -2 \\\\ 1\\end{array}\\right),\n",
    "\\qquad\n",
    "\\boldsymbol{b}^T = (6, -3, 2.5, -1, 0).\n",
    "$$"
   ]
  },
  {
   "cell_type": "markdown",
   "metadata": {
    "slideshow": {
     "slide_type": "slide"
    }
   },
   "source": [
    "## `python`: Binder, Anaconda and Jupyter\n",
    "\n",
    "We will use binder, and then the anaconda distribution to access `python` and the libraries we need. The\n",
    "coding itsdelf will be carried out in Jupyter notebooks. We'll go through this in an\n",
    "early lab session so you can get started with 'hands on' machine learning."
   ]
  },
  {
   "cell_type": "markdown",
   "metadata": {
    "slideshow": {
     "slide_type": "slide"
    }
   },
   "source": [
    "## Using `numpy` to represent vectors\n",
    "\n",
    "The `numpy` module (or library) is the main tool for scientific computing\n",
    "in `python`. It stands for **numerical python**, and it will be a key tool\n",
    "for us. See <https://numpy.org>\n",
    "\n",
    "We load in the numpy package and abbreviate it with `np` as follows.\n",
    "This syntax is very standard. You can use something other than `np` \n",
    "if you like, but you'll be swimming against the tide."
   ]
  },
  {
   "cell_type": "code",
   "execution_count": null,
   "metadata": {
    "slideshow": {
     "slide_type": "fragment"
    }
   },
   "outputs": [],
   "source": [
    "import numpy as np"
   ]
  },
  {
   "cell_type": "markdown",
   "metadata": {
    "slideshow": {
     "slide_type": "fragment"
    }
   },
   "source": [
    "Now we can set up two vectors as `numpy` *arrays*, and print them out, as follows,"
   ]
  },
  {
   "cell_type": "code",
   "execution_count": null,
   "metadata": {
    "slideshow": {
     "slide_type": "fragment"
    }
   },
   "outputs": [],
   "source": [
    "v = np.array([3,-2,1])\n",
    "b = np.array([ [6], [-3], [2.5], [-1], [0]])\n",
    "print('v = ', v, ' and b = ', b)"
   ]
  },
  {
   "cell_type": "markdown",
   "metadata": {
    "slideshow": {
     "slide_type": "slide"
    }
   },
   "source": [
    "This looks a bit messy - let's try again, forcing a line break"
   ]
  },
  {
   "cell_type": "code",
   "execution_count": null,
   "metadata": {
    "slideshow": {
     "slide_type": "fragment"
    }
   },
   "outputs": [],
   "source": [
    "print(v, '\\n', b)"
   ]
  },
  {
   "cell_type": "markdown",
   "metadata": {
    "slideshow": {
     "slide_type": "fragment"
    }
   },
   "source": [
    "This is a bit better - you can see how `numpy` handles row and column vectors.\n",
    "\n",
    "We'll often not worry about the distinction between row and column vectors \n",
    "when using `numpy`. It's easier (i.e. less typing) to set up the row \n",
    "vector above, and we'll often take that route. Although when we write\n",
    "vectors mathematically we will always use column vectors."
   ]
  },
  {
   "cell_type": "markdown",
   "metadata": {
    "slideshow": {
     "slide_type": "slide"
    }
   },
   "source": [
    "## Using `numpy` for transpose.\n",
    "\n",
    "We can write `b.T` for $\\boldsymbol{b}^T$, but the overall effect is is a bit unexpected."
   ]
  },
  {
   "cell_type": "code",
   "execution_count": null,
   "metadata": {
    "slideshow": {
     "slide_type": "fragment"
    }
   },
   "outputs": [],
   "source": [
    "print('v = ', v.T, ' and b = ', b.T)"
   ]
  },
  {
   "cell_type": "markdown",
   "metadata": {
    "slideshow": {
     "slide_type": "fragment"
    }
   },
   "source": [
    "It's a bit hard to see what is going on - the key thing to remember is that\n",
    "these objects are **arrays** in computer memory, and **not**\n",
    "mathematical vectors. \n",
    "\n",
    "You can get the behaviour you expect with this."
   ]
  },
  {
   "cell_type": "code",
   "execution_count": null,
   "metadata": {
    "slideshow": {
     "slide_type": "fragment"
    }
   },
   "outputs": [],
   "source": [
    "v = np.array([[3,-2,1]])\n",
    "print(v.T)"
   ]
  },
  {
   "cell_type": "markdown",
   "metadata": {
    "slideshow": {
     "slide_type": "slide"
    }
   },
   "source": [
    "Alternatively, you can force the shape by using the `shape` attribute - take a look \n",
    "at these... (note that `#` is used to write comments)"
   ]
  },
  {
   "cell_type": "code",
   "execution_count": null,
   "metadata": {
    "slideshow": {
     "slide_type": "fragment"
    }
   },
   "outputs": [],
   "source": [
    "# this gives a list of numbers.\n",
    "a = np.array([3, -2, 1])\n",
    "print(a)\n",
    "# ask for the shape - it is just (3,)\n",
    "a.shape\n",
    "# force the shape to be 3-row by 1-column \n",
    "a.shape = (3,1)\n",
    "print(a)\n",
    "# now print the transpose\n",
    "print(a.T)"
   ]
  },
  {
   "cell_type": "markdown",
   "metadata": {
    "slideshow": {
     "slide_type": "slide"
    }
   },
   "source": [
    "Here is a different approach..."
   ]
  },
  {
   "cell_type": "code",
   "execution_count": null,
   "metadata": {
    "slideshow": {
     "slide_type": "fragment"
    }
   },
   "outputs": [],
   "source": [
    "# force b to have one row - a row vector\n",
    "b = np.array([[3, -2, 1]])\n",
    "print(b)\n",
    "print('The shape of b is ', b.shape)\n",
    "# and then transpose it to get a  column vector\n",
    "b = np.array([[3, -2, 1]]).T\n",
    "print(b)"
   ]
  },
  {
   "cell_type": "markdown",
   "metadata": {
    "slideshow": {
     "slide_type": "fragment"
    }
   },
   "source": [
    "For a bit more discussion see e.g. <https://stackoverflow.com/questions/17428621/python-differentiating-between-row-and-column-vectors>\n",
    "\n",
    "We wont have to worry too much about these subtle things - the python libraries \n",
    "that we will use will take care of all of this bookkeeping."
   ]
  },
  {
   "cell_type": "markdown",
   "metadata": {
    "slideshow": {
     "slide_type": "slide"
    }
   },
   "source": [
    "## Addition and Subtraction\n",
    "\n",
    "Vectors of the same shape can be added or subtracted, component by\n",
    "component. For example, forming\n",
    "$\\boldsymbol{g}=\\boldsymbol{a}-\\boldsymbol{p}$ with\n",
    "\n",
    "$$\n",
    "\\boldsymbol{a} = \\left(\\begin{array}{r}\n",
    "3\\\\ -2\\\\ 1\n",
    "\\end{array}\\right)\n",
    "\\text{ and }\n",
    "\\boldsymbol{p} = \\left(\\begin{array}{r}\n",
    "5\\\\ 2\\\\ -10\n",
    "\\end{array}\\right)\n",
    "\\text{ then gives }\n",
    "\\boldsymbol{g} = \\left(\\begin{array}{r}\n",
    "3-5\\\\ -2-2\\\\ 1-(-10)\n",
    "\\end{array}\\right)\n",
    "= \\left(\\begin{array}{r}\n",
    "-2\\\\ -4\\\\ 11\n",
    "\\end{array}\\right).\n",
    "$$\n",
    "\n",
    "\n",
    "You can check that $\\boldsymbol{a}=\\boldsymbol{g}+\\boldsymbol{p}$, as we\n",
    "would expect.\n",
    "\n",
    "A visual demonstration of this addtion process can be accessed here:\n",
    "<https://www.geogebra.org/m/hm4haajh> in two dimensions, and here\n",
    "<https://www.geogebra.org/m/drvu2f66> in three dimensions. The idea is\n",
    "similar in higher dimensions but harder to draw."
   ]
  },
  {
   "cell_type": "markdown",
   "metadata": {
    "slideshow": {
     "slide_type": "slide"
    }
   },
   "source": [
    "## Vector - scalar multiplication\n",
    "\n",
    "A vector can be multiplied by a scalar just by multiplying each element of the\n",
    "vector by that same scalar. For example:\n",
    "\n",
    "$$ \n",
    "\\text{if }\\qquad\n",
    "\\boldsymbol{y} = \\left(\\begin{array}{r}\n",
    "-3 \\\\ 16 \\\\ 1 \\\\ 1089 \\\\ 15 \n",
    "\\end{array}\\right)\n",
    "\\qquad\\text{ then }\\qquad\n",
    "\\boldsymbol{-3y} = \\left(\\begin{array}{r}\n",
    "9 \\\\ -48 \\\\ -3 \\\\ -3267 \\\\ -45 \n",
    "\\end{array}\\right)\n",
    "$$"
   ]
  },
  {
   "cell_type": "markdown",
   "metadata": {
    "slideshow": {
     "slide_type": "slide"
    }
   },
   "source": [
    "## Using `numpy` for vector calculations\n",
    "\n",
    "We'll set up the vectors $\\boldsymbol{a}$ and $\\boldsymbol{p}$ given above\n",
    "as numpy arrays and then show how to do these operations in `python`."
   ]
  },
  {
   "cell_type": "code",
   "execution_count": null,
   "metadata": {
    "slideshow": {
     "slide_type": "fragment"
    }
   },
   "outputs": [],
   "source": [
    "a = np.array([3, -2, 1])\n",
    "p = np.array([5, 2, -10])\n",
    "g = a-p\n",
    "print(g)\n",
    "a = g+p\n",
    "print(a)"
   ]
  },
  {
   "cell_type": "code",
   "execution_count": null,
   "metadata": {
    "slideshow": {
     "slide_type": "fragment"
    }
   },
   "outputs": [],
   "source": [
    "y = np.array([-3, 16, 1, 1089, 15])\n",
    "z = -3*y\n",
    "print(z)"
   ]
  },
  {
   "cell_type": "markdown",
   "metadata": {
    "slideshow": {
     "slide_type": "slide"
    }
   },
   "source": [
    "## Vector Norms\n",
    "\n",
    "In mathematics the word **norm** is used to denote the size of\n",
    "something. Depending on what that 'something' is, its 'size' can be an\n",
    "'obvious' property, or much more abstract. The most obvious way to\n",
    "measure the size of a vector is to use its length. We'll start by\n",
    "examining that, and then move on to more general notions."
   ]
  },
  {
   "cell_type": "markdown",
   "metadata": {
    "slideshow": {
     "slide_type": "slide"
    }
   },
   "source": [
    "### The Vector $2$-norm ($\\ell_2$, or Euclidean, or Pythagorean, distance)\n",
    "\n",
    "In general, for a vector $\\boldsymbol{v}\\in\\mathbb{R}^n$ (a point\n",
    "beloging to $n$-dimensional space), with $n$ components $v_1$, $v_2$,\n",
    "$\\ldots$, $v_n$, we denote its Pythagorean (or Euclidean) length by the\n",
    "so-called $2$-norm:\n",
    "\n",
    "$$\n",
    "\\Vert\\boldsymbol{v}\\Vert_2 = \\sqrt{v_1^2 + v_2^2 +\\cdots+v_n^2}.\n",
    "$$ If you visualize the $2$-norm you will probably think of the 'as the\n",
    "crow flies' distance between any two points $A$ and $B$."
   ]
  },
  {
   "cell_type": "markdown",
   "metadata": {
    "slideshow": {
     "slide_type": "fragment"
    }
   },
   "source": [
    "#### Example:\n",
    "\n",
    "Suppose we have this vector\n",
    "\n",
    "$$\n",
    "\\boldsymbol{u} = \\left(\\begin{array}{r}\n",
    "-3 \\\\ 2 \\\\ 4 \\\\ -1 \n",
    "\\end{array}\\right)\n",
    "$$\n",
    "\n",
    "Then,\n",
    "\n",
    "$$\n",
    "\\Vert\\boldsymbol{u}\\Vert_2\n",
    "= \\sqrt{(-3)^2 + 2^2 + 4^2 + (-1)^2 }\n",
    "= \\sqrt{9+4+16+1}\n",
    "= \\sqrt{30}\n",
    "\\approx 5.477\\ldots\n",
    "$$"
   ]
  },
  {
   "cell_type": "markdown",
   "metadata": {
    "slideshow": {
     "slide_type": "slide"
    }
   },
   "source": [
    "Let's see how to do this with `numpy`. We'll use the *linear algebra*\n",
    "submodule, <https://numpy.org/doc/stable/reference/routines.linalg.html>,\n",
    "and the `norm` function,\n",
    "<https://numpy.org/doc/stable/reference/generated/numpy.linalg.norm.html>."
   ]
  },
  {
   "cell_type": "code",
   "execution_count": null,
   "metadata": {
    "slideshow": {
     "slide_type": "fragment"
    }
   },
   "outputs": [],
   "source": [
    "u = np.array([-3, 2, 4, -1])\n",
    "print('||u||_2 = ', np.linalg.norm(u))\n",
    "# We can also specify the '2'\n",
    "print('||u||_2 = ', np.linalg.norm(u, 2))"
   ]
  },
  {
   "cell_type": "markdown",
   "metadata": {
    "slideshow": {
     "slide_type": "slide"
    }
   },
   "source": [
    "### The Vector $p$-norm ($\\ell_p$, or Minkowski, norms)\n",
    "\n",
    "Being able to specify the power/root of $2$ is useful because there are\n",
    "other norms corresponding to other values of the power and root.\n",
    "\n",
    "More generally, we can use the $p$-norm for any $p\\ge 1$ where\n",
    "\n",
    "$$\n",
    "\\Vert\\boldsymbol{v}\\Vert_p\n",
    "=\n",
    "\\left\\{\\begin{array}{ll}\\displaystyle\n",
    "\\sqrt[p]{\\vert v_1\\vert^p + \\vert v_2\\vert^p +\\cdots+\\vert v_p\\vert^p},\n",
    "&\\text{if } 1\\le p < \\infty;\n",
    "\\\\\n",
    "\\max\\{\\vert v_k\\vert\\colon k=1,2,\\ldots,n\\},\n",
    "&\\text{if } p = \\infty.\n",
    "\\end{array}\\right.\n",
    "$$\n",
    "\n",
    "These norms will be very useful to us in the applications we study\n",
    "later. Often the $p$-norm will also be referred to as the $\\ell_p$ norm.\n",
    "\n",
    "Note that $p<1$ is not allowed in this definition. That doesn't,\n",
    "however, stop some casual usage whereby the definition above is extended\n",
    "to $p<1$ to get $\\ell_p$ norms for $p<1$. This means that quantities\n",
    "like an $\\ell_{1/2}$, given by $\\Vert\\boldsymbol{v}\\Vert_{1/2}$, get\n",
    "used as 'norms'."
   ]
  },
  {
   "cell_type": "markdown",
   "metadata": {
    "slideshow": {
     "slide_type": "subslide"
    }
   },
   "source": [
    "$$\n",
    "\\Vert\\boldsymbol{v}\\Vert_p\n",
    "=\n",
    "\\left\\{\\begin{array}{ll}\\displaystyle\n",
    "\\sqrt[p]{\\vert v_1\\vert^p + \\vert v_2\\vert^p +\\cdots+\\vert v_p\\vert^p},\n",
    "&\\text{if } 1\\le p < \\infty;\n",
    "\\\\\n",
    "\\max\\{\\vert v_k\\vert\\colon k=1,2,\\ldots,n\\},\n",
    "&\\text{if } p = \\infty.\n",
    "\\end{array}\\right.\n",
    "$$\n",
    "\n",
    "Strictly speaking these aren't norms when $p<1$ (see {Chap. 3, MML}\n",
    "<https://mml-book.github.io>), although in practice these quantities can\n",
    "be useful. We could call them *phoney norms*.\n",
    "\n",
    "An extreme example is the $\\ell_0$ norm. This gives the number of\n",
    "non-zero elements in a vector. It **is not** a norm, but is nevertheless\n",
    "useful when *sparsity* is of interest.\n",
    "\n",
    "Apart from the Euclidean/Pythagorean $2$-norm that we saw above, the $1$-norm\n",
    "and the $\\infty$-norms are also of importance."
   ]
  },
  {
   "cell_type": "markdown",
   "metadata": {
    "slideshow": {
     "slide_type": "slide"
    }
   },
   "source": [
    "### The Vector $1$-norm ($\\ell_1$, Manhattan, or taxicab, distance)\n",
    "\n",
    "The $1$ norm is often referred to as the Manhattan distance because (in\n",
    "2D) the we can get from point $A$ to point $B$ by only moving along\n",
    "coordinate directions. This can be an 'L-shape' or any number of\n",
    "staircase paths. See for example,\n",
    "<https://en.wikipedia.org/wiki/Taxicab_geometry>\n",
    "\n",
    "![Wikipedia Diagram of the Manhattan distance in 2D\n",
    "<https://en.wikipedia.org/wiki/Taxicab_geometry>](https://upload.wikimedia.org/wikipedia/commons/thumb/d/de/Manhattan_distance_bgiu.png/261px-Manhattan_distance_bgiu.png \"Wikipedia Diagram\")\n",
    "\n",
    "This is akin to how one moves from one point to another in the\n",
    "street-grid system in Manhattan, either on foot or in a taxi."
   ]
  },
  {
   "cell_type": "markdown",
   "metadata": {
    "slideshow": {
     "slide_type": "slide"
    }
   },
   "source": [
    "### The Vector $\\infty$-norm ($\\ell_\\infty$, 'max', or Chebychev, norm)\n",
    "\n",
    "This doesn't really measure the distance from $A$ to $B$ but instead\n",
    "just records the largest (in absolute value) length along the coordinate\n",
    "directions."
   ]
  },
  {
   "cell_type": "markdown",
   "metadata": {
    "slideshow": {
     "slide_type": "fragment"
    }
   },
   "source": [
    "#### Example:\n",
    "\n",
    "Suppose we have this vector\n",
    "\n",
    "$$\n",
    "\\boldsymbol{w} = \\left(\\begin{array}{r}\n",
    "3 \\\\ -2 \\\\ -4 \\\\ 1 \n",
    "\\end{array}\\right)\n",
    "$$\n",
    "\n",
    "Then,\n",
    "\n",
    "$$\n",
    "\\Vert\\boldsymbol{w}\\Vert_\\infty\n",
    "= \\max\\{\\vert w_k\\vert\\colon k=1,2,3,4\\}\n",
    "= 4\n",
    "$$"
   ]
  },
  {
   "cell_type": "markdown",
   "metadata": {
    "slideshow": {
     "slide_type": "slide"
    }
   },
   "source": [
    "#### Example\n",
    "\n",
    "Let's work some more examples by hand and then with `numpy`. Let,\n",
    "\n",
    "$$\n",
    "\\boldsymbol{w} = \\big(\n",
    "-19, 18, 2, 0, 0, -8, 34, 0, -57\n",
    "\\big)^T\n",
    "$$\n",
    "\n",
    "Then\n",
    "\n",
    "$$\n",
    "\\Vert\\boldsymbol{w}\\Vert_2\n",
    "= \\sqrt{361+324+4+0+0+64+1156+0+3249}\n",
    "= \\sqrt{5158}\n",
    "\\approx 71.819\\ldots\n",
    "$$\n",
    "\n",
    "Also,\n",
    "\n",
    "$$\n",
    "\\Vert\\boldsymbol{w}\\Vert_1\n",
    "= 19+18+2+0+0+8+34+0+57\n",
    "= 138,\n",
    "\\qquad\n",
    "\\Vert\\boldsymbol{w}\\Vert_\\infty = 57\n",
    "\\qquad\\text{ and }\\qquad\n",
    "\\Vert\\boldsymbol{w}\\Vert_0 = 6\n",
    "$$\n",
    "\n",
    "Let's see these in `numpy`."
   ]
  },
  {
   "cell_type": "code",
   "execution_count": null,
   "metadata": {
    "slideshow": {
     "slide_type": "fragment"
    }
   },
   "outputs": [],
   "source": [
    "w = np.array([-19, 18, 2, 0, 0, -8, 34, 0, -57])\n",
    "print('||w||_2   = ', np.linalg.norm(w,2))\n",
    "print('||w||_1   = ', np.linalg.norm(w,1))\n",
    "print('||w||_inf = ', np.linalg.norm(w,np.inf))  # note how we denote infinity\n",
    "print('||w||_0   = ', np.linalg.norm(w,0))\n",
    "\n"
   ]
  },
  {
   "cell_type": "markdown",
   "metadata": {
    "slideshow": {
     "slide_type": "slide"
    }
   },
   "source": [
    "## Some data - data as vectors\n",
    "\n",
    "Let's now look at some data. Just as before, in the following cell we import `seaborn` and look at\n",
    "the names of the built-in data sets. The `seaborn` library, <https://seaborn.pydata.org>,\n",
    "is designed for data visualization. It uses `matplotlib`, <https://matplotlib.org>,\n",
    "which is a graphics library for `python`.\n",
    "\n",
    "More detail on the datasets can be found here: <https://github.com/mwaskom/seaborn-data/blob/master/README.md>\n",
    "\n",
    "If you want to dig deeper, you can look at\n",
    "<https://blog.enterprisedna.co/how-to-load-sample-datasets-in-python/>\n",
    "and <https://github.com/mwaskom/seaborn-data> for the background - but you don't need to.\n",
    "\n",
    "The first part of the following material we have seen before. This is a recap."
   ]
  },
  {
   "cell_type": "code",
   "execution_count": null,
   "metadata": {
    "slideshow": {
     "slide_type": "slide"
    }
   },
   "outputs": [],
   "source": [
    "import seaborn as sns\n",
    "# we can now refer to the seaborn library functions using 'sns'\n",
    "# note that you can use another character string - but 'sns' is standard.\n",
    "\n",
    "# Now let's get the names of the built-in data sets.\n",
    "sns.get_dataset_names()\n",
    "\n",
    "# type SHIFT=RETURN to execute the highlighted (active) cell"
   ]
  },
  {
   "cell_type": "markdown",
   "metadata": {
    "slideshow": {
     "slide_type": "slide"
    }
   },
   "source": [
    "### The `taxis` data set"
   ]
  },
  {
   "cell_type": "code",
   "execution_count": null,
   "metadata": {
    "slideshow": {
     "slide_type": "fragment"
    }
   },
   "outputs": [],
   "source": [
    "# let's take a look at 'taxis'\n",
    "dft = sns.load_dataset('taxis')\n",
    "# this just plots the first few lines of the data\n",
    "dft.head()"
   ]
  },
  {
   "cell_type": "markdown",
   "metadata": {
    "slideshow": {
     "slide_type": "slide"
    }
   },
   "source": [
    "Recall that what we are seeing here is a **data frame**.\n",
    "\n",
    "It is furnished by the `pandas`\n",
    "library: <https://pandas.pydata.org> which is used by the `seaborn` library \n",
    "to store its example data sets.\n",
    "\n",
    "In this, the variable dft is a pandas data frame: `dft = data frame taxi`\n",
    "\n",
    "Each row of the data frame corresponds to a single **data point**, which we \n",
    "could also call an `observation` or `measurement` (depending on context).\n",
    "\n",
    "Each column (except the left-most) corresponds to a **feature** of the data \n",
    "point. The first column is just an index giving the row number. Note that this\n",
    "index starts at zero - so, for example, the third row will be labelled/indexed\n",
    "as $2$. Be careful of this - it can be confusing.\n",
    "\n",
    "The `head` and `tail` functions are useful because they attempt to make the\n",
    "data set **readable**. If you try a raw `print` then the output is much \n",
    "less friendly."
   ]
  },
  {
   "cell_type": "code",
   "execution_count": null,
   "metadata": {
    "slideshow": {
     "slide_type": "slide"
    }
   },
   "outputs": [],
   "source": [
    "# in this, the variable dft is a pandas data frame: dft = data frame taxis\n",
    "print(dft)"
   ]
  },
  {
   "cell_type": "code",
   "execution_count": null,
   "metadata": {
    "slideshow": {
     "slide_type": "slide"
    }
   },
   "outputs": [],
   "source": [
    "# seaborn makes visualization easy - here is a scatter plot of the data.\n",
    "sns.scatterplot(data=dft, x=\"distance\", y=\"fare\")"
   ]
  },
  {
   "cell_type": "code",
   "execution_count": null,
   "metadata": {
    "slideshow": {
     "slide_type": "slide"
    }
   },
   "outputs": [],
   "source": [
    "# here's another example\n",
    "sns.scatterplot(data=dft, x=\"pickup_borough\", y=\"tip\")"
   ]
  },
  {
   "cell_type": "code",
   "execution_count": null,
   "metadata": {
    "slideshow": {
     "slide_type": "slide"
    }
   },
   "outputs": [],
   "source": [
    "# is the tip proportional to the fare?\n",
    "sns.scatterplot(data=dft, x=\"fare\", y=\"tip\")"
   ]
  },
  {
   "cell_type": "code",
   "execution_count": null,
   "metadata": {
    "slideshow": {
     "slide_type": "slide"
    }
   },
   "outputs": [],
   "source": [
    "sns.scatterplot(data=dft, x=\"distance\", y=\"tip\")"
   ]
  },
  {
   "cell_type": "markdown",
   "metadata": {
    "slideshow": {
     "slide_type": "slide"
    }
   },
   "source": [
    "## Data as Vectors\n",
    "\n",
    "Each row of the data set above gives the specific feature values for one particular \n",
    "observation, or measurement. This is a single data point.\n",
    "\n",
    "We can get the names of the features using `dft.columns` as follows..."
   ]
  },
  {
   "cell_type": "code",
   "execution_count": null,
   "metadata": {
    "slideshow": {
     "slide_type": "slide"
    }
   },
   "outputs": [],
   "source": [
    "dft.columns"
   ]
  },
  {
   "cell_type": "markdown",
   "metadata": {
    "slideshow": {
     "slide_type": "subslide"
    }
   },
   "source": [
    " In this case, for each data point:\n",
    "\n",
    "- the observation, or measurement, is a single taxi ride.\n",
    "- the features of that data point are:\n",
    " -  'pickup'\n",
    " - 'dropoff'\n",
    " - 'passengers'\n",
    " - 'distance'\n",
    " - 'fare'\n",
    " - 'tip'\n",
    " - 'tolls'\n",
    " - 'total'\n",
    " - 'color'\n",
    " - 'payment'\n",
    " - 'pickup_zone'\n",
    " - 'dropoff_zone'\n",
    " - 'pickup_borough'\n",
    " - 'dropoff_borough'\n",
    "\n",
    "Look again at the first eight entries of the data set"
   ]
  },
  {
   "cell_type": "code",
   "execution_count": null,
   "metadata": {
    "slideshow": {
     "slide_type": "slide"
    }
   },
   "outputs": [],
   "source": [
    "dft.head(6)"
   ]
  },
  {
   "cell_type": "markdown",
   "metadata": {
    "slideshow": {
     "slide_type": "subslide"
    }
   },
   "source": [
    "- The first column can be ignored - that is just a label for each observation and has nothing \n",
    "to do with the taxi ride data.\n",
    "\n",
    "- The pickup and dropoff columns are dates and times, we'll ignore these for now,\n",
    "but we will come back to them in the lab session.\n",
    "\n",
    "- The next six columns are numbers, these will fit nicely into elements one to six of \n",
    "a list of numbers.\n",
    "\n",
    "- We'll also ignore the remaining columns, **and so we have arrived at a way of\n",
    "representing each data point as a vector**. \n",
    "\n",
    "Let's work through an example of how to do this.\n",
    "\n",
    "First, note that `dft.iat[0,0]` will tell us what is in the first position of the\n",
    "first row. Again **BEWARE** - indexing starts at zero. This means for example\n",
    "that `dft.iat[5,7]` tells us what is in the eighth column of the sixth row.\n",
    "\n",
    "An alternative to that is to use the fact that, `dft.loc[5]` refers to the \n",
    "entire sixth row, while `dft.loc[5].iat[7]` refers to the eighth element in the\n",
    "sixth row.\n",
    "\n",
    "We can see all of these pieces of information with a `print` statement. Note\n",
    "the use of `\\n` to get new lines."
   ]
  },
  {
   "cell_type": "code",
   "execution_count": null,
   "metadata": {
    "slideshow": {
     "slide_type": "subslide"
    }
   },
   "outputs": [],
   "source": [
    "print('dft.iat[5,7]      = ', dft.iat[5,7])\n",
    "print('dft.loc[5].iat[7] = ', dft.loc[5].iat[7],'\\n')\n",
    "print('dft.loc[5] = ')\n",
    "print(dft.loc[5])"
   ]
  },
  {
   "cell_type": "markdown",
   "metadata": {
    "slideshow": {
     "slide_type": "slide"
    }
   },
   "source": [
    "Let's see how we can store the numerical values for a given data point (row)\n",
    "in a vector. The idea is just to use an array and fill it using the methods\n",
    "we have just seen.\n",
    "\n",
    "Let's remind ourself of the first few rows and store the six numerical column\n",
    "values (features) of the third row in a vector.\n",
    "\n",
    "We'll need to import `numpy` if we haven't already."
   ]
  },
  {
   "cell_type": "code",
   "execution_count": null,
   "metadata": {
    "slideshow": {
     "slide_type": "fragment"
    }
   },
   "outputs": [],
   "source": [
    "dft.head(3)"
   ]
  },
  {
   "cell_type": "code",
   "execution_count": null,
   "metadata": {
    "slideshow": {
     "slide_type": "fragment"
    }
   },
   "outputs": [],
   "source": [
    "import numpy as np\n",
    "r3 = np.array([dft.iat[2,2],dft.iat[2,3],dft.iat[2,4],dft.iat[2,5],dft.iat[2,6],dft.iat[2,7]])\n",
    "print(r3)"
   ]
  },
  {
   "cell_type": "markdown",
   "metadata": {
    "slideshow": {
     "slide_type": "slide"
    }
   },
   "source": [
    "Too much typing? Here is a faster way...\n",
    "\n",
    "`dft.iloc[2,2:8]` refers to the third row (indexed with 2), and columns $3$ to $8$\n",
    "(indexed as 2 to 7)."
   ]
  },
  {
   "cell_type": "code",
   "execution_count": null,
   "metadata": {
    "slideshow": {
     "slide_type": "fragment"
    }
   },
   "outputs": [],
   "source": [
    "r3 = np.array(dft.iloc[2,2:8])\n",
    "print(r3)"
   ]
  },
  {
   "cell_type": "markdown",
   "metadata": {
    "slideshow": {
     "slide_type": "fragment"
    }
   },
   "source": [
    "In `dft.iloc[2,2:8]` the first `2` refers to the third row. The **slice** `2:8` uses the\n",
    "starting value `2` to refer to the third column, and the colon `:` means continue on\n",
    "from `2` in steps of `1` to get the sequence `2 3 4 \\ldots`. The `8` tells the \n",
    "sequence to stop at `7`. "
   ]
  },
  {
   "cell_type": "markdown",
   "metadata": {
    "slideshow": {
     "slide_type": "fragment"
    }
   },
   "source": [
    "If you are confused and annoyed that `2:8` gives `2 3 4 5 6 7` and not\n",
    " `2 3 4 5 6 7 8` then, rest assured, you are not alone."
   ]
  },
  {
   "cell_type": "markdown",
   "metadata": {
    "slideshow": {
     "slide_type": "slide"
    }
   },
   "source": [
    "## Review\n",
    "\n",
    "We have just come a long way:\n",
    "\n",
    "- we reviewed the mathematical notion of a *vector*.\n",
    "- we saw how using `numpy` in `python` we could\n",
    "  - create vectors;\n",
    "  - add and subtract them, and multiply by a scalar;\n",
    "  - compute various vector norms and phoney norms.\n",
    "\n",
    "Furthermore\n",
    "\n",
    "- we saw how to access the *toy datasets* in `seaborn`.\n",
    "- how to work with `pandas` data frames.\n",
    "- how to extract data frame values.\n",
    "- how to represent a data point as a vector of features.\n",
    "\n",
    "We will be building extensively on these skills in the coming weeks."
   ]
  },
  {
   "cell_type": "markdown",
   "metadata": {
    "slideshow": {
     "slide_type": "subslide"
    }
   },
   "source": [
    "Taking raw data and manipulating it so that it is in a form suitable\n",
    "for analysis is often referred to as **Data Wrangling**. The `pandas`\n",
    "cheat sheet here <https://pandas.pydata.org/Pandas_Cheat_Sheet.pdf> \n",
    "gives lots of examples of how to work with data frames.\n",
    "\n",
    "For now we finish off with a look at a few more of the *toy datasets*\n",
    "that `seaborn` provides. They are called *toy* because they are \n",
    "realistic enough to use when learning techniques and tools in\n",
    "data science, but also small enough to get answers in real time."
   ]
  },
  {
   "cell_type": "markdown",
   "metadata": {
    "slideshow": {
     "slide_type": "slide"
    }
   },
   "source": [
    "### The `tips` data set\n",
    "\n",
    "Let's look again now at the `tips` data set.\n",
    "\n",
    "We will load the data using the variable name `dftp`, for *data frame tips*. \n",
    "\n",
    "Note that we could use `dft`, the same name as above, but that would overwrite\n",
    "the previous 'value/meaning' of `dft`. This may or may not be what you want.\n"
   ]
  },
  {
   "cell_type": "code",
   "execution_count": null,
   "metadata": {
    "slideshow": {
     "slide_type": "fragment"
    }
   },
   "outputs": [],
   "source": [
    "dftp = sns.load_dataset('tips')\n",
    "dftp.head()"
   ]
  },
  {
   "cell_type": "markdown",
   "metadata": {
    "slideshow": {
     "slide_type": "fragment"
    }
   },
   "source": [
    "An extensive list of data frame methods/functions can be found here: \n",
    "<https://pandas.pydata.org/pandas-docs/stable/reference/api/pandas.DataFrame.html#pandas.DataFrame> -\n",
    " we have seen some of them. Let's look at some more...\n",
    " \n",
    " This will give us basic information on the data set."
   ]
  },
  {
   "cell_type": "code",
   "execution_count": null,
   "metadata": {
    "slideshow": {
     "slide_type": "slide"
    }
   },
   "outputs": [],
   "source": [
    "print(dftp.info)"
   ]
  },
  {
   "cell_type": "markdown",
   "metadata": {
    "slideshow": {
     "slide_type": "fragment"
    }
   },
   "source": [
    "A quick glance tell us that there are $7$ columsn of features,\n",
    "and $244$ data points.\n",
    "\n",
    "We can these numbers with `shape`, and `size` tells us how many distinct \n",
    "values are stored."
   ]
  },
  {
   "cell_type": "code",
   "execution_count": null,
   "metadata": {
    "slideshow": {
     "slide_type": "fragment"
    }
   },
   "outputs": [],
   "source": [
    "print('The shape of the data frame is: ', dftp.shape)\n",
    "print('The size of the data frame is: ', dftp.size)\n",
    "print('Note that 244*7 =', 244*7)"
   ]
  },
  {
   "cell_type": "markdown",
   "metadata": {
    "slideshow": {
     "slide_type": "slide"
    }
   },
   "source": [
    "One way to get a quick overview of the data is to plot the \n",
    "numerical values."
   ]
  },
  {
   "cell_type": "code",
   "execution_count": null,
   "metadata": {
    "slideshow": {
     "slide_type": "fragment"
    }
   },
   "outputs": [],
   "source": [
    "dftp.plot()"
   ]
  },
  {
   "cell_type": "markdown",
   "metadata": {
    "slideshow": {
     "slide_type": "slide"
    }
   },
   "source": [
    "We can get summary statistics like this:"
   ]
  },
  {
   "cell_type": "code",
   "execution_count": null,
   "metadata": {
    "slideshow": {
     "slide_type": "fragment"
    }
   },
   "outputs": [],
   "source": [
    "dftp.describe()"
   ]
  },
  {
   "cell_type": "markdown",
   "metadata": {
    "slideshow": {
     "slide_type": "slide"
    }
   },
   "source": [
    "And we can get more detailed quantile information like this"
   ]
  },
  {
   "cell_type": "code",
   "execution_count": null,
   "metadata": {
    "slideshow": {
     "slide_type": "fragment"
    }
   },
   "outputs": [],
   "source": [
    "dftp.quantile(0.95)"
   ]
  },
  {
   "cell_type": "markdown",
   "metadata": {
    "slideshow": {
     "slide_type": "slide"
    }
   },
   "source": [
    "We can also produce scatter plots"
   ]
  },
  {
   "cell_type": "code",
   "execution_count": null,
   "metadata": {
    "slideshow": {
     "slide_type": "fragment"
    }
   },
   "outputs": [],
   "source": [
    "sns.scatterplot(data=dftp, x=\"total_bill\", y=\"tip\")"
   ]
  },
  {
   "cell_type": "markdown",
   "metadata": {
    "slideshow": {
     "slide_type": "slide"
    }
   },
   "source": [
    "## Exercises\n",
    "\n",
    "For the Anscombe data set:\n",
    "\n",
    "1. Which of the summary statistics for $x$ are the same or similar for each subset?\n",
    "1. Which of the summary statistics for $y$ are the same or similar for each subset?\n",
    "\n",
    "\n",
    "Look at the `diamonds` data set\n",
    "\n",
    "1. How many diamonds are listed there? How many attributes does each have?\n",
    "2. Scatter plot price against carat.\n",
    "\n",
    "```\n",
    "1: ds = sns.load_dataset('diamonds'); ds.shape: 53940 and 10\n",
    "2: sns.scatterplot(data=ds, x=\"carat\", y=\"price\")\n",
    "```"
   ]
  },
  {
   "cell_type": "markdown",
   "metadata": {
    "slideshow": {
     "slide_type": "skip"
    }
   },
   "source": [
    "## Technical Notes, Production and Archiving\n",
    "\n",
    "Ignore the material below. What follows is not relevant to the material being taught."
   ]
  },
  {
   "cell_type": "markdown",
   "metadata": {
    "slideshow": {
     "slide_type": "skip"
    }
   },
   "source": [
    "#### Production Workflow\n",
    "\n",
    "- Finalise the notebook material above\n",
    "- Clear and fresh run of entire notebook\n",
    "- Create html slide show:\n",
    "  - `jupyter nbconvert --to slides 2_vectors.ipynb `\n",
    "- Set `OUTPUTTING=1` below\n",
    "- Comment out the display of web-sourced diagrams\n",
    "- Clear and fresh run of entire notebook\n",
    "- Comment back in the display of web-sourced diagrams\n",
    "- Clear all cell output\n",
    "- Set `OUTPUTTING=0` below\n",
    "- Save\n",
    "- git add, commit and push to FML\n",
    "- copy PDF, HTML etc to web site\n",
    "  - git add, commit and push\n",
    "- rebuild binder"
   ]
  },
  {
   "cell_type": "markdown",
   "metadata": {
    "slideshow": {
     "slide_type": "skip"
    }
   },
   "source": [
    "## Get Notebook Name\n",
    "\n",
    "This came from <https://stackoverflow.com/questions/12544056/how-do-i-get-the-current-ipython-jupyter-notebook-name> on 17 Nov 2022.\n",
    "\n",
    "This is a largely failed attempt to get the notebook name automatically\n",
    "inserted into the `bash` archiving commands below.\n",
    "\n",
    "These few cells cannot be merged."
   ]
  },
  {
   "cell_type": "markdown",
   "metadata": {
    "slideshow": {
     "slide_type": "skip"
    }
   },
   "source": [
    "%%javascript\n",
    "IPython.notebook.kernel.execute('nb_name = \"' + IPython.notebook.notebook_name + '\"')"
   ]
  },
  {
   "cell_type": "code",
   "execution_count": null,
   "metadata": {
    "slideshow": {
     "slide_type": "skip"
    }
   },
   "outputs": [],
   "source": [
    "#print(nb_name)\n",
    "# give the above time to work, otherwise an error is thrown below.\n",
    "#import time\n",
    "#time.sleep(5)"
   ]
  },
  {
   "cell_type": "markdown",
   "metadata": {
    "slideshow": {
     "slide_type": "skip"
    }
   },
   "source": [
    "import os\n",
    "nb_full_path = os.path.join(os.getcwd(), nb_name)"
   ]
  },
  {
   "cell_type": "markdown",
   "metadata": {
    "slideshow": {
     "slide_type": "skip"
    }
   },
   "source": [
    "print(nb_name)\n",
    "nb_root_name, _ = nb_name.split(\".\")\n",
    "print(nb_root_name)"
   ]
  },
  {
   "cell_type": "markdown",
   "metadata": {
    "slideshow": {
     "slide_type": "skip"
    }
   },
   "source": [
    "Some of this originated from\n",
    "\n",
    "<https://stackoverflow.com/questions/38540326/save-html-of-a-jupyter-notebook-from-within-the-notebook>\n",
    "\n",
    "These lines create a back up of the notebook. They can be ignored.\n",
    "\n",
    "At some point this is better as a bash script outside of the notebook"
   ]
  },
  {
   "cell_type": "code",
   "execution_count": null,
   "metadata": {
    "slideshow": {
     "slide_type": "skip"
    }
   },
   "outputs": [],
   "source": [
    "%%bash\n",
    "NBROOTNAME='2_vectors'\n",
    "OUTPUTTING=0\n",
    "\n",
    "if [ $OUTPUTTING -eq 1 ]; then\n",
    "  jupyter nbconvert --to html $NBROOTNAME.ipynb\n",
    "  cp $NBROOTNAME.html ../backups/$(date +\"%m_%d_%Y-%H%M%S\")_$NBROOTNAME.html\n",
    "  mv -f $NBROOTNAME.html ./formats/html/\n",
    "\n",
    "  jupyter nbconvert --to pdf $NBROOTNAME.ipynb\n",
    "  cp $NBROOTNAME.pdf ../backups/$(date +\"%m_%d_%Y-%H%M%S\")_$NBROOTNAME.pdf\n",
    "  mv -f $NBROOTNAME.pdf ./formats/pdf/\n",
    "\n",
    "  jupyter nbconvert --to script $NBROOTNAME.ipynb\n",
    "  cp $NBROOTNAME.py ../backups/$(date +\"%m_%d_%Y-%H%M%S\")_$NBROOTNAME.py\n",
    "  mv -f $NBROOTNAME.py ./formats/py/\n",
    "else\n",
    "  echo 'Not Generating html, pdf and py output versions'\n",
    "fi"
   ]
  },
  {
   "cell_type": "markdown",
   "metadata": {
    "slideshow": {
     "slide_type": "skip"
    }
   },
   "source": [
    "Ignore this - it was done earlier\n",
    "\n",
    "For the `taxis` data set:\n",
    "\n",
    "1. Produce a scatterplot of \"dropoff_borough\" vs. \"tip\"\n",
    "2. Plot the dependence of fare on distance. \n",
    "\n",
    "```\n",
    "1: sns.scatterplot(data=ds, x=\"dropoff_borough\", y=\"tip\")\n",
    "2: sns.scatterplot(data=ds, x=\"distance\", y=\"tip\")\n",
    "```\n",
    "\n",
    "For the `tips` data set:\n",
    "\n",
    "1. What is the standard deviation of the tips?\n",
    "2. Plot the scatter of tip against the total bill\n",
    "3. Plot the scatter of total bill against day\n",
    "4. Plot the scatter of tip against gender\n",
    "\n",
    "```\n",
    "1: ds.describe()\n",
    "2: sns.scatterplot(data=ds, x=\"total_bill\", y=\"tip\")\n",
    "3: sns.scatterplot(data=ds, x=\"day\", y=\"total_bill\")\n",
    "4: sns.scatterplot(data=ds, x=\"sex\", y=\"tip\")\n",
    "```"
   ]
  },
  {
   "cell_type": "code",
   "execution_count": null,
   "metadata": {},
   "outputs": [],
   "source": []
  }
 ],
 "metadata": {
  "celltoolbar": "Slideshow",
  "kernelspec": {
   "display_name": "Python 3",
   "language": "python",
   "name": "python3"
  },
  "language_info": {
   "codemirror_mode": {
    "name": "ipython",
    "version": 3
   },
   "file_extension": ".py",
   "mimetype": "text/x-python",
   "name": "python",
   "nbconvert_exporter": "python",
   "pygments_lexer": "ipython3",
   "version": "3.7.1"
  }
 },
 "nbformat": 4,
 "nbformat_minor": 4
}
